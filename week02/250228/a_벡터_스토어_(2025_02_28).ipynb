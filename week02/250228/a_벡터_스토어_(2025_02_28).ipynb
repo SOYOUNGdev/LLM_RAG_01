{
 "cells": [
  {
   "cell_type": "markdown",
   "metadata": {
    "id": "ZM2_FpMSC1k7"
   },
   "source": [
    "앞으로 뭘하나요?  \n",
    "\n",
    "1. PDF 파일을 다운로드 합니다.\n",
    "2. Langchain의 PyPDFLoader로 PDF 파일을 읽어서 페이지 별로 저장합니다.\n",
    "  - 예를 들어 27페이지의 PDF 파일이라면 27개의 문서를 얻게 됩니다.  \n",
    "3. 27개의 문서들은 길이가 제각각입니다. 특정 길이(여기서는 500)로 제한하고 더 잘라줍니다.\n",
    "4. 총 69개의 문서가 나오게 됩니다. 69개의 문서를 전부 임베딩(Embedding)하여 벡터 데이터베이스에 적재합니다.  \n",
    "5. 벡터 데이터베이스는 Chroma 또는 Faiss를 사용할 것입니다.  \n",
    "6. 질문을 입력하면 27개의 문서 중 가장 유사도가 높은 문서 4개를 출력합니다."
   ]
  },
  {
   "cell_type": "markdown",
   "metadata": {
    "id": "3XmtVEX2DRsh"
   },
   "source": [
    "## 필요한 패키지 다운로드"
   ]
  },
  {
   "cell_type": "markdown",
   "metadata": {
    "id": "_u3Vhm_eDTnU"
   },
   "source": [
    "필요한 패키지를 다운로드 합니다.  \n",
    "\n",
    "랭체인, 벡터데이터베이스, 임베딩 모델, PDF 파일을 읽는 도구들입니다."
   ]
  },
  {
   "cell_type": "code",
   "execution_count": 3,
   "metadata": {
    "colab": {
     "base_uri": "https://localhost:8080/"
    },
    "id": "RmlnkqoF0wwA",
    "outputId": "62d54dae-211f-45bf-da68-9a23f9641cb8"
   },
   "outputs": [
    {
     "name": "stdout",
     "output_type": "stream",
     "text": [
      "Requirement already satisfied: langchain in c:\\programdata\\anaconda3\\lib\\site-packages (0.3.19)\n",
      "Requirement already satisfied: chromadb in c:\\programdata\\anaconda3\\lib\\site-packages (0.6.3)\n",
      "Requirement already satisfied: transformers in c:\\programdata\\anaconda3\\lib\\site-packages (4.49.0)\n",
      "Requirement already satisfied: sentence-transformers in c:\\programdata\\anaconda3\\lib\\site-packages (3.4.1)\n",
      "Requirement already satisfied: pypdf in c:\\programdata\\anaconda3\\lib\\site-packages (5.3.0)\n",
      "Requirement already satisfied: langchain-community in c:\\programdata\\anaconda3\\lib\\site-packages (0.3.18)\n",
      "Requirement already satisfied: langchain-core<1.0.0,>=0.3.35 in c:\\programdata\\anaconda3\\lib\\site-packages (from langchain) (0.3.40)\n",
      "Requirement already satisfied: langchain-text-splitters<1.0.0,>=0.3.6 in c:\\programdata\\anaconda3\\lib\\site-packages (from langchain) (0.3.6)\n",
      "Requirement already satisfied: langsmith<0.4,>=0.1.17 in c:\\programdata\\anaconda3\\lib\\site-packages (from langchain) (0.3.11)\n",
      "Requirement already satisfied: pydantic<3.0.0,>=2.7.4 in c:\\programdata\\anaconda3\\lib\\site-packages (from langchain) (2.10.6)\n",
      "Requirement already satisfied: SQLAlchemy<3,>=1.4 in c:\\programdata\\anaconda3\\lib\\site-packages (from langchain) (2.0.25)\n",
      "Requirement already satisfied: requests<3,>=2 in c:\\programdata\\anaconda3\\lib\\site-packages (from langchain) (2.31.0)\n",
      "Requirement already satisfied: PyYAML>=5.3 in c:\\programdata\\anaconda3\\lib\\site-packages (from langchain) (6.0.1)\n",
      "Requirement already satisfied: aiohttp<4.0.0,>=3.8.3 in c:\\programdata\\anaconda3\\lib\\site-packages (from langchain) (3.9.3)\n",
      "Requirement already satisfied: tenacity!=8.4.0,<10,>=8.1.0 in c:\\programdata\\anaconda3\\lib\\site-packages (from langchain) (9.0.0)\n",
      "Requirement already satisfied: numpy<2,>=1.26.4 in c:\\programdata\\anaconda3\\lib\\site-packages (from langchain) (1.26.4)\n",
      "Requirement already satisfied: build>=1.0.3 in c:\\programdata\\anaconda3\\lib\\site-packages (from chromadb) (1.2.2.post1)\n",
      "Requirement already satisfied: chroma-hnswlib==0.7.6 in c:\\programdata\\anaconda3\\lib\\site-packages (from chromadb) (0.7.6)\n",
      "Requirement already satisfied: fastapi>=0.95.2 in c:\\programdata\\anaconda3\\lib\\site-packages (from chromadb) (0.115.8)\n",
      "Requirement already satisfied: uvicorn>=0.18.3 in c:\\users\\user\\appdata\\roaming\\python\\python311\\site-packages (from uvicorn[standard]>=0.18.3->chromadb) (0.29.0)\n",
      "Requirement already satisfied: posthog>=2.4.0 in c:\\programdata\\anaconda3\\lib\\site-packages (from chromadb) (3.16.0)\n",
      "Requirement already satisfied: typing_extensions>=4.5.0 in c:\\programdata\\anaconda3\\lib\\site-packages (from chromadb) (4.12.2)\n",
      "Requirement already satisfied: onnxruntime>=1.14.1 in c:\\programdata\\anaconda3\\lib\\site-packages (from chromadb) (1.20.1)\n",
      "Requirement already satisfied: opentelemetry-api>=1.2.0 in c:\\programdata\\anaconda3\\lib\\site-packages (from chromadb) (1.30.0)\n",
      "Requirement already satisfied: opentelemetry-exporter-otlp-proto-grpc>=1.2.0 in c:\\programdata\\anaconda3\\lib\\site-packages (from chromadb) (1.30.0)\n",
      "Requirement already satisfied: opentelemetry-instrumentation-fastapi>=0.41b0 in c:\\programdata\\anaconda3\\lib\\site-packages (from chromadb) (0.51b0)\n",
      "Requirement already satisfied: opentelemetry-sdk>=1.2.0 in c:\\programdata\\anaconda3\\lib\\site-packages (from chromadb) (1.30.0)\n",
      "Requirement already satisfied: tokenizers>=0.13.2 in c:\\programdata\\anaconda3\\lib\\site-packages (from chromadb) (0.21.0)\n",
      "Requirement already satisfied: pypika>=0.48.9 in c:\\programdata\\anaconda3\\lib\\site-packages (from chromadb) (0.48.9)\n",
      "Requirement already satisfied: tqdm>=4.65.0 in c:\\programdata\\anaconda3\\lib\\site-packages (from chromadb) (4.65.0)\n",
      "Requirement already satisfied: overrides>=7.3.1 in c:\\programdata\\anaconda3\\lib\\site-packages (from chromadb) (7.4.0)\n",
      "Requirement already satisfied: importlib-resources in c:\\programdata\\anaconda3\\lib\\site-packages (from chromadb) (6.4.0)\n",
      "Requirement already satisfied: grpcio>=1.58.0 in c:\\programdata\\anaconda3\\lib\\site-packages (from chromadb) (1.64.0)\n",
      "Requirement already satisfied: bcrypt>=4.0.1 in c:\\programdata\\anaconda3\\lib\\site-packages (from chromadb) (4.2.1)\n",
      "Requirement already satisfied: typer>=0.9.0 in c:\\programdata\\anaconda3\\lib\\site-packages (from chromadb) (0.15.1)\n",
      "Requirement already satisfied: kubernetes>=28.1.0 in c:\\programdata\\anaconda3\\lib\\site-packages (from chromadb) (32.0.1)\n",
      "Requirement already satisfied: mmh3>=4.0.1 in c:\\programdata\\anaconda3\\lib\\site-packages (from chromadb) (5.1.0)\n",
      "Requirement already satisfied: orjson>=3.9.12 in c:\\programdata\\anaconda3\\lib\\site-packages (from chromadb) (3.10.15)\n",
      "Requirement already satisfied: httpx>=0.27.0 in c:\\programdata\\anaconda3\\lib\\site-packages (from chromadb) (0.28.1)\n",
      "Requirement already satisfied: rich>=10.11.0 in c:\\programdata\\anaconda3\\lib\\site-packages (from chromadb) (13.3.5)\n",
      "Requirement already satisfied: filelock in c:\\programdata\\anaconda3\\lib\\site-packages (from transformers) (3.13.1)\n",
      "Requirement already satisfied: huggingface-hub<1.0,>=0.26.0 in c:\\programdata\\anaconda3\\lib\\site-packages (from transformers) (0.29.1)\n",
      "Requirement already satisfied: packaging>=20.0 in c:\\programdata\\anaconda3\\lib\\site-packages (from transformers) (23.2)\n",
      "Requirement already satisfied: regex!=2019.12.17 in c:\\programdata\\anaconda3\\lib\\site-packages (from transformers) (2023.10.3)\n",
      "Requirement already satisfied: safetensors>=0.4.1 in c:\\programdata\\anaconda3\\lib\\site-packages (from transformers) (0.5.3)\n",
      "Requirement already satisfied: torch>=1.11.0 in c:\\programdata\\anaconda3\\lib\\site-packages (from sentence-transformers) (2.3.0)\n",
      "Requirement already satisfied: scikit-learn in c:\\programdata\\anaconda3\\lib\\site-packages (from sentence-transformers) (1.2.2)\n",
      "Requirement already satisfied: scipy in c:\\programdata\\anaconda3\\lib\\site-packages (from sentence-transformers) (1.13.0)\n",
      "Requirement already satisfied: Pillow in c:\\programdata\\anaconda3\\lib\\site-packages (from sentence-transformers) (10.2.0)\n",
      "Requirement already satisfied: dataclasses-json<0.7,>=0.5.7 in c:\\programdata\\anaconda3\\lib\\site-packages (from langchain-community) (0.6.7)\n",
      "Requirement already satisfied: pydantic-settings<3.0.0,>=2.4.0 in c:\\programdata\\anaconda3\\lib\\site-packages (from langchain-community) (2.8.1)\n",
      "Requirement already satisfied: httpx-sse<1.0.0,>=0.4.0 in c:\\programdata\\anaconda3\\lib\\site-packages (from langchain-community) (0.4.0)\n",
      "Requirement already satisfied: aiosignal>=1.1.2 in c:\\programdata\\anaconda3\\lib\\site-packages (from aiohttp<4.0.0,>=3.8.3->langchain) (1.2.0)\n",
      "Requirement already satisfied: attrs>=17.3.0 in c:\\programdata\\anaconda3\\lib\\site-packages (from aiohttp<4.0.0,>=3.8.3->langchain) (23.1.0)\n",
      "Requirement already satisfied: frozenlist>=1.1.1 in c:\\programdata\\anaconda3\\lib\\site-packages (from aiohttp<4.0.0,>=3.8.3->langchain) (1.4.0)\n",
      "Requirement already satisfied: multidict<7.0,>=4.5 in c:\\programdata\\anaconda3\\lib\\site-packages (from aiohttp<4.0.0,>=3.8.3->langchain) (6.0.4)\n",
      "Requirement already satisfied: yarl<2.0,>=1.0 in c:\\programdata\\anaconda3\\lib\\site-packages (from aiohttp<4.0.0,>=3.8.3->langchain) (1.9.3)\n",
      "Requirement already satisfied: pyproject_hooks in c:\\programdata\\anaconda3\\lib\\site-packages (from build>=1.0.3->chromadb) (1.2.0)\n",
      "Requirement already satisfied: colorama in c:\\programdata\\anaconda3\\lib\\site-packages (from build>=1.0.3->chromadb) (0.4.6)\n",
      "Requirement already satisfied: marshmallow<4.0.0,>=3.18.0 in c:\\programdata\\anaconda3\\lib\\site-packages (from dataclasses-json<0.7,>=0.5.7->langchain-community) (3.26.1)\n",
      "Requirement already satisfied: typing-inspect<1,>=0.4.0 in c:\\programdata\\anaconda3\\lib\\site-packages (from dataclasses-json<0.7,>=0.5.7->langchain-community) (0.9.0)\n",
      "Requirement already satisfied: starlette<0.46.0,>=0.40.0 in c:\\programdata\\anaconda3\\lib\\site-packages (from fastapi>=0.95.2->chromadb) (0.45.3)\n",
      "Requirement already satisfied: anyio in c:\\programdata\\anaconda3\\lib\\site-packages (from httpx>=0.27.0->chromadb) (4.2.0)\n",
      "Requirement already satisfied: certifi in c:\\programdata\\anaconda3\\lib\\site-packages (from httpx>=0.27.0->chromadb) (2024.6.2)\n",
      "Requirement already satisfied: httpcore==1.* in c:\\programdata\\anaconda3\\lib\\site-packages (from httpx>=0.27.0->chromadb) (1.0.7)\n",
      "Requirement already satisfied: idna in c:\\programdata\\anaconda3\\lib\\site-packages (from httpx>=0.27.0->chromadb) (3.6)\n",
      "Requirement already satisfied: h11<0.15,>=0.13 in c:\\users\\user\\appdata\\roaming\\python\\python311\\site-packages (from httpcore==1.*->httpx>=0.27.0->chromadb) (0.14.0)\n",
      "Requirement already satisfied: fsspec>=2023.5.0 in c:\\programdata\\anaconda3\\lib\\site-packages (from huggingface-hub<1.0,>=0.26.0->transformers) (2023.10.0)\n",
      "Requirement already satisfied: six>=1.9.0 in c:\\programdata\\anaconda3\\lib\\site-packages (from kubernetes>=28.1.0->chromadb) (1.16.0)\n",
      "Requirement already satisfied: python-dateutil>=2.5.3 in c:\\programdata\\anaconda3\\lib\\site-packages (from kubernetes>=28.1.0->chromadb) (2.8.2)\n",
      "Requirement already satisfied: google-auth>=1.0.1 in c:\\programdata\\anaconda3\\lib\\site-packages (from kubernetes>=28.1.0->chromadb) (2.38.0)\n",
      "Requirement already satisfied: websocket-client!=0.40.0,!=0.41.*,!=0.42.*,>=0.32.0 in c:\\programdata\\anaconda3\\lib\\site-packages (from kubernetes>=28.1.0->chromadb) (0.58.0)\n",
      "Requirement already satisfied: requests-oauthlib in c:\\programdata\\anaconda3\\lib\\site-packages (from kubernetes>=28.1.0->chromadb) (1.3.1)\n",
      "Requirement already satisfied: oauthlib>=3.2.2 in c:\\programdata\\anaconda3\\lib\\site-packages (from kubernetes>=28.1.0->chromadb) (3.2.2)\n",
      "Requirement already satisfied: urllib3>=1.24.2 in c:\\programdata\\anaconda3\\lib\\site-packages (from kubernetes>=28.1.0->chromadb) (2.2.1)\n",
      "Requirement already satisfied: durationpy>=0.7 in c:\\programdata\\anaconda3\\lib\\site-packages (from kubernetes>=28.1.0->chromadb) (0.9)\n",
      "Requirement already satisfied: jsonpatch<2.0,>=1.33 in c:\\programdata\\anaconda3\\lib\\site-packages (from langchain-core<1.0.0,>=0.3.35->langchain) (1.33)\n",
      "Requirement already satisfied: requests-toolbelt<2.0.0,>=1.0.0 in c:\\programdata\\anaconda3\\lib\\site-packages (from langsmith<0.4,>=0.1.17->langchain) (1.0.0)\n",
      "Requirement already satisfied: zstandard<0.24.0,>=0.23.0 in c:\\programdata\\anaconda3\\lib\\site-packages (from langsmith<0.4,>=0.1.17->langchain) (0.23.0)\n",
      "Requirement already satisfied: coloredlogs in c:\\programdata\\anaconda3\\lib\\site-packages (from onnxruntime>=1.14.1->chromadb) (15.0.1)\n",
      "Requirement already satisfied: flatbuffers in c:\\programdata\\anaconda3\\lib\\site-packages (from onnxruntime>=1.14.1->chromadb) (24.3.25)\n",
      "Requirement already satisfied: protobuf in c:\\programdata\\anaconda3\\lib\\site-packages (from onnxruntime>=1.14.1->chromadb) (5.29.3)\n",
      "Requirement already satisfied: sympy in c:\\programdata\\anaconda3\\lib\\site-packages (from onnxruntime>=1.14.1->chromadb) (1.12)\n",
      "Requirement already satisfied: deprecated>=1.2.6 in c:\\programdata\\anaconda3\\lib\\site-packages (from opentelemetry-api>=1.2.0->chromadb) (1.2.18)\n",
      "Requirement already satisfied: importlib-metadata<=8.5.0,>=6.0 in c:\\programdata\\anaconda3\\lib\\site-packages (from opentelemetry-api>=1.2.0->chromadb) (7.0.1)\n",
      "Requirement already satisfied: googleapis-common-protos~=1.52 in c:\\programdata\\anaconda3\\lib\\site-packages (from opentelemetry-exporter-otlp-proto-grpc>=1.2.0->chromadb) (1.68.0)\n",
      "Requirement already satisfied: opentelemetry-exporter-otlp-proto-common==1.30.0 in c:\\programdata\\anaconda3\\lib\\site-packages (from opentelemetry-exporter-otlp-proto-grpc>=1.2.0->chromadb) (1.30.0)\n",
      "Requirement already satisfied: opentelemetry-proto==1.30.0 in c:\\programdata\\anaconda3\\lib\\site-packages (from opentelemetry-exporter-otlp-proto-grpc>=1.2.0->chromadb) (1.30.0)\n",
      "Requirement already satisfied: opentelemetry-instrumentation-asgi==0.51b0 in c:\\programdata\\anaconda3\\lib\\site-packages (from opentelemetry-instrumentation-fastapi>=0.41b0->chromadb) (0.51b0)\n",
      "Requirement already satisfied: opentelemetry-instrumentation==0.51b0 in c:\\programdata\\anaconda3\\lib\\site-packages (from opentelemetry-instrumentation-fastapi>=0.41b0->chromadb) (0.51b0)\n",
      "Requirement already satisfied: opentelemetry-semantic-conventions==0.51b0 in c:\\programdata\\anaconda3\\lib\\site-packages (from opentelemetry-instrumentation-fastapi>=0.41b0->chromadb) (0.51b0)\n",
      "Requirement already satisfied: opentelemetry-util-http==0.51b0 in c:\\programdata\\anaconda3\\lib\\site-packages (from opentelemetry-instrumentation-fastapi>=0.41b0->chromadb) (0.51b0)\n",
      "Requirement already satisfied: wrapt<2.0.0,>=1.0.0 in c:\\programdata\\anaconda3\\lib\\site-packages (from opentelemetry-instrumentation==0.51b0->opentelemetry-instrumentation-fastapi>=0.41b0->chromadb) (1.14.1)\n",
      "Requirement already satisfied: asgiref~=3.0 in c:\\programdata\\anaconda3\\lib\\site-packages (from opentelemetry-instrumentation-asgi==0.51b0->opentelemetry-instrumentation-fastapi>=0.41b0->chromadb) (3.7.2)\n",
      "Requirement already satisfied: monotonic>=1.5 in c:\\programdata\\anaconda3\\lib\\site-packages (from posthog>=2.4.0->chromadb) (1.6)\n",
      "Requirement already satisfied: backoff>=1.10.0 in c:\\programdata\\anaconda3\\lib\\site-packages (from posthog>=2.4.0->chromadb) (2.2.1)\n",
      "Requirement already satisfied: distro>=1.5.0 in c:\\programdata\\anaconda3\\lib\\site-packages (from posthog>=2.4.0->chromadb) (1.8.0)\n",
      "Requirement already satisfied: annotated-types>=0.6.0 in c:\\programdata\\anaconda3\\lib\\site-packages (from pydantic<3.0.0,>=2.7.4->langchain) (0.6.0)\n",
      "Requirement already satisfied: pydantic-core==2.27.2 in c:\\programdata\\anaconda3\\lib\\site-packages (from pydantic<3.0.0,>=2.7.4->langchain) (2.27.2)\n",
      "Requirement already satisfied: python-dotenv>=0.21.0 in c:\\programdata\\anaconda3\\lib\\site-packages (from pydantic-settings<3.0.0,>=2.4.0->langchain-community) (0.21.0)\n",
      "Requirement already satisfied: charset-normalizer<4,>=2 in c:\\programdata\\anaconda3\\lib\\site-packages (from requests<3,>=2->langchain) (3.3.2)\n",
      "Requirement already satisfied: markdown-it-py<3.0.0,>=2.2.0 in c:\\programdata\\anaconda3\\lib\\site-packages (from rich>=10.11.0->chromadb) (2.2.0)\n",
      "Requirement already satisfied: pygments<3.0.0,>=2.13.0 in c:\\programdata\\anaconda3\\lib\\site-packages (from rich>=10.11.0->chromadb) (2.15.1)\n",
      "Requirement already satisfied: greenlet!=0.4.17 in c:\\programdata\\anaconda3\\lib\\site-packages (from SQLAlchemy<3,>=1.4->langchain) (3.0.1)\n",
      "Requirement already satisfied: networkx in c:\\programdata\\anaconda3\\lib\\site-packages (from torch>=1.11.0->sentence-transformers) (3.1)\n",
      "Requirement already satisfied: jinja2 in c:\\programdata\\anaconda3\\lib\\site-packages (from torch>=1.11.0->sentence-transformers) (3.1.3)\n",
      "Requirement already satisfied: mkl<=2021.4.0,>=2021.1.1 in c:\\programdata\\anaconda3\\lib\\site-packages (from torch>=1.11.0->sentence-transformers) (2021.4.0)\n",
      "Requirement already satisfied: click>=8.0.0 in c:\\programdata\\anaconda3\\lib\\site-packages (from typer>=0.9.0->chromadb) (8.1.7)\n",
      "Requirement already satisfied: shellingham>=1.3.0 in c:\\programdata\\anaconda3\\lib\\site-packages (from typer>=0.9.0->chromadb) (1.5.4)\n",
      "Requirement already satisfied: httptools>=0.5.0 in c:\\programdata\\anaconda3\\lib\\site-packages (from uvicorn[standard]>=0.18.3->chromadb) (0.6.4)\n",
      "Requirement already satisfied: watchfiles>=0.13 in c:\\programdata\\anaconda3\\lib\\site-packages (from uvicorn[standard]>=0.18.3->chromadb) (1.0.4)\n",
      "Requirement already satisfied: websockets>=10.4 in c:\\programdata\\anaconda3\\lib\\site-packages (from uvicorn[standard]>=0.18.3->chromadb) (14.2)\n",
      "Requirement already satisfied: joblib>=1.1.1 in c:\\programdata\\anaconda3\\lib\\site-packages (from scikit-learn->sentence-transformers) (1.2.0)\n",
      "Requirement already satisfied: threadpoolctl>=2.0.0 in c:\\programdata\\anaconda3\\lib\\site-packages (from scikit-learn->sentence-transformers) (2.2.0)\n",
      "Requirement already satisfied: cachetools<6.0,>=2.0.0 in c:\\programdata\\anaconda3\\lib\\site-packages (from google-auth>=1.0.1->kubernetes>=28.1.0->chromadb) (4.2.2)\n",
      "Requirement already satisfied: pyasn1-modules>=0.2.1 in c:\\programdata\\anaconda3\\lib\\site-packages (from google-auth>=1.0.1->kubernetes>=28.1.0->chromadb) (0.2.8)\n",
      "Requirement already satisfied: rsa<5,>=3.1.4 in c:\\programdata\\anaconda3\\lib\\site-packages (from google-auth>=1.0.1->kubernetes>=28.1.0->chromadb) (4.9)\n",
      "Requirement already satisfied: zipp>=0.5 in c:\\programdata\\anaconda3\\lib\\site-packages (from importlib-metadata<=8.5.0,>=6.0->opentelemetry-api>=1.2.0->chromadb) (3.17.0)\n",
      "Requirement already satisfied: jsonpointer>=1.9 in c:\\programdata\\anaconda3\\lib\\site-packages (from jsonpatch<2.0,>=1.33->langchain-core<1.0.0,>=0.3.35->langchain) (2.1)\n",
      "Requirement already satisfied: mdurl~=0.1 in c:\\programdata\\anaconda3\\lib\\site-packages (from markdown-it-py<3.0.0,>=2.2.0->rich>=10.11.0->chromadb) (0.1.0)\n",
      "Requirement already satisfied: intel-openmp==2021.* in c:\\programdata\\anaconda3\\lib\\site-packages (from mkl<=2021.4.0,>=2021.1.1->torch>=1.11.0->sentence-transformers) (2021.4.0)\n",
      "Requirement already satisfied: tbb==2021.* in c:\\programdata\\anaconda3\\lib\\site-packages (from mkl<=2021.4.0,>=2021.1.1->torch>=1.11.0->sentence-transformers) (2021.13.1)\n",
      "Requirement already satisfied: sniffio>=1.1 in c:\\programdata\\anaconda3\\lib\\site-packages (from anyio->httpx>=0.27.0->chromadb) (1.3.0)\n",
      "Requirement already satisfied: mypy-extensions>=0.3.0 in c:\\programdata\\anaconda3\\lib\\site-packages (from typing-inspect<1,>=0.4.0->dataclasses-json<0.7,>=0.5.7->langchain-community) (1.0.0)\n",
      "Requirement already satisfied: humanfriendly>=9.1 in c:\\programdata\\anaconda3\\lib\\site-packages (from coloredlogs->onnxruntime>=1.14.1->chromadb) (10.0)\n",
      "Requirement already satisfied: MarkupSafe>=2.0 in c:\\programdata\\anaconda3\\lib\\site-packages (from jinja2->torch>=1.11.0->sentence-transformers) (2.1.3)\n",
      "Requirement already satisfied: mpmath>=0.19 in c:\\programdata\\anaconda3\\lib\\site-packages (from sympy->onnxruntime>=1.14.1->chromadb) (1.3.0)\n",
      "Requirement already satisfied: pyreadline3 in c:\\programdata\\anaconda3\\lib\\site-packages (from humanfriendly>=9.1->coloredlogs->onnxruntime>=1.14.1->chromadb) (3.5.4)\n",
      "Requirement already satisfied: pyasn1<0.5.0,>=0.4.6 in c:\\programdata\\anaconda3\\lib\\site-packages (from pyasn1-modules>=0.2.1->google-auth>=1.0.1->kubernetes>=28.1.0->chromadb) (0.4.8)\n"
     ]
    },
    {
     "name": "stderr",
     "output_type": "stream",
     "text": [
      "\n",
      "[notice] A new release of pip is available: 24.0 -> 25.0.1\n",
      "[notice] To update, run: python.exe -m pip install --upgrade pip\n"
     ]
    }
   ],
   "source": [
    "!pip install langchain chromadb transformers sentence-transformers pypdf langchain-community"
   ]
  },
  {
   "cell_type": "markdown",
   "metadata": {
    "id": "IcgV7HxnWExh"
   },
   "source": [
    "## 랭체인(Langchain)을 이용한 PDF 로드 및 페이지 별 분할"
   ]
  },
  {
   "cell_type": "code",
   "execution_count": 4,
   "metadata": {
    "id": "2pZBarKP1Aui"
   },
   "outputs": [],
   "source": [
    "from langchain.text_splitter import RecursiveCharacterTextSplitter\n",
    "from langchain.vectorstores import Chroma\n",
    "from langchain.document_loaders import TextLoader\n",
    "from langchain.document_loaders import PyPDFLoader\n",
    "from langchain.embeddings import HuggingFaceEmbeddings"
   ]
  },
  {
   "cell_type": "markdown",
   "metadata": {
    "id": "5fMxBNtVIEpl"
   },
   "source": [
    "삼성전자 기업분석 PDF를 다운로드합니다."
   ]
  },
  {
   "cell_type": "code",
   "execution_count": 5,
   "metadata": {
    "colab": {
     "base_uri": "https://localhost:8080/"
    },
    "id": "D7PJvnrV145K",
    "outputId": "b174f828-d3c7-4c31-c4bb-f4887fc381f6"
   },
   "outputs": [
    {
     "name": "stderr",
     "output_type": "stream",
     "text": [
      "'wget'은(는) 내부 또는 외부 명령, 실행할 수 있는 프로그램, 또는\n",
      "배치 파일이 아닙니다.\n"
     ]
    }
   ],
   "source": [
    "!wget https://wdr.ubion.co.kr/wowpass/img/event/gsat_170823/gsat_170823.pdf"
   ]
  },
  {
   "cell_type": "markdown",
   "metadata": {
    "id": "F8zQi9uhIHN6"
   },
   "source": [
    "PDF를 Langchain의 PyPDFLoader로 로드하고 분할합니다. 해당 PDF는 참고로 27페이지입니다.  \n",
    "따라서 문서를 읽고 분할하면 총 27개의 문서가 나옵니다."
   ]
  },
  {
   "cell_type": "code",
   "execution_count": 7,
   "metadata": {
    "colab": {
     "base_uri": "https://localhost:8080/"
    },
    "id": "UGa-tW3M1IZ6",
    "outputId": "fc171956-7481-4a91-d596-ec20a9a33894",
    "scrolled": true
   },
   "outputs": [
    {
     "name": "stderr",
     "output_type": "stream",
     "text": [
      "Ignoring wrong pointing object 2 65536 (offset 0)\n",
      "Ignoring wrong pointing object 75 65536 (offset 0)\n",
      "Ignoring wrong pointing object 85 65536 (offset 0)\n",
      "Ignoring wrong pointing object 94 65536 (offset 0)\n",
      "Ignoring wrong pointing object 98 65536 (offset 0)\n",
      "Ignoring wrong pointing object 102 65536 (offset 0)\n",
      "Ignoring wrong pointing object 109 65536 (offset 0)\n",
      "Ignoring wrong pointing object 119 65536 (offset 0)\n",
      "Ignoring wrong pointing object 132 65536 (offset 0)\n",
      "Ignoring wrong pointing object 148 65536 (offset 0)\n",
      "Ignoring wrong pointing object 176 65536 (offset 0)\n",
      "Ignoring wrong pointing object 188 65536 (offset 0)\n",
      "Ignoring wrong pointing object 192 65536 (offset 0)\n",
      "Ignoring wrong pointing object 199 65536 (offset 0)\n",
      "Ignoring wrong pointing object 203 65536 (offset 0)\n",
      "Ignoring wrong pointing object 207 65536 (offset 0)\n",
      "Ignoring wrong pointing object 211 65536 (offset 0)\n",
      "Ignoring wrong pointing object 215 65536 (offset 0)\n",
      "Ignoring wrong pointing object 219 65536 (offset 0)\n",
      "Ignoring wrong pointing object 223 65536 (offset 0)\n",
      "Ignoring wrong pointing object 227 65536 (offset 0)\n",
      "Ignoring wrong pointing object 234 65536 (offset 0)\n",
      "Ignoring wrong pointing object 238 65536 (offset 0)\n",
      "Ignoring wrong pointing object 242 65536 (offset 0)\n",
      "Ignoring wrong pointing object 246 65536 (offset 0)\n",
      "Ignoring wrong pointing object 250 65536 (offset 0)\n",
      "Ignoring wrong pointing object 257 65536 (offset 0)\n"
     ]
    },
    {
     "name": "stdout",
     "output_type": "stream",
     "text": [
      "27\n"
     ]
    }
   ],
   "source": [
    "## pdf 파일로드 하고 쪼개기\n",
    "loader = PyPDFLoader('https://wdr.ubion.co.kr/wowpass/img/event/gsat_170823/gsat_170823.pdf')\n",
    "pages = loader.load_and_split()\n",
    "print(len(pages))"
   ]
  },
  {
   "cell_type": "code",
   "execution_count": 8,
   "metadata": {
    "colab": {
     "base_uri": "https://localhost:8080/"
    },
    "id": "rthkoq5jikRp",
    "outputId": "0a849190-436e-47d9-b823-2bbabca8d548"
   },
   "outputs": [
    {
     "name": "stdout",
     "output_type": "stream",
     "text": [
      "27\n"
     ]
    }
   ],
   "source": [
    "print(len(pages))"
   ]
  },
  {
   "cell_type": "markdown",
   "metadata": {
    "id": "2aDGT658IpRI"
   },
   "source": [
    "첫번째 문서를 출력해봅시다. 랭체인으로 로드한 데이터의 형식은 다음을 따릅니다.  \n",
    "\n",
    "`Document(metadata={이 파일의 정보}, page_content='내용')`"
   ]
  },
  {
   "cell_type": "code",
   "execution_count": 9,
   "metadata": {
    "colab": {
     "base_uri": "https://localhost:8080/",
     "height": 235
    },
    "id": "gis-7L822CBs",
    "outputId": "704e51a3-903d-4ff5-c6ac-bb5384e1b4f6"
   },
   "outputs": [
    {
     "data": {
      "text/plain": [
       "'2\\n01 삼성전자 기업분석\\n(Samsung Electronics Co., Ltd)\\nⅠ 기업 일반 \\n1  기업개요\\n1) 기업소개 \\n본사주소 경기도 수원시 영통구 삼성로 129(매탄동 416)\\n사업분야 삼성그룹의 대표 기업으로 휴대폰, 정보통신기기, 반도체, TV 등을 생산 판매하는 제조업체\\n홈페이지 www.samsung.com/sec 구분 전기전자 대기업  \\n설립일 1961년 07월 01일 대표이사 권오현 \\n총자산1) 244조 매출액2) 200조\\n임직원수 95,374명 \\n∙ 1975년 1월 주식시장 상장\\n∙ 1984년 2월 삼성전자공업주식회사->삼성전자주식회사로 사명 변경 \\n∙ CE(Consumer Electronics), IM(Information technology & Mobile communications), DS(Device Solutions) \\n3개의 부문으로 나누어 독립 경영.\\n부문 제품\\nCE TV, 모니터, 냉장고, 세탁기, 에어컨, 프린터, 의료기기 등\\nIM HHP, 네트워크시스템, 컴퓨터, 디지털카메라 등\\nDS DRAM, NAND Flash, 모바일AP, LCD패널, OLED패널, LED 등 \\n∙ 주요 사업은 전자전지기계 등 제조, 전자통신기 등 제도, 컴퓨터 등 제조, 반도체 제조·조립 등. 주요 \\n제품과 구성비율은 HHP, 네트워크시스템, 컴퓨터, 디지털카메라 등 54%, TV, 모니터, 냉장고, 세탁기, \\n에어컨 등 2 4 % ,  D R A M ,  N A N D  F l a s h ,  모바일 AP 등 19% 등으로 구분 \\n∙ 지역별로는 본사를 거점으로 한국 및 CE, IM 부문 산하 해외 9개 지역총괄과 DS 부문 산하 해외 5개 \\n지역총괄의 생산ㆍ판매법인 등 165개의 동종업종을 영위하는 종속기업으로 구성\\n∙ 국내사업장 : 수원, 구미, 기흥, 화성, 온양, 광주\\n∙ 해외사업장 : 86개국 220개지점 (15년 말 기준)\\n1) 연결재무재표 기준\\n2) 연결재무재표 기준'"
      ]
     },
     "execution_count": 9,
     "metadata": {},
     "output_type": "execute_result"
    }
   ],
   "source": [
    "pages[0].page_content"
   ]
  },
  {
   "cell_type": "markdown",
   "metadata": {
    "id": "reLGSldNIzuG"
   },
   "source": [
    "길이 500기준으로 쪼개줍니다."
   ]
  },
  {
   "cell_type": "code",
   "execution_count": 10,
   "metadata": {
    "colab": {
     "base_uri": "https://localhost:8080/"
    },
    "id": "OAM_69Re2BG-",
    "outputId": "9fbba703-e68f-457a-d7c2-b92a1687ed9d"
   },
   "outputs": [
    {
     "name": "stdout",
     "output_type": "stream",
     "text": [
      "69\n"
     ]
    }
   ],
   "source": [
    "## chunk로 쪼개기\n",
    "text_splitter = RecursiveCharacterTextSplitter(chunk_size=500, chunk_overlap=0)\n",
    "splited_docs = text_splitter.split_documents(pages)\n",
    "print(len(splited_docs))"
   ]
  },
  {
   "cell_type": "markdown",
   "metadata": {
    "id": "9V27qS5CELGM"
   },
   "source": [
    "이제 문서는 69개가 되었습니다."
   ]
  },
  {
   "cell_type": "code",
   "execution_count": 11,
   "metadata": {
    "colab": {
     "base_uri": "https://localhost:8080/"
    },
    "id": "K7xsp51F2FlL",
    "outputId": "ab0c8fb2-1866-42fd-efb0-d5298a621c32"
   },
   "outputs": [
    {
     "data": {
      "text/plain": [
       "Document(metadata={'producer': 'itext-paulo-155 (itextpdf.sf.net-lowagie.com)', 'creator': 'nPDF (pdftk 1.41)', 'creationdate': '2017-08-16T00:21:02-08:00', 'moddate': '2017-08-16T00:21:02-08:00', 'source': 'https://wdr.ubion.co.kr/wowpass/img/event/gsat_170823/gsat_170823.pdf', 'total_pages': 27, 'page': 0, 'page_label': '1'}, page_content='2\\n01 삼성전자 기업분석\\n(Samsung Electronics Co., Ltd)\\nⅠ 기업 일반 \\n1  기업개요\\n1) 기업소개 \\n본사주소 경기도 수원시 영통구 삼성로 129(매탄동 416)\\n사업분야 삼성그룹의 대표 기업으로 휴대폰, 정보통신기기, 반도체, TV 등을 생산 판매하는 제조업체\\n홈페이지 www.samsung.com/sec 구분 전기전자 대기업  \\n설립일 1961년 07월 01일 대표이사 권오현 \\n총자산1) 244조 매출액2) 200조\\n임직원수 95,374명 \\n∙ 1975년 1월 주식시장 상장\\n∙ 1984년 2월 삼성전자공업주식회사->삼성전자주식회사로 사명 변경 \\n∙ CE(Consumer Electronics), IM(Information technology & Mobile communications), DS(Device Solutions) \\n3개의 부문으로 나누어 독립 경영.\\n부문 제품\\nCE TV, 모니터, 냉장고, 세탁기, 에어컨, 프린터, 의료기기 등')"
      ]
     },
     "execution_count": 11,
     "metadata": {},
     "output_type": "execute_result"
    }
   ],
   "source": [
    "splited_docs[0]"
   ]
  },
  {
   "cell_type": "markdown",
   "metadata": {
    "id": "6OEWqIZ2JEGF"
   },
   "source": [
    "실제로 길이를 재보면 500이 넘지 않는 것을 확인할 수 있습니다."
   ]
  },
  {
   "cell_type": "code",
   "execution_count": 12,
   "metadata": {
    "colab": {
     "base_uri": "https://localhost:8080/"
    },
    "id": "dBV9SlbuI27L",
    "outputId": "43e3a526-9968-4a27-b6b4-f657b3392922"
   },
   "outputs": [
    {
     "data": {
      "text/plain": [
       "490"
      ]
     },
     "execution_count": 12,
     "metadata": {},
     "output_type": "execute_result"
    }
   ],
   "source": [
    "len(splited_docs[0].page_content)"
   ]
  },
  {
   "cell_type": "markdown",
   "metadata": {
    "id": "ulrJkuHgJOx7"
   },
   "source": [
    "69개의 문서를 임베딩해야 합니다. 공개되어져 있는 오픈소스 임베딩을 사용해보겠습니다.  \n",
    "\n",
    "임베딩 모델 위치: https://huggingface.co/BAAI/bge-m3"
   ]
  },
  {
   "cell_type": "code",
   "execution_count": 13,
   "metadata": {
    "colab": {
     "base_uri": "https://localhost:8080/",
     "height": 566,
     "referenced_widgets": [
      "6b23b5f13f21410a85725926e39f1225",
      "7cd11f6af28040a6bee3192ea9b88dfd",
      "bf014915641c4b5e9a752684f60c2984",
      "0b4a20f5f01c44dda7ebaaf1538d8b02",
      "9deb48ba6c04452aade284c8ee6b6fdc",
      "3aaace3d628349d19f59324ada823521",
      "eed5359cef0c4b6583654e3b846f8ef8",
      "1fcf76261907419598652dc5473a8d89",
      "de19416552a14b17a82202e119ec890f",
      "e239756c44d24d62a7eb456b408b80b6",
      "1781d1b670754e338d3934b98d274ba1",
      "1e8e3e020cc44ea9aaf29f0d10c41e0b",
      "11dded7d05674e919abc3e5b2fe51140",
      "c01de20eba4b4ef78b8a10e1d9593cf2",
      "3f88ac3b2335438abf2ec719087b139c",
      "9c88ce2cc42744a8a5ded8fec27776a2",
      "135dba02d88c4b68813aead317870375",
      "36708b09f0a54632872f10cc19f8643b",
      "1ca7939242344a37aa3d2faffe6df6af",
      "1bb3e81fe0d54f269b8d4c33636152b7",
      "b634ded80412486bb0604b33e169f0a3",
      "7de6b232e116487db5fe2523245f6826",
      "dd1feb1d65884e1b874e4d88ce179ace",
      "c37385156ae844618654aa541c878937",
      "8d5fde05179d457db295c495ef1c965d",
      "83d3086c65ef4f66957cc9a5c75a5aee",
      "b609ada5152d46698c6b0c20fc57be5f",
      "98a4ce6b1a814f9c93b8e78926645946",
      "276196895d254a72851ac72825e65b89",
      "c66fa1dcbba44513934e1fd5676bf58a",
      "f02c5997ed334f8882c50d793f3add1d",
      "30f338b100ad4fce98ba66ca9bd00f00",
      "9f9a67bf648d4d1097eecab3def1c855",
      "9263468eaecf451394b4ded2bc0f8130",
      "6be7b5413a534b53ad6e81b6672f1b67",
      "ee7a97fed9a14258a459e4b547c7c197",
      "77da692ff6d84f80a53bc906e2393c8b",
      "378119de648d4fc395b6f7bd5b1c9610",
      "2790374448544666b382167ba6638428",
      "f35424240a6f45ea8b7975c14fe2c491",
      "0065df5850a6466dae9f5e558b89237f",
      "c9addec2bdfa4a35bdbe8b69df2cb2e4",
      "7be1df2763174b989df90bf68b25a80f",
      "ba609464757942008da3a7e9acdb81b1",
      "90bd48bd5c7d4aeea31de7d361ccc2da",
      "465b914803d3402caed82366f946a95c",
      "3123ea382e80478982c9d859981fb8ab",
      "474084080c4e40f1a916ade5b3bdd4ca",
      "bdcd0aff668c4db1a5498e493378be8c",
      "919d0fc6880b44238e63b2b069f1934e",
      "8c44ef02a2b540f3bee7e5d26e11cf2e",
      "9114b49cd70a43d7ac7b7bfb9b61df4b",
      "c9eb501b28424c389be56294c166925c",
      "2d19c0e3101e4eaa9b7448e30e902b81",
      "4f627b3680364eb38b46d576d033b475",
      "c28770b74d4a42b78e494c9da4b43f49",
      "ad388f2a3f0d4903ba1cfdee00fab9c5",
      "7f748aa9196040eb958314f7ae7e2d25",
      "9aad70258ba9400680c0a475cf41c42a",
      "b40540a7909f49e894c5966ee9a81725",
      "f4295c6e880d48d39d96c1011246c414",
      "cc96a47c00d741f2a6039c9366a7406a",
      "cccd3e9c22f24be29e54caec0c5aa73c",
      "e4cedcd7eac04aea9d78b0de68e7ab0a",
      "2ab2aac3168b405fb6f90ca4f22fb5fd",
      "4be21b41412f459fa93161c4c4b4b660",
      "9e79d399d5894dd7ac876cb62edf9628",
      "e17ed82091da4408a8f1de81abbef193",
      "e899b77fe24b4e6b93736e73861d6e4b",
      "9ad32321ca984ecb978fb032846a489e",
      "fee55f9cb8964da396e4f4dbea0ec954",
      "1c34e8d623064c0d883bea1620602097",
      "5879944dbab74c9395daf60677dce95f",
      "d0f0dd092e8f49b0a6c69f73e446a5ff",
      "87bf46b9ce2b43dcb2ce0a618fd6946c",
      "cbdb3800b59545f9acac5d996da78975",
      "f9d7953935104507bc8382e167e9c684",
      "ed0343210b034189b2ebe523f53e34d3",
      "f2dfc817a70843118954a233d71e8c1d",
      "751499adf8134b759c6b9936fe871b45",
      "ec3a3d32ad71486a905418e9c414f481",
      "85505f88bfa14e8d814acfb96b02cc60",
      "50dfceb2bc0b4862bea35b24e42118b4",
      "c9a35a8bb32d41efb643628d23211ff1",
      "3538567619754dfcbc19afdf79aaeae6",
      "084e3495142440fabc28efc22aaf6a84",
      "1c9e4b687b2e4a6a88209024f8074427",
      "b715e8ff54c44a55b541380aa630f7b8",
      "7bc45776fcd64d50a35afa3c0b5bcd90",
      "c175bff333df4d51984ada3b80251faa",
      "40700f53a83247a8972c8c110e4e1d0d",
      "ce10c14f5c54474c88f78ebbf9e67c56",
      "905cb2f6e589476197cec9df91907ee8",
      "8abc4e9e3a4a46169b5dcf1777fe920b",
      "81f0955238524b708f4764748e63867a",
      "8544fa6389fe4cf2a020b261c9ced6c9",
      "9b524c213784446cbb1a45739bfa9430",
      "426bc578c58a43a289a750179f263bcf",
      "070a833cb6304311af61260e83e4304d",
      "8d180cefec6b4f35b9f0e8fb38014d03",
      "a07846c626b641d480f6cecc0cb3372f",
      "8607c03d91d243eebbd368761c08c8b9",
      "bcb74da457424542a1d7fa50d9ac7244",
      "e499eaa6acf6455dacde157a8aeff83b",
      "6e3af7e06b624c22977f251a4cf74466",
      "8385a8a6c9bc457ca2a410b75a136b81",
      "fd46d80fd3594a668eb163d02a40f6be",
      "97ba292450f34f17af7a9988c3accedd",
      "9a68c2a2f24c4ce3ba7d9f319c4d3101",
      "7296db32c7a942e5b1ca583a8ee2bb2f",
      "02d80e6c6aee4802bff11c139b702bfb",
      "94f666b708e940699c6312d0c45fa6cd",
      "9e500d10917f4887b05ca55c2a8c5384",
      "9004d5668a6a489bb1703302a01bc967",
      "c12608b2c23246fb91bfbae7904f1c97",
      "5e9fb8822c5c437e8b832fcfebad3b9a",
      "962ac5e1a72c4289857a295bf6e6fcc2",
      "22ec0ba5d7124ee1a470074c760290b0",
      "e56dc895be074850a6a14e016b67659d",
      "d8fc1ff8c33e48f18f93dda98d9cf46f",
      "5b378eb7cc43465fb38d550d579c03a4",
      "ad7f3448c32b4b9a9c940737e73e113e",
      "fa0aaa482d5242cdbe9bfc870e6bd426",
      "5112dbfb3805429ab7a6360e23db3ca0",
      "1b6b7727c95242d18bdaf5b99e79da96",
      "8c970c3083b5476bb1c3d0fe7bd392ca",
      "e09c6e0d936e42f792967556ea9b7c2b",
      "d93bc33cf11a4a3f86a172653804c8d4",
      "19d4861b2a4745aab0e7dc1a113d2e3f",
      "8cdaadb82505413c986de7d7e211126e",
      "4d563c54289041a594b7db962458e134",
      "e1c4316a719c4c4a845bce52377d4abe"
     ]
    },
    "id": "A03kJ0_M2F0T",
    "outputId": "5dbb63ab-1826-4817-c3d9-60d6ec676843"
   },
   "outputs": [
    {
     "name": "stderr",
     "output_type": "stream",
     "text": [
      "C:\\Users\\user\\AppData\\Local\\Temp\\ipykernel_14864\\2297800112.py:1: LangChainDeprecationWarning: The class `HuggingFaceEmbeddings` was deprecated in LangChain 0.2.2 and will be removed in 1.0. An updated version of the class exists in the :class:`~langchain-huggingface package and should be used instead. To use it run `pip install -U :class:`~langchain-huggingface` and import as `from :class:`~langchain_huggingface import HuggingFaceEmbeddings``.\n",
      "  model_huggingface = HuggingFaceEmbeddings(model_name='BAAI/bge-m3')\n"
     ]
    },
    {
     "name": "stdout",
     "output_type": "stream",
     "text": [
      "WARNING:tensorflow:From C:\\ProgramData\\anaconda3\\Lib\\site-packages\\tf_keras\\src\\losses.py:2976: The name tf.losses.sparse_softmax_cross_entropy is deprecated. Please use tf.compat.v1.losses.sparse_softmax_cross_entropy instead.\n",
      "\n"
     ]
    }
   ],
   "source": [
    "model_huggingface = HuggingFaceEmbeddings(model_name='BAAI/bge-m3')"
   ]
  },
  {
   "cell_type": "markdown",
   "metadata": {
    "id": "iVHRnsltWJpE"
   },
   "source": [
    "## 1. 크로마(Chroma)"
   ]
  },
  {
   "cell_type": "markdown",
   "metadata": {
    "id": "XfrMldnmJarL"
   },
   "source": [
    "다음은 Langchain에서 Chroma를 이용하여 벡터 DB 사용 시에 가장 간단한 사용법입니다."
   ]
  },
  {
   "cell_type": "markdown",
   "metadata": {
    "id": "2RZSQ8tkJYur"
   },
   "source": [
    "```python\n",
    "# Chroma 를 통해 벡터 저장소 생성. OpenAIEmbeddings()를 사용하거나 HuggingFaceEmbeddings()를 사용하면 된다.\n",
    "chroma_db = Chroma.from_documents(splited_docs, HuggingFaceEmbeddings())\n",
    "\n",
    "# 유사도 검색(쿼리)\n",
    "similar_docs = chroma_db.similarity_search(\"사용자의 질문\")\n",
    "```"
   ]
  },
  {
   "cell_type": "markdown",
   "metadata": {
    "id": "PHHNhOI2Jm4t"
   },
   "source": [
    "실제로 실행해봅시다."
   ]
  },
  {
   "cell_type": "code",
   "execution_count": 14,
   "metadata": {
    "colab": {
     "base_uri": "https://localhost:8080/"
    },
    "id": "9OQd1wlI2Lrr",
    "outputId": "c2729306-dac2-4a2e-8601-f4fb999f39ed"
   },
   "outputs": [
    {
     "name": "stderr",
     "output_type": "stream",
     "text": [
      "C:\\ProgramData\\anaconda3\\Lib\\site-packages\\transformers\\models\\xlm_roberta\\modeling_xlm_roberta.py:371: UserWarning: 1Torch was not compiled with flash attention. (Triggered internally at C:\\cb\\pytorch_1000000000000\\work\\aten\\src\\ATen\\native\\transformers\\cuda\\sdp_utils.cpp:455.)\n",
      "  attn_output = torch.nn.functional.scaled_dot_product_attention(\n"
     ]
    },
    {
     "name": "stdout",
     "output_type": "stream",
     "text": [
      "문서의 수: 69\n"
     ]
    }
   ],
   "source": [
    "## Chroma 기반 pdf(docs 벡터화)\n",
    "db = Chroma.from_documents(splited_docs, model_huggingface)\n",
    "\n",
    "print('문서의 수:', db._collection.count())"
   ]
  },
  {
   "cell_type": "markdown",
   "metadata": {
    "id": "s_y8UO7aEUTo"
   },
   "source": [
    "69개의 문서가 위에서 로드한 오픈 소스 임베딩을 바탕으로 임베딩되었다고 보면 됩니다."
   ]
  },
  {
   "cell_type": "code",
   "execution_count": 15,
   "metadata": {
    "id": "CLQfe1r2fwu0"
   },
   "outputs": [],
   "source": [
    "## 질의하기\n",
    "question = '삼성전자의 주요 사업영역은?'\n",
    "docs = db.similarity_search(question, k=4)"
   ]
  },
  {
   "cell_type": "markdown",
   "metadata": {
    "id": "EIzwLHsgEaMU"
   },
   "source": [
    "상위 4개의 문서를 출력해보겠습니다."
   ]
  },
  {
   "cell_type": "code",
   "execution_count": 16,
   "metadata": {
    "colab": {
     "base_uri": "https://localhost:8080/"
    },
    "id": "GmWw5ou2QBgj",
    "outputId": "8171353b-8ee0-4b10-bac3-942a45b5347a"
   },
   "outputs": [
    {
     "data": {
      "text/plain": [
       "4"
      ]
     },
     "execution_count": 16,
     "metadata": {},
     "output_type": "execute_result"
    }
   ],
   "source": [
    "len(docs)"
   ]
  },
  {
   "cell_type": "code",
   "execution_count": 17,
   "metadata": {
    "colab": {
     "base_uri": "https://localhost:8080/"
    },
    "id": "0iAsR3pcKG6o",
    "outputId": "90644789-c7a9-4d60-ba71-6ca98ec3f56f"
   },
   "outputs": [
    {
     "name": "stdout",
     "output_type": "stream",
     "text": [
      "page_content='11\n",
      "Ⅱ 기업 상세 분석\n",
      "1  사업분야(내용)\n",
      "Q1 삼성전자의 대표적 사업분야에 대해 설명할 수 있습니까 ?\n",
      "A\n",
      " 삼성전자는 크게 CE(Consumer Electronics) 사업부문, IM(Information technology & Mobile communica-\n",
      "tion) 사업부문, DS(Device Solutions) 사업부문 등 3개 사업부문으로 나누어 독립 경영을 합니다.\n",
      "⑴ Consumer Electronics (CE) 부문 \n",
      "① 영상디스플레이 : 진화하는 스마트TV, 초대형 프리미엄 TV 전략으로 8년 연속 세계 1위에 \n",
      "도전\n",
      "② 생활가전 : 새로운 기술과 가치 창출로 생활과 문화를 바꾸는 혁신을 준비\n",
      "③ 의료기기 : 정확하고 빠른 진단을 도와주는 새롭고 혁신적인 의료기기를 개발\n",
      "⑵ Information technology & Mobile communication (IM) 부문\n",
      "① 무선 : 인간 중심의 혁신으로 소비자들이 열망하는 새로운 가치와 편의를 지속적으로 제공' metadata={'creationdate': '2017-08-16T00:21:02-08:00', 'creator': 'nPDF (pdftk 1.41)', 'moddate': '2017-08-16T00:21:02-08:00', 'page': 9, 'page_label': '10', 'producer': 'itext-paulo-155 (itextpdf.sf.net-lowagie.com)', 'source': 'https://wdr.ubion.co.kr/wowpass/img/event/gsat_170823/gsat_170823.pdf', 'total_pages': 27}\n",
      "--------------------------------------------------------------------------------------------------------------------------------------------------------------------------------------------------------\n",
      "page_content='2\n",
      "01 삼성전자 기업분석\n",
      "(Samsung Electronics Co., Ltd)\n",
      "Ⅰ 기업 일반 \n",
      "1  기업개요\n",
      "1) 기업소개 \n",
      "본사주소 경기도 수원시 영통구 삼성로 129(매탄동 416)\n",
      "사업분야 삼성그룹의 대표 기업으로 휴대폰, 정보통신기기, 반도체, TV 등을 생산 판매하는 제조업체\n",
      "홈페이지 www.samsung.com/sec 구분 전기전자 대기업  \n",
      "설립일 1961년 07월 01일 대표이사 권오현 \n",
      "총자산1) 244조 매출액2) 200조\n",
      "임직원수 95,374명 \n",
      "∙ 1975년 1월 주식시장 상장\n",
      "∙ 1984년 2월 삼성전자공업주식회사->삼성전자주식회사로 사명 변경 \n",
      "∙ CE(Consumer Electronics), IM(Information technology & Mobile communications), DS(Device Solutions) \n",
      "3개의 부문으로 나누어 독립 경영.\n",
      "부문 제품\n",
      "CE TV, 모니터, 냉장고, 세탁기, 에어컨, 프린터, 의료기기 등' metadata={'creationdate': '2017-08-16T00:21:02-08:00', 'creator': 'nPDF (pdftk 1.41)', 'moddate': '2017-08-16T00:21:02-08:00', 'page': 0, 'page_label': '1', 'producer': 'itext-paulo-155 (itextpdf.sf.net-lowagie.com)', 'source': 'https://wdr.ubion.co.kr/wowpass/img/event/gsat_170823/gsat_170823.pdf', 'total_pages': 27}\n",
      "--------------------------------------------------------------------------------------------------------------------------------------------------------------------------------------------------------\n",
      "page_content='12\n",
      "Q2 삼성전자의 Harman사 인수에 대해 어떻게 생각하십니까 ?\n",
      "A\n",
      " 삼성전자가 최근 80억달러(약 9조)에 미국의 전장업체(자동차 전자기기에 대한 사업)인 Harman 사를 \n",
      "인수하기로 결정했습니다. 하만사는 세계적으로 자동차용 인포테인먼트와 텔레매틱스 시장에서 점유\n",
      "율 1~2위를 달리고 있으며 매출도 상당합니다. 이번 삼성전자의 하만 인수는 모바일 및 가전 시장에서 \n",
      "나아가 Connected Car 시장 진입에 진출했다는 것에 큰 의의가 있습니다. 향후 10년 시장 내 Connected \n",
      "Car의 비중은 90%에 육박할 전망입니다. LG전자 역시 자동차부품(VC) 사업 부문에 있어 상당한 경쟁 \n",
      "위협 요인가 될 것으로 내다봤습니다.\n",
      "<관련기사>\n",
      "전장사업 강자 하만과 손잡은 삼성…스마트카 ‘티어1’ 노린다\n",
      "(한국경제. 2016-11-21)\n",
      "삼성전자는 자동차 전장(電裝)사업에서 후발 주자다. 2005년 전장사업을 시작한 LG전자는' metadata={'creationdate': '2017-08-16T00:21:02-08:00', 'creator': 'nPDF (pdftk 1.41)', 'moddate': '2017-08-16T00:21:02-08:00', 'page': 10, 'page_label': '11', 'producer': 'itext-paulo-155 (itextpdf.sf.net-lowagie.com)', 'source': 'https://wdr.ubion.co.kr/wowpass/img/event/gsat_170823/gsat_170823.pdf', 'total_pages': 27}\n",
      "--------------------------------------------------------------------------------------------------------------------------------------------------------------------------------------------------------\n",
      "page_content='같은 부품뿐만 아니라 TV, 모바일, 가전기기 등 다양한 제품군을 생산하기 때문에 개방형 에코시스\n",
      "템만 잘 구축한다면 IoT 시장에서 충분히 새로운 변화를 주도할 수 있을 것”이라고 강조했습니다. \n",
      "Q4 삼성전자의 시장선도제품과 신성장동력에 대해 설명할 수 있습니까 ?\n",
      "A\n",
      " ① TV\n",
      "∙ 글로벌 TV 시장점유율 10년 연속 1위  (매출기준, 출처: IHS)\n",
      "∙ 2015년 글로벌 UHD TV 시장점유율 1위 (매출기준, 출처: IHS)\n",
      "② Mobile Phone\n",
      "∙ 2015년 휴대폰 시장점유율 1위  (출처 : Strategy Analytics) \n",
      "∙ 2015년 스마트폰 시장점유율 1위  (출처 : Strategy Analytics) \n",
      "∙ 2015년 태블릿 시장점유율 2위  (출처 : Strategy Analytics)\n",
      "③ Memory\n",
      "∙ 글로벌 메모리 시장점유율 연속 1위 (1993년 이래, 출처: IHS)' metadata={'creationdate': '2017-08-16T00:21:02-08:00', 'creator': 'nPDF (pdftk 1.41)', 'moddate': '2017-08-16T00:21:02-08:00', 'page': 13, 'page_label': '14', 'producer': 'itext-paulo-155 (itextpdf.sf.net-lowagie.com)', 'source': 'https://wdr.ubion.co.kr/wowpass/img/event/gsat_170823/gsat_170823.pdf', 'total_pages': 27}\n",
      "--------------------------------------------------------------------------------------------------------------------------------------------------------------------------------------------------------\n"
     ]
    }
   ],
   "source": [
    "for doc in docs:\n",
    "  print(doc)\n",
    "  print('--' * 100)"
   ]
  },
  {
   "cell_type": "markdown",
   "metadata": {
    "id": "g8SoBMBC2XeV"
   },
   "source": [
    "vectorize된 텍스트를 Chroma db 파일로 저장하기"
   ]
  },
  {
   "cell_type": "code",
   "execution_count": 18,
   "metadata": {
    "colab": {
     "base_uri": "https://localhost:8080/"
    },
    "id": "MFWIwlOK2WL1",
    "outputId": "61aebb6e-8c75-4c7a-f2cc-68fff87101c1"
   },
   "outputs": [
    {
     "name": "stdout",
     "output_type": "stream",
     "text": [
      "문서의 수: 139\n"
     ]
    }
   ],
   "source": [
    "db_toFiles = Chroma.from_documents(splited_docs, model_huggingface, persist_directory = './samsumg.db')\n",
    "# db_toFiles.delete_collection()\n",
    "print('문서의 수:', db_toFiles._collection.count())"
   ]
  },
  {
   "cell_type": "code",
   "execution_count": 19,
   "metadata": {
    "colab": {
     "base_uri": "https://localhost:8080/"
    },
    "id": "ynFee_tpQF7C",
    "outputId": "7607200e-1023-476d-a216-7a7257a07729"
   },
   "outputs": [
    {
     "name": "stdout",
     "output_type": "stream",
     "text": [
      "4\n"
     ]
    },
    {
     "data": {
      "text/plain": [
       "Document(metadata={'creationdate': '2017-08-16T00:21:02-08:00', 'creator': 'nPDF (pdftk 1.41)', 'moddate': '2017-08-16T00:21:02-08:00', 'page': 9, 'page_label': '10', 'producer': 'itext-paulo-155 (itextpdf.sf.net-lowagie.com)', 'source': 'https://wdr.ubion.co.kr/wowpass/img/event/gsat_170823/gsat_170823.pdf', 'total_pages': 27}, page_content='11\\nⅡ 기업 상세 분석\\n1  사업분야(내용)\\nQ1 삼성전자의 대표적 사업분야에 대해 설명할 수 있습니까 ?\\nA\\n 삼성전자는 크게 CE(Consumer Electronics) 사업부문, IM(Information technology & Mobile communica-\\ntion) 사업부문, DS(Device Solutions) 사업부문 등 3개 사업부문으로 나누어 독립 경영을 합니다.\\n⑴ Consumer Electronics (CE) 부문 \\n① 영상디스플레이 : 진화하는 스마트TV, 초대형 프리미엄 TV 전략으로 8년 연속 세계 1위에 \\n도전\\n② 생활가전 : 새로운 기술과 가치 창출로 생활과 문화를 바꾸는 혁신을 준비\\n③ 의료기기 : 정확하고 빠른 진단을 도와주는 새롭고 혁신적인 의료기기를 개발\\n⑵ Information technology & Mobile communication (IM) 부문\\n① 무선 : 인간 중심의 혁신으로 소비자들이 열망하는 새로운 가치와 편의를 지속적으로 제공')"
      ]
     },
     "execution_count": 19,
     "metadata": {},
     "output_type": "execute_result"
    }
   ],
   "source": [
    "## 질의하기\n",
    "question = '삼성전자의 주요 사업영역은?'\n",
    "docs = db_toFiles.similarity_search(question, k=4)\n",
    "print(len(docs))\n",
    "docs[0]"
   ]
  },
  {
   "cell_type": "code",
   "execution_count": null,
   "metadata": {
    "colab": {
     "base_uri": "https://localhost:8080/"
    },
    "id": "tCpFy1gAQV-y",
    "outputId": "8333fbf5-3322-4148-bb5d-331a8be9492b"
   },
   "outputs": [
    {
     "name": "stdout",
     "output_type": "stream",
     "text": [
      "total 1248\n",
      "drwxr-xr-x 1 root root    4096 Feb 28 10:43 \u001b[0m\u001b[01;34m.\u001b[0m/\n",
      "drwxr-xr-x 1 root root    4096 Feb 28 10:32 \u001b[01;34m..\u001b[0m/\n",
      "drwxr-xr-x 4 root root    4096 Feb 26 18:27 \u001b[01;34m.config\u001b[0m/\n",
      "-rw-r--r-- 1 root root 1253369 Aug 23  2017 gsat_170823.pdf\n",
      "drwxr-xr-x 2 root root    4096 Feb 28 10:35 \u001b[01;34m.ipynb_checkpoints\u001b[0m/\n",
      "drwxr-xr-x 1 root root    4096 Feb 26 18:27 \u001b[01;34msample_data\u001b[0m/\n",
      "drwxr-xr-x 3 root root    4096 Feb 28 10:43 \u001b[01;34msamsumg.db\u001b[0m/\n"
     ]
    }
   ],
   "source": [
    "# 리눅스 명령어\n",
    "%ls -al"
   ]
  },
  {
   "cell_type": "markdown",
   "metadata": {
    "id": "9oiGvTdy2ZtG"
   },
   "source": [
    " db 파일을 읽어와서 바로 모델에 적용하여 결과를 볼 수 있습니다."
   ]
  },
  {
   "cell_type": "code",
   "execution_count": 20,
   "metadata": {
    "colab": {
     "base_uri": "https://localhost:8080/"
    },
    "id": "dpwTZSMc2YLt",
    "outputId": "d8aba70d-d11f-405d-80f1-54351892dd7d"
   },
   "outputs": [
    {
     "name": "stdout",
     "output_type": "stream",
     "text": [
      "문서의 수: 139\n",
      "4\n"
     ]
    },
    {
     "name": "stderr",
     "output_type": "stream",
     "text": [
      "C:\\Users\\user\\AppData\\Local\\Temp\\ipykernel_14864\\169561607.py:1: LangChainDeprecationWarning: The class `Chroma` was deprecated in LangChain 0.2.9 and will be removed in 1.0. An updated version of the class exists in the :class:`~langchain-chroma package and should be used instead. To use it run `pip install -U :class:`~langchain-chroma` and import as `from :class:`~langchain_chroma import Chroma``.\n",
      "  db_fromfile = Chroma(persist_directory='./samsumg.db', embedding_function=model_huggingface)\n"
     ]
    }
   ],
   "source": [
    "db_fromfile = Chroma(persist_directory='./samsumg.db', embedding_function=model_huggingface)\n",
    "print('문서의 수:', db_fromfile._collection.count())\n",
    "\n",
    "## 질의하기\n",
    "question = '삼성전자의 주요 사업영역은?'\n",
    "docs = db_fromfile.similarity_search(question, k=4)\n",
    "\n",
    "print(len(docs))"
   ]
  },
  {
   "cell_type": "code",
   "execution_count": 21,
   "metadata": {
    "id": "sritys30QgNK"
   },
   "outputs": [],
   "source": [
    "question = '삼성전자의 주요 사업영역은?'\n",
    "\n",
    "# TOP 3개만 추출\n",
    "docs3 = db_fromfile.similarity_search_with_relevance_scores(question, k=10)"
   ]
  },
  {
   "cell_type": "code",
   "execution_count": 22,
   "metadata": {
    "colab": {
     "base_uri": "https://localhost:8080/"
    },
    "id": "FaRQbfl4QqhA",
    "outputId": "58532108-3a41-4eff-f3b0-1b2d547310fd"
   },
   "outputs": [
    {
     "name": "stdout",
     "output_type": "stream",
     "text": [
      "(Document(metadata={'creationdate': '2017-08-16T00:21:02-08:00', 'creator': 'nPDF (pdftk 1.41)', 'moddate': '2017-08-16T00:21:02-08:00', 'page': 9, 'page_label': '10', 'producer': 'itext-paulo-155 (itextpdf.sf.net-lowagie.com)', 'source': 'https://wdr.ubion.co.kr/wowpass/img/event/gsat_170823/gsat_170823.pdf', 'total_pages': 27}, page_content='11\\nⅡ 기업 상세 분석\\n1  사업분야(내용)\\nQ1 삼성전자의 대표적 사업분야에 대해 설명할 수 있습니까 ?\\nA\\n 삼성전자는 크게 CE(Consumer Electronics) 사업부문, IM(Information technology & Mobile communica-\\ntion) 사업부문, DS(Device Solutions) 사업부문 등 3개 사업부문으로 나누어 독립 경영을 합니다.\\n⑴ Consumer Electronics (CE) 부문 \\n① 영상디스플레이 : 진화하는 스마트TV, 초대형 프리미엄 TV 전략으로 8년 연속 세계 1위에 \\n도전\\n② 생활가전 : 새로운 기술과 가치 창출로 생활과 문화를 바꾸는 혁신을 준비\\n③ 의료기기 : 정확하고 빠른 진단을 도와주는 새롭고 혁신적인 의료기기를 개발\\n⑵ Information technology & Mobile communication (IM) 부문\\n① 무선 : 인간 중심의 혁신으로 소비자들이 열망하는 새로운 가치와 편의를 지속적으로 제공'), 0.6830467008459198)\n",
      "--------------------------------------------------------------------------------------------------------------------------------------------------------------------------------------------------------\n",
      "(Document(metadata={'creationdate': '2017-08-16T00:21:02-08:00', 'creator': 'nPDF (pdftk 1.41)', 'moddate': '2017-08-16T00:21:02-08:00', 'page': 9, 'page_label': '10', 'producer': 'itext-paulo-155 (itextpdf.sf.net-lowagie.com)', 'source': 'https://wdr.ubion.co.kr/wowpass/img/event/gsat_170823/gsat_170823.pdf', 'total_pages': 27}, page_content='11\\nⅡ 기업 상세 분석\\n1  사업분야(내용)\\nQ1 삼성전자의 대표적 사업분야에 대해 설명할 수 있습니까 ?\\nA\\n 삼성전자는 크게 CE(Consumer Electronics) 사업부문, IM(Information technology & Mobile communica-\\ntion) 사업부문, DS(Device Solutions) 사업부문 등 3개 사업부문으로 나누어 독립 경영을 합니다.\\n⑴ Consumer Electronics (CE) 부문 \\n① 영상디스플레이 : 진화하는 스마트TV, 초대형 프리미엄 TV 전략으로 8년 연속 세계 1위에 \\n도전\\n② 생활가전 : 새로운 기술과 가치 창출로 생활과 문화를 바꾸는 혁신을 준비\\n③ 의료기기 : 정확하고 빠른 진단을 도와주는 새롭고 혁신적인 의료기기를 개발\\n⑵ Information technology & Mobile communication (IM) 부문\\n① 무선 : 인간 중심의 혁신으로 소비자들이 열망하는 새로운 가치와 편의를 지속적으로 제공'), 0.6830467008459198)\n",
      "--------------------------------------------------------------------------------------------------------------------------------------------------------------------------------------------------------\n",
      "(Document(metadata={'creationdate': '2017-08-16T00:21:02-08:00', 'creator': 'nPDF (pdftk 1.41)', 'moddate': '2017-08-16T00:21:02-08:00', 'page': 0, 'page_label': '1', 'producer': 'itext-paulo-155 (itextpdf.sf.net-lowagie.com)', 'source': 'https://wdr.ubion.co.kr/wowpass/img/event/gsat_170823/gsat_170823.pdf', 'total_pages': 27}, page_content='2\\n01 삼성전자 기업분석\\n(Samsung Electronics Co., Ltd)\\nⅠ 기업 일반 \\n1  기업개요\\n1) 기업소개 \\n본사주소 경기도 수원시 영통구 삼성로 129(매탄동 416)\\n사업분야 삼성그룹의 대표 기업으로 휴대폰, 정보통신기기, 반도체, TV 등을 생산 판매하는 제조업체\\n홈페이지 www.samsung.com/sec 구분 전기전자 대기업  \\n설립일 1961년 07월 01일 대표이사 권오현 \\n총자산1) 244조 매출액2) 200조\\n임직원수 95,374명 \\n∙ 1975년 1월 주식시장 상장\\n∙ 1984년 2월 삼성전자공업주식회사->삼성전자주식회사로 사명 변경 \\n∙ CE(Consumer Electronics), IM(Information technology & Mobile communications), DS(Device Solutions) \\n3개의 부문으로 나누어 독립 경영.\\n부문 제품\\nCE TV, 모니터, 냉장고, 세탁기, 에어컨, 프린터, 의료기기 등'), 0.5604600842144982)\n",
      "--------------------------------------------------------------------------------------------------------------------------------------------------------------------------------------------------------\n",
      "(Document(metadata={'creationdate': '2017-08-16T00:21:02-08:00', 'creator': 'nPDF (pdftk 1.41)', 'moddate': '2017-08-16T00:21:02-08:00', 'page': 0, 'page_label': '1', 'producer': 'itext-paulo-155 (itextpdf.sf.net-lowagie.com)', 'source': 'https://wdr.ubion.co.kr/wowpass/img/event/gsat_170823/gsat_170823.pdf', 'total_pages': 27}, page_content='2\\n01 삼성전자 기업분석\\n(Samsung Electronics Co., Ltd)\\nⅠ 기업 일반 \\n1  기업개요\\n1) 기업소개 \\n본사주소 경기도 수원시 영통구 삼성로 129(매탄동 416)\\n사업분야 삼성그룹의 대표 기업으로 휴대폰, 정보통신기기, 반도체, TV 등을 생산 판매하는 제조업체\\n홈페이지 www.samsung.com/sec 구분 전기전자 대기업  \\n설립일 1961년 07월 01일 대표이사 권오현 \\n총자산1) 244조 매출액2) 200조\\n임직원수 95,374명 \\n∙ 1975년 1월 주식시장 상장\\n∙ 1984년 2월 삼성전자공업주식회사->삼성전자주식회사로 사명 변경 \\n∙ CE(Consumer Electronics), IM(Information technology & Mobile communications), DS(Device Solutions) \\n3개의 부문으로 나누어 독립 경영.\\n부문 제품\\nCE TV, 모니터, 냉장고, 세탁기, 에어컨, 프린터, 의료기기 등'), 0.5604600842144982)\n",
      "--------------------------------------------------------------------------------------------------------------------------------------------------------------------------------------------------------\n",
      "(Document(metadata={'creationdate': '2017-08-16T00:21:02-08:00', 'creator': 'nPDF (pdftk 1.41)', 'moddate': '2017-08-16T00:21:02-08:00', 'page': 10, 'page_label': '11', 'producer': 'itext-paulo-155 (itextpdf.sf.net-lowagie.com)', 'source': 'https://wdr.ubion.co.kr/wowpass/img/event/gsat_170823/gsat_170823.pdf', 'total_pages': 27}, page_content='12\\nQ2 삼성전자의 Harman사 인수에 대해 어떻게 생각하십니까 ?\\nA\\n 삼성전자가 최근 80억달러(약 9조)에 미국의 전장업체(자동차 전자기기에 대한 사업)인 Harman 사를 \\n인수하기로 결정했습니다. 하만사는 세계적으로 자동차용 인포테인먼트와 텔레매틱스 시장에서 점유\\n율 1~2위를 달리고 있으며 매출도 상당합니다. 이번 삼성전자의 하만 인수는 모바일 및 가전 시장에서 \\n나아가 Connected Car 시장 진입에 진출했다는 것에 큰 의의가 있습니다. 향후 10년 시장 내 Connected \\nCar의 비중은 90%에 육박할 전망입니다. LG전자 역시 자동차부품(VC) 사업 부문에 있어 상당한 경쟁 \\n위협 요인가 될 것으로 내다봤습니다.\\n<관련기사>\\n전장사업 강자 하만과 손잡은 삼성…스마트카 ‘티어1’ 노린다\\n(한국경제. 2016-11-21)\\n삼성전자는 자동차 전장(電裝)사업에서 후발 주자다. 2005년 전장사업을 시작한 LG전자는'), 0.4350896050186591)\n",
      "--------------------------------------------------------------------------------------------------------------------------------------------------------------------------------------------------------\n",
      "(Document(metadata={'creationdate': '2017-08-16T00:21:02-08:00', 'creator': 'nPDF (pdftk 1.41)', 'moddate': '2017-08-16T00:21:02-08:00', 'page': 10, 'page_label': '11', 'producer': 'itext-paulo-155 (itextpdf.sf.net-lowagie.com)', 'source': 'https://wdr.ubion.co.kr/wowpass/img/event/gsat_170823/gsat_170823.pdf', 'total_pages': 27}, page_content='12\\nQ2 삼성전자의 Harman사 인수에 대해 어떻게 생각하십니까 ?\\nA\\n 삼성전자가 최근 80억달러(약 9조)에 미국의 전장업체(자동차 전자기기에 대한 사업)인 Harman 사를 \\n인수하기로 결정했습니다. 하만사는 세계적으로 자동차용 인포테인먼트와 텔레매틱스 시장에서 점유\\n율 1~2위를 달리고 있으며 매출도 상당합니다. 이번 삼성전자의 하만 인수는 모바일 및 가전 시장에서 \\n나아가 Connected Car 시장 진입에 진출했다는 것에 큰 의의가 있습니다. 향후 10년 시장 내 Connected \\nCar의 비중은 90%에 육박할 전망입니다. LG전자 역시 자동차부품(VC) 사업 부문에 있어 상당한 경쟁 \\n위협 요인가 될 것으로 내다봤습니다.\\n<관련기사>\\n전장사업 강자 하만과 손잡은 삼성…스마트카 ‘티어1’ 노린다\\n(한국경제. 2016-11-21)\\n삼성전자는 자동차 전장(電裝)사업에서 후발 주자다. 2005년 전장사업을 시작한 LG전자는'), 0.4350896050186591)\n",
      "--------------------------------------------------------------------------------------------------------------------------------------------------------------------------------------------------------\n",
      "(Document(metadata={'creationdate': '2017-08-16T00:21:02-08:00', 'creator': 'nPDF (pdftk 1.41)', 'moddate': '2017-08-16T00:21:02-08:00', 'page': 13, 'page_label': '14', 'producer': 'itext-paulo-155 (itextpdf.sf.net-lowagie.com)', 'source': 'https://wdr.ubion.co.kr/wowpass/img/event/gsat_170823/gsat_170823.pdf', 'total_pages': 27}, page_content='같은 부품뿐만 아니라 TV, 모바일, 가전기기 등 다양한 제품군을 생산하기 때문에 개방형 에코시스\\n템만 잘 구축한다면 IoT 시장에서 충분히 새로운 변화를 주도할 수 있을 것”이라고 강조했습니다. \\nQ4 삼성전자의 시장선도제품과 신성장동력에 대해 설명할 수 있습니까 ?\\nA\\n ① TV\\n∙ 글로벌 TV 시장점유율 10년 연속 1위  (매출기준, 출처: IHS)\\n∙ 2015년 글로벌 UHD TV 시장점유율 1위 (매출기준, 출처: IHS)\\n② Mobile Phone\\n∙ 2015년 휴대폰 시장점유율 1위  (출처 : Strategy Analytics) \\n∙ 2015년 스마트폰 시장점유율 1위  (출처 : Strategy Analytics) \\n∙ 2015년 태블릿 시장점유율 2위  (출처 : Strategy Analytics)\\n③ Memory\\n∙ 글로벌 메모리 시장점유율 연속 1위 (1993년 이래, 출처: IHS)'), 0.43495709532694093)\n",
      "--------------------------------------------------------------------------------------------------------------------------------------------------------------------------------------------------------\n",
      "(Document(metadata={'creationdate': '2017-08-16T00:21:02-08:00', 'creator': 'nPDF (pdftk 1.41)', 'moddate': '2017-08-16T00:21:02-08:00', 'page': 13, 'page_label': '14', 'producer': 'itext-paulo-155 (itextpdf.sf.net-lowagie.com)', 'source': 'https://wdr.ubion.co.kr/wowpass/img/event/gsat_170823/gsat_170823.pdf', 'total_pages': 27}, page_content='같은 부품뿐만 아니라 TV, 모바일, 가전기기 등 다양한 제품군을 생산하기 때문에 개방형 에코시스\\n템만 잘 구축한다면 IoT 시장에서 충분히 새로운 변화를 주도할 수 있을 것”이라고 강조했습니다. \\nQ4 삼성전자의 시장선도제품과 신성장동력에 대해 설명할 수 있습니까 ?\\nA\\n ① TV\\n∙ 글로벌 TV 시장점유율 10년 연속 1위  (매출기준, 출처: IHS)\\n∙ 2015년 글로벌 UHD TV 시장점유율 1위 (매출기준, 출처: IHS)\\n② Mobile Phone\\n∙ 2015년 휴대폰 시장점유율 1위  (출처 : Strategy Analytics) \\n∙ 2015년 스마트폰 시장점유율 1위  (출처 : Strategy Analytics) \\n∙ 2015년 태블릿 시장점유율 2위  (출처 : Strategy Analytics)\\n③ Memory\\n∙ 글로벌 메모리 시장점유율 연속 1위 (1993년 이래, 출처: IHS)'), 0.4349570275007324)\n",
      "--------------------------------------------------------------------------------------------------------------------------------------------------------------------------------------------------------\n",
      "(Document(metadata={'creationdate': '2017-08-16T00:21:02-08:00', 'creator': 'nPDF (pdftk 1.41)', 'moddate': '2017-08-16T00:21:02-08:00', 'page': 8, 'page_label': '9', 'producer': 'itext-paulo-155 (itextpdf.sf.net-lowagie.com)', 'source': 'https://wdr.ubion.co.kr/wowpass/img/event/gsat_170823/gsat_170823.pdf', 'total_pages': 27}, page_content='10\\n8) 조직도\\n9) 직무소개\\n∙E직군 (연구개발직) : 기초연구와 응용연구, 이러한 연구성과를 기초로 제품화까지 진행하는 개발업무 \\n수행 \\n∙ S직군 (소프트웨어직) : 컴퓨터 프로그래밍을 통해 사용자가 쉽고 편하게 제품을 활용할 수 있도록 \\n도와주는 창의적인 업무를 수행 \\n∙ M직군 (영업마케팅직) : 새로운 상품을 기획, 개발하여 매출 신장과 수익률 제고에 기여하고 시장의 \\n접점에서 고객만족과 판매를 촉진시켜 수익창출의 직접적인 역할수행 \\n∙G직군 (경영지원직) : CEO나 사업부장을 도와 전체 사업이 원활히 진행될 수 있도록 지원과 컨트롤을 \\n담당\\n∙D직군 (디자인직) : 사용자가 만지고 볼 수 있는 삼성전자 제품의 모든 요소들을 보다 심미적으로 아름답\\n고 편리하게 구상하는 역할\\n∙F직군 (설비엔지니어직) : 첨단 설비 관리 및 개선 활동과 Facility 활동을 통해 생산성 향상을 극대화시키\\n는 업무'), 0.43201296937106093)\n",
      "--------------------------------------------------------------------------------------------------------------------------------------------------------------------------------------------------------\n",
      "(Document(metadata={'creationdate': '2017-08-16T00:21:02-08:00', 'creator': 'nPDF (pdftk 1.41)', 'moddate': '2017-08-16T00:21:02-08:00', 'page': 8, 'page_label': '9', 'producer': 'itext-paulo-155 (itextpdf.sf.net-lowagie.com)', 'source': 'https://wdr.ubion.co.kr/wowpass/img/event/gsat_170823/gsat_170823.pdf', 'total_pages': 27}, page_content='10\\n8) 조직도\\n9) 직무소개\\n∙E직군 (연구개발직) : 기초연구와 응용연구, 이러한 연구성과를 기초로 제품화까지 진행하는 개발업무 \\n수행 \\n∙ S직군 (소프트웨어직) : 컴퓨터 프로그래밍을 통해 사용자가 쉽고 편하게 제품을 활용할 수 있도록 \\n도와주는 창의적인 업무를 수행 \\n∙ M직군 (영업마케팅직) : 새로운 상품을 기획, 개발하여 매출 신장과 수익률 제고에 기여하고 시장의 \\n접점에서 고객만족과 판매를 촉진시켜 수익창출의 직접적인 역할수행 \\n∙G직군 (경영지원직) : CEO나 사업부장을 도와 전체 사업이 원활히 진행될 수 있도록 지원과 컨트롤을 \\n담당\\n∙D직군 (디자인직) : 사용자가 만지고 볼 수 있는 삼성전자 제품의 모든 요소들을 보다 심미적으로 아름답\\n고 편리하게 구상하는 역할\\n∙F직군 (설비엔지니어직) : 첨단 설비 관리 및 개선 활동과 Facility 활동을 통해 생산성 향상을 극대화시키\\n는 업무'), 0.43201296937106093)\n",
      "--------------------------------------------------------------------------------------------------------------------------------------------------------------------------------------------------------\n"
     ]
    }
   ],
   "source": [
    "for doc in docs3:\n",
    "  print(doc)\n",
    "  print('--' * 100)"
   ]
  },
  {
   "cell_type": "markdown",
   "metadata": {
    "id": "uz4VMUmGLHkm"
   },
   "source": [
    "나는 K=5로 해서 5개의 문서를 검색하는 것보단  \n",
    "K=10으로 해서 10개의 문서로 받아온 다음에  \n",
    "임계값을 0.5로 해서 유사도가 0.5보다 높은 경우만 LLM에 전달해지"
   ]
  },
  {
   "cell_type": "code",
   "execution_count": 23,
   "metadata": {
    "colab": {
     "base_uri": "https://localhost:8080/"
    },
    "id": "t9NoiQ52QprW",
    "outputId": "73ecf2c3-0a74-47d4-c64b-00659bc0c39c"
   },
   "outputs": [
    {
     "name": "stdout",
     "output_type": "stream",
     "text": [
      "가장 유사한 문서 : 11\n",
      "Ⅱ 기업 상세 분석\n",
      "1  사업분야(내용)\n",
      "Q1 삼성전자의 대표적 사업분야에 대해 설명할 수 있습니까 ?\n",
      "A\n",
      " 삼성전자는 크게 CE(Consumer Electronics) 사업부문, IM(Information technology & Mobile communica-\n",
      "tion) 사업부문, DS(Device Solutions) 사업부문 등 3개 사업부문으로 나누어 독립 경영을 합니다.\n",
      "⑴ Consumer Electronics (CE) 부문 \n",
      "① 영상디스플레이 : 진화하는 스마트TV, 초대형 프리미엄 TV 전략으로 8년 연속 세계 1위에 \n",
      "도전\n",
      "② 생활가전 : 새로운 기술과 가치 창출로 생활과 문화를 바꾸는 혁신을 준비\n",
      "③ 의료기기 : 정확하고 빠른 진단을 도와주는 새롭고 혁신적인 의료기기를 개발\n",
      "⑵ Information technology & Mobile communication (IM) 부문\n",
      "① 무선 : 인간 중심의 혁신으로 소비자들이 열망하는 새로운 가치와 편의를 지속적으로 제공\n",
      "********************\n",
      "가장 유사한 문서의 문서의 유사도 : 0.6830467008459198\n"
     ]
    }
   ],
   "source": [
    "print(f\"가장 유사한 문서 : {docs3[0][0].page_content}\")\n",
    "print('*'*20)\n",
    "print(f\"가장 유사한 문서의 문서의 유사도 : {docs3[0][1]}\")"
   ]
  },
  {
   "cell_type": "markdown",
   "metadata": {
    "id": "eoKtuFWZdeo6"
   },
   "source": [
    "## 크로마 문서 추가"
   ]
  },
  {
   "cell_type": "code",
   "execution_count": 24,
   "metadata": {
    "colab": {
     "base_uri": "https://localhost:8080/"
    },
    "id": "zUYTvKMFd0tY",
    "outputId": "cb3b09a3-a91a-4854-a0c7-e5737a9bbc9e"
   },
   "outputs": [
    {
     "name": "stdout",
     "output_type": "stream",
     "text": [
      "ids\n",
      "embeddings\n",
      "documents\n",
      "uris\n",
      "data\n",
      "metadatas\n",
      "included\n"
     ]
    }
   ],
   "source": [
    "for key in db._collection.get():\n",
    "  print(key)"
   ]
  },
  {
   "cell_type": "code",
   "execution_count": 25,
   "metadata": {
    "colab": {
     "base_uri": "https://localhost:8080/"
    },
    "id": "Cw53ecmhewl1",
    "outputId": "1ef89f72-b50c-4838-dfc9-17bb8203fdc8"
   },
   "outputs": [
    {
     "data": {
      "text/plain": [
       "['acb714e2-30bc-4d19-88bf-3c5565bde164',\n",
       " '804481ad-b60b-40dc-9e5c-041a67b74c32',\n",
       " 'bc4c602c-c827-4270-9ee5-8eee5fff4b5d',\n",
       " 'd039f858-6a89-414b-9a1e-d0d0ecd07d59',\n",
       " '56b3c1a7-9cdc-49c8-ad92-c83fd6ddcf82']"
      ]
     },
     "execution_count": 25,
     "metadata": {},
     "output_type": "execute_result"
    }
   ],
   "source": [
    "# id를 출력하되 상위 5개만 출력\n",
    "db._collection.get()['ids'][:5]"
   ]
  },
  {
   "cell_type": "code",
   "execution_count": 26,
   "metadata": {
    "colab": {
     "base_uri": "https://localhost:8080/"
    },
    "id": "shym0kVvfKrG",
    "outputId": "dd20c03a-7283-4f65-8d5c-896c40d48158"
   },
   "outputs": [
    {
     "name": "stdout",
     "output_type": "stream",
     "text": [
      "현재 문서 수 : 69\n"
     ]
    }
   ],
   "source": [
    "print('현재 문서 수 :', len(db._collection.get()['ids']))"
   ]
  },
  {
   "cell_type": "code",
   "execution_count": 27,
   "metadata": {
    "id": "ncV72tpMhRjp"
   },
   "outputs": [],
   "source": [
    "# 신규 문서 추가 하기\n",
    "text1 = '''삼성전자가 미국 반도체업체 엔비디아에 고대역폭 메모리(HBM)를 납품하기 위한 테스트를 아직 통과하지 못했다고 로이터통신이 3명의 익명 소식통을 인용해 24일 보도했다.'''\n",
    "text2 = '''엔비디아발 훈풍으로 전 세계 반도체가 들썩이는 가운데 국내 증시에서는 SK하이닉스 (198,600원 ▼1,400 -0.70%)의 활약이 돋보인다. 엔비디아에 대한 투자자들의 기대치가 높아지고 있어 SK하이닉스 역시 상승세를 이어갈 것이란 전망이 쏟아진다. 다만 SK하이닉스 주가에 상승동력으로 작용했던 엔비디아 실적 재료가 소진된 점은 차익실현 매물이 출현할 가능성을 높인다.'''"
   ]
  },
  {
   "cell_type": "markdown",
   "metadata": {
    "id": "IauUi-TubVls"
   },
   "source": [
    "랭체인 형식으로 만들어줍니다."
   ]
  },
  {
   "cell_type": "code",
   "execution_count": 28,
   "metadata": {
    "id": "VSm7bm6Mg8BN"
   },
   "outputs": [],
   "source": [
    "from langchain.docstore.document import Document\n",
    "\n",
    "new_doc = Document(\n",
    "    page_content=text2,\n",
    "    metadata={\n",
    "        \"source\": \"wareconn.com\",\n",
    "        \"page\": 1\n",
    "    }\n",
    ")"
   ]
  },
  {
   "cell_type": "code",
   "execution_count": 29,
   "metadata": {
    "colab": {
     "base_uri": "https://localhost:8080/"
    },
    "id": "q6RsgFpAMrNe",
    "outputId": "61557cad-85bf-4b0a-d0aa-741f2a753429"
   },
   "outputs": [
    {
     "data": {
      "text/plain": [
       "Document(metadata={'source': 'wareconn.com', 'page': 1}, page_content='엔비디아발 훈풍으로 전 세계 반도체가 들썩이는 가운데 국내 증시에서는 SK하이닉스 (198,600원 ▼1,400 -0.70%)의 활약이 돋보인다. 엔비디아에 대한 투자자들의 기대치가 높아지고 있어 SK하이닉스 역시 상승세를 이어갈 것이란 전망이 쏟아진다. 다만 SK하이닉스 주가에 상승동력으로 작용했던 엔비디아 실적 재료가 소진된 점은 차익실현 매물이 출현할 가능성을 높인다.')"
      ]
     },
     "execution_count": 29,
     "metadata": {},
     "output_type": "execute_result"
    }
   ],
   "source": [
    "new_doc"
   ]
  },
  {
   "cell_type": "code",
   "execution_count": 31,
   "metadata": {
    "id": "m9ZeRdU8hXpM"
   },
   "outputs": [],
   "source": [
    "# 파이썬 리스트\n",
    "new_docs = [new_doc]\n",
    "\n",
    "id = db.add_documents(\n",
    "    new_docs,\n",
    "    ids=[\"7\"]\n",
    ")"
   ]
  },
  {
   "cell_type": "code",
   "execution_count": 32,
   "metadata": {
    "colab": {
     "base_uri": "https://localhost:8080/"
    },
    "id": "d06KcwnsfPG6",
    "outputId": "20bb67e8-22ed-4b5f-b351-632500c5c19f"
   },
   "outputs": [
    {
     "name": "stdout",
     "output_type": "stream",
     "text": [
      "현재 문서 수 : 70\n"
     ]
    }
   ],
   "source": [
    "print('현재 문서 수 :', len(db._collection.get()['ids']))"
   ]
  },
  {
   "cell_type": "markdown",
   "metadata": {
    "id": "wKLOtGlVhjNO"
   },
   "source": [
    "## 크로마 문서 삭제"
   ]
  },
  {
   "cell_type": "markdown",
   "metadata": {
    "id": "dKInB2w4dRhY"
   },
   "source": [
    "`db_fromfile._collection.delete(ids=[doc_id])` 해당 코드로 문서의 id를 찾아내면 문서를 벡터 데이터베이스에서 삭제할 수 있다."
   ]
  },
  {
   "cell_type": "markdown",
   "metadata": {
    "id": "wql4AMgpbvkm"
   },
   "source": [
    "예를 들어 '엔비디아발 훈풍'이라는 텍스트가 포함된 문서를 삭제하고 싶다고 하자. 우선 해당 문서를 검색해서 검색에 잡히는지 확인한다."
   ]
  },
  {
   "cell_type": "code",
   "execution_count": 45,
   "metadata": {
    "id": "korK0zBibmz5"
   },
   "outputs": [],
   "source": [
    "# 1. 특정 쿼리로 문서 검색\n",
    "query = \"삼성전자의 사업\"\n",
    "docs = db.similarity_search(query, k=1)  # 가장 유사한 문서 1개 검색"
   ]
  },
  {
   "cell_type": "code",
   "execution_count": 46,
   "metadata": {
    "colab": {
     "base_uri": "https://localhost:8080/"
    },
    "id": "NAfETl4obtMd",
    "outputId": "14e20498-acda-426c-d17c-1250f2e5089d"
   },
   "outputs": [
    {
     "name": "stdout",
     "output_type": "stream",
     "text": [
      "검색된 문서: 11\n",
      "Ⅱ 기업 상세 분석\n",
      "1  사업분야(내용)\n",
      "Q1 삼성전자의 대표적 사업분야에 대해 설명할 수 있습니까 ?\n",
      "A\n",
      " 삼성전자는 크게 CE(Consumer Electronics) 사업부문, IM(Information technology & Mobile communica-\n",
      "tion) 사업부문, DS(Device Solutions) 사업부문 등 3개 사업부문으로 나누어 독립 경영을 합니다.\n",
      "⑴ Consumer Electronics (CE) 부문 \n",
      "① 영상디스플레이 : 진화하는 스마트TV, 초대형 프리미엄 TV 전략으로 8년 연속 세계 1위에 \n",
      "도전\n",
      "② 생활가전 : 새로운 기술과 가치 창출로 생활과 문화를 바꾸는 혁신을 준비\n",
      "③ 의료기기 : 정확하고 빠른 진단을 도와주는 새롭고 혁신적인 의료기기를 개발\n",
      "⑵ Information technology & Mobile communication (IM) 부문\n",
      "① 무선 : 인간 중심의 혁신으로 소비자들이 열망하는 새로운 가치와 편의를 지속적으로 제공\n"
     ]
    }
   ],
   "source": [
    "print(\"검색된 문서:\", docs[0].page_content)"
   ]
  },
  {
   "cell_type": "markdown",
   "metadata": {
    "id": "Y408Wz1fcJv6"
   },
   "source": [
    "벡터 DB에서 모든 id와 document(실제 문서)와 메타 데이터를 추출한다."
   ]
  },
  {
   "cell_type": "markdown",
   "metadata": {
    "id": "0hea-1y4dHig"
   },
   "source": [
    "Chroma의 get() 메서드는 ids, documents, metadatas 등의 키를 가진 딕셔너리를 반환하는데, 이들 배열은 서로 인덱스가 대응된다. 즉, all_ids[i]는 all_documents[i]와 all_metadatas[i]에 해당하는 문서의 ID다."
   ]
  },
  {
   "cell_type": "code",
   "execution_count": 35,
   "metadata": {
    "id": "vWGLt5xPcIhV"
   },
   "outputs": [],
   "source": [
    "# 모든 정보 로드\n",
    "all_docs = db._collection.get()\n",
    "\n",
    "# 벡터 DB로부터 id, document, metadata 추출\n",
    "all_ids = all_docs['ids']\n",
    "all_documents = all_docs['documents']\n",
    "all_metadatas = all_docs['metadatas']"
   ]
  },
  {
   "cell_type": "code",
   "execution_count": 36,
   "metadata": {
    "colab": {
     "base_uri": "https://localhost:8080/"
    },
    "id": "48izCALKPArr",
    "outputId": "1a561517-1e8f-4abf-a169-a4495396b914"
   },
   "outputs": [
    {
     "data": {
      "text/plain": [
       "['acb714e2-30bc-4d19-88bf-3c5565bde164',\n",
       " '804481ad-b60b-40dc-9e5c-041a67b74c32']"
      ]
     },
     "execution_count": 36,
     "metadata": {},
     "output_type": "execute_result"
    }
   ],
   "source": [
    "all_ids[:2]"
   ]
  },
  {
   "cell_type": "code",
   "execution_count": 37,
   "metadata": {
    "colab": {
     "base_uri": "https://localhost:8080/"
    },
    "id": "zprSLIO9PCwK",
    "outputId": "a467b5dd-c686-4110-99ef-8e4e1c024883"
   },
   "outputs": [
    {
     "data": {
      "text/plain": [
       "['2\\n01 삼성전자 기업분석\\n(Samsung Electronics Co., Ltd)\\nⅠ 기업 일반 \\n1  기업개요\\n1) 기업소개 \\n본사주소 경기도 수원시 영통구 삼성로 129(매탄동 416)\\n사업분야 삼성그룹의 대표 기업으로 휴대폰, 정보통신기기, 반도체, TV 등을 생산 판매하는 제조업체\\n홈페이지 www.samsung.com/sec 구분 전기전자 대기업  \\n설립일 1961년 07월 01일 대표이사 권오현 \\n총자산1) 244조 매출액2) 200조\\n임직원수 95,374명 \\n∙ 1975년 1월 주식시장 상장\\n∙ 1984년 2월 삼성전자공업주식회사->삼성전자주식회사로 사명 변경 \\n∙ CE(Consumer Electronics), IM(Information technology & Mobile communications), DS(Device Solutions) \\n3개의 부문으로 나누어 독립 경영.\\n부문 제품\\nCE TV, 모니터, 냉장고, 세탁기, 에어컨, 프린터, 의료기기 등',\n",
       " 'IM HHP, 네트워크시스템, 컴퓨터, 디지털카메라 등\\nDS DRAM, NAND Flash, 모바일AP, LCD패널, OLED패널, LED 등 \\n∙ 주요 사업은 전자전지기계 등 제조, 전자통신기 등 제도, 컴퓨터 등 제조, 반도체 제조·조립 등. 주요 \\n제품과 구성비율은 HHP, 네트워크시스템, 컴퓨터, 디지털카메라 등 54%, TV, 모니터, 냉장고, 세탁기, \\n에어컨 등 2 4 % ,  D R A M ,  N A N D  F l a s h ,  모바일 AP 등 19% 등으로 구분 \\n∙ 지역별로는 본사를 거점으로 한국 및 CE, IM 부문 산하 해외 9개 지역총괄과 DS 부문 산하 해외 5개 \\n지역총괄의 생산ㆍ판매법인 등 165개의 동종업종을 영위하는 종속기업으로 구성\\n∙ 국내사업장 : 수원, 구미, 기흥, 화성, 온양, 광주\\n∙ 해외사업장 : 86개국 220개지점 (15년 말 기준)\\n1) 연결재무재표 기준\\n2) 연결재무재표 기준']"
      ]
     },
     "execution_count": 37,
     "metadata": {},
     "output_type": "execute_result"
    }
   ],
   "source": [
    "all_documents[:2]"
   ]
  },
  {
   "cell_type": "code",
   "execution_count": 38,
   "metadata": {
    "colab": {
     "base_uri": "https://localhost:8080/"
    },
    "id": "bn17NvmSPHXJ",
    "outputId": "17c461b5-4f87-479e-9ece-36e067be553c"
   },
   "outputs": [
    {
     "data": {
      "text/plain": [
       "[{'creationdate': '2017-08-16T00:21:02-08:00',\n",
       "  'creator': 'nPDF (pdftk 1.41)',\n",
       "  'moddate': '2017-08-16T00:21:02-08:00',\n",
       "  'page': 0,\n",
       "  'page_label': '1',\n",
       "  'producer': 'itext-paulo-155 (itextpdf.sf.net-lowagie.com)',\n",
       "  'source': 'https://wdr.ubion.co.kr/wowpass/img/event/gsat_170823/gsat_170823.pdf',\n",
       "  'total_pages': 27},\n",
       " {'creationdate': '2017-08-16T00:21:02-08:00',\n",
       "  'creator': 'nPDF (pdftk 1.41)',\n",
       "  'moddate': '2017-08-16T00:21:02-08:00',\n",
       "  'page': 0,\n",
       "  'page_label': '1',\n",
       "  'producer': 'itext-paulo-155 (itextpdf.sf.net-lowagie.com)',\n",
       "  'source': 'https://wdr.ubion.co.kr/wowpass/img/event/gsat_170823/gsat_170823.pdf',\n",
       "  'total_pages': 27}]"
      ]
     },
     "execution_count": 38,
     "metadata": {},
     "output_type": "execute_result"
    }
   ],
   "source": [
    "all_metadatas[:2]"
   ]
  },
  {
   "cell_type": "code",
   "execution_count": 39,
   "metadata": {
    "colab": {
     "base_uri": "https://localhost:8080/"
    },
    "id": "Zw66zF5ncS5g",
    "outputId": "802aec24-b408-49b9-a49b-bcc866ecc4d4"
   },
   "outputs": [
    {
     "name": "stdout",
     "output_type": "stream",
     "text": [
      "id 2개 출력\n",
      "['acb714e2-30bc-4d19-88bf-3c5565bde164', '804481ad-b60b-40dc-9e5c-041a67b74c32']\n",
      "----------------------------------------------------------------------------------------------------\n",
      "documents 2개 출력\n",
      "['2\\n01 삼성전자 기업분석\\n(Samsung Electronics Co., Ltd)\\nⅠ 기업 일반 \\n1  기업개요\\n1) 기업소개 \\n본사주소 경기도 수원시 영통구 삼성로 129(매탄동 416)\\n사업분야 삼성그룹의 대표 기업으로 휴대폰, 정보통신기기, 반도체, TV 등을 생산 판매하는 제조업체\\n홈페이지 www.samsung.com/sec 구분 전기전자 대기업  \\n설립일 1961년 07월 01일 대표이사 권오현 \\n총자산1) 244조 매출액2) 200조\\n임직원수 95,374명 \\n∙ 1975년 1월 주식시장 상장\\n∙ 1984년 2월 삼성전자공업주식회사->삼성전자주식회사로 사명 변경 \\n∙ CE(Consumer Electronics), IM(Information technology & Mobile communications), DS(Device Solutions) \\n3개의 부문으로 나누어 독립 경영.\\n부문 제품\\nCE TV, 모니터, 냉장고, 세탁기, 에어컨, 프린터, 의료기기 등', 'IM HHP, 네트워크시스템, 컴퓨터, 디지털카메라 등\\nDS DRAM, NAND Flash, 모바일AP, LCD패널, OLED패널, LED 등 \\n∙ 주요 사업은 전자전지기계 등 제조, 전자통신기 등 제도, 컴퓨터 등 제조, 반도체 제조·조립 등. 주요 \\n제품과 구성비율은 HHP, 네트워크시스템, 컴퓨터, 디지털카메라 등 54%, TV, 모니터, 냉장고, 세탁기, \\n에어컨 등 2 4 % ,  D R A M ,  N A N D  F l a s h ,  모바일 AP 등 19% 등으로 구분 \\n∙ 지역별로는 본사를 거점으로 한국 및 CE, IM 부문 산하 해외 9개 지역총괄과 DS 부문 산하 해외 5개 \\n지역총괄의 생산ㆍ판매법인 등 165개의 동종업종을 영위하는 종속기업으로 구성\\n∙ 국내사업장 : 수원, 구미, 기흥, 화성, 온양, 광주\\n∙ 해외사업장 : 86개국 220개지점 (15년 말 기준)\\n1) 연결재무재표 기준\\n2) 연결재무재표 기준']\n",
      "----------------------------------------------------------------------------------------------------\n",
      "metadata 2개 출력\n",
      "[{'creationdate': '2017-08-16T00:21:02-08:00', 'creator': 'nPDF (pdftk 1.41)', 'moddate': '2017-08-16T00:21:02-08:00', 'page': 0, 'page_label': '1', 'producer': 'itext-paulo-155 (itextpdf.sf.net-lowagie.com)', 'source': 'https://wdr.ubion.co.kr/wowpass/img/event/gsat_170823/gsat_170823.pdf', 'total_pages': 27}, {'creationdate': '2017-08-16T00:21:02-08:00', 'creator': 'nPDF (pdftk 1.41)', 'moddate': '2017-08-16T00:21:02-08:00', 'page': 0, 'page_label': '1', 'producer': 'itext-paulo-155 (itextpdf.sf.net-lowagie.com)', 'source': 'https://wdr.ubion.co.kr/wowpass/img/event/gsat_170823/gsat_170823.pdf', 'total_pages': 27}]\n",
      "----------------------------------------------------------------------------------------------------\n"
     ]
    }
   ],
   "source": [
    "print('id 2개 출력')\n",
    "print(all_ids[:2])\n",
    "print('--' * 50)\n",
    "print('documents 2개 출력')\n",
    "print(all_documents[:2])\n",
    "print('--' * 50)\n",
    "print('metadata 2개 출력')\n",
    "print(all_metadatas[:2])\n",
    "print('--' * 50)"
   ]
  },
  {
   "cell_type": "markdown",
   "metadata": {
    "id": "iIiJ1xNNb8zX"
   },
   "source": [
    "### 삭제하고자 하는 문서의 ID를 찾아낸다."
   ]
  },
  {
   "cell_type": "code",
   "execution_count": 47,
   "metadata": {
    "colab": {
     "base_uri": "https://localhost:8080/"
    },
    "id": "iDW9iAhTb5EU",
    "outputId": "00dab352-a420-4a32-bf1c-ec9bb345221b"
   },
   "outputs": [
    {
     "name": "stdout",
     "output_type": "stream",
     "text": [
      "찾은 문서 ID: 3c9d4739-455c-41cb-a54e-4f1bd8134841\n"
     ]
    }
   ],
   "source": [
    "# 검색 결과와 일치하는 문서 찾기\n",
    "\n",
    "# all_documents에 대해서 내가 지우고자 하는 문서인 docs[0]의 내용이랑 일치하는 문서를 일단 찾는다.\n",
    "# 해당 문서가 몇번째 인지를 찾아내면 그 몇번째인지로부터 id값이 뭔지를 알 수 있다.\n",
    "for i, doc_content in enumerate(all_documents):\n",
    "    if docs[0].page_content in doc_content:  # 문서 내용으로 비교\n",
    "        doc_id = all_ids[i]\n",
    "print(f\"찾은 문서 ID: {doc_id}\")"
   ]
  },
  {
   "cell_type": "code",
   "execution_count": 48,
   "metadata": {
    "colab": {
     "base_uri": "https://localhost:8080/"
    },
    "id": "-eTomhFxcg85",
    "outputId": "151d232b-6600-48d0-be75-78b04a3e4a0e"
   },
   "outputs": [
    {
     "name": "stdout",
     "output_type": "stream",
     "text": [
      "삭제 전 문서 수: 69\n",
      "삭제 후 문서 수: 68\n"
     ]
    }
   ],
   "source": [
    "# 삭제 전 문서 수\n",
    "print(\"삭제 전 문서 수:\", db._collection.count())\n",
    "\n",
    "# 7번 ID의 문서 삭제\n",
    "db._collection.delete(ids=[doc_id])\n",
    "\n",
    "# 삭제 후 문서 수\n",
    "print(\"삭제 후 문서 수:\", db._collection.count())"
   ]
  },
  {
   "cell_type": "markdown",
   "metadata": {
    "id": "47cD2xvIWCSj"
   },
   "source": [
    "## 2. 파이스(Faiss)"
   ]
  },
  {
   "cell_type": "code",
   "execution_count": 56,
   "metadata": {
    "colab": {
     "base_uri": "https://localhost:8080/"
    },
    "id": "fkJ_ZEKbG8zy",
    "outputId": "92ad9406-15d3-443d-afd8-07f36df1a78a"
   },
   "outputs": [
    {
     "name": "stderr",
     "output_type": "stream",
     "text": [
      "ERROR: Could not find a version that satisfies the requirement faiss-gpu (from versions: none)\n",
      "ERROR: No matching distribution found for faiss-gpu\n",
      "\n",
      "[notice] A new release of pip is available: 24.0 -> 25.0.1\n",
      "[notice] To update, run: python.exe -m pip install --upgrade pip\n"
     ]
    }
   ],
   "source": [
    "!pip install faiss-gpu"
   ]
  },
  {
   "cell_type": "code",
   "execution_count": 50,
   "metadata": {
    "id": "0iA4TbYDG9XT"
   },
   "outputs": [],
   "source": [
    "from langchain.vectorstores import FAISS"
   ]
  },
  {
   "cell_type": "markdown",
   "metadata": {
    "id": "jVYiZIPgWSJR"
   },
   "source": [
    "다음은 Langchain에서 FAISS를 이용하여 벡터 DB 사용 시에 가장 간단한 사용법입니다."
   ]
  },
  {
   "cell_type": "markdown",
   "metadata": {
    "id": "RVykTV7SWW8w"
   },
   "source": [
    "```python\n",
    "# FAISS 를 통해 벡터 저장소 생성. OpenAIEmbeddings()를 사용하거나 HuggingFaceEmbeddings()를 사용하면 된다.\n",
    "faiss_db = FAISS.from_documents(splited_docs, OpenAIEmbeddings())\n",
    "\n",
    "# 유사도 검색(쿼리)\n",
    "similar_docs = faiss_db.similarity_search(\"사용자의 질문\")\n",
    "```"
   ]
  },
  {
   "cell_type": "code",
   "execution_count": 51,
   "metadata": {
    "id": "z4rSCzdrWaY2"
   },
   "outputs": [],
   "source": [
    "faiss_db = FAISS.from_documents(splited_docs, model_huggingface)\n",
    "question = '삼성전자의 주요 사업영역은?'\n",
    "\n",
    "docs = faiss_db.similarity_search(question)"
   ]
  },
  {
   "cell_type": "code",
   "execution_count": 52,
   "metadata": {
    "colab": {
     "base_uri": "https://localhost:8080/"
    },
    "id": "sevO2CJcWiIu",
    "outputId": "0cb3ee11-e920-4b82-a0cc-1cc9ae846f10"
   },
   "outputs": [
    {
     "data": {
      "text/plain": [
       "4"
      ]
     },
     "execution_count": 52,
     "metadata": {},
     "output_type": "execute_result"
    }
   ],
   "source": [
    "len(docs)"
   ]
  },
  {
   "cell_type": "code",
   "execution_count": 58,
   "metadata": {
    "colab": {
     "base_uri": "https://localhost:8080/"
    },
    "id": "Hnmc0xELXU6c",
    "outputId": "70ad7b15-2f85-4af7-d484-24e333161a34",
    "scrolled": true
   },
   "outputs": [
    {
     "name": "stdout",
     "output_type": "stream",
     "text": [
      "page_content='11\n",
      "Ⅱ 기업 상세 분석\n",
      "1  사업분야(내용)\n",
      "Q1 삼성전자의 대표적 사업분야에 대해 설명할 수 있습니까 ?\n",
      "A\n",
      " 삼성전자는 크게 CE(Consumer Electronics) 사업부문, IM(Information technology & Mobile communica-\n",
      "tion) 사업부문, DS(Device Solutions) 사업부문 등 3개 사업부문으로 나누어 독립 경영을 합니다.\n",
      "⑴ Consumer Electronics (CE) 부문 \n",
      "① 영상디스플레이 : 진화하는 스마트TV, 초대형 프리미엄 TV 전략으로 8년 연속 세계 1위에 \n",
      "도전\n",
      "② 생활가전 : 새로운 기술과 가치 창출로 생활과 문화를 바꾸는 혁신을 준비\n",
      "③ 의료기기 : 정확하고 빠른 진단을 도와주는 새롭고 혁신적인 의료기기를 개발\n",
      "⑵ Information technology & Mobile communication (IM) 부문\n",
      "① 무선 : 인간 중심의 혁신으로 소비자들이 열망하는 새로운 가치와 편의를 지속적으로 제공' metadata={'producer': 'itext-paulo-155 (itextpdf.sf.net-lowagie.com)', 'creator': 'nPDF (pdftk 1.41)', 'creationdate': '2017-08-16T00:21:02-08:00', 'moddate': '2017-08-16T00:21:02-08:00', 'source': 'https://wdr.ubion.co.kr/wowpass/img/event/gsat_170823/gsat_170823.pdf', 'total_pages': 27, 'page': 9, 'page_label': '10'}\n",
      "--------------------------------------------------------------------------------------------------------------------------------------------------------------------------------------------------------\n",
      "page_content='2\n",
      "01 삼성전자 기업분석\n",
      "(Samsung Electronics Co., Ltd)\n",
      "Ⅰ 기업 일반 \n",
      "1  기업개요\n",
      "1) 기업소개 \n",
      "본사주소 경기도 수원시 영통구 삼성로 129(매탄동 416)\n",
      "사업분야 삼성그룹의 대표 기업으로 휴대폰, 정보통신기기, 반도체, TV 등을 생산 판매하는 제조업체\n",
      "홈페이지 www.samsung.com/sec 구분 전기전자 대기업  \n",
      "설립일 1961년 07월 01일 대표이사 권오현 \n",
      "총자산1) 244조 매출액2) 200조\n",
      "임직원수 95,374명 \n",
      "∙ 1975년 1월 주식시장 상장\n",
      "∙ 1984년 2월 삼성전자공업주식회사->삼성전자주식회사로 사명 변경 \n",
      "∙ CE(Consumer Electronics), IM(Information technology & Mobile communications), DS(Device Solutions) \n",
      "3개의 부문으로 나누어 독립 경영.\n",
      "부문 제품\n",
      "CE TV, 모니터, 냉장고, 세탁기, 에어컨, 프린터, 의료기기 등' metadata={'producer': 'itext-paulo-155 (itextpdf.sf.net-lowagie.com)', 'creator': 'nPDF (pdftk 1.41)', 'creationdate': '2017-08-16T00:21:02-08:00', 'moddate': '2017-08-16T00:21:02-08:00', 'source': 'https://wdr.ubion.co.kr/wowpass/img/event/gsat_170823/gsat_170823.pdf', 'total_pages': 27, 'page': 0, 'page_label': '1'}\n",
      "--------------------------------------------------------------------------------------------------------------------------------------------------------------------------------------------------------\n",
      "page_content='12\n",
      "Q2 삼성전자의 Harman사 인수에 대해 어떻게 생각하십니까 ?\n",
      "A\n",
      " 삼성전자가 최근 80억달러(약 9조)에 미국의 전장업체(자동차 전자기기에 대한 사업)인 Harman 사를 \n",
      "인수하기로 결정했습니다. 하만사는 세계적으로 자동차용 인포테인먼트와 텔레매틱스 시장에서 점유\n",
      "율 1~2위를 달리고 있으며 매출도 상당합니다. 이번 삼성전자의 하만 인수는 모바일 및 가전 시장에서 \n",
      "나아가 Connected Car 시장 진입에 진출했다는 것에 큰 의의가 있습니다. 향후 10년 시장 내 Connected \n",
      "Car의 비중은 90%에 육박할 전망입니다. LG전자 역시 자동차부품(VC) 사업 부문에 있어 상당한 경쟁 \n",
      "위협 요인가 될 것으로 내다봤습니다.\n",
      "<관련기사>\n",
      "전장사업 강자 하만과 손잡은 삼성…스마트카 ‘티어1’ 노린다\n",
      "(한국경제. 2016-11-21)\n",
      "삼성전자는 자동차 전장(電裝)사업에서 후발 주자다. 2005년 전장사업을 시작한 LG전자는' metadata={'producer': 'itext-paulo-155 (itextpdf.sf.net-lowagie.com)', 'creator': 'nPDF (pdftk 1.41)', 'creationdate': '2017-08-16T00:21:02-08:00', 'moddate': '2017-08-16T00:21:02-08:00', 'source': 'https://wdr.ubion.co.kr/wowpass/img/event/gsat_170823/gsat_170823.pdf', 'total_pages': 27, 'page': 10, 'page_label': '11'}\n",
      "--------------------------------------------------------------------------------------------------------------------------------------------------------------------------------------------------------\n",
      "page_content='같은 부품뿐만 아니라 TV, 모바일, 가전기기 등 다양한 제품군을 생산하기 때문에 개방형 에코시스\n",
      "템만 잘 구축한다면 IoT 시장에서 충분히 새로운 변화를 주도할 수 있을 것”이라고 강조했습니다. \n",
      "Q4 삼성전자의 시장선도제품과 신성장동력에 대해 설명할 수 있습니까 ?\n",
      "A\n",
      " ① TV\n",
      "∙ 글로벌 TV 시장점유율 10년 연속 1위  (매출기준, 출처: IHS)\n",
      "∙ 2015년 글로벌 UHD TV 시장점유율 1위 (매출기준, 출처: IHS)\n",
      "② Mobile Phone\n",
      "∙ 2015년 휴대폰 시장점유율 1위  (출처 : Strategy Analytics) \n",
      "∙ 2015년 스마트폰 시장점유율 1위  (출처 : Strategy Analytics) \n",
      "∙ 2015년 태블릿 시장점유율 2위  (출처 : Strategy Analytics)\n",
      "③ Memory\n",
      "∙ 글로벌 메모리 시장점유율 연속 1위 (1993년 이래, 출처: IHS)' metadata={'producer': 'itext-paulo-155 (itextpdf.sf.net-lowagie.com)', 'creator': 'nPDF (pdftk 1.41)', 'creationdate': '2017-08-16T00:21:02-08:00', 'moddate': '2017-08-16T00:21:02-08:00', 'source': 'https://wdr.ubion.co.kr/wowpass/img/event/gsat_170823/gsat_170823.pdf', 'total_pages': 27, 'page': 13, 'page_label': '14'}\n",
      "--------------------------------------------------------------------------------------------------------------------------------------------------------------------------------------------------------\n"
     ]
    }
   ],
   "source": [
    "for doc in docs:\n",
    "  print(doc)\n",
    "  print('--' * 100)"
   ]
  },
  {
   "cell_type": "markdown",
   "metadata": {
    "id": "dvmGf8VEYW_Z"
   },
   "source": [
    "You can also save and load a FAISS index. This is useful so you don't have to recreate it everytime you use it.\n",
    "\n"
   ]
  },
  {
   "cell_type": "code",
   "execution_count": 59,
   "metadata": {
    "id": "lyVMrw4LXXdq"
   },
   "outputs": [],
   "source": [
    "# 파일 저장\n",
    "faiss_db.save_local('faiss_index')\n",
    "\n",
    "## 파일 불러오기\n",
    "new_db_faiss = FAISS.load_local('faiss_index', model_huggingface, allow_dangerous_deserialization=True)\n",
    "question = '삼성전자의 주요 사업영역은?'\n",
    "\n",
    "docs = new_db_faiss.similarity_search(question)"
   ]
  },
  {
   "cell_type": "code",
   "execution_count": 60,
   "metadata": {
    "colab": {
     "base_uri": "https://localhost:8080/"
    },
    "id": "D6qbyNOcXjKo",
    "outputId": "fd013246-ed65-4fae-d42e-2523b3f19432",
    "scrolled": true
   },
   "outputs": [
    {
     "name": "stdout",
     "output_type": "stream",
     "text": [
      "page_content='11\n",
      "Ⅱ 기업 상세 분석\n",
      "1  사업분야(내용)\n",
      "Q1 삼성전자의 대표적 사업분야에 대해 설명할 수 있습니까 ?\n",
      "A\n",
      " 삼성전자는 크게 CE(Consumer Electronics) 사업부문, IM(Information technology & Mobile communica-\n",
      "tion) 사업부문, DS(Device Solutions) 사업부문 등 3개 사업부문으로 나누어 독립 경영을 합니다.\n",
      "⑴ Consumer Electronics (CE) 부문 \n",
      "① 영상디스플레이 : 진화하는 스마트TV, 초대형 프리미엄 TV 전략으로 8년 연속 세계 1위에 \n",
      "도전\n",
      "② 생활가전 : 새로운 기술과 가치 창출로 생활과 문화를 바꾸는 혁신을 준비\n",
      "③ 의료기기 : 정확하고 빠른 진단을 도와주는 새롭고 혁신적인 의료기기를 개발\n",
      "⑵ Information technology & Mobile communication (IM) 부문\n",
      "① 무선 : 인간 중심의 혁신으로 소비자들이 열망하는 새로운 가치와 편의를 지속적으로 제공' metadata={'producer': 'itext-paulo-155 (itextpdf.sf.net-lowagie.com)', 'creator': 'nPDF (pdftk 1.41)', 'creationdate': '2017-08-16T00:21:02-08:00', 'moddate': '2017-08-16T00:21:02-08:00', 'source': 'https://wdr.ubion.co.kr/wowpass/img/event/gsat_170823/gsat_170823.pdf', 'total_pages': 27, 'page': 9, 'page_label': '10'}\n",
      "--------------------------------------------------------------------------------------------------------------------------------------------------------------------------------------------------------\n",
      "page_content='2\n",
      "01 삼성전자 기업분석\n",
      "(Samsung Electronics Co., Ltd)\n",
      "Ⅰ 기업 일반 \n",
      "1  기업개요\n",
      "1) 기업소개 \n",
      "본사주소 경기도 수원시 영통구 삼성로 129(매탄동 416)\n",
      "사업분야 삼성그룹의 대표 기업으로 휴대폰, 정보통신기기, 반도체, TV 등을 생산 판매하는 제조업체\n",
      "홈페이지 www.samsung.com/sec 구분 전기전자 대기업  \n",
      "설립일 1961년 07월 01일 대표이사 권오현 \n",
      "총자산1) 244조 매출액2) 200조\n",
      "임직원수 95,374명 \n",
      "∙ 1975년 1월 주식시장 상장\n",
      "∙ 1984년 2월 삼성전자공업주식회사->삼성전자주식회사로 사명 변경 \n",
      "∙ CE(Consumer Electronics), IM(Information technology & Mobile communications), DS(Device Solutions) \n",
      "3개의 부문으로 나누어 독립 경영.\n",
      "부문 제품\n",
      "CE TV, 모니터, 냉장고, 세탁기, 에어컨, 프린터, 의료기기 등' metadata={'producer': 'itext-paulo-155 (itextpdf.sf.net-lowagie.com)', 'creator': 'nPDF (pdftk 1.41)', 'creationdate': '2017-08-16T00:21:02-08:00', 'moddate': '2017-08-16T00:21:02-08:00', 'source': 'https://wdr.ubion.co.kr/wowpass/img/event/gsat_170823/gsat_170823.pdf', 'total_pages': 27, 'page': 0, 'page_label': '1'}\n",
      "--------------------------------------------------------------------------------------------------------------------------------------------------------------------------------------------------------\n",
      "page_content='12\n",
      "Q2 삼성전자의 Harman사 인수에 대해 어떻게 생각하십니까 ?\n",
      "A\n",
      " 삼성전자가 최근 80억달러(약 9조)에 미국의 전장업체(자동차 전자기기에 대한 사업)인 Harman 사를 \n",
      "인수하기로 결정했습니다. 하만사는 세계적으로 자동차용 인포테인먼트와 텔레매틱스 시장에서 점유\n",
      "율 1~2위를 달리고 있으며 매출도 상당합니다. 이번 삼성전자의 하만 인수는 모바일 및 가전 시장에서 \n",
      "나아가 Connected Car 시장 진입에 진출했다는 것에 큰 의의가 있습니다. 향후 10년 시장 내 Connected \n",
      "Car의 비중은 90%에 육박할 전망입니다. LG전자 역시 자동차부품(VC) 사업 부문에 있어 상당한 경쟁 \n",
      "위협 요인가 될 것으로 내다봤습니다.\n",
      "<관련기사>\n",
      "전장사업 강자 하만과 손잡은 삼성…스마트카 ‘티어1’ 노린다\n",
      "(한국경제. 2016-11-21)\n",
      "삼성전자는 자동차 전장(電裝)사업에서 후발 주자다. 2005년 전장사업을 시작한 LG전자는' metadata={'producer': 'itext-paulo-155 (itextpdf.sf.net-lowagie.com)', 'creator': 'nPDF (pdftk 1.41)', 'creationdate': '2017-08-16T00:21:02-08:00', 'moddate': '2017-08-16T00:21:02-08:00', 'source': 'https://wdr.ubion.co.kr/wowpass/img/event/gsat_170823/gsat_170823.pdf', 'total_pages': 27, 'page': 10, 'page_label': '11'}\n",
      "--------------------------------------------------------------------------------------------------------------------------------------------------------------------------------------------------------\n",
      "page_content='같은 부품뿐만 아니라 TV, 모바일, 가전기기 등 다양한 제품군을 생산하기 때문에 개방형 에코시스\n",
      "템만 잘 구축한다면 IoT 시장에서 충분히 새로운 변화를 주도할 수 있을 것”이라고 강조했습니다. \n",
      "Q4 삼성전자의 시장선도제품과 신성장동력에 대해 설명할 수 있습니까 ?\n",
      "A\n",
      " ① TV\n",
      "∙ 글로벌 TV 시장점유율 10년 연속 1위  (매출기준, 출처: IHS)\n",
      "∙ 2015년 글로벌 UHD TV 시장점유율 1위 (매출기준, 출처: IHS)\n",
      "② Mobile Phone\n",
      "∙ 2015년 휴대폰 시장점유율 1위  (출처 : Strategy Analytics) \n",
      "∙ 2015년 스마트폰 시장점유율 1위  (출처 : Strategy Analytics) \n",
      "∙ 2015년 태블릿 시장점유율 2위  (출처 : Strategy Analytics)\n",
      "③ Memory\n",
      "∙ 글로벌 메모리 시장점유율 연속 1위 (1993년 이래, 출처: IHS)' metadata={'producer': 'itext-paulo-155 (itextpdf.sf.net-lowagie.com)', 'creator': 'nPDF (pdftk 1.41)', 'creationdate': '2017-08-16T00:21:02-08:00', 'moddate': '2017-08-16T00:21:02-08:00', 'source': 'https://wdr.ubion.co.kr/wowpass/img/event/gsat_170823/gsat_170823.pdf', 'total_pages': 27, 'page': 13, 'page_label': '14'}\n",
      "--------------------------------------------------------------------------------------------------------------------------------------------------------------------------------------------------------\n"
     ]
    }
   ],
   "source": [
    "for doc in docs:\n",
    "  print(doc)\n",
    "  print('--' * 100)"
   ]
  },
  {
   "cell_type": "code",
   "execution_count": 61,
   "metadata": {
    "colab": {
     "base_uri": "https://localhost:8080/"
    },
    "id": "_WVPx2eTZE5T",
    "outputId": "29d89535-1bea-47c7-f48a-ba67e4a04db7"
   },
   "outputs": [
    {
     "name": "stdout",
     "output_type": "stream",
     "text": [
      "저장된 문서 개수: 69\n"
     ]
    }
   ],
   "source": [
    "print('저장된 문서 개수:', faiss_db.index.ntotal)"
   ]
  },
  {
   "cell_type": "code",
   "execution_count": 62,
   "metadata": {
    "colab": {
     "base_uri": "https://localhost:8080/"
    },
    "id": "NM4dyPbjZHLU",
    "outputId": "7b4da074-a472-428b-9f9a-4fc0f704b2ef"
   },
   "outputs": [
    {
     "data": {
      "text/plain": [
       "{'dcc6362d-7f35-4752-ab8d-05c39db4a7f2': Document(id='dcc6362d-7f35-4752-ab8d-05c39db4a7f2', metadata={'producer': 'itext-paulo-155 (itextpdf.sf.net-lowagie.com)', 'creator': 'nPDF (pdftk 1.41)', 'creationdate': '2017-08-16T00:21:02-08:00', 'moddate': '2017-08-16T00:21:02-08:00', 'source': 'https://wdr.ubion.co.kr/wowpass/img/event/gsat_170823/gsat_170823.pdf', 'total_pages': 27, 'page': 0, 'page_label': '1'}, page_content='2\\n01 삼성전자 기업분석\\n(Samsung Electronics Co., Ltd)\\nⅠ 기업 일반 \\n1  기업개요\\n1) 기업소개 \\n본사주소 경기도 수원시 영통구 삼성로 129(매탄동 416)\\n사업분야 삼성그룹의 대표 기업으로 휴대폰, 정보통신기기, 반도체, TV 등을 생산 판매하는 제조업체\\n홈페이지 www.samsung.com/sec 구분 전기전자 대기업  \\n설립일 1961년 07월 01일 대표이사 권오현 \\n총자산1) 244조 매출액2) 200조\\n임직원수 95,374명 \\n∙ 1975년 1월 주식시장 상장\\n∙ 1984년 2월 삼성전자공업주식회사->삼성전자주식회사로 사명 변경 \\n∙ CE(Consumer Electronics), IM(Information technology & Mobile communications), DS(Device Solutions) \\n3개의 부문으로 나누어 독립 경영.\\n부문 제품\\nCE TV, 모니터, 냉장고, 세탁기, 에어컨, 프린터, 의료기기 등'),\n",
       " 'a3e7f7a6-5e58-4b29-b959-6ec62afd029d': Document(id='a3e7f7a6-5e58-4b29-b959-6ec62afd029d', metadata={'producer': 'itext-paulo-155 (itextpdf.sf.net-lowagie.com)', 'creator': 'nPDF (pdftk 1.41)', 'creationdate': '2017-08-16T00:21:02-08:00', 'moddate': '2017-08-16T00:21:02-08:00', 'source': 'https://wdr.ubion.co.kr/wowpass/img/event/gsat_170823/gsat_170823.pdf', 'total_pages': 27, 'page': 0, 'page_label': '1'}, page_content='IM HHP, 네트워크시스템, 컴퓨터, 디지털카메라 등\\nDS DRAM, NAND Flash, 모바일AP, LCD패널, OLED패널, LED 등 \\n∙ 주요 사업은 전자전지기계 등 제조, 전자통신기 등 제도, 컴퓨터 등 제조, 반도체 제조·조립 등. 주요 \\n제품과 구성비율은 HHP, 네트워크시스템, 컴퓨터, 디지털카메라 등 54%, TV, 모니터, 냉장고, 세탁기, \\n에어컨 등 2 4 % ,  D R A M ,  N A N D  F l a s h ,  모바일 AP 등 19% 등으로 구분 \\n∙ 지역별로는 본사를 거점으로 한국 및 CE, IM 부문 산하 해외 9개 지역총괄과 DS 부문 산하 해외 5개 \\n지역총괄의 생산ㆍ판매법인 등 165개의 동종업종을 영위하는 종속기업으로 구성\\n∙ 국내사업장 : 수원, 구미, 기흥, 화성, 온양, 광주\\n∙ 해외사업장 : 86개국 220개지점 (15년 말 기준)\\n1) 연결재무재표 기준\\n2) 연결재무재표 기준'),\n",
       " '7f23bbb3-d6db-4940-8665-b6d425f43152': Document(id='7f23bbb3-d6db-4940-8665-b6d425f43152', metadata={'producer': 'itext-paulo-155 (itextpdf.sf.net-lowagie.com)', 'creator': 'nPDF (pdftk 1.41)', 'creationdate': '2017-08-16T00:21:02-08:00', 'moddate': '2017-08-16T00:21:02-08:00', 'source': 'https://wdr.ubion.co.kr/wowpass/img/event/gsat_170823/gsat_170823.pdf', 'total_pages': 27, 'page': 1, 'page_label': '2'}, page_content='3\\n2) 주요 사업 분야 \\n⑴ CE(Consumer Electronics)부문 \\n① 산업의 특성 \\n∙TV산업은 1926년 흑백 TV 개발, 1954년 RCA사가 Color TV(21\") 양산/판매를 시작한 이래로 트리니트\\n론 브라운관(1967년), 완전평면 브라운관(1996년) 개발 등 기술적인 발전을 거듭\\n∙ 주요 국가 보급률이 90% 넘어서면서 브라운관 TV사업의 성장은 정체 \\n∙ 그러나 하드웨어 측면에서의 Flat Panel TV(LCD, PDP) 출시, 소프트웨어 측면에서의 디지털 방송 \\n확산(영/미 1998년~ )을 통해 TV 시장은 또 다시 강력한 성장 모멘텀을 되찾음 \\n∙FPTV는 화질, 디자인 등 제품 성능의 향상과 지속적인 Set가격 하락으로 인해 성장을 지속하며 기존 \\nCRT 시장을 빠르게 대체\\n∙ 2010년 3D TV출시\\n∙ 2011년~2012년 스마트TV 태동 \\n∙ 2013년 UHD TV 출시 \\n∙ 2014년 Curved TV 출시'),\n",
       " 'e9181471-7858-4480-bfa0-0ec87f95fdf7': Document(id='e9181471-7858-4480-bfa0-0ec87f95fdf7', metadata={'producer': 'itext-paulo-155 (itextpdf.sf.net-lowagie.com)', 'creator': 'nPDF (pdftk 1.41)', 'creationdate': '2017-08-16T00:21:02-08:00', 'moddate': '2017-08-16T00:21:02-08:00', 'source': 'https://wdr.ubion.co.kr/wowpass/img/event/gsat_170823/gsat_170823.pdf', 'total_pages': 27, 'page': 1, 'page_label': '2'}, page_content='∙2016년도 전체 TV 수요는 전년비 1.6% 하락한 2억 2,252만대로 제품별로는 LCD-TV(LED-TV포함)가 \\n전년비 1.3% 하락한 2억 2,131만대 전망되나, 고해상도 Needs확대에 따라 UHD TV는 56백만대로 \\n전년比 75% 성장할 것으로 예상(출처 : 2016.9월 IHS Report)\\n② 국내외 시장연건 \\n∙ TV시장의 Mega Trend인 대형화/고화질화가 Device간, 업체간 경쟁 격화에 따라 더욱 빠른 속도로 \\n진행되고 있으며, 이에 따라 제품력과 브랜드파워를 앞세운 Major 업체의 강세가 지속\\n∙ 고화질 및 슬림 제품에 대한 소비자 Needs가 높아짐에 따라 친환경 소재인 LED BLU(Back Light \\nUnit)를 적용하여 TV의 밝기와 명암비를 높이고 소비전력을 낮춘 LED TV가 시장의 Main Stream으로 \\n자리 잡음\\n∙ 2010년에는 다양한 App을 이용할 수있는 스마트 TV를 출시하고 시장을 주도'),\n",
       " 'd15a2b8f-aafa-4abe-bbb2-7dd39ef5b57b': Document(id='d15a2b8f-aafa-4abe-bbb2-7dd39ef5b57b', metadata={'producer': 'itext-paulo-155 (itextpdf.sf.net-lowagie.com)', 'creator': 'nPDF (pdftk 1.41)', 'creationdate': '2017-08-16T00:21:02-08:00', 'moddate': '2017-08-16T00:21:02-08:00', 'source': 'https://wdr.ubion.co.kr/wowpass/img/event/gsat_170823/gsat_170823.pdf', 'total_pages': 27, 'page': 1, 'page_label': '2'}, page_content='∙2012년에는 소비자의 사용편의 혁신을 위해 음성/제스처 기반의 신개념 입력방식(Smart Interaction)\\n을 도입하여 향후 TV 시장 트렌드 리드\\n∙ 2013년에는 사용자의 사용이력을 기반으로 하여 방송 프로그램을 추천해주는 시스템을 도입\\n∙2014년에는 비디오 시청 경험 극대화를 스마트 TV 지향점으로 지정하고 사용성 혁신, 다양한 비디오 \\n컨텐츠 확보, 플랫폼 성능 강화 등을 추진\\n∙ 방송, OTT VOD 서비스, 클라우드 게임 등을 가장 쉽게 사용할 수 있도록 스마트 UX 혁신\\n∙2016년 스마트 TV는 연결된 기기를 자동으로 인식할 뿐만 아니라 하나의 리모컨으로 방송 셋탑박스, \\n블루레이 플레이어 및 주변기기를 컨트롤하고 보다 다양해진 엔터테인먼트 소스를 가장 편리하게 \\n이용할 수 있도록 함 \\nCE 부문 주요제품 시장점유율 추이\\n제 품 2016년 3분기 2015년 2014년\\nTV 21.6% 21.0% 22.6%'),\n",
       " '68e477fc-c154-4d1b-8b12-5a23d22ff272': Document(id='68e477fc-c154-4d1b-8b12-5a23d22ff272', metadata={'producer': 'itext-paulo-155 (itextpdf.sf.net-lowagie.com)', 'creator': 'nPDF (pdftk 1.41)', 'creationdate': '2017-08-16T00:21:02-08:00', 'moddate': '2017-08-16T00:21:02-08:00', 'source': 'https://wdr.ubion.co.kr/wowpass/img/event/gsat_170823/gsat_170823.pdf', 'total_pages': 27, 'page': 2, 'page_label': '3'}, page_content='4\\n③ 영업개황 \\n∙ 2006년이후 2015년까지 10년 연속으로 TV 전체, FPTV, LCD-TV 세계 1위등 Triple Crown을 지속 \\n달성\\n∙ 특히 2009년에는 세계 최초로 LED TV(LED BLU, 초슬림/초경량화, 친환경)라는 신규 카테고리를 \\n창출\\n∙2010년 1분기에 세계 최초로 3D TV/BDP/안경/BD Title을 동시에 제공하는 3D Total Solution을 출시\\n하여 압도적인 경쟁력 우위로 3D TV 시장을 선점\\n∙2010년에 세계 최초 TV용 App Store ‘Samsung Apps’를 런칭한 이후 2011년에는 “Your Video”, “Social \\nT V ”, “S e arch  A ll”, “W e b  B ro w se r” 등 다양한 서비스를 지속 추가하여 “스마트 TV = SAMSUNG”이라는 \\n이미지를 확립\\n⑵ IM(Information technology & Mobile communications)부문 \\n① 산업의 특성'),\n",
       " '21e3d2a7-733e-4d20-9e28-435a1c7e51df': Document(id='21e3d2a7-733e-4d20-9e28-435a1c7e51df', metadata={'producer': 'itext-paulo-155 (itextpdf.sf.net-lowagie.com)', 'creator': 'nPDF (pdftk 1.41)', 'creationdate': '2017-08-16T00:21:02-08:00', 'moddate': '2017-08-16T00:21:02-08:00', 'source': 'https://wdr.ubion.co.kr/wowpass/img/event/gsat_170823/gsat_170823.pdf', 'total_pages': 27, 'page': 2, 'page_label': '3'}, page_content='∙휴대폰은 2015년 전세계 보급율이 75% 수준이었으며, 2016년에는 보급율 76%에 이를 것으로 전망(출\\n처: 2016.10월 Strategy Analytics)\\n∙휴대폰 산업은 1980년대 초 1세대 아날로그 방식으로 시작하여 2세대 디지털 방식을거쳐, WCDMA와 \\n같은 3세대 이동통신이 보편화되었으며, 대용량 데이터의 초고속 전송이 가능한 4세대 LTE 서비스로 \\n이동 중 \\n∙ 스마트폰 중심으로의 시장 변화에 따라, 고성능 AP, AMOLED Display, 고화질 카메라, 센서와 같은 \\nHardware 뿐만 아니라 컨텐츠/서비스, Application, UX 등 Software 경쟁력의 중요성이 더욱 부각 됨\\n② 국내외 시장연건\\n∙ 스마트폰 시장규모는 2015년 14.4억대에서 2016년에는 약 2% 성장하여 14.7억대 수준\\n∙태블릿 시장규모는 2015년 2.2억대에서 2016년 2.1억대 수준으로 전년比 약 7%의 역성장이 전망(출'),\n",
       " '27f2fdb3-2506-47f7-a990-34911f0c1bc0': Document(id='27f2fdb3-2506-47f7-a990-34911f0c1bc0', metadata={'producer': 'itext-paulo-155 (itextpdf.sf.net-lowagie.com)', 'creator': 'nPDF (pdftk 1.41)', 'creationdate': '2017-08-16T00:21:02-08:00', 'moddate': '2017-08-16T00:21:02-08:00', 'source': 'https://wdr.ubion.co.kr/wowpass/img/event/gsat_170823/gsat_170823.pdf', 'total_pages': 27, 'page': 2, 'page_label': '3'}, page_content='처: Strategy Analytics - 스마트폰 16.9월, 태블릿 16.8월) \\nIM 부문 주요제품 시장점유율 추이\\n제 품 2016년 3분기 2015년 2014년\\nHHP(handheld player) 19.5% 20.7% 22.4%\\n③ 영업개황 \\n∙ 스마트폰은 Premium에서 보급형까지 다양하고 경쟁력 있는 라인업을 바탕으로 글로벌 1위 위상 \\n지속 \\n∙Flexible Display와 같은 새로운 폼팩터 및 차별화된 디자인/UX로 Premium 시장 리더십을 더욱 확고\\n히 하고, 보급형 시장도 적극적으로 대응하여 시장 지배력을 높여 나갈 계획 \\n∙ Gear S2,Gear VR과 같은 웨어러블 및 단말 사용성과 편의성을 더욱 높여주는 Accessory 제품으로 \\n고객의 다양한 요구에 적극적으로 대응\\n∙ Samsung Pay와 같은 Mobile Payment 분야와 Cloud, Mobile B2B 시장 등 미래 성장에 대비한 투자 \\n지속 예정'),\n",
       " 'b05a7aa6-cae6-431a-80f5-d8eeb1f598e8': Document(id='b05a7aa6-cae6-431a-80f5-d8eeb1f598e8', metadata={'producer': 'itext-paulo-155 (itextpdf.sf.net-lowagie.com)', 'creator': 'nPDF (pdftk 1.41)', 'creationdate': '2017-08-16T00:21:02-08:00', 'moddate': '2017-08-16T00:21:02-08:00', 'source': 'https://wdr.ubion.co.kr/wowpass/img/event/gsat_170823/gsat_170823.pdf', 'total_pages': 27, 'page': 3, 'page_label': '4'}, page_content='5\\n⑶ DS(Device Solutions)부문 \\n① 산업의 특성 \\n∙반도체는 일반적으로 정보를 저장하고 기억하는 메모리 반도체와 연산과 추론 등 논리적인 정보처리 \\n기능을 하는 System LSI(비메모리 반도체)로 구분\\n∙메모리반도체는 크게 읽고(Read) 쓸 수(Write)있는 램(RAM)제품과 읽기만 할 수 있는 롬(ROM)제품으\\n로 구분\\n∙램(RAM)은 전원이 꺼지면 기억된 내용은 지워져 휘발성메모리(Volatile Memory)라고 하며, 컴퓨터의 \\n주기억장치, 응용프로그램의 일시적 로딩(Loading), 데이터의 일시적 저장 등에 사용\\n∙ System LSI 제품은 응용처 등에 따라 종류가 다양하며 가장 규모가 큰 것이 PC 및 모바일 기기, \\nServer 등의 중앙처리장치인 CPU(Central Processing Unit)이고, 가전, 네트웍, 게임 등 다양한 분야에 \\n적용 \\n∙ 반도체 시장은 서버 등 정보 저장 기기의 고용량화로 메모리 시장의 지속적인 성장 예상'),\n",
       " 'd1f7fc4b-c06d-41c4-9c68-df67f9cb8fa0': Document(id='d1f7fc4b-c06d-41c4-9c68-df67f9cb8fa0', metadata={'producer': 'itext-paulo-155 (itextpdf.sf.net-lowagie.com)', 'creator': 'nPDF (pdftk 1.41)', 'creationdate': '2017-08-16T00:21:02-08:00', 'moddate': '2017-08-16T00:21:02-08:00', 'source': 'https://wdr.ubion.co.kr/wowpass/img/event/gsat_170823/gsat_170823.pdf', 'total_pages': 27, 'page': 3, 'page_label': '4'}, page_content='∙사물인터넷(IoT), Automotive 등 신규 시장이 창출되어 향후 수요가 급속히 증가할 것으로 예상되며, \\n수요 기반 또한 다변화되어 수급의 변동은 과거 대비 감소할 것으로 전망 \\n② 국내외 시장연건\\n∙ DRAM은 공급초과 상황에서 모바일 분야의 신제품 수요 증가 및 공급 업체의 선단공정 확대 지연 \\n등으로 인해 차츰 공급부족 상황으로 전환될 것으로 예상\\n∙ NAND는 SSD 채용 확대, 신규 모바일 기기의 NAND 탑재량 증가 등으로 수요가 지속 증가하고 \\n있으나, 공급 업계의 Planar NAND 추가 공정 개발의 한계 및 경쟁사의 Vertical NAND 확산이 지연되\\n고 있어 Chip 공급 부족이 지속될 전망\\n반도체 사업부문 주요제품 시장점유율 추이\\n제 품 2016년 3분기 2015년 2014년\\nDRAM 45.6% 45.3% 39.6%\\n         ※ 출처 : DRAMeXchange\\n③ 영업개황'),\n",
       " 'ba7e4917-f6d9-41e2-9738-93a0e060da0f': Document(id='ba7e4917-f6d9-41e2-9738-93a0e060da0f', metadata={'producer': 'itext-paulo-155 (itextpdf.sf.net-lowagie.com)', 'creator': 'nPDF (pdftk 1.41)', 'creationdate': '2017-08-16T00:21:02-08:00', 'moddate': '2017-08-16T00:21:02-08:00', 'source': 'https://wdr.ubion.co.kr/wowpass/img/event/gsat_170823/gsat_170823.pdf', 'total_pages': 27, 'page': 3, 'page_label': '4'}, page_content='∙ 2016년 초 10나노급 DRAM을 세계 최초로 개발했으며, 경쟁사 대비 1년 이상앞선 경쟁력을 확보\\n∙10나노급 차별화 제품의 추가 개발 및 차세대 DRAM 개발에 박차를 가하는 등 DRAM 시장의 절대적 \\n위상 확립 \\n∙ NAND의 경우 Planar 타입과 Vertical 타입을 동시에 양산하는 등 고객이 원하는 모든 제품을 적기 \\n대응\\n∙2016년은 모바일 기기의 성장이 지속될 것으로 예상됨에 따라, 선단공정을 기반으로 한 차별화 제품 \\n확대 및 다양한 제품 라인업을 이용한 응용처별 최적 대응을 통해 메모리 1위 업체로서 시장선도'),\n",
       " '948543c0-1b2b-491b-ab2d-13f927edaa58': Document(id='948543c0-1b2b-491b-ab2d-13f927edaa58', metadata={'producer': 'itext-paulo-155 (itextpdf.sf.net-lowagie.com)', 'creator': 'nPDF (pdftk 1.41)', 'creationdate': '2017-08-16T00:21:02-08:00', 'moddate': '2017-08-16T00:21:02-08:00', 'source': 'https://wdr.ubion.co.kr/wowpass/img/event/gsat_170823/gsat_170823.pdf', 'total_pages': 27, 'page': 4, 'page_label': '5'}, page_content='6\\n[참고] 부문별 매출현황\\n(단위 : 백만원, %)\\n부문 구 \\xa0분\\n2016 3분기 2015 2014\\n금액 비중 금액 비중 금액 비중\\nCE\\n부문\\n총매출액 79,582,378 22.3% 120,688,835 24.5% 124,916,892 25.3%\\n내부매출액 46,172,641 22.2% 73,793,424 25.2% 74,733,757 25.9%\\n순매출액 33,409,737 22.5% 46,895,411 23.4% 50,183,135 24.3%\\n영업이익 2,316,599 11.6% 1,254,187 4.7% 1,184,325 4.7%\\n총자산 46,967,346 12.8% 45,998,007 12.8% 43,116,374 12.8%\\nIM\\n부문\\n총매출액 162,385,229 45.5% 222,023,600 45.0% 236,438,979 47.9%\\n내부매출액 85,691,134 41.1% 118,469,345 40.5% 124,674,435 43.3%'),\n",
       " 'c55b2dc0-37e7-45e6-a57a-6b041a71cd6a': Document(id='c55b2dc0-37e7-45e6-a57a-6b041a71cd6a', metadata={'producer': 'itext-paulo-155 (itextpdf.sf.net-lowagie.com)', 'creator': 'nPDF (pdftk 1.41)', 'creationdate': '2017-08-16T00:21:02-08:00', 'moddate': '2017-08-16T00:21:02-08:00', 'source': 'https://wdr.ubion.co.kr/wowpass/img/event/gsat_170823/gsat_170823.pdf', 'total_pages': 27, 'page': 4, 'page_label': '5'}, page_content='순매출액 76,694,095 51.6% 103,554,255 51.6% 111,764,544 54.2%\\n영업이익 8,311,641 41.5% 10,142,022 38.4% 14,562,885 58.2%\\n총자산 105,503,018 28.8% 98,463,323 27.4% 94,227,108 27.9%\\nDS\\n부문\\n반도체\\n총매출액 70,917,983 19.9% 90,600,806 18.4% 75,058,071 15.2%\\n내부매출액 34,618,802 16.6% 43,014,054 14.7% 35,328,169 12.3%\\n순매출액 36,299,181 24.4% 47,586,752 23.7% 39,729,902 19.3%\\n영업이익 8,645,298 43.2% 12,787,297 48.4% 8,776,442 35.1%\\n총자산 92,434,386 25.3% 98,989,253 27.6% 87,567,196 25.9%\\nDP'),\n",
       " 'c1f253b2-97ec-417d-a49a-f66ca636e1a0': Document(id='c1f253b2-97ec-417d-a49a-f66ca636e1a0', metadata={'producer': 'itext-paulo-155 (itextpdf.sf.net-lowagie.com)', 'creator': 'nPDF (pdftk 1.41)', 'creationdate': '2017-08-16T00:21:02-08:00', 'moddate': '2017-08-16T00:21:02-08:00', 'source': 'https://wdr.ubion.co.kr/wowpass/img/event/gsat_170823/gsat_170823.pdf', 'total_pages': 27, 'page': 4, 'page_label': '5'}, page_content='총매출액 40,083,165 11.2% 55,120,243 11.2% 52,227,615 10.6%\\n내부매출액 20,574,124 9.9% 27,633,382 9.4% 26,500,446 9.2%\\n순매출액 19,509,041 13.1% 27,486,861 13.7% 25,727,169 12.5%\\n영업이익 890,864 4.4% 2,295,367 8.7% 660,181 2.6%\\n총자산 52,561,516 14.4% 50,147,263 14.0% 46,826,533 13.8%\\n계\\n총매출액 113,897,218 31.9% 149,974,731 30.4% 131,459,756 26.6%\\n내부매출액 58,006,466 27.8% 74,948,617 25.6% 65,669,950 22.8%\\n순매출액 55,890,752 37.6% 75,026,114 37.4% 65,789,806 31.9%\\n영업이익 9,510,950 47.5% 14,887,262 56.4% 9,430,915 37.7%'),\n",
       " 'c045221c-4447-4920-99f8-277c0eaaffb8': Document(id='c045221c-4447-4920-99f8-277c0eaaffb8', metadata={'producer': 'itext-paulo-155 (itextpdf.sf.net-lowagie.com)', 'creator': 'nPDF (pdftk 1.41)', 'creationdate': '2017-08-16T00:21:02-08:00', 'moddate': '2017-08-16T00:21:02-08:00', 'source': 'https://wdr.ubion.co.kr/wowpass/img/event/gsat_170823/gsat_170823.pdf', 'total_pages': 27, 'page': 4, 'page_label': '5'}, page_content='총자산 168,857,515 46.2% 174,264,841 48.5% 160,138,321 47.4%\\n3) 회사 특징 \\n∙ 지연 학연보다 본인의 성과로 평가와 보상\\n∙ 성과주의 부담 큰 편 \\n∙ 기술 관련 부서는 군대식 문화가 존재 \\n∙ 업무량 및 야근 많음 \\n∙ 높은 연봉 및 복지\\n∙ 자율출퇴근제도'),\n",
       " 'b7413db1-089b-4756-95d2-305c8039405b': Document(id='b7413db1-089b-4756-95d2-305c8039405b', metadata={'producer': 'itext-paulo-155 (itextpdf.sf.net-lowagie.com)', 'creator': 'nPDF (pdftk 1.41)', 'creationdate': '2017-08-16T00:21:02-08:00', 'moddate': '2017-08-16T00:21:02-08:00', 'source': 'https://wdr.ubion.co.kr/wowpass/img/event/gsat_170823/gsat_170823.pdf', 'total_pages': 27, 'page': 5, 'page_label': '6'}, page_content='7\\n2  기업 경영철학, 미션. 비전, 이념 등\\n1) 이사장 경영철학\\n2) 미션 \\n인간의 삶을 풍요롭게 하고 사회적 책임을 다하는 지속 가능한 미래에 공헌하는 혁신적 기술, 제품 그리고 \\n디자인을 통해 미래 사회에 대한 영감 고취 \\n① 정량적 목표\\n매출 4,000억 달러, IT업계 압도적 1위, 글로벌 Top 5\\n② 정성적 목표 \\n혁신적인 기업, 존경 받는 기업 세계 Top 10, 신규 시장을 만드는 창조적인 리더, 세계 최고의 인재가 \\n일하고 싶어하는 기업'),\n",
       " 'e01716a6-da72-416d-9518-430ec3744670': Document(id='e01716a6-da72-416d-9518-430ec3744670', metadata={'producer': 'itext-paulo-155 (itextpdf.sf.net-lowagie.com)', 'creator': 'nPDF (pdftk 1.41)', 'creationdate': '2017-08-16T00:21:02-08:00', 'moddate': '2017-08-16T00:21:02-08:00', 'source': 'https://wdr.ubion.co.kr/wowpass/img/event/gsat_170823/gsat_170823.pdf', 'total_pages': 27, 'page': 6, 'page_label': '7'}, page_content='8\\n3) 비전 \\nVision 2020 “미래사회에 대한 영감, 새로운 미래 창조”\\n전 세계 커뮤니티에게 영감을 주어 보다 풍부한 디지털 경험으로 가득한 더 나은 세상을 만들고자 하는 \\n삼성의 열망에 수반되는 기술, 제품 그리고 솔루션 혁신을 선도하고자 하는 결연한 의지를 핵심적으로 \\n보여줍니다. 글로벌 사회에서 창의적인 리더로서의 책임을 인식할 때 직원과 협력사 간의 공유된 가치를 \\n만들 수 있으며, 동시에 산업과 고객에게 새로운 가치를 제공할 수 있는 노력과 자원을 투입할 수 있습니다. \\n삼성은 모든 사람이 흥미를 느끼고 기대하는 미래를 만들고자 합니다. \\n4) 전략방향 및 사업방향'),\n",
       " 'd88854c3-2905-4fb5-b930-65dd45d2793d': Document(id='d88854c3-2905-4fb5-b930-65dd45d2793d', metadata={'producer': 'itext-paulo-155 (itextpdf.sf.net-lowagie.com)', 'creator': 'nPDF (pdftk 1.41)', 'creationdate': '2017-08-16T00:21:02-08:00', 'moddate': '2017-08-16T00:21:02-08:00', 'source': 'https://wdr.ubion.co.kr/wowpass/img/event/gsat_170823/gsat_170823.pdf', 'total_pages': 27, 'page': 7, 'page_label': '8'}, page_content='9\\n∙ 뛰어난 운영 능력과 혁신을 만들어 내는 놀라운 능력으로 세계 최고의 제품을 제공\\n∙ 의료 건강 및 바이오 기술과 같은 새로운 비즈니스 영역 개척 \\n∙경쟁력을 강화하고 혁신의 역사를 이어나가기 위해 지금까지 이룬 성과의 토대 위에 창조   경영, 파트너\\n십 경영, 인재 경영을 통한 발전을 추구 \\n5) 인재상 \\n∙ Passion 열정 – 끊임없는 열정으로 미래에 도전하는 인\\n∙ Creativity 창의혁신 - 창의와 혁신으로 세상을 변화시키는 인재\\n∙ Integrity 인간미·도덕성 - 정직과 바른 행동으로 역할과 책임을 다하는 인재\\n6) 핵심가치 \\n∙ 인재제일 : 인재를 중시하고 키우는 기업문화, ‘기업이 곧 사람’ 이라는 신념을 바탕으로 모든 사람이 \\n각자 고유한 역량과 잠재력을 가진 우수한 인재이며 세상을 움직이는 원동력\\n∙ 최고지향 : 항상 최고에 도전하고 세계최고를 향한 경쟁에서 당당히 승리하기 위해 노력'),\n",
       " 'fe2e9724-d7c5-4651-8db0-edef04eab964': Document(id='fe2e9724-d7c5-4651-8db0-edef04eab964', metadata={'producer': 'itext-paulo-155 (itextpdf.sf.net-lowagie.com)', 'creator': 'nPDF (pdftk 1.41)', 'creationdate': '2017-08-16T00:21:02-08:00', 'moddate': '2017-08-16T00:21:02-08:00', 'source': 'https://wdr.ubion.co.kr/wowpass/img/event/gsat_170823/gsat_170823.pdf', 'total_pages': 27, 'page': 7, 'page_label': '8'}, page_content='∙ 변화선도 : 시대의 흐름을 파악하고 앞선 변화를 통한 창조적인 혁신을 추구\\n∙ 정도경영 : 고객과 사회로의 신뢰와 기본과 원칙에 따른 마음가짐을 중시\\n∙ 상생추구 : 고객, 임직원, 주주, 협력업체를 먼저 생각하는 상생정신\\n7) 삼성전자 CI\\n∙ 워드마크의 디자인은 유연성과 단순함을 강조\\n∙ 우주와 세계 무대를 상징하는 타원을 비스듬하게 처리하여, 동적이고 혁신적인 이미지를 나타내고자 함\\n∙ S자와 G자의 터진 부분을 통해 내부와 외부의 기운이 통하게 함으로써 세계와 호흡하고 인류사회에 \\n이바지하려는 의지를 담음\\n∙ 영문 로고 디자인은 기술주의를 통한 고객지향 의지, 첨단 기업의 이미지를 현대적인 감각으로 표현한 것'),\n",
       " '4adb1e4d-13bd-4d27-9f8f-929589b5a7be': Document(id='4adb1e4d-13bd-4d27-9f8f-929589b5a7be', metadata={'producer': 'itext-paulo-155 (itextpdf.sf.net-lowagie.com)', 'creator': 'nPDF (pdftk 1.41)', 'creationdate': '2017-08-16T00:21:02-08:00', 'moddate': '2017-08-16T00:21:02-08:00', 'source': 'https://wdr.ubion.co.kr/wowpass/img/event/gsat_170823/gsat_170823.pdf', 'total_pages': 27, 'page': 8, 'page_label': '9'}, page_content='10\\n8) 조직도\\n9) 직무소개\\n∙E직군 (연구개발직) : 기초연구와 응용연구, 이러한 연구성과를 기초로 제품화까지 진행하는 개발업무 \\n수행 \\n∙ S직군 (소프트웨어직) : 컴퓨터 프로그래밍을 통해 사용자가 쉽고 편하게 제품을 활용할 수 있도록 \\n도와주는 창의적인 업무를 수행 \\n∙ M직군 (영업마케팅직) : 새로운 상품을 기획, 개발하여 매출 신장과 수익률 제고에 기여하고 시장의 \\n접점에서 고객만족과 판매를 촉진시켜 수익창출의 직접적인 역할수행 \\n∙G직군 (경영지원직) : CEO나 사업부장을 도와 전체 사업이 원활히 진행될 수 있도록 지원과 컨트롤을 \\n담당\\n∙D직군 (디자인직) : 사용자가 만지고 볼 수 있는 삼성전자 제품의 모든 요소들을 보다 심미적으로 아름답\\n고 편리하게 구상하는 역할\\n∙F직군 (설비엔지니어직) : 첨단 설비 관리 및 개선 활동과 Facility 활동을 통해 생산성 향상을 극대화시키\\n는 업무'),\n",
       " '25784404-ca4f-40b7-80ff-e7d1fccd152f': Document(id='25784404-ca4f-40b7-80ff-e7d1fccd152f', metadata={'producer': 'itext-paulo-155 (itextpdf.sf.net-lowagie.com)', 'creator': 'nPDF (pdftk 1.41)', 'creationdate': '2017-08-16T00:21:02-08:00', 'moddate': '2017-08-16T00:21:02-08:00', 'source': 'https://wdr.ubion.co.kr/wowpass/img/event/gsat_170823/gsat_170823.pdf', 'total_pages': 27, 'page': 8, 'page_label': '9'}, page_content='∙IT직군 (기술직) : 신제품 개발부터 양산까지 전 단계에 걸쳐 제품의 품질과 생산성 향상을 위한 업무를 \\n수행\\n10) 인사제도 및 복지제도\\n∙ 주택 대부 및 경조금 지원\\n∙ 선택적 복리후생\\n∙ 여가생활\\n∙ 교육비 지원/사내 어린이집 운영\\n∙ 상담 센터 운영\\n∙ 매년 건강진단, 본인 및 배우자 의료비 지원'),\n",
       " '9f9933d6-e441-49fa-a766-7fb437a2af16': Document(id='9f9933d6-e441-49fa-a766-7fb437a2af16', metadata={'producer': 'itext-paulo-155 (itextpdf.sf.net-lowagie.com)', 'creator': 'nPDF (pdftk 1.41)', 'creationdate': '2017-08-16T00:21:02-08:00', 'moddate': '2017-08-16T00:21:02-08:00', 'source': 'https://wdr.ubion.co.kr/wowpass/img/event/gsat_170823/gsat_170823.pdf', 'total_pages': 27, 'page': 9, 'page_label': '10'}, page_content='11\\nⅡ 기업 상세 분석\\n1  사업분야(내용)\\nQ1 삼성전자의 대표적 사업분야에 대해 설명할 수 있습니까 ?\\nA\\n 삼성전자는 크게 CE(Consumer Electronics) 사업부문, IM(Information technology & Mobile communica-\\ntion) 사업부문, DS(Device Solutions) 사업부문 등 3개 사업부문으로 나누어 독립 경영을 합니다.\\n⑴ Consumer Electronics (CE) 부문 \\n① 영상디스플레이 : 진화하는 스마트TV, 초대형 프리미엄 TV 전략으로 8년 연속 세계 1위에 \\n도전\\n② 생활가전 : 새로운 기술과 가치 창출로 생활과 문화를 바꾸는 혁신을 준비\\n③ 의료기기 : 정확하고 빠른 진단을 도와주는 새롭고 혁신적인 의료기기를 개발\\n⑵ Information technology & Mobile communication (IM) 부문\\n① 무선 : 인간 중심의 혁신으로 소비자들이 열망하는 새로운 가치와 편의를 지속적으로 제공'),\n",
       " '9ba74751-6a9c-42f4-8d87-acf39406f3e0': Document(id='9ba74751-6a9c-42f4-8d87-acf39406f3e0', metadata={'producer': 'itext-paulo-155 (itextpdf.sf.net-lowagie.com)', 'creator': 'nPDF (pdftk 1.41)', 'creationdate': '2017-08-16T00:21:02-08:00', 'moddate': '2017-08-16T00:21:02-08:00', 'source': 'https://wdr.ubion.co.kr/wowpass/img/event/gsat_170823/gsat_170823.pdf', 'total_pages': 27, 'page': 9, 'page_label': '10'}, page_content='② 네트워크 : 뛰어난 기술력과 성공적인 경험을 바탕으로 차세대 네트워크 인프라와 솔루션을 \\n공급\\n⑶ Device Solutions (DS) 부문\\n① 메모리 : 세계 최고 성능의 최첨단 그린메모리로 더욱 편리한 세상을 향해 나아감\\n② 시스템 L S I  :  R & D  경쟁력과 최첨단 공정을 통해 전자기기의 혁신을 이끌어감\\n③ 차세대 친환경 LED 광원 부문에서 세계 최고 수준의 기술 경쟁력과 리더십을 유지\\nConsumer Electronics (CE) 부문 Information technology & Mobile \\ncommunication (IM) 부문\\nDevice Solutions (DS) 부문'),\n",
       " '234de4c4-450b-4095-9640-650b11316912': Document(id='234de4c4-450b-4095-9640-650b11316912', metadata={'producer': 'itext-paulo-155 (itextpdf.sf.net-lowagie.com)', 'creator': 'nPDF (pdftk 1.41)', 'creationdate': '2017-08-16T00:21:02-08:00', 'moddate': '2017-08-16T00:21:02-08:00', 'source': 'https://wdr.ubion.co.kr/wowpass/img/event/gsat_170823/gsat_170823.pdf', 'total_pages': 27, 'page': 10, 'page_label': '11'}, page_content='12\\nQ2 삼성전자의 Harman사 인수에 대해 어떻게 생각하십니까 ?\\nA\\n 삼성전자가 최근 80억달러(약 9조)에 미국의 전장업체(자동차 전자기기에 대한 사업)인 Harman 사를 \\n인수하기로 결정했습니다. 하만사는 세계적으로 자동차용 인포테인먼트와 텔레매틱스 시장에서 점유\\n율 1~2위를 달리고 있으며 매출도 상당합니다. 이번 삼성전자의 하만 인수는 모바일 및 가전 시장에서 \\n나아가 Connected Car 시장 진입에 진출했다는 것에 큰 의의가 있습니다. 향후 10년 시장 내 Connected \\nCar의 비중은 90%에 육박할 전망입니다. LG전자 역시 자동차부품(VC) 사업 부문에 있어 상당한 경쟁 \\n위협 요인가 될 것으로 내다봤습니다.\\n<관련기사>\\n전장사업 강자 하만과 손잡은 삼성…스마트카 ‘티어1’ 노린다\\n(한국경제. 2016-11-21)\\n삼성전자는 자동차 전장(電裝)사업에서 후발 주자다. 2005년 전장사업을 시작한 LG전자는'),\n",
       " '39924b5b-caa1-4667-813d-88797e0317c4': Document(id='39924b5b-caa1-4667-813d-88797e0317c4', metadata={'producer': 'itext-paulo-155 (itextpdf.sf.net-lowagie.com)', 'creator': 'nPDF (pdftk 1.41)', 'creationdate': '2017-08-16T00:21:02-08:00', 'moddate': '2017-08-16T00:21:02-08:00', 'source': 'https://wdr.ubion.co.kr/wowpass/img/event/gsat_170823/gsat_170823.pdf', 'total_pages': 27, 'page': 10, 'page_label': '11'}, page_content='물론 글로벌 경쟁사인 구글 및 애플에 비해서도 5~10년 뒤처졌다. 글로벌 전장업체인 하만 \\n인수는 이런 간격을 단번에 좁히고 뒤집겠다는 ‘한 수’다. 커넥티드카(무선인터넷으로 외부와 \\n연결되는 자동차) 솔루션 및 인포테인먼트(정보+오락) 분야의 대표 기업인 하만과 반도체 디\\n스플레이 정보기술(IT) 스마트폰 등의 분야에서 앞선 기술을 가진 삼성이 손을 잡으면 단숨\\n에 스마트카 전장 부문에서 대표적인 1차 협력사(티어1) 지위를 차지할 수 있을 것이라는 게 \\n두 회사가 내놓은 청사진이다.\\n삼성 + 하만, 스마트카 시대 주도 \\n디네시 팔리월 하만 최고경영자(CEO)와 손영권 삼성전자 전략혁신센터장(사장), 박종환 삼\\n성전자 전장사업팀장(부사장)은 21일 서울 서초동 삼성사옥에서 기자간담회를 하고 두 회사\\n의 합병을 통해 기대할 수 있는 효과와 미래 전략을 공개했다 . 지난 14일 합병 결정을 발표\\n한 지 1주일 만이다.'),\n",
       " 'a003daf8-3308-4e3e-9684-4342dd380a4a': Document(id='a003daf8-3308-4e3e-9684-4342dd380a4a', metadata={'producer': 'itext-paulo-155 (itextpdf.sf.net-lowagie.com)', 'creator': 'nPDF (pdftk 1.41)', 'creationdate': '2017-08-16T00:21:02-08:00', 'moddate': '2017-08-16T00:21:02-08:00', 'source': 'https://wdr.ubion.co.kr/wowpass/img/event/gsat_170823/gsat_170823.pdf', 'total_pages': 27, 'page': 11, 'page_label': '12'}, page_content='13\\n팔리월 CEO와 손 사장이 가장 많이 사용한 단어 중 하나는 ‘시너지’다. 서로 다른 영역에\\n서 입지를 다져 온 두 회사가 하나의 목표를 놓고 협력한다면 기대 이상의 결과물을 내놓을 \\n수 있을 것이라는 기대 때문이다. 합병이 완료되면 당장 전자장비 시장에서 글로벌 티어1 공\\n급사를 노릴 수 있다. 팔리월 CEO는 “가장 기대되는 부분은 합병을 통해 큰 시너지가 날 수 \\n있다는 점”이라고 말했다.\\n그는 “하만은 전장사업 시스템에 대한 지식과 개발 경험, 오랜 관계로 구축된 고객 네트워\\n크가 있고 자동차산업 생태계를 잘 이해하고 있다”며 “여기에 하만이 가지고 있지 않지만 삼\\n성전자가 가지고 있는 센서 , IT, 디스플레이, 모바일 기술이 더해지면 스마트자동차와 자율 \\n및 반(半)자율 자동차에 대한 완벽한 솔루션을 제공할 수 있을 것 ”이라고 강조했다. \\n손 사장도 “전장산업 분야에서 주요 고객과 관계를 꾸준하게 맺어 왔고 , 이 시장에 대한'),\n",
       " '4f93e913-1c1d-462f-8b7b-847bd8bb77db': Document(id='4f93e913-1c1d-462f-8b7b-847bd8bb77db', metadata={'producer': 'itext-paulo-155 (itextpdf.sf.net-lowagie.com)', 'creator': 'nPDF (pdftk 1.41)', 'creationdate': '2017-08-16T00:21:02-08:00', 'moddate': '2017-08-16T00:21:02-08:00', 'source': 'https://wdr.ubion.co.kr/wowpass/img/event/gsat_170823/gsat_170823.pdf', 'total_pages': 27, 'page': 11, 'page_label': '12'}, page_content='이해도가 좋은 하만과 기술력을 보유한 삼성전자가 만났다”며 “삼성전자는 전장 같은 새로운 \\n시장에 진출하기 위해 많은 경험 및 고객과의 관계가 필요한데 하만이 큰 기여를 할 수 있\\n을 것”이라고 설명했다. 박 부사장은 “과거 10년이 PC 시대, 지금이 스마트폰 시대라면 앞으\\n로 10년은 스마트카 시대”라며 “배터리는 물론 메모리 반도체 등에서도 스마트폰보다 자동차\\n가 더 중요해질 것 ”이라고 말했다.\\n팔리월 CEO는 현대자동차를 비롯한 완성차업계가 두 회사 합병에 긍정적인 반응을 보였\\n다는 사실도 소개했다. 그는 “지난주 합병 발표 뒤 손 사장과 현대차를 비롯한 수많은 고객\\n사를 만났는데, 모두 합병으로 인한 시너지를 기대하고 있었다 ”며 “삼성전자는 스마트자동차 \\n시대에 1차 협력 업체가 되는 게 목표라는 점을 고객사에 분명히 전했다 ”고 밝혔다.'),\n",
       " '53d033b6-47d8-4ab1-b99e-b3edabccb7da': Document(id='53d033b6-47d8-4ab1-b99e-b3edabccb7da', metadata={'producer': 'itext-paulo-155 (itextpdf.sf.net-lowagie.com)', 'creator': 'nPDF (pdftk 1.41)', 'creationdate': '2017-08-16T00:21:02-08:00', 'moddate': '2017-08-16T00:21:02-08:00', 'source': 'https://wdr.ubion.co.kr/wowpass/img/event/gsat_170823/gsat_170823.pdf', 'total_pages': 27, 'page': 12, 'page_label': '13'}, page_content='14\\nQ3 삼성전자가 상생협력을 위해 진행하고 있는 자금지원 프로그램에 대해 설명할 수 있습니까 ?\\nA\\n✜ 자금지원 프로그램 \\n삼성전자는 자금 조달에 어려움을 겪고 있는 중소기업의 자금 유동성 확보를 지원하기 위\\n해 다양한 자금 지원 프로그램을 운영하고 있습니다 . 2005 년부터 국내 최초로 거래대금을 \\n전액 현금으로 지급하고, 2011년부터는 대금지급 횟수를 월 2회에서 4회로 변경하는 등 대\\n금지급 조건을 개선하였으며, 설・추석 등 명절 시 구매대금을 조기에 지급하여 중소기업의 \\n원활한 자금운용에 도움을 주고 있습니다.\\n✜ 상생펀드\\n2010년부터 기업은행, 산업은행, 우리은행과 함께 1조 원 규모의 상\\n생펀드를 조성하여 자금이 필요한 협력사에게 기술개발, 설비투자, 운전\\n자금 등을 업체별 최대 90억 원까지 저리로 대출해 주는 프로그램을 운\\n영하고 있습니다. 2011년부터는 1차 협력사뿐만 아니라 2차 협력사까지 \\n지원대상을 확대하여 운영하고 있습니다.'),\n",
       " 'bdf3445b-538c-4dc0-b1c8-5ec68a71171c': Document(id='bdf3445b-538c-4dc0-b1c8-5ec68a71171c', metadata={'producer': 'itext-paulo-155 (itextpdf.sf.net-lowagie.com)', 'creator': 'nPDF (pdftk 1.41)', 'creationdate': '2017-08-16T00:21:02-08:00', 'moddate': '2017-08-16T00:21:02-08:00', 'source': 'https://wdr.ubion.co.kr/wowpass/img/event/gsat_170823/gsat_170823.pdf', 'total_pages': 27, 'page': 12, 'page_label': '13'}, page_content='✜ 상생보증 프로그램, 수출입은행 연계 자금지원 프로그램\\n신용보증기금 또는 기술보증기금이 보증서를 발급하면 은행의 별도 \\n심사나 담보 없이 금리 우대를 받아 대출을 받을 수 있는 상생보증 프\\n로그램을 운영하여 2015년에 19개사에 총 126억 원을 지원하였으며, 해\\n외진출 또는 수출용 자재 납품 중소기업이 수출용 자금을 지원받을 수 \\n있는 수출입은행 연계 자금지원 프로그램도 운영하여 2015년 58개사가 \\n2,512억 원을 활용하였습니다. \\n✜ 민관 공동투자 기술개발\\n삼성전자는 아이디어와 기술력은 있지만 자금여력이 부족한 국내 중소기업의 기술개발 활\\n성화를 위해 중소기업청에서 추진하고 있는 민관공동투자 기술개발사업에 2013년 11월부터 \\n참여하고 있습니다. 삼성전자와 중소기업청은 각 100억 원씩 총 200억 원의 개발기금을 공\\n동으로 조성하여 중소기업 R&D 과제의 개발비를 지원하고 있으며, 중소기업은 총 개발비의'),\n",
       " 'abed2364-787f-4403-b589-7996c33e83e2': Document(id='abed2364-787f-4403-b589-7996c33e83e2', metadata={'producer': 'itext-paulo-155 (itextpdf.sf.net-lowagie.com)', 'creator': 'nPDF (pdftk 1.41)', 'creationdate': '2017-08-16T00:21:02-08:00', 'moddate': '2017-08-16T00:21:02-08:00', 'source': 'https://wdr.ubion.co.kr/wowpass/img/event/gsat_170823/gsat_170823.pdf', 'total_pages': 27, 'page': 12, 'page_label': '13'}, page_content='75% 이내에서 최대 10억 원까지 지원받을 수 있습니다 . 2015년에는 5개사에 약 24억 원의 \\n개발자금을 지원하였습니다.\\n✜ 상생결제시스템\\n특히, 2015년에는 1차 협력사뿐만 아니라 2차 협력사까지 대금이 원활히 지급될 수 있도록 \\n산업통상자원부가 추진 중인 ‘상생결제시스템’을 적극 도입하였습니다. ‘ 상생결제시스템’은 삼\\n성전자가 1차 협력사에, 그리고 1차 협력사는 2차 협력사에게 ‘상생결제 연계 시스템’을 활용\\n하여 대금을 지급하면, 2 차 협력사는 삼성전자의 신용도를 적용받아 저리로 조기에 납품대금\\n을 현금화 할 수 있는 프로그램입니다 . 2016년에는 1차 협력사 평가에 상생결제시스템 도입 \\n실적을 반영하여 더 많은 2차 협력사에 혜택이 미칠 수 있도록 적극 지원할 계획입니다.'),\n",
       " '6e322211-382c-4bc0-8a66-67fdb70bdd1f': Document(id='6e322211-382c-4bc0-8a66-67fdb70bdd1f', metadata={'producer': 'itext-paulo-155 (itextpdf.sf.net-lowagie.com)', 'creator': 'nPDF (pdftk 1.41)', 'creationdate': '2017-08-16T00:21:02-08:00', 'moddate': '2017-08-16T00:21:02-08:00', 'source': 'https://wdr.ubion.co.kr/wowpass/img/event/gsat_170823/gsat_170823.pdf', 'total_pages': 27, 'page': 13, 'page_label': '14'}, page_content='15\\n✜ 신성장동력 → 사물인터넷(Internet of Things, IoT)\\n삼성전자는 다가올 사물인터넷(IoT, Internet of Things) 시대를 맞이해 만반의 준비를 다하고 있습\\n니다. 2014년 8월에 미국의 ‘스마트싱스(SmartThings)’를 인수해 사물인터넷 개방형 플랫폼 개발에 \\n박차를 가하고 있고, 사물 인터넷 시대의 실현을 앞당겨줄 다양한 제품과 서비스도 잇달아 출시하\\n고 있습니다. 2017년까지 삼성전자의 모든 TV, 2020년까지 삼성전자의 모든 제품이 IoT로 연결될 \\n수 있게 한다는 비전을 실현하고자 주도적으로 서비스 기반 구축에 최선을 다하고 있습니다.\\n✜ 개방형 IoT 플랫폼 ‘아틱(ARTIK)’ \\n2015년 5월에는 미국에서 개최된 ‘제2회 IoT World’에서 개방형 IoT 플랫폼 ‘아틱(ARTIK)’을 처음으\\n로 공개했고, 2016년 2월 상용제품을 출시하고 공식 파트너 프로그램을 개시하는 등 본격적인'),\n",
       " 'd0d7be17-a4ae-4b85-9dc8-a6661bc20298': Document(id='d0d7be17-a4ae-4b85-9dc8-a6661bc20298', metadata={'producer': 'itext-paulo-155 (itextpdf.sf.net-lowagie.com)', 'creator': 'nPDF (pdftk 1.41)', 'creationdate': '2017-08-16T00:21:02-08:00', 'moddate': '2017-08-16T00:21:02-08:00', 'source': 'https://wdr.ubion.co.kr/wowpass/img/event/gsat_170823/gsat_170823.pdf', 'total_pages': 27, 'page': 13, 'page_label': '14'}, page_content='‘아틱 생태계’ 형성에 나섰습니다. 아틱 플랫폼은 미국 실리콘밸리에 위치한 삼성전략혁신센터\\n(Samsung Strategy & Innovation Center)가 주도하여 개발한 개방형 플랫폼으로, 프로세서와 스토리\\n지 등 하드웨어 개발자 키트를 포함하여 보안과 운영체제 등 소프트웨어까지 제공하는 ‘종합 IoT \\n개발 플랫폼’ 입니다. 아틱 플랫폼을 활용하여 IoT 서비스와 기기를 개발할 경우, 개발자는 시간과 \\n비용을 크게 줄임으로써 아이디어를 빠르게 현실화시킬 수 있습니다. ‘아틱1’ 은 초소형 모듈로 \\n블루투스 연결기능을 제공하며 저전력 소비를 요구하는 소형기기에 적합하고, ‘아틱5’는 홈 허브, \\n드론 및 웨어러블 기기에, ‘아틱10’ 은 와이파이와 블루투스 연결기능을 제공해 홈 서버와 미디어 \\n장치 등에 적합합니다. 삼성전략혁신센터 커티스 사사키(Curtis Sasaki) 전무는 “삼성전자는 반도체'),\n",
       " 'ad9e5060-79b5-486d-be9b-3fddf66eec96': Document(id='ad9e5060-79b5-486d-be9b-3fddf66eec96', metadata={'producer': 'itext-paulo-155 (itextpdf.sf.net-lowagie.com)', 'creator': 'nPDF (pdftk 1.41)', 'creationdate': '2017-08-16T00:21:02-08:00', 'moddate': '2017-08-16T00:21:02-08:00', 'source': 'https://wdr.ubion.co.kr/wowpass/img/event/gsat_170823/gsat_170823.pdf', 'total_pages': 27, 'page': 13, 'page_label': '14'}, page_content='같은 부품뿐만 아니라 TV, 모바일, 가전기기 등 다양한 제품군을 생산하기 때문에 개방형 에코시스\\n템만 잘 구축한다면 IoT 시장에서 충분히 새로운 변화를 주도할 수 있을 것”이라고 강조했습니다. \\nQ4 삼성전자의 시장선도제품과 신성장동력에 대해 설명할 수 있습니까 ?\\nA\\n ① TV\\n∙ 글로벌 TV 시장점유율 10년 연속 1위  (매출기준, 출처: IHS)\\n∙ 2015년 글로벌 UHD TV 시장점유율 1위 (매출기준, 출처: IHS)\\n② Mobile Phone\\n∙ 2015년 휴대폰 시장점유율 1위  (출처 : Strategy Analytics) \\n∙ 2015년 스마트폰 시장점유율 1위  (출처 : Strategy Analytics) \\n∙ 2015년 태블릿 시장점유율 2위  (출처 : Strategy Analytics)\\n③ Memory\\n∙ 글로벌 메모리 시장점유율 연속 1위 (1993년 이래, 출처: IHS)'),\n",
       " 'b2525825-74b7-4ea3-bdf6-9291dd3b4312': Document(id='b2525825-74b7-4ea3-bdf6-9291dd3b4312', metadata={'producer': 'itext-paulo-155 (itextpdf.sf.net-lowagie.com)', 'creator': 'nPDF (pdftk 1.41)', 'creationdate': '2017-08-16T00:21:02-08:00', 'moddate': '2017-08-16T00:21:02-08:00', 'source': 'https://wdr.ubion.co.kr/wowpass/img/event/gsat_170823/gsat_170823.pdf', 'total_pages': 27, 'page': 13, 'page_label': '14'}, page_content='∙ 글로벌 DRAM 시장점유율 연속 1위 (1992년 이래,  출처: IHS) \\n∙ 글로벌 NAND 시장점유율 연속 1위 (2002년 이래,  출처: IHS) \\n∙ 글로벌 SSD 시장점유율 연속 1위 (2006년 이래,  출처: IHS)\\n④ Signage\\n글로벌 사이니지(상업용 디스플레이)  시장점유율 7년 연속 1위  (수량기준, 2009년 이래, 출처: \\nIHS)'),\n",
       " '03b9d834-d8b8-401c-b1cc-6fea5cf2bedb': Document(id='03b9d834-d8b8-401c-b1cc-6fea5cf2bedb', metadata={'producer': 'itext-paulo-155 (itextpdf.sf.net-lowagie.com)', 'creator': 'nPDF (pdftk 1.41)', 'creationdate': '2017-08-16T00:21:02-08:00', 'moddate': '2017-08-16T00:21:02-08:00', 'source': 'https://wdr.ubion.co.kr/wowpass/img/event/gsat_170823/gsat_170823.pdf', 'total_pages': 27, 'page': 14, 'page_label': '15'}, page_content='16\\n✜ I o T를 통한 사회적 문제 해결  \\n삼성전자는 IoT를 통해 기술혁신뿐만 아니라 물 부족, 교통체증, 환경오염 등 인류가 직면한 다양한 \\n사회적 문제를 해결하는 일과 관련해서도 노력하고 있습니다. 예를 들어 캘리포니아는 날씨가 \\n따뜻하고 가뭄이 심한 편이라 물 부족 문제를 해결하기 위해 엄청난 예산을 지출하고 있는 상황입\\n니다. 삼성전자는 이러한 사회적 이슈를 발견한 후 IoT 측면에서 아틱을 활용하여 어떻게 하면 \\n낭비되고 있는 물을 실제로 필요로 하는 곳에 보낼 수 있을까 고민하게 되었습니다. 보다 다양한 \\n아이디어를 얻고자 2015년 ‘ARTIK Challenge’를 실시해 총 577개의 아이디어가 접수되었고, 2016년 \\n4월 27-28일(현지시간) 개최된 ‘삼성 개발자 콘퍼런스 2016 (Samsung Developer Conference 2016)’\\n에서 파이널리스트가 공개됐습니다. 최종 우승 아이디어는 2016년 7월 경 공개될 예정입니다.'),\n",
       " '119b9cf1-bdcc-4308-b32f-74a31ba55c16': Document(id='119b9cf1-bdcc-4308-b32f-74a31ba55c16', metadata={'producer': 'itext-paulo-155 (itextpdf.sf.net-lowagie.com)', 'creator': 'nPDF (pdftk 1.41)', 'creationdate': '2017-08-16T00:21:02-08:00', 'moddate': '2017-08-16T00:21:02-08:00', 'source': 'https://wdr.ubion.co.kr/wowpass/img/event/gsat_170823/gsat_170823.pdf', 'total_pages': 27, 'page': 14, 'page_label': '15'}, page_content='또한 삼성전자는 IoT 관련 다양한 업체와의 협력을 통해서도 사회적 이슈를 해결하고자 노력하고 \\n있습니다. 부기오(Boogio)라는 신생 업체와 협력하여 균형이나 움직임에 어려움이 있는 환자들의 \\n재활치료를 위한 센서패드를 개발한 것이 대표적인 사례입니다. 이 패드가 부착된 신발을 신을 \\n경우 움직임과 압력을 감지하여 실시간 데이터를 의사에게 전송하는 방식으로 미국 플로리다 \\n병원과 협약을 맺고 테스트 중에 있습니다. 또한 프랑스 농업관련 솔루션 업체인 위낫(Weenat)과는 \\n흙과 공기에 대한 데이터를 실시간으로 측정하여 농부의 스마트폰으로 전송하고 적절한 물 사용량\\n을 알려줌으로써 수자원 낭비를 해결하기 위한 방법을 모색하고 있습니다. 앞으로 삼성전자는 \\n자동차, 의료, 공공서비스 등 다양한 산업분야 업체들과의 협업을 통해 전방위적으로 IoT 사업을 \\n확대해 나갈 계획이며, 이러한 노력이 기술혁신을 넘어 사회적 문제해결에도 기여할 것입니다.\\n2  재무현황 및 분석'),\n",
       " '6cc1f644-d039-4ce8-a410-a011e0e011a7': Document(id='6cc1f644-d039-4ce8-a410-a011e0e011a7', metadata={'producer': 'itext-paulo-155 (itextpdf.sf.net-lowagie.com)', 'creator': 'nPDF (pdftk 1.41)', 'creationdate': '2017-08-16T00:21:02-08:00', 'moddate': '2017-08-16T00:21:02-08:00', 'source': 'https://wdr.ubion.co.kr/wowpass/img/event/gsat_170823/gsat_170823.pdf', 'total_pages': 27, 'page': 14, 'page_label': '15'}, page_content='❙요약 재무상태표❙\\n(단위: 10억원)\\n구분 2012년 결산 2013년 결산 2014년 결산 2015년 결산\\n자산\\n\\u3000유동자산 43,952 60,604 62,055 67,002\\n\\u3000\\u3000매출채권 17,297 17,749 18,941 20,251\\n\\u3000\\u3000재고자산 5,326 5,880 5,554 6,578\\n\\u3000비유동자산 89,312 94,222 102,006 101,968\\n\\u3000자산총계 133,264 154,826 164,061 168,970\\n부채\\n\\u3000유동부채 24,770 27,598 28,209 29,630\\n\\u3000비유동부채 2,606 4,857 3,175 2,911\\n\\u3000부채총계 27,376 32,455 31,384 32,541\\n자본\\n\\u3000자본금 898 898 898 898\\n\\u3000자본잉여금 4,404 4,404 4,404 4,404\\n\\u3000이익잉여금 105,307 122,029 134,464 143,629\\n\\u3000자본총계 105,888 122,371 132,677 136,428'),\n",
       " 'b75883d3-0636-411b-9f17-b2d17eb1903e': Document(id='b75883d3-0636-411b-9f17-b2d17eb1903e', metadata={'producer': 'itext-paulo-155 (itextpdf.sf.net-lowagie.com)', 'creator': 'nPDF (pdftk 1.41)', 'creationdate': '2017-08-16T00:21:02-08:00', 'moddate': '2017-08-16T00:21:02-08:00', 'source': 'https://wdr.ubion.co.kr/wowpass/img/event/gsat_170823/gsat_170823.pdf', 'total_pages': 27, 'page': 14, 'page_label': '15'}, page_content='2015년말 기준 삼성전자의 총자산 금액은 약 169조에 달하며, 부채는 32.5조, 자본총계는 136조에 이르고 \\n있다.'),\n",
       " 'b6670144-2161-4080-a07e-800455da4c7f': Document(id='b6670144-2161-4080-a07e-800455da4c7f', metadata={'producer': 'itext-paulo-155 (itextpdf.sf.net-lowagie.com)', 'creator': 'nPDF (pdftk 1.41)', 'creationdate': '2017-08-16T00:21:02-08:00', 'moddate': '2017-08-16T00:21:02-08:00', 'source': 'https://wdr.ubion.co.kr/wowpass/img/event/gsat_170823/gsat_170823.pdf', 'total_pages': 27, 'page': 15, 'page_label': '16'}, page_content='17\\n❙요약 손익계산서❙\\n(단위: 10억원)\\n구분 2012년 결산 2013년 결산 2014년 결산 2015년 결산\\n매출액 141,206 158,372 137,826 135,205\\n매출원가 99,432 110,732 99,189 99,659\\n매출총이익 41,774 47,641 38,637 35,546\\n판매비와관리비 23,264 25,834 24,712 22,147\\n영업이익 18,510 21,807 13,925 13,398\\n금융비용 3,206 3,847 3,734 4,714\\n당기순이익 17,399 17,930 14,592 12,238\\n2015년말 기준 삼성전자의 매출액은 135조에 달하며, 13조원의 영업이익, 12조원의 당기순이익을 올리고 \\n있다.'),\n",
       " '0f7fdfb5-1bfa-4114-b083-14cb1446522a': Document(id='0f7fdfb5-1bfa-4114-b083-14cb1446522a', metadata={'producer': 'itext-paulo-155 (itextpdf.sf.net-lowagie.com)', 'creator': 'nPDF (pdftk 1.41)', 'creationdate': '2017-08-16T00:21:02-08:00', 'moddate': '2017-08-16T00:21:02-08:00', 'source': 'https://wdr.ubion.co.kr/wowpass/img/event/gsat_170823/gsat_170823.pdf', 'total_pages': 27, 'page': 16, 'page_label': '17'}, page_content='18\\n삼성전자, “퀀텀닷 기술이 차세대 TV 화질 리드할 것”\\n(한국경제. 2016.05.26)\\n“퀀텀닷 기술이 차세대 TV 화질을 이끌 것이다.” 퀀텀닷(양자점, Quantum Dots) 분야의 세계\\n적인 석학들이 참여하는 ‘제9회국제퀀텀닷컨퍼런스’에서 장혁 삼성전자 종합기술원 부사장(삼성펠\\n로우)이 26일 기조 연설자로 나섰다.\\n장혁 부사장은 차세대 소재인 퀀텀닷과 함께 진화하고 있는 디스플레이 기술을 소개하면서 \\n“지금까지 새로운 소재의 개발이 TV 화질의 혁신을 이끌어 왔다 ”며 “TV디스플레이 부문에서는 \\n자연 그대로의 색 표현이 가능한 퀀텀닷을 적용한 삼성 SUHD TV가 화질의 새로운 역사를 쓰고 \\n있다”고 말했다.\\n장 부사장은 “최근 디지털 기반의 전자 디바이스의 기술 발전 속도에 비해 소재 기술 발전이 \\n상대적으로 더디게 진행되고 있고, 디바이스의 혁신 또한 한계에 도달하고 있는 상황 ”이라며 “지'),\n",
       " 'f8bf0aa5-fbd9-454a-bade-63e48db5ca97': Document(id='f8bf0aa5-fbd9-454a-bade-63e48db5ca97', metadata={'producer': 'itext-paulo-155 (itextpdf.sf.net-lowagie.com)', 'creator': 'nPDF (pdftk 1.41)', 'creationdate': '2017-08-16T00:21:02-08:00', 'moddate': '2017-08-16T00:21:02-08:00', 'source': 'https://wdr.ubion.co.kr/wowpass/img/event/gsat_170823/gsat_170823.pdf', 'total_pages': 27, 'page': 16, 'page_label': '17'}, page_content='속적인 혁신을 위해서는 연구 개발 단계에서부터 세트(제품), 부품과 소재의 기술 개발을 통합해\\n서 진행하는 것이 중요하다”고 설명했다.\\n또 퀀텀닷 소재가 새로운 기능이 부가된 차세대 디바이스의 혁신을 이끌어 낼 수 있는 기술임\\n을 강조했다. 정 부사장은 “1980년대에 퀀텀닷의 효과가 발견된 이래 연구개발을 거쳐 2013년 \\n처음으로 디바이스에 적용됐으며, 2015년에 세계 최초로 ‘카드뮴 프리 (Cadmium Free)’ 퀀텀닷 \\n기술을 적용한 SUHD TV가 출시됐다”고 소개했다. 그는 퀀텀닷 기술이 계속 개발되면서 이전에 \\n없던 새로운 기술로 진화 발전해 TV 디스플레이 시장의 성장을 이끌어 갈 것이라고 전망하면서, \\n이를 신소재인 퀀텀닷의 결정 구조와 합성 공정을 이해하고 효율을 추가로 높이는 동시에 새로\\n운 기능을 추가하는 연구 개발이 중요하다고 분석했다.\\n삼성전자는 미래 TV 디스플레이 기술로 ‘퀀텀닷’을 선택하면서 종합기술원과 함께 퀀텀닷 원천'),\n",
       " 'c54109a6-531e-44ea-ad41-9e64ed6968f3': Document(id='c54109a6-531e-44ea-ad41-9e64ed6968f3', metadata={'producer': 'itext-paulo-155 (itextpdf.sf.net-lowagie.com)', 'creator': 'nPDF (pdftk 1.41)', 'creationdate': '2017-08-16T00:21:02-08:00', 'moddate': '2017-08-16T00:21:02-08:00', 'source': 'https://wdr.ubion.co.kr/wowpass/img/event/gsat_170823/gsat_170823.pdf', 'total_pages': 27, 'page': 16, 'page_label': '17'}, page_content='기술과 상용화 기술을 함께 연구 중이다.\\nⅢ 기업 이슈\\n1  최신이슈\\n1) 카드뮴 프리 퀀텀닷 기술\\n삼성전자는 미국 환경보호청이 주관하는 ‘2016 SMM 어워드’의 ‘챔피언 어워드’ 부문에서 ‘카드뮴 프리 \\n퀀텀닷 기술’로 최첨단 기술상을 수상한 바 있습니다. 삼성전자는 세계 최고 수준 카드뮴 프리 친환경 \\n퀀텀닷 기술 개발 선도, 업계 최초 카드뮴 프리 퀀텀닷 TV 출시 등 친환경 기술력을 높게 평가받으며 \\n이번 상을 받았습니다. 삼성전자의 퀀텀닷 TV는 인체와 환경에 유해한 물질인 카드뮴을 사용하지 않은 \\n유일한 TV입니다. 퀀텀닷 컬러 기술을 적용한 SUHD TV에는 머리카락 10만분의 1보다 더 작은 나노 \\n크기워 퀀텀닷 입자를 사용합니다. 이를 통해 초밀도 화질을 구현할 수 있게 되었습니다.'),\n",
       " 'c0db0484-250e-41f1-9b27-6cde68fd7ee5': Document(id='c0db0484-250e-41f1-9b27-6cde68fd7ee5', metadata={'producer': 'itext-paulo-155 (itextpdf.sf.net-lowagie.com)', 'creator': 'nPDF (pdftk 1.41)', 'creationdate': '2017-08-16T00:21:02-08:00', 'moddate': '2017-08-16T00:21:02-08:00', 'source': 'https://wdr.ubion.co.kr/wowpass/img/event/gsat_170823/gsat_170823.pdf', 'total_pages': 27, 'page': 17, 'page_label': '18'}, page_content='19\\n삼성, 신형 갤A 시리즈 공개, 새해 벽두부터 중저가폰 경쟁\\n(한국경제. 2017.01.03)\\n삼성전자가 카메라 성능을 강화하고 방수·방진 기능을 담은 준프리미엄 스마트폰 갤럭시A 시\\n리즈 3종(2017년형·사진)을 공개했다. 앞서 LG전자는 신형 중저가폰 K시리즈와 스타일러스3 등\\n을 발표했고, KT는 자사 전용 초저가폰을 3일 출시하는 등 새해 벽두부터 스마트폰 경쟁이 치열\\n하다.\\n삼성전자가 2일 발표한 갤럭시 A 시리즈는 갤럭시 A3(4.7인치), 갤럭시A5(5.2인치), 갤럭시\\nA7(5.7인치) 등이다. 숫자가 높을수록 고성능 제품이다. 갤럭시A5와 갤럭시A7은 앞뒷면에 모두 \\n1600만 화소 카메라를 적용했다 . 일반적으로 스마트폰 아래쪽에 고정돼 있는 카메라 촬영 버튼\\n을 디스플레이 어느 곳으로든 이동할 수 있는 ‘플 로 팅  카 메 라  버 튼’ 기능을 담았다. 삼성전자 관'),\n",
       " '18804f18-01f6-47ed-b0e6-b68abf4f4655': Document(id='18804f18-01f6-47ed-b0e6-b68abf4f4655', metadata={'producer': 'itext-paulo-155 (itextpdf.sf.net-lowagie.com)', 'creator': 'nPDF (pdftk 1.41)', 'creationdate': '2017-08-16T00:21:02-08:00', 'moddate': '2017-08-16T00:21:02-08:00', 'source': 'https://wdr.ubion.co.kr/wowpass/img/event/gsat_170823/gsat_170823.pdf', 'total_pages': 27, 'page': 17, 'page_label': '18'}, page_content='계자는 “오른손잡이든, 왼손잡이든 손쉽게 사진을 찍을 수 있도록 도와주는 기능 ”이라며 “어떤 \\n손가락으로 사진을 찍더라도 편리하게 촬영할 수 있다 ”고 설명했다. 셀프카메라를 찍을 때 디스\\n플레이 빛이 플래시 역할을 하기도 한다.\\n신형 갤럭시A 시리즈는 방수·방진 기능을 갖췄다. 삼성전자의 모바일 결제 서비스인 삼성페\\n이도 이용할 수 있다 . 색상은 블랙스카이, 골드샌드, 블루미스트, 피치클라우드 등 네 가지로 출\\n시될 예정이다. 삼성전자는 오는 5일 개막하는 세계 최대 전자쇼 ‘CES 2017’에 갤럭시A 시리즈\\n를 전시할 계획이다.\\nLG전자는 이번 CES에서 실속형 스마트폰 K시리즈 4종과 스타일러스3 등을 발표한다. K 시리\\n즈는 사용자 얼굴을 인식해 자동으로 셀프카메라를 찍어주는 ‘오토샷’ 기능, 손바닥을 폈다가 주\\n먹을 쥐면 3초 뒤 자동으로 촬영하는 ‘제스처샷’ 기능 등을 갖췄다.'),\n",
       " 'b45031d4-f1f6-4084-8e7d-f4b09383229e': Document(id='b45031d4-f1f6-4084-8e7d-f4b09383229e', metadata={'producer': 'itext-paulo-155 (itextpdf.sf.net-lowagie.com)', 'creator': 'nPDF (pdftk 1.41)', 'creationdate': '2017-08-16T00:21:02-08:00', 'moddate': '2017-08-16T00:21:02-08:00', 'source': 'https://wdr.ubion.co.kr/wowpass/img/event/gsat_170823/gsat_170823.pdf', 'total_pages': 27, 'page': 17, 'page_label': '18'}, page_content='KT는 신용카드 크기의 초소형 휴대폰 마이크로 X S240을 3일 선보인다. 이 제품은 미국 벤처\\n기업 포시모바일의 3세대(3G) 휴대폰이다. 출고가는 13만2000원. SK 텔레콤은 6일 출고가 43만\\n3400원짜리 중저가폰 쏠프라임을 출시한다.\\n2) 2017년형 ‘갤럭시 A’ 3종 공개\\n삼성전자가 유려한 디자인과 강력한 성능, 최상의 편의성을 갖춘 2017년형 ‘갤럭시 A’를 공개했습니다. \\n‘갤럭시 A’는 ‘갤럭시 A7(5.7형)’, ‘갤럭시 A5(5.2형)’, ‘갤럭시 A3(4.7형)’ 등 총 3종인데요. 2017년형 ‘갤럭시 \\nA’는 전면과 후면 모두 1,600만의 고화소 카메라를 탑재해 선명하고 생생한 사진 촬영이 가능합니다. \\n특히, 디스플레이 어느 곳으로도 이동할 수 있는 ‘플로팅 카메라 버튼(Floating Camera Button)’을 적용하고, \\n디스플레이 광원을 사용한 셀피 플래시 기능으로 언제나 편리하게 만족스러운 셀피를 촬영할 수 있습니다.'),\n",
       " 'cd9fcf68-747b-4778-9d85-f645c5066819': Document(id='cd9fcf68-747b-4778-9d85-f645c5066819', metadata={'producer': 'itext-paulo-155 (itextpdf.sf.net-lowagie.com)', 'creator': 'nPDF (pdftk 1.41)', 'creationdate': '2017-08-16T00:21:02-08:00', 'moddate': '2017-08-16T00:21:02-08:00', 'source': 'https://wdr.ubion.co.kr/wowpass/img/event/gsat_170823/gsat_170823.pdf', 'total_pages': 27, 'page': 17, 'page_label': '18'}, page_content='또한 스와이프만으로 촬영 모드나 효과를 변경할 수 있는 간결한 UX 경험도 제공합니다. 2017년형 ‘갤럭시 \\nA’는 갤럭시 A 시리즈 최초로 IP68 등급의 방수·방진을 지원하며, USB 타입-C 포트를 탑재해 충전 시 \\n케이블의 앞뒤를 구분해야 하는 기존의 번거로움을 없앴습니다.'),\n",
       " 'a2f85499-f025-4479-92ab-71173abd5334': Document(id='a2f85499-f025-4479-92ab-71173abd5334', metadata={'producer': 'itext-paulo-155 (itextpdf.sf.net-lowagie.com)', 'creator': 'nPDF (pdftk 1.41)', 'creationdate': '2017-08-16T00:21:02-08:00', 'moddate': '2017-08-16T00:21:02-08:00', 'source': 'https://wdr.ubion.co.kr/wowpass/img/event/gsat_170823/gsat_170823.pdf', 'total_pages': 27, 'page': 18, 'page_label': '19'}, page_content='20\\n삼성전자, 차세대 V낸드 솔루션 공개\\n삼성전자가 4세대(64단) 3D 낸드(V낸드)플래시를 사용한 스토리지 제품 3종을 공개했다. 64 단 \\nV낸드 기술을 바탕으로 테라바이트급 저장 장치를 올해 말 선보인다.\\n삼성전자는 10일(현지시간) 미국 산타클라라 컨벤션 센터에서 열린 ‘플래시 메모리 서밋 2016 \\n(Flash Memory Summit)’에서 차세대 V낸드 솔루션 및 중장기 전략을 공개했다 . 플래시 메모리 \\n서밋 2016은 매년 미국에서 열리는 세계 최대 플래시 메모리 업계 컨퍼런스다 . \\n삼성전자는 이번 플래시 메모리 서밋에서 4세대(64단) V 낸드 기술을 바탕으로 3차원 메모리 \\n기술 리더십을 공고히 하고, 빅데이터 시대를 맞아 초고용량의 ‘테라’ 시대를 주도해 나간다는 중\\n장기 전략을 공개했다.\\n이는 빅데이터의 증가와 고속 처리 , 데이터센터 관리 비용 절감 등 시장 요구에 맞춰 △고용'),\n",
       " '187859bb-1394-4032-84c2-83f4d50d6db9': Document(id='187859bb-1394-4032-84c2-83f4d50d6db9', metadata={'producer': 'itext-paulo-155 (itextpdf.sf.net-lowagie.com)', 'creator': 'nPDF (pdftk 1.41)', 'creationdate': '2017-08-16T00:21:02-08:00', 'moddate': '2017-08-16T00:21:02-08:00', 'source': 'https://wdr.ubion.co.kr/wowpass/img/event/gsat_170823/gsat_170823.pdf', 'total_pages': 27, 'page': 18, 'page_label': '19'}, page_content='량 △고성능 △초소형 솔루션으로 기업 고객들의 IT 투자 효율을 극대화하겠다는 전략이다. \\n이에 삼성전자는 △ 기존 3세대(48단) 제품 대비 적층 단수를 30% 높인 4세대(64단) V 낸드 \\n△ 고용량 서버용 32TB SAS SSD △ 울트라 슬림 PC용 1TB BGA NVMe SSD △ 하이엔드용 \\nZ- SSD 등 혁신적인 4세대 V낸드 기반 신제품을 선보였다.\\n‘4세대 V낸드’는 데이터를 저장하는 ‘3차원 셀 (Cell)’을 기존(48단)보다 1.3배 더 쌓아 올리는 \\n삼성전자의 혁신 기술이 적용된 제품이다. 4 세대 V낸드는 512Gb까지 구현 가능해 고용량 제품\\n을 소형 패키지로 만들 수 있으며 , 입출력 속도를 800Mbps까지 높혔다. 삼성전자는 세계 최초로 \\n4세대 V낸드 기반 솔루션 제품을 올해 4분기에 출시할 예정이다. \\n또 삼성전자는 4세대 V낸드를 탑재해 16TB인 기존 제품보다 용량을 2배 높인 세계 최대 용'),\n",
       " '684322bf-e59a-4666-99ce-16fddf3cb875': Document(id='684322bf-e59a-4666-99ce-16fddf3cb875', metadata={'producer': 'itext-paulo-155 (itextpdf.sf.net-lowagie.com)', 'creator': 'nPDF (pdftk 1.41)', 'creationdate': '2017-08-16T00:21:02-08:00', 'moddate': '2017-08-16T00:21:02-08:00', 'source': 'https://wdr.ubion.co.kr/wowpass/img/event/gsat_170823/gsat_170823.pdf', 'total_pages': 27, 'page': 18, 'page_label': '19'}, page_content='량의 ‘32TB 서버 SSD’를 내년 중 출시할 예정이다 . 삼성전자는 2020년까지 100TB이상 초고용량 \\nSSD를 개발해 테라 SSD 대중화를 선도하고 데이터센터와 기업용 스토리지 SSD 시장을 지속 선\\n점한다는 방침이다.\\n아울러 삼성전자는 삼성전기와 고집적 패키지 기술 (FO-PLP)을 공동 개발해 1센트 동전 크기\\n의 초소형 ‘1TB BGA NVMe SSD’ 를 내년 중 출시할 예정이다 . 연속 읽기속도는 기존 SSD보다 \\n3배 빠른 1,500MB/s이며, 고속 쓰기(Turbo Write) 기술을 적용해 쓰기속도도 900MB/s에 이른\\n다. 이는 고해상도 Full HD급 영화 1편(5GB)을 약 3초에 전송하고,약 6초 에  저 장 할  수  있 는  속\\n도다. 이 제품은 기존 제품 대비 크기를 50% 이상 줄였다. \\n초고성능 하이엔드 SSD제품도 선보였다. \\n3) 삼성전자, 차세대 V낸드 솔루션 공개'),\n",
       " '28d00602-2293-4f6a-bbba-135f7dd7a27e': Document(id='28d00602-2293-4f6a-bbba-135f7dd7a27e', metadata={'producer': 'itext-paulo-155 (itextpdf.sf.net-lowagie.com)', 'creator': 'nPDF (pdftk 1.41)', 'creationdate': '2017-08-16T00:21:02-08:00', 'moddate': '2017-08-16T00:21:02-08:00', 'source': 'https://wdr.ubion.co.kr/wowpass/img/event/gsat_170823/gsat_170823.pdf', 'total_pages': 27, 'page': 18, 'page_label': '19'}, page_content='삼성전자는 2013년 세계 최초로 V낸드 제품을 내놓았고, 현재 그 비중을 빠르게 늘리고 있습니다. 3세대 \\nV낸드는 삼성전자가 세계에서 유일하게 생산하고 있습니다. V낸드란 기존 3세대 제품 대비 적층 단수를 \\n높여 속도와 생산성은 늘리는 반면 전력소모량은 낮추는 제품입니다. 2016년 4분기에는 4세대 V낸드를 \\n출시할 예정이며 동종 업계 유일한 공급업체라는 데 있어 그 의의가 상당히 높다고 할 수 있습니다.'),\n",
       " '2ce38657-dd0e-4ee8-8ef8-1221dcebd34f': Document(id='2ce38657-dd0e-4ee8-8ef8-1221dcebd34f', metadata={'producer': 'itext-paulo-155 (itextpdf.sf.net-lowagie.com)', 'creator': 'nPDF (pdftk 1.41)', 'creationdate': '2017-08-16T00:21:02-08:00', 'moddate': '2017-08-16T00:21:02-08:00', 'source': 'https://wdr.ubion.co.kr/wowpass/img/event/gsat_170823/gsat_170823.pdf', 'total_pages': 27, 'page': 19, 'page_label': '20'}, page_content='21\\n삼성전자는 NVMe SSD 대비 응답시간은 4배 이상, 연속 읽기속도는 1.6 배 빠른 ‘Z-SSD’를 공\\n개했다. Z-SSD는 V낸드, 컨트롤러 등 최적화된 동작회로를 구성해 스토리지의성능을 더욱 높인 \\n초고성능 하이엔드 SSD 제품으로, 내 년  중  출 시 할  예 정 이 다.\\nZ-SSD는 빅데이터 분석, 서버용 캐시 등 실시간 분석이 요구되는 고성능 시장에 최적의 솔루\\n션을 제공할 것으로 기대된다. \\n전영현 삼성전자 메모리사업부장(사장)은 “고객들에게 4세대 V낸드 기반 고용량, 고성능, 초소\\n형 솔루션을 제공해 스토리지 시스템의 TCO(Total Cost of Ownership) 절감 효과를 극대화할 \\n수 있게 됐다 ”며 “앞으로 독보적인 V낸드 기술을 바탕으로 스토리지 사업 영역을 지속 확대해 \\n나갈 것”이라고 밝혔다.\\n2  삼성전자 관련 용어정리\\n∙인포테인먼트 시스템 : 인포메이션(운전과 길 안내 등 필요한 정보) + 엔터테인먼트(다양한 오락거리)의'),\n",
       " '6cb241a1-6c58-4dbb-948e-16d2becc1b88': Document(id='6cb241a1-6c58-4dbb-948e-16d2becc1b88', metadata={'producer': 'itext-paulo-155 (itextpdf.sf.net-lowagie.com)', 'creator': 'nPDF (pdftk 1.41)', 'creationdate': '2017-08-16T00:21:02-08:00', 'moddate': '2017-08-16T00:21:02-08:00', 'source': 'https://wdr.ubion.co.kr/wowpass/img/event/gsat_170823/gsat_170823.pdf', 'total_pages': 27, 'page': 19, 'page_label': '20'}, page_content='합성어로, 차량 내 자동차가 무선 네트워크과 직접 연결되어 차가 하나의 커다란 스마트폰이 될 수 \\n있는 시스템이다.\\n∙AP : 스마트폰·디지털 TV 등에 사용되는 비메모리 반도체로 일반 컴퓨터의 중앙처리장치(CPU)와 같은 \\n역할을 한다.\\n∙ 하이엔드 : 오디오 시장에서 주로 사용되는 용어로, 제품군 가운데 가장 뛰어난 성능을 가진 제품을 \\n가리킨다.\\n∙낸드플래시 : 플래시 메모리의 한 형태로 전원이 없는 상태에서도 데이터를 계속 저장할 수 있으며 데이터\\n를 자유롭게 저장·삭제할 수 있다. 2002년부터 세계 1위를 유지하고 있다.\\n∙스마트워크 : 스마트 워크란 종래의 사무실 근무를 벗어나 언제 어디서나 효율적으로 일할 수 있는 업무개\\n념을 뜻한다.\\n∙잉여현금흐름 : 기업에 현금이 얼마나 순유입 되었는지를 나타내는 지표로 기업이 사업 활동에서 벌어들인 \\n현금에서 각종 비용과 세금, 설비투자 등을 빼고 남은 잔여 현금흐름을 말한다.\\n∙ 포터블 : 사람이 휴대하기 편리하게 생산된 기기'),\n",
       " '130b2995-a622-4143-9dca-9460956885a3': Document(id='130b2995-a622-4143-9dca-9460956885a3', metadata={'producer': 'itext-paulo-155 (itextpdf.sf.net-lowagie.com)', 'creator': 'nPDF (pdftk 1.41)', 'creationdate': '2017-08-16T00:21:02-08:00', 'moddate': '2017-08-16T00:21:02-08:00', 'source': 'https://wdr.ubion.co.kr/wowpass/img/event/gsat_170823/gsat_170823.pdf', 'total_pages': 27, 'page': 19, 'page_label': '20'}, page_content='∙ HDR : 명암비를 세밀하게 분석해 어두운 곳과 밝은 곳의 미세한 차이까지도 정확하게 표현하는 영상 \\n기술'),\n",
       " '66496707-098c-43b8-ae4a-db0d81a49a99': Document(id='66496707-098c-43b8-ae4a-db0d81a49a99', metadata={'producer': 'itext-paulo-155 (itextpdf.sf.net-lowagie.com)', 'creator': 'nPDF (pdftk 1.41)', 'creationdate': '2017-08-16T00:21:02-08:00', 'moddate': '2017-08-16T00:21:02-08:00', 'source': 'https://wdr.ubion.co.kr/wowpass/img/event/gsat_170823/gsat_170823.pdf', 'total_pages': 27, 'page': 20, 'page_label': '21'}, page_content='22\\n부문 사업부 직군 모집 전공 근무지\\nCE/IM부문 \\n및 \\n전사직속\\n부문공통\\n연구개발직\\n전기전자(H/W), 수학, 물리 수원 /구미\\n소프트웨어직 수원\\n기술직 수원 /구미/광주\\n소프트웨어직 전기전자(S/W), 전산/컴퓨터, 수학, 물리 수원 /구미\\n기술직 전기전자 (H/W), 전기전자(S/W), 기계, 전산/컴퓨터 수원 /구미\\n영업마케팅직 전공 무관 -\\n경영지원직(재무) 상경(부전공 포함)-\\n디자인직(제품) 산업디자인 -\\n디자인직(UI) 시각디자인, 산업디자인, 산업공학 -\\n한국총괄 영업마케팅직\\n(국내영업) 전공 무관 전국\\nDS부문 메모리\\n연구개발직 전기전자(H/W), 재료/금속, 화학/화공, 물리, 기계, 수학, \\n통계 화성/온양\\n설비엔지니어직 전기전자(H/W), 재료/금속, 화학/화공, 물리, 기계, 화성\\n생산관리직 산공 , 수학, 통계 화성\\nⅣ 채용분석 \\n1  채용절차\\n구 분 전형단계 내용'),\n",
       " 'e136ed95-8c93-4f99-b6b9-858dc2200fc5': Document(id='e136ed95-8c93-4f99-b6b9-858dc2200fc5', metadata={'producer': 'itext-paulo-155 (itextpdf.sf.net-lowagie.com)', 'creator': 'nPDF (pdftk 1.41)', 'creationdate': '2017-08-16T00:21:02-08:00', 'moddate': '2017-08-16T00:21:02-08:00', 'source': 'https://wdr.ubion.co.kr/wowpass/img/event/gsat_170823/gsat_170823.pdf', 'total_pages': 27, 'page': 20, 'page_label': '21'}, page_content='1차 서류전형 ∙ 서류전형을 통해 지원자 중에서 회사가 필요로 하는 분야의 대상이 되는지를 검토합니다.\\n∙ 성적, 출결, 생활태도, 지원동기 및 포부, 보유자격 등을 종합적으로 검토하여 전형을 합니다.\\n2차 직무적성검사 진취적이고 창의적인 인재를 선발할 수 있는 도구로서 기초능력 검사와 직무능력 검사로 나누\\n어 평가합니다.\\n3차 면접 ∙ 면접은 임원면접을 실시합니다.\\n∙ 단, 엔지니어직 및 S/W직의 경우 회사별로 별도 기술 면접을 실시할 수 있습니다.\\n2  채용공고\\n1) 지원자격\\n∙ 병역필 또는 면제자로 해외여행에 결격사유가 없는 분\\n∙ 영어회화자격을 보유한 분 : 3) 참조\\n2) 모집분야 : 삼성전자'),\n",
       " 'a5bbac3f-f468-46f0-b2aa-dccc16e340ea': Document(id='a5bbac3f-f468-46f0-b2aa-dccc16e340ea', metadata={'producer': 'itext-paulo-155 (itextpdf.sf.net-lowagie.com)', 'creator': 'nPDF (pdftk 1.41)', 'creationdate': '2017-08-16T00:21:02-08:00', 'moddate': '2017-08-16T00:21:02-08:00', 'source': 'https://wdr.ubion.co.kr/wowpass/img/event/gsat_170823/gsat_170823.pdf', 'total_pages': 27, 'page': 21, 'page_label': '22'}, page_content='23\\n계열사 직무 OPIC 토익스피킹\\n삼성전자\\nCE/IM부문 및 \\n전사직속\\n연구개발/소프트웨어/기술직 IL 5 급\\n영업마케팅직 IH 7 급\\n영업마케팅직(국내영업)I M 6 급\\n경영지원직(재무)I M 6 급\\n디자인직(UI, 제품) 해당사항없음\\nDS부문\\n연구개발/소프트웨어/설비엔지니어링/생산관리직 IL 5 급\\n영업마케팅직 IH 7 급\\n경영지원직(재무)I M 6 급\\n경영지원직 IM 6 급\\nSCSA IL 5 급\\n삼성디스플레이\\n연구개발직 IL 5 급\\n소프트웨어직 IL 5 급\\n설비엔지니어직 IL 5 급\\n삼성SDI\\n연구개발직 IL 5 급\\n기술직 IL 5 급\\n영업마케팅직 IM 6 급\\n삼성전기\\n영업마케팅직 IL 5 급\\n경영지원직(재무)I M 6 급\\nSystem LSI\\n연구개발직 전기전자(H/W), 재료/금속, 화학/화공, 물리, 기계 기흥 /화성\\n설비엔지니어직 전기전자(H/W), 재료/금속, 화학/화공, 물리, 기계 기흥 /화성\\n반도체\\n연구소'),\n",
       " '2fc75ce8-6e75-4ae3-a765-fe53e61e75d3': Document(id='2fc75ce8-6e75-4ae3-a765-fe53e61e75d3', metadata={'producer': 'itext-paulo-155 (itextpdf.sf.net-lowagie.com)', 'creator': 'nPDF (pdftk 1.41)', 'creationdate': '2017-08-16T00:21:02-08:00', 'moddate': '2017-08-16T00:21:02-08:00', 'source': 'https://wdr.ubion.co.kr/wowpass/img/event/gsat_170823/gsat_170823.pdf', 'total_pages': 27, 'page': 21, 'page_label': '22'}, page_content='연구개발직 전기전자(H/W), 재료/금속, 화학/화공, 물리, 기계 기흥 /화성/온양\\n설비엔지니어직 전기전자(H/W), 재료/금속, 화학/화공, 물리, 기계 기흥 /화성/온양\\nTest&Pack\\nage 센터\\n연구개발직 전기전자(H/W), 재료/금속, 화학/화공, 물리, 기계 온양\\n설비엔지니어직 전기전자(H/W), 재료/금속, 화학/화공, 물리, 기계 온양\\nLED사업팀 연구개발직 전기전자(H/W), 재료/금속, 화학/화공, 물리, 기계 기흥 /화성\\n기흥/화성\\n단지총괄\\n연구개발직 전기전자(H/W), 기계, 산공 기흥 /화성/온양\\n설비엔지니어직 전기전자(H/W), 재료/금속, 화학/화공, 물리, 기계 기흥 /화성/온양\\n생산기술\\n연구소 연구개발직 전기전자(H/W), 물리, 기계 화성\\n부문공통\\n소프트웨어직 전기전자(S/W), 전산/컴퓨터, 산공, 수학, 물리, 통계 기흥/화성/수원/\\n온양\\n영업마케팅직 전공무관 기흥 /화성\\n경영지원직(재무) 상경(부전공 포함) 기흥/화성/온양'),\n",
       " '23ce71d9-8bf5-4028-9146-c50117a83a90': Document(id='23ce71d9-8bf5-4028-9146-c50117a83a90', metadata={'producer': 'itext-paulo-155 (itextpdf.sf.net-lowagie.com)', 'creator': 'nPDF (pdftk 1.41)', 'creationdate': '2017-08-16T00:21:02-08:00', 'moddate': '2017-08-16T00:21:02-08:00', 'source': 'https://wdr.ubion.co.kr/wowpass/img/event/gsat_170823/gsat_170823.pdf', 'total_pages': 27, 'page': 21, 'page_label': '22'}, page_content='경영지원직(일반) 전공무관 기흥 /화성/온양\\n종합기술원 연구개발직 전기전자(H/W), 재료/금속, 화학/화공 수원\\n※ 사업부/근무지는 입사후 결정됩니다.\\n3) 참고 : 삼성계열사별 어학기준(2016년도 하반기 기준)'),\n",
       " '31e5b4a2-edf4-4654-b876-c0175a13e729': Document(id='31e5b4a2-edf4-4654-b876-c0175a13e729', metadata={'producer': 'itext-paulo-155 (itextpdf.sf.net-lowagie.com)', 'creator': 'nPDF (pdftk 1.41)', 'creationdate': '2017-08-16T00:21:02-08:00', 'moddate': '2017-08-16T00:21:02-08:00', 'source': 'https://wdr.ubion.co.kr/wowpass/img/event/gsat_170823/gsat_170823.pdf', 'total_pages': 27, 'page': 22, 'page_label': '23'}, page_content='24\\n삼성SDS\\nICT개발/운영 IL 5 급\\n인프라 IL 5 급\\nSCSA IL 5 급\\n삼성바이오로직스\\n연구개발직 IM 6 급\\n경영지원직 IM 6 급\\n삼성바이오에피스\\n연구개발직 IM 6 급\\n경영지원직 IM 6 급\\n삼성생명\\n영업관리직 IL 5 급\\n상품계리직 IM 6 급\\n자산운용직 IM 6 급\\n금융IT직 IL 5 급\\n삼성화재\\n영업관리‧보상서비스 IL 5 급\\n상품개발‧계리 IM 6 급\\n삼성카드\\n영업마케팅직 IL 5 급\\n신용관리/RM IM 6 급\\n경영지원직(재무)I M 6 급\\nIT IL 5 급\\n디자인 해당사항 없음\\n삼성증권\\nPB/IB/Wholesale/운용/상품전략/리서치 IM 6 급\\nIT IL 5 급\\n삼성자산운용 경영지원직 IM 6 급\\n삼성엔지니어링 기술직 IM 6 급\\n삼성물산(건설) 기술직 IM 6 급\\n삼성물산(상사)\\n해외영업직 IH 7 급\\n경영지원직 IH 7 급\\n삼성물산(리조트)\\n조경시공 IL 5 급\\n파크운영(동물원운영)I M 6 급\\n경영지원직 IM 6 급\\nIT IL 5 급'),\n",
       " '55edd2c0-5438-4358-9197-c41a211760dd': Document(id='55edd2c0-5438-4358-9197-c41a211760dd', metadata={'producer': 'itext-paulo-155 (itextpdf.sf.net-lowagie.com)', 'creator': 'nPDF (pdftk 1.41)', 'creationdate': '2017-08-16T00:21:02-08:00', 'moddate': '2017-08-16T00:21:02-08:00', 'source': 'https://wdr.ubion.co.kr/wowpass/img/event/gsat_170823/gsat_170823.pdf', 'total_pages': 27, 'page': 22, 'page_label': '23'}, page_content='삼성물산(패션) Retail영업 IH 7 급\\n호텔신라\\n웹기획(면세유통)I H 7 급\\n인테리어공사관리(면세유통)I L 5 급\\n영업마케팅직(생활레저)I H 7 급\\n마케팅(호텔)I H 7 급\\n서비스(호텔)I H 7 급\\n경영지원직(호텔)I H 7 급\\n디자인(면세유통/호텔&레저) 해당사항없음'),\n",
       " 'c8e93596-c715-4c06-8927-6e8c48b02b2f': Document(id='c8e93596-c715-4c06-8927-6e8c48b02b2f', metadata={'producer': 'itext-paulo-155 (itextpdf.sf.net-lowagie.com)', 'creator': 'nPDF (pdftk 1.41)', 'creationdate': '2017-08-16T00:21:02-08:00', 'moddate': '2017-08-16T00:21:02-08:00', 'source': 'https://wdr.ubion.co.kr/wowpass/img/event/gsat_170823/gsat_170823.pdf', 'total_pages': 27, 'page': 23, 'page_label': '24'}, page_content='25\\n제일기획\\n기획직 IH 7 급\\n제작직(ART) 해당사항없음\\n소프트웨어직 IL 5 급\\n방송직(PD) IH 7 급\\n에스원\\n보안시스템영업직/빌딩자산운영직/경영지원직 IM 6 급\\n연구개발직/SI시공직/빌딩시설관리직 IL 5 급\\n첨단보안직 NH 4 급\\n삼성서울병원\\n경영지원직(재무)I M 6 급\\n법무 IM 6 급\\n삼성웰스토리\\n식품연구/제품개발 IL 5 급\\n수주영업 IM 6 급\\n식음구매 IM 6 급\\n법무 IM 6 급\\n경영지원직(재무)I M 6 급\\n3  최근 직무에세이 항목\\n1) 2016년 상반기, 하반기\\n본인의 취미/특기, 존경인물 및 존경하는 이유를 자유롭게 작성하여 주시기 바랍니다.\\n -  취미/특기\\n -  존경인물\\n -  존경이유\\nEssay 1\\n삼성취업을 선택한 이유와 입사 후 회사에서 이루고 싶은 꿈을 기술하십시오.\\n(700자 이내)\\nEssay 2\\n본인의 성장과정을 간략히 기술하되 현재의 자신에게 가장 큰 영향을 끼친 사건, 인물 등을 포함하여 기술하시기 바랍니다.'),\n",
       " 'f83f1a0c-f604-417c-83d6-bd5e2656e649': Document(id='f83f1a0c-f604-417c-83d6-bd5e2656e649', metadata={'producer': 'itext-paulo-155 (itextpdf.sf.net-lowagie.com)', 'creator': 'nPDF (pdftk 1.41)', 'creationdate': '2017-08-16T00:21:02-08:00', 'moddate': '2017-08-16T00:21:02-08:00', 'source': 'https://wdr.ubion.co.kr/wowpass/img/event/gsat_170823/gsat_170823.pdf', 'total_pages': 27, 'page': 23, 'page_label': '24'}, page_content='(※작품 속 가상인물도 가능) (1500자 이내)\\nEssay 3\\n최근 사회이슈 중 중요하다고 생각되는 한 가지를 선택하고 이에 관한 자신의 견해를 기술해 주시기 바랍니다.\\n(1000자 이내)'),\n",
       " '3424be36-6701-4bc3-9fcc-51f7ac422dc9': Document(id='3424be36-6701-4bc3-9fcc-51f7ac422dc9', metadata={'producer': 'itext-paulo-155 (itextpdf.sf.net-lowagie.com)', 'creator': 'nPDF (pdftk 1.41)', 'creationdate': '2017-08-16T00:21:02-08:00', 'moddate': '2017-08-16T00:21:02-08:00', 'source': 'https://wdr.ubion.co.kr/wowpass/img/event/gsat_170823/gsat_170823.pdf', 'total_pages': 27, 'page': 24, 'page_label': '25'}, page_content='26\\n2) 2015년\\n삼성취업을 선택한 이유와 입사 후 회사에서 이루고 싶은 꿈을 기술하십시오.(700자 이내)\\n본인의 성장과정을 간략히 기술하되 현재의 자신에게 가장 큰 영향을 끼친 사건, 인물 등을 포함하여 기술하시기 바랍니다. \\n(※작품 속 가상인물도 가능) (1500자 이내)\\n최근 사회이슈 중 중요하다고 생각되는 한 가지를 선택하고 이에 관한 자신의 견해를 기술해 주시기 바랍니다.\\n(1000자 이내)\\n4  필기시험 최근 출제유형 분석\\n구분 세부 유형 문항수 시간 (분)\\n언어논리 어휘 , 문장/문단배열, 독해 30 25\\n수리논리 응용수리 , 자료해석 20 30\\n추리 삼단논법 , 언어추리(논리게임 등), 문자추리, 도형추리, 단어추리, 추론형 30 30\\n시각적사고 평면도형 : 종이접기(펀칭 포함), 조각모음(찾기) 등 \\n입체도형 : 다른 도형 찾기, 전개도, 투상도, 블록형 등 30 30\\n상식 삼성 , 경영/경제, 일반상식, 시사상식, 과학/공학, 한국사, 세계사 50 25'),\n",
       " 'fff86fe3-0409-4c3f-ae70-276876265e8b': Document(id='fff86fe3-0409-4c3f-ae70-276876265e8b', metadata={'producer': 'itext-paulo-155 (itextpdf.sf.net-lowagie.com)', 'creator': 'nPDF (pdftk 1.41)', 'creationdate': '2017-08-16T00:21:02-08:00', 'moddate': '2017-08-16T00:21:02-08:00', 'source': 'https://wdr.ubion.co.kr/wowpass/img/event/gsat_170823/gsat_170823.pdf', 'total_pages': 27, 'page': 24, 'page_label': '25'}, page_content='합계 시험시간 : 9시 20분 ~ 12시 160 140\\n1) 시험특징 및 Tip\\n∙ 유형 : 객관식 5지선다\\n∙ 출제형식 : 영역별로 구별, 시간 별도, 단 쉬는 시간없이 진행 ⇨ 각 과목별 시간배분 전략 필요. 평소 \\n시간이 많이 걸리거나 난이도가 높은 유형을 파악하여 미리 전략을 세우는 것이 유리! \\n∙ 오답 작성시 불이익 있음 ⇨ 무작위로 찍지 않도록 조심!\\n∙ 시각적 사고 영역 : 문제지를 돌리거나 손상 금지 ⇨ 평소 시각적 사고영역의 문항을 손을 사용하지 \\n않고 생각으로만 풀이하도록 연습. 생각으로만 도형을 변환하는데 익숙해지는 것이 유리!\\n∙ 영역별 과락 있음 ⇨ 약점과목이라도 과락을 넘길 수 있도록 각 과목의 기본적인 문항은 반드시 맞출 \\n수 있도록 연습!\\n2) 자주 출제되는 유형\\n∙ 언어논리 : 2개의 제시문에서 공통질문 또는 공통결론 찾기\\n∙ 수리논리 : 가격계산, 확률, 자료해석 유형\\n∙ 추리_단어추리 : 단어간의 관계 추리'),\n",
       " '23025d2b-0d54-4c70-976a-743fbd1e1962': Document(id='23025d2b-0d54-4c70-976a-743fbd1e1962', metadata={'producer': 'itext-paulo-155 (itextpdf.sf.net-lowagie.com)', 'creator': 'nPDF (pdftk 1.41)', 'creationdate': '2017-08-16T00:21:02-08:00', 'moddate': '2017-08-16T00:21:02-08:00', 'source': 'https://wdr.ubion.co.kr/wowpass/img/event/gsat_170823/gsat_170823.pdf', 'total_pages': 27, 'page': 24, 'page_label': '25'}, page_content='∙ 시각적 사고 : 종이접어서 뒷모양 또는 앞모양 추론, 전개도를 이용한 입체도형 추론'),\n",
       " '6da01afa-77b6-466e-b923-538822286ca6': Document(id='6da01afa-77b6-466e-b923-538822286ca6', metadata={'producer': 'itext-paulo-155 (itextpdf.sf.net-lowagie.com)', 'creator': 'nPDF (pdftk 1.41)', 'creationdate': '2017-08-16T00:21:02-08:00', 'moddate': '2017-08-16T00:21:02-08:00', 'source': 'https://wdr.ubion.co.kr/wowpass/img/event/gsat_170823/gsat_170823.pdf', 'total_pages': 27, 'page': 25, 'page_label': '26'}, page_content='27\\n삼성전자 합격자 ○○○의 GSAT(직무적성검사) 후기\\n❙삼성직무능력검사(GSAT)❙\\n ※ 준비교재 : 시중 대기업 인적성 교재, GSAT 대비 교재\\n ※ 준비기간 : 1개월~2개월\\n ※ 기출소재\\n⑴ 언어논리\\n① 어휘 : 어휘의 의미, 빈칸에 들어갈(가지 않을) 단어, 어휘간의 의미관계 유추(나머지 포괄하는 \\n단어) 등\\n② 문장/문단배열 : 문장이 들어갈 위치 찾기, 문장 순서대로 배열, 제시문 뒤에 이어질 내용 찾기\\n③ 독해 : 2개의 제시문에서 공통질문/결론 찾기, 반론제기, 세부내용 파악, 세부내용 파악\\n⑵ 수리논리\\n① 응용수리(5문항 정도) : 방정식/부등식 활용, 확률/경우의 수, 가격계산 등\\n② 자료해설(15문항 정도) : 자료이해, 자료추론(계산), 자료변환\\n⑶ 추리 \\n① 명제논리 : 삼단논법, 언어추리(자리배열, 참거짓)\\n② 도형/문자추리 : 기호에 적용된 도형, 문자의 변환규칙 추리하기\\n③ 단어추리 : 단어간 관계 추리'),\n",
       " 'db61bbc2-4ede-481b-bdca-2cae83e5be8c': Document(id='db61bbc2-4ede-481b-bdca-2cae83e5be8c', metadata={'producer': 'itext-paulo-155 (itextpdf.sf.net-lowagie.com)', 'creator': 'nPDF (pdftk 1.41)', 'creationdate': '2017-08-16T00:21:02-08:00', 'moddate': '2017-08-16T00:21:02-08:00', 'source': 'https://wdr.ubion.co.kr/wowpass/img/event/gsat_170823/gsat_170823.pdf', 'total_pages': 27, 'page': 25, 'page_label': '26'}, page_content='④ 추론형 문항 : 진술 참거짓 판별, 반박, 논점파악\\n⑷ 시각적 사고 \\n① 종이접어서 모양 추론 \\n② 조각 : 주어진 도형에서 조각 찾기, 주어진 조각으로 만들 수 없는 모양 찾기\\n③ 입체도형 : 다른 도형 찾기, 다양한 방향에서 본 모양으로 입체도형 찾기\\n④ 전개도형 \\n⑥ 블록형 : 블록결합했을 때 나올 수 있는 모양 등\\n⑸ 기억나는 문항들\\n∙ 자율주행차 \\n∙ 평창통신기술\\n∙ 종이접기 (난이도 상)\\n∙ 한국사, 세계사 복합 문제\\n∙ 펀칭자르기 (난이도 상)\\n∙ 구멍뚫기 (난이도 상)\\n∙ 블록문제\\n∙ 경우의수\\n∙ 방정식, 부등식 활용\\n5  합격자가 전해주는 후기'),\n",
       " '263ae9cd-f3ac-4530-9814-a793879adf1e': Document(id='263ae9cd-f3ac-4530-9814-a793879adf1e', metadata={'producer': 'itext-paulo-155 (itextpdf.sf.net-lowagie.com)', 'creator': 'nPDF (pdftk 1.41)', 'creationdate': '2017-08-16T00:21:02-08:00', 'moddate': '2017-08-16T00:21:02-08:00', 'source': 'https://wdr.ubion.co.kr/wowpass/img/event/gsat_170823/gsat_170823.pdf', 'total_pages': 27, 'page': 26, 'page_label': '27'}, page_content='28\\n∙ 홍체 인식과 관련된 생체 인식 문제\\n∙ 퀀텀닷(양자점)과 OLED(유기발광다이오드)\\n∙ 차세대 디스플레이의 개념\\n∙ 과학 관련 소재 : 핀테크, 바이오시밀러, 증강현실, 알파고, 딥러닝\\n삼성전자 합격자 △△의 면접 설명 및 준비 Tip\\n⑴ 직무역량면접 : PT면접\\n∙ 기본 전공지식과 그 지식을 실제로 어떻게 활용할지 질문하는 것으로 직무능력 평가\\n∙ 직무에세이를 근거한 질문들\\n⑵ 창의성면접 : 과제에 대한 해결방안 발표 및 토론\\n∙ 제시된 과제에 대해 해결방안을 발표하고 면접관 질문(또는 토론)\\n∙키워드가 주어지고 고르면 면접 진행요원에게 관련 시험지를 받고 3~40분의 준비시간을 거쳐 면접관\\n에게 답변을 함\\n∙ 해당 질문에 대해 정답보다는 타인에게 자신의 생각을 명확하게 전달할 수 있는 논리력 중요!\\n⑶ 임원면접 : 인성면접\\n∙ 예상이 가능한 평범한 질문이므로 크게 긴장하지 않도록 주의\\n∙ 밝고 적극적인 태도 중요'),\n",
       " '35473557-addc-401f-9775-4a1690ada917': Document(id='35473557-addc-401f-9775-4a1690ada917', metadata={'producer': 'itext-paulo-155 (itextpdf.sf.net-lowagie.com)', 'creator': 'nPDF (pdftk 1.41)', 'creationdate': '2017-08-16T00:21:02-08:00', 'moddate': '2017-08-16T00:21:02-08:00', 'source': 'https://wdr.ubion.co.kr/wowpass/img/event/gsat_170823/gsat_170823.pdf', 'total_pages': 27, 'page': 26, 'page_label': '27'}, page_content='∙ 1분 자기소개와 마지막 하고 싶은 말을 물어보는 경우가 많으므로 미리 준비하여야.')}"
      ]
     },
     "execution_count": 62,
     "metadata": {},
     "output_type": "execute_result"
    }
   ],
   "source": [
    "# 저장된 문서들 출력\n",
    "faiss_db.docstore._dict"
   ]
  },
  {
   "cell_type": "markdown",
   "metadata": {
    "id": "RAEaHtA7czZt"
   },
   "source": [
    "## 파이스 문서 추가"
   ]
  },
  {
   "cell_type": "markdown",
   "metadata": {
    "id": "tsd5yZNOgo3s"
   },
   "source": [
    "### 문서 1개 추가"
   ]
  },
  {
   "cell_type": "code",
   "execution_count": 63,
   "metadata": {
    "id": "-H4c_lvJgcmz"
   },
   "outputs": [],
   "source": [
    "from langchain.schema import Document"
   ]
  },
  {
   "cell_type": "code",
   "execution_count": 64,
   "metadata": {
    "id": "Ik8gEh4BgQNW"
   },
   "outputs": [],
   "source": [
    "new_doc = Document(\n",
    "    page_content=\"엔비디아발 훈풍으로 전 세계 반도체가 들썩이는 가운데 국내 증시에서는 SK하이닉스 (198,600원 ▼1,400 -0.70%)의 활약이 돋보인다. 엔비디아에 대한 투자자들의 기대치가 높아지고 있어 SK하이닉스 역시 상승세를 이어갈 것이란 전망이 쏟아진다. 다만 SK하이닉스 주가에 상승동력으로 작용했던 엔비디아 실적 재료가 소진된 점은 차익실현 매물이 출현할 가능성을 높인다.\",\n",
    "    metadata={\"source\": \"내부 문서\", \"author\": \"홍길동\"}\n",
    ")"
   ]
  },
  {
   "cell_type": "code",
   "execution_count": 65,
   "metadata": {
    "colab": {
     "base_uri": "https://localhost:8080/"
    },
    "id": "WMef6TW6ghXW",
    "outputId": "5c13207d-a0b2-43fc-b262-6c93717bde8b"
   },
   "outputs": [
    {
     "name": "stdout",
     "output_type": "stream",
     "text": [
      "count before: 69\n"
     ]
    }
   ],
   "source": [
    "# 기존 문서\n",
    "print(\"count before:\", faiss_db.index.ntotal)"
   ]
  },
  {
   "cell_type": "code",
   "execution_count": 66,
   "metadata": {
    "colab": {
     "base_uri": "https://localhost:8080/"
    },
    "id": "CE2aJ7ufgfWn",
    "outputId": "0c89536c-6423-4586-f986-82917aa66f6e"
   },
   "outputs": [
    {
     "data": {
      "text/plain": [
       "['fd98e638-4473-466d-8dea-ddb4358abf72']"
      ]
     },
     "execution_count": 66,
     "metadata": {},
     "output_type": "execute_result"
    }
   ],
   "source": [
    "faiss_db.add_documents([new_doc])"
   ]
  },
  {
   "cell_type": "code",
   "execution_count": 67,
   "metadata": {
    "colab": {
     "base_uri": "https://localhost:8080/"
    },
    "id": "cmLUT6t6gi0E",
    "outputId": "c389aab4-9d3b-4ab9-c53d-8d5d54e9ecb9"
   },
   "outputs": [
    {
     "name": "stdout",
     "output_type": "stream",
     "text": [
      "count after: 70\n"
     ]
    }
   ],
   "source": [
    "print(\"count after:\", faiss_db.index.ntotal)"
   ]
  },
  {
   "cell_type": "markdown",
   "metadata": {
    "id": "eISbL01ZgqFM"
   },
   "source": [
    "### 다수의 문서 추가"
   ]
  },
  {
   "cell_type": "code",
   "execution_count": 68,
   "metadata": {
    "colab": {
     "base_uri": "https://localhost:8080/"
    },
    "id": "imX0EuZjgv87",
    "outputId": "8cc39614-4207-4aaa-f258-7ded93298e32"
   },
   "outputs": [
    {
     "name": "stdout",
     "output_type": "stream",
     "text": [
      "count after: 73\n"
     ]
    }
   ],
   "source": [
    "# 2. 여러 문서 추가\n",
    "new_docs = [\n",
    "    Document(page_content=\"첫 번째 새 문서\", metadata={\"source\": \"파일1\"}),\n",
    "    Document(page_content=\"두 번째 새 문서\", metadata={\"source\": \"파일2\"}),\n",
    "    Document(page_content=\"세 번째 새 문서\", metadata={\"source\": \"파일3\"})\n",
    "]\n",
    "\n",
    "# 여러 문서 추가\n",
    "faiss_db.add_documents(new_docs)\n",
    "print(\"count after:\", faiss_db.index.ntotal)"
   ]
  },
  {
   "cell_type": "markdown",
   "metadata": {
    "id": "vWEheV3Qgyw-"
   },
   "source": [
    "### 병합 방법으로 추가"
   ]
  },
  {
   "cell_type": "code",
   "execution_count": 69,
   "metadata": {
    "id": "5ddAV4bKZo5F"
   },
   "outputs": [],
   "source": [
    "# 신규 문서 추가 하기\n",
    "text1 = '''삼성전자가 미국 반도체업체 엔비디아에 고대역폭 메모리(HBM)를 납품하기 위한 테스트를 아직 통과하지 못했다고 로이터통신이 3명의 익명 소식통을 인용해 24일 보도했다.'''\n",
    "text2 = '''엔비디아발 훈풍으로 전 세계 반도체가 들썩이는 가운데 국내 증시에서는 SK하이닉스 (198,600원 ▼1,400 -0.70%)의 활약이 돋보인다. 엔비디아에 대한 투자자들의 기대치가 높아지고 있어 SK하이닉스 역시 상승세를 이어갈 것이란 전망이 쏟아진다. 다만 SK하이닉스 주가에 상승동력으로 작용했던 엔비디아 실적 재료가 소진된 점은 차익실현 매물이 출현할 가능성을 높인다.'''"
   ]
  },
  {
   "cell_type": "code",
   "execution_count": 70,
   "metadata": {
    "id": "seOERP-fcfx8"
   },
   "outputs": [],
   "source": [
    "new_db = FAISS.from_texts([text1, text2], model_huggingface)"
   ]
  },
  {
   "cell_type": "code",
   "execution_count": 71,
   "metadata": {
    "colab": {
     "base_uri": "https://localhost:8080/"
    },
    "id": "4FoqHvIncrRY",
    "outputId": "0de16d85-56c5-46a4-a117-7446c87f05a9"
   },
   "outputs": [
    {
     "name": "stdout",
     "output_type": "stream",
     "text": [
      "신규 DB 샘플 개수: 2\n"
     ]
    }
   ],
   "source": [
    "print('신규 DB 샘플 개수:', new_db.index.ntotal)"
   ]
  },
  {
   "cell_type": "code",
   "execution_count": 72,
   "metadata": {
    "colab": {
     "base_uri": "https://localhost:8080/"
    },
    "id": "fV03wxxrdJHB",
    "outputId": "69ee90e7-7cb8-43db-a320-87a877ad325d"
   },
   "outputs": [
    {
     "data": {
      "text/plain": [
       "{'41a463d9-f03b-4f88-beee-8e51253f11d6': Document(id='41a463d9-f03b-4f88-beee-8e51253f11d6', metadata={}, page_content='삼성전자가 미국 반도체업체 엔비디아에 고대역폭 메모리(HBM)를 납품하기 위한 테스트를 아직 통과하지 못했다고 로이터통신이 3명의 익명 소식통을 인용해 24일 보도했다.'),\n",
       " 'a21dbc55-699d-43fe-8970-3a224d52c3b5': Document(id='a21dbc55-699d-43fe-8970-3a224d52c3b5', metadata={}, page_content='엔비디아발 훈풍으로 전 세계 반도체가 들썩이는 가운데 국내 증시에서는 SK하이닉스 (198,600원 ▼1,400 -0.70%)의 활약이 돋보인다. 엔비디아에 대한 투자자들의 기대치가 높아지고 있어 SK하이닉스 역시 상승세를 이어갈 것이란 전망이 쏟아진다. 다만 SK하이닉스 주가에 상승동력으로 작용했던 엔비디아 실적 재료가 소진된 점은 차익실현 매물이 출현할 가능성을 높인다.')}"
      ]
     },
     "execution_count": 72,
     "metadata": {},
     "output_type": "execute_result"
    }
   ],
   "source": [
    "# 저장된 문서들 출력\n",
    "new_db.docstore._dict"
   ]
  },
  {
   "cell_type": "code",
   "execution_count": 73,
   "metadata": {
    "id": "RULFOeVgcuhV"
   },
   "outputs": [],
   "source": [
    "faiss_db.merge_from(new_db)"
   ]
  },
  {
   "cell_type": "code",
   "execution_count": 74,
   "metadata": {
    "colab": {
     "base_uri": "https://localhost:8080/"
    },
    "id": "hL9PZWwgdNhU",
    "outputId": "89ce54db-d90b-434f-9477-684b55d60ffd"
   },
   "outputs": [
    {
     "name": "stdout",
     "output_type": "stream",
     "text": [
      "count after merge: 75\n"
     ]
    }
   ],
   "source": [
    "print(\"count after merge:\", faiss_db.index.ntotal)"
   ]
  },
  {
   "cell_type": "markdown",
   "metadata": {
    "id": "Ejb7S-l1g48w"
   },
   "source": [
    "## 문서 삭제"
   ]
  },
  {
   "cell_type": "code",
   "execution_count": 75,
   "metadata": {
    "colab": {
     "base_uri": "https://localhost:8080/"
    },
    "id": "8Ccc_UG5g54s",
    "outputId": "e54e0422-8772-432e-f9db-b27d0ee2a6a8"
   },
   "outputs": [
    {
     "name": "stdout",
     "output_type": "stream",
     "text": [
      "[Document(id='41a463d9-f03b-4f88-beee-8e51253f11d6', metadata={}, page_content='삼성전자가 미국 반도체업체 엔비디아에 고대역폭 메모리(HBM)를 납품하기 위한 테스트를 아직 통과하지 못했다고 로이터통신이 3명의 익명 소식통을 인용해 24일 보도했다.')]\n"
     ]
    }
   ],
   "source": [
    "# 1. 특정 쿼리로 문서 검색\n",
    "query = \"삼성전자가 미국 반도체업체 엔비디아\"\n",
    "docs = faiss_db.similarity_search(query, k=1)\n",
    "print(docs)"
   ]
  },
  {
   "cell_type": "code",
   "execution_count": 76,
   "metadata": {
    "colab": {
     "base_uri": "https://localhost:8080/"
    },
    "id": "JH2MZeDThekp",
    "outputId": "8f9cccf6-e977-4e2b-f6c8-9c95f526297b"
   },
   "outputs": [
    {
     "name": "stdout",
     "output_type": "stream",
     "text": [
      "41a463d9-f03b-4f88-beee-8e51253f11d6\n"
     ]
    }
   ],
   "source": [
    "# 2. 문서 ID 확인\n",
    "doc = docs[0]\n",
    "doc_id = doc.id\n",
    "print(doc_id)"
   ]
  },
  {
   "cell_type": "code",
   "execution_count": 77,
   "metadata": {
    "colab": {
     "base_uri": "https://localhost:8080/"
    },
    "id": "d07uAdARhCn9",
    "outputId": "7e268866-cbf2-4251-f5c8-91db163902ea"
   },
   "outputs": [
    {
     "name": "stdout",
     "output_type": "stream",
     "text": [
      "count after: 74\n"
     ]
    }
   ],
   "source": [
    "# 3. 문서 삭제\n",
    "faiss_db.delete([doc_id])\n",
    "print(\"count after:\", faiss_db.index.ntotal)"
   ]
  },
  {
   "cell_type": "markdown",
   "metadata": {
    "id": "sh7ksuTBiyGI"
   },
   "source": [
    "## 3. BM25"
   ]
  },
  {
   "cell_type": "markdown",
   "metadata": {
    "id": "x5r6zxfxi_Cv"
   },
   "source": [
    "BM25는 TF-IDF를 개선한 텍스트 검색 알고리즘으로, 문서의 관련성을 계산하는 데 효과적입니다."
   ]
  },
  {
   "cell_type": "code",
   "execution_count": 78,
   "metadata": {
    "colab": {
     "base_uri": "https://localhost:8080/"
    },
    "id": "6Ehb4vq8i8iX",
    "outputId": "658ff0b1-c043-47d6-8157-f91da970300a"
   },
   "outputs": [
    {
     "name": "stdout",
     "output_type": "stream",
     "text": [
      "Collecting rank_bm25\n",
      "  Downloading rank_bm25-0.2.2-py3-none-any.whl.metadata (3.2 kB)\n",
      "Requirement already satisfied: numpy in c:\\programdata\\anaconda3\\lib\\site-packages (from rank_bm25) (1.26.4)\n",
      "Downloading rank_bm25-0.2.2-py3-none-any.whl (8.6 kB)\n",
      "Installing collected packages: rank_bm25\n",
      "Successfully installed rank_bm25-0.2.2\n"
     ]
    },
    {
     "name": "stderr",
     "output_type": "stream",
     "text": [
      "\n",
      "[notice] A new release of pip is available: 24.0 -> 25.0.1\n",
      "[notice] To update, run: python.exe -m pip install --upgrade pip\n"
     ]
    }
   ],
   "source": [
    "!pip install rank_bm25"
   ]
  },
  {
   "cell_type": "code",
   "execution_count": 79,
   "metadata": {
    "id": "RLslfsqni1T6"
   },
   "outputs": [],
   "source": [
    "from langchain.retrievers import BM25Retriever"
   ]
  },
  {
   "cell_type": "code",
   "execution_count": 80,
   "metadata": {
    "id": "lbDJFeKWi63t"
   },
   "outputs": [],
   "source": [
    "# BM25 검색기 초기화\n",
    "bm25_retriever = BM25Retriever.from_documents(splited_docs)"
   ]
  },
  {
   "cell_type": "code",
   "execution_count": 81,
   "metadata": {
    "colab": {
     "base_uri": "https://localhost:8080/"
    },
    "id": "4bCuNZGRi6-V",
    "outputId": "4ed60684-5982-4629-fd0c-fea2d8b881c9"
   },
   "outputs": [
    {
     "name": "stdout",
     "output_type": "stream",
     "text": [
      "{'producer': 'itext-paulo-155 (itextpdf.sf.net-lowagie.com)', 'creator': 'nPDF (pdftk 1.41)', 'creationdate': '2017-08-16T00:21:02-08:00', 'moddate': '2017-08-16T00:21:02-08:00', 'source': 'https://wdr.ubion.co.kr/wowpass/img/event/gsat_170823/gsat_170823.pdf', 'total_pages': 27, 'page': 10, 'page_label': '11'}\n",
      ":\n",
      "12 Q2 삼성전자의 Harman사 인수에 대해 어떻게 생각하십니까 ? A  삼성전자가 최근 80억달러(약 9조)에 미국의 전장업체(자동차 전자기기에 대한 사업)인 Harman 사를  인수하기로 결정했습니다. 하만사는 세계적으로 자동차용 인포테인먼트와 텔레매틱스 시장에서 점유 율 1~2위를 달리고 있으며 매출도 상당합니다. 이번 삼성전자의 하만 인수는 모바일 및 가전 시장에서  나아가 Connected Car 시장 진입에 진출했다는 것에 큰 의의가 있습니다. 향후 10년 시장 내 Connected  Car의 비중은 90%에 육박할 전망입니다. LG전자 역시 자동차부품(VC) 사업 부문에 있어 상당한 경쟁  위협 요인가 될 것으로 내다봤습니다. <관련기사> 전장사업 강자 하만과 손잡은 삼성…스마트카 ‘티어1’ 노린다 (한국경제. 2016-11-21) 삼성전자는 자동차 전장(電裝)사업에서 후발 주자다. 2005년 전장사업을 시작한 LG전자는\n",
      "474\n",
      "******************************\n",
      "{'producer': 'itext-paulo-155 (itextpdf.sf.net-lowagie.com)', 'creator': 'nPDF (pdftk 1.41)', 'creationdate': '2017-08-16T00:21:02-08:00', 'moddate': '2017-08-16T00:21:02-08:00', 'source': 'https://wdr.ubion.co.kr/wowpass/img/event/gsat_170823/gsat_170823.pdf', 'total_pages': 27, 'page': 14, 'page_label': '15'}\n",
      ":\n",
      "2015년말 기준 삼성전자의 총자산 금액은 약 169조에 달하며, 부채는 32.5조, 자본총계는 136조에 이르고  있다.\n",
      "68\n",
      "******************************\n",
      "{'producer': 'itext-paulo-155 (itextpdf.sf.net-lowagie.com)', 'creator': 'nPDF (pdftk 1.41)', 'creationdate': '2017-08-16T00:21:02-08:00', 'moddate': '2017-08-16T00:21:02-08:00', 'source': 'https://wdr.ubion.co.kr/wowpass/img/event/gsat_170823/gsat_170823.pdf', 'total_pages': 27, 'page': 1, 'page_label': '2'}\n",
      ":\n",
      "3 2) 주요 사업 분야  ⑴ CE(Consumer Electronics)부문  ① 산업의 특성  ∙TV산업은 1926년 흑백 TV 개발, 1954년 RCA사가 Color TV(21\") 양산/판매를 시작한 이래로 트리니트 론 브라운관(1967년), 완전평면 브라운관(1996년) 개발 등 기술적인 발전을 거듭 ∙ 주요 국가 보급률이 90% 넘어서면서 브라운관 TV사업의 성장은 정체  ∙ 그러나 하드웨어 측면에서의 Flat Panel TV(LCD, PDP) 출시, 소프트웨어 측면에서의 디지털 방송  확산(영/미 1998년~ )을 통해 TV 시장은 또 다시 강력한 성장 모멘텀을 되찾음  ∙FPTV는 화질, 디자인 등 제품 성능의 향상과 지속적인 Set가격 하락으로 인해 성장을 지속하며 기존  CRT 시장을 빠르게 대체 ∙ 2010년 3D TV출시 ∙ 2011년~2012년 스마트TV 태동  ∙ 2013년 UHD TV 출시  ∙ 2014년 Curved TV 출시\n",
      "483\n",
      "******************************\n",
      "{'producer': 'itext-paulo-155 (itextpdf.sf.net-lowagie.com)', 'creator': 'nPDF (pdftk 1.41)', 'creationdate': '2017-08-16T00:21:02-08:00', 'moddate': '2017-08-16T00:21:02-08:00', 'source': 'https://wdr.ubion.co.kr/wowpass/img/event/gsat_170823/gsat_170823.pdf', 'total_pages': 27, 'page': 13, 'page_label': '14'}\n",
      ":\n",
      "15 ✜ 신성장동력 → 사물인터넷(Internet of Things, IoT) 삼성전자는 다가올 사물인터넷(IoT, Internet of Things) 시대를 맞이해 만반의 준비를 다하고 있습 니다. 2014년 8월에 미국의 ‘스마트싱스(SmartThings)’를 인수해 사물인터넷 개방형 플랫폼 개발에  박차를 가하고 있고, 사물 인터넷 시대의 실현을 앞당겨줄 다양한 제품과 서비스도 잇달아 출시하 고 있습니다. 2017년까지 삼성전자의 모든 TV, 2020년까지 삼성전자의 모든 제품이 IoT로 연결될  수 있게 한다는 비전을 실현하고자 주도적으로 서비스 기반 구축에 최선을 다하고 있습니다. ✜ 개방형 IoT 플랫폼 ‘아틱(ARTIK)’  2015년 5월에는 미국에서 개최된 ‘제2회 IoT World’에서 개방형 IoT 플랫폼 ‘아틱(ARTIK)’을 처음으 로 공개했고, 2016년 2월 상용제품을 출시하고 공식 파트너 프로그램을 개시하는 등 본격적인\n",
      "480\n",
      "******************************\n"
     ]
    },
    {
     "name": "stderr",
     "output_type": "stream",
     "text": [
      "C:\\Users\\user\\AppData\\Local\\Temp\\ipykernel_14864\\2483167931.py:2: LangChainDeprecationWarning: The method `BaseRetriever.get_relevant_documents` was deprecated in langchain-core 0.1.46 and will be removed in 1.0. Use :meth:`~invoke` instead.\n",
      "  docs = bm25_retriever.get_relevant_documents(\"삼성전자의 사업 영역은\")\n"
     ]
    }
   ],
   "source": [
    "# 키워드 기반 검색\n",
    "docs = bm25_retriever.get_relevant_documents(\"삼성전자의 사업 영역은\")\n",
    "\n",
    "for i in docs:\n",
    "    print(i.metadata)\n",
    "    print(\":\")\n",
    "    print(i.page_content.replace('\\n',' '))\n",
    "    print(len(i.page_content.replace('\\n',' ')))\n",
    "    print(\"*\"*30)"
   ]
  },
  {
   "cell_type": "code",
   "execution_count": null,
   "metadata": {},
   "outputs": [],
   "source": []
  }
 ],
 "metadata": {
  "accelerator": "GPU",
  "colab": {
   "gpuType": "T4",
   "provenance": []
  },
  "kernelspec": {
   "display_name": "Python 3 (ipykernel)",
   "language": "python",
   "name": "python3"
  },
  "language_info": {
   "codemirror_mode": {
    "name": "ipython",
    "version": 3
   },
   "file_extension": ".py",
   "mimetype": "text/x-python",
   "name": "python",
   "nbconvert_exporter": "python",
   "pygments_lexer": "ipython3",
   "version": "3.11.8"
  },
  "widgets": {
   "application/vnd.jupyter.widget-state+json": {
    "0065df5850a6466dae9f5e558b89237f": {
     "model_module": "@jupyter-widgets/base",
     "model_module_version": "1.2.0",
     "model_name": "LayoutModel",
     "state": {
      "_model_module": "@jupyter-widgets/base",
      "_model_module_version": "1.2.0",
      "_model_name": "LayoutModel",
      "_view_count": null,
      "_view_module": "@jupyter-widgets/base",
      "_view_module_version": "1.2.0",
      "_view_name": "LayoutView",
      "align_content": null,
      "align_items": null,
      "align_self": null,
      "border": null,
      "bottom": null,
      "display": null,
      "flex": null,
      "flex_flow": null,
      "grid_area": null,
      "grid_auto_columns": null,
      "grid_auto_flow": null,
      "grid_auto_rows": null,
      "grid_column": null,
      "grid_gap": null,
      "grid_row": null,
      "grid_template_areas": null,
      "grid_template_columns": null,
      "grid_template_rows": null,
      "height": null,
      "justify_content": null,
      "justify_items": null,
      "left": null,
      "margin": null,
      "max_height": null,
      "max_width": null,
      "min_height": null,
      "min_width": null,
      "object_fit": null,
      "object_position": null,
      "order": null,
      "overflow": null,
      "overflow_x": null,
      "overflow_y": null,
      "padding": null,
      "right": null,
      "top": null,
      "visibility": null,
      "width": null
     }
    },
    "02d80e6c6aee4802bff11c139b702bfb": {
     "model_module": "@jupyter-widgets/controls",
     "model_module_version": "1.5.0",
     "model_name": "HBoxModel",
     "state": {
      "_dom_classes": [],
      "_model_module": "@jupyter-widgets/controls",
      "_model_module_version": "1.5.0",
      "_model_name": "HBoxModel",
      "_view_count": null,
      "_view_module": "@jupyter-widgets/controls",
      "_view_module_version": "1.5.0",
      "_view_name": "HBoxView",
      "box_style": "",
      "children": [
       "IPY_MODEL_94f666b708e940699c6312d0c45fa6cd",
       "IPY_MODEL_9e500d10917f4887b05ca55c2a8c5384",
       "IPY_MODEL_9004d5668a6a489bb1703302a01bc967"
      ],
      "layout": "IPY_MODEL_c12608b2c23246fb91bfbae7904f1c97"
     }
    },
    "070a833cb6304311af61260e83e4304d": {
     "model_module": "@jupyter-widgets/controls",
     "model_module_version": "1.5.0",
     "model_name": "DescriptionStyleModel",
     "state": {
      "_model_module": "@jupyter-widgets/controls",
      "_model_module_version": "1.5.0",
      "_model_name": "DescriptionStyleModel",
      "_view_count": null,
      "_view_module": "@jupyter-widgets/base",
      "_view_module_version": "1.2.0",
      "_view_name": "StyleView",
      "description_width": ""
     }
    },
    "084e3495142440fabc28efc22aaf6a84": {
     "model_module": "@jupyter-widgets/controls",
     "model_module_version": "1.5.0",
     "model_name": "ProgressStyleModel",
     "state": {
      "_model_module": "@jupyter-widgets/controls",
      "_model_module_version": "1.5.0",
      "_model_name": "ProgressStyleModel",
      "_view_count": null,
      "_view_module": "@jupyter-widgets/base",
      "_view_module_version": "1.2.0",
      "_view_name": "StyleView",
      "bar_color": null,
      "description_width": ""
     }
    },
    "0b4a20f5f01c44dda7ebaaf1538d8b02": {
     "model_module": "@jupyter-widgets/controls",
     "model_module_version": "1.5.0",
     "model_name": "HTMLModel",
     "state": {
      "_dom_classes": [],
      "_model_module": "@jupyter-widgets/controls",
      "_model_module_version": "1.5.0",
      "_model_name": "HTMLModel",
      "_view_count": null,
      "_view_module": "@jupyter-widgets/controls",
      "_view_module_version": "1.5.0",
      "_view_name": "HTMLView",
      "description": "",
      "description_tooltip": null,
      "layout": "IPY_MODEL_e239756c44d24d62a7eb456b408b80b6",
      "placeholder": "​",
      "style": "IPY_MODEL_1781d1b670754e338d3934b98d274ba1",
      "value": " 349/349 [00:00&lt;00:00, 35.8kB/s]"
     }
    },
    "11dded7d05674e919abc3e5b2fe51140": {
     "model_module": "@jupyter-widgets/controls",
     "model_module_version": "1.5.0",
     "model_name": "HTMLModel",
     "state": {
      "_dom_classes": [],
      "_model_module": "@jupyter-widgets/controls",
      "_model_module_version": "1.5.0",
      "_model_name": "HTMLModel",
      "_view_count": null,
      "_view_module": "@jupyter-widgets/controls",
      "_view_module_version": "1.5.0",
      "_view_name": "HTMLView",
      "description": "",
      "description_tooltip": null,
      "layout": "IPY_MODEL_135dba02d88c4b68813aead317870375",
      "placeholder": "​",
      "style": "IPY_MODEL_36708b09f0a54632872f10cc19f8643b",
      "value": "config_sentence_transformers.json: 100%"
     }
    },
    "135dba02d88c4b68813aead317870375": {
     "model_module": "@jupyter-widgets/base",
     "model_module_version": "1.2.0",
     "model_name": "LayoutModel",
     "state": {
      "_model_module": "@jupyter-widgets/base",
      "_model_module_version": "1.2.0",
      "_model_name": "LayoutModel",
      "_view_count": null,
      "_view_module": "@jupyter-widgets/base",
      "_view_module_version": "1.2.0",
      "_view_name": "LayoutView",
      "align_content": null,
      "align_items": null,
      "align_self": null,
      "border": null,
      "bottom": null,
      "display": null,
      "flex": null,
      "flex_flow": null,
      "grid_area": null,
      "grid_auto_columns": null,
      "grid_auto_flow": null,
      "grid_auto_rows": null,
      "grid_column": null,
      "grid_gap": null,
      "grid_row": null,
      "grid_template_areas": null,
      "grid_template_columns": null,
      "grid_template_rows": null,
      "height": null,
      "justify_content": null,
      "justify_items": null,
      "left": null,
      "margin": null,
      "max_height": null,
      "max_width": null,
      "min_height": null,
      "min_width": null,
      "object_fit": null,
      "object_position": null,
      "order": null,
      "overflow": null,
      "overflow_x": null,
      "overflow_y": null,
      "padding": null,
      "right": null,
      "top": null,
      "visibility": null,
      "width": null
     }
    },
    "1781d1b670754e338d3934b98d274ba1": {
     "model_module": "@jupyter-widgets/controls",
     "model_module_version": "1.5.0",
     "model_name": "DescriptionStyleModel",
     "state": {
      "_model_module": "@jupyter-widgets/controls",
      "_model_module_version": "1.5.0",
      "_model_name": "DescriptionStyleModel",
      "_view_count": null,
      "_view_module": "@jupyter-widgets/base",
      "_view_module_version": "1.2.0",
      "_view_name": "StyleView",
      "description_width": ""
     }
    },
    "19d4861b2a4745aab0e7dc1a113d2e3f": {
     "model_module": "@jupyter-widgets/base",
     "model_module_version": "1.2.0",
     "model_name": "LayoutModel",
     "state": {
      "_model_module": "@jupyter-widgets/base",
      "_model_module_version": "1.2.0",
      "_model_name": "LayoutModel",
      "_view_count": null,
      "_view_module": "@jupyter-widgets/base",
      "_view_module_version": "1.2.0",
      "_view_name": "LayoutView",
      "align_content": null,
      "align_items": null,
      "align_self": null,
      "border": null,
      "bottom": null,
      "display": null,
      "flex": null,
      "flex_flow": null,
      "grid_area": null,
      "grid_auto_columns": null,
      "grid_auto_flow": null,
      "grid_auto_rows": null,
      "grid_column": null,
      "grid_gap": null,
      "grid_row": null,
      "grid_template_areas": null,
      "grid_template_columns": null,
      "grid_template_rows": null,
      "height": null,
      "justify_content": null,
      "justify_items": null,
      "left": null,
      "margin": null,
      "max_height": null,
      "max_width": null,
      "min_height": null,
      "min_width": null,
      "object_fit": null,
      "object_position": null,
      "order": null,
      "overflow": null,
      "overflow_x": null,
      "overflow_y": null,
      "padding": null,
      "right": null,
      "top": null,
      "visibility": null,
      "width": null
     }
    },
    "1b6b7727c95242d18bdaf5b99e79da96": {
     "model_module": "@jupyter-widgets/controls",
     "model_module_version": "1.5.0",
     "model_name": "HTMLModel",
     "state": {
      "_dom_classes": [],
      "_model_module": "@jupyter-widgets/controls",
      "_model_module_version": "1.5.0",
      "_model_name": "HTMLModel",
      "_view_count": null,
      "_view_module": "@jupyter-widgets/controls",
      "_view_module_version": "1.5.0",
      "_view_name": "HTMLView",
      "description": "",
      "description_tooltip": null,
      "layout": "IPY_MODEL_4d563c54289041a594b7db962458e134",
      "placeholder": "​",
      "style": "IPY_MODEL_e1c4316a719c4c4a845bce52377d4abe",
      "value": " 191/191 [00:00&lt;00:00, 7.39kB/s]"
     }
    },
    "1bb3e81fe0d54f269b8d4c33636152b7": {
     "model_module": "@jupyter-widgets/controls",
     "model_module_version": "1.5.0",
     "model_name": "ProgressStyleModel",
     "state": {
      "_model_module": "@jupyter-widgets/controls",
      "_model_module_version": "1.5.0",
      "_model_name": "ProgressStyleModel",
      "_view_count": null,
      "_view_module": "@jupyter-widgets/base",
      "_view_module_version": "1.2.0",
      "_view_name": "StyleView",
      "bar_color": null,
      "description_width": ""
     }
    },
    "1c34e8d623064c0d883bea1620602097": {
     "model_module": "@jupyter-widgets/base",
     "model_module_version": "1.2.0",
     "model_name": "LayoutModel",
     "state": {
      "_model_module": "@jupyter-widgets/base",
      "_model_module_version": "1.2.0",
      "_model_name": "LayoutModel",
      "_view_count": null,
      "_view_module": "@jupyter-widgets/base",
      "_view_module_version": "1.2.0",
      "_view_name": "LayoutView",
      "align_content": null,
      "align_items": null,
      "align_self": null,
      "border": null,
      "bottom": null,
      "display": null,
      "flex": null,
      "flex_flow": null,
      "grid_area": null,
      "grid_auto_columns": null,
      "grid_auto_flow": null,
      "grid_auto_rows": null,
      "grid_column": null,
      "grid_gap": null,
      "grid_row": null,
      "grid_template_areas": null,
      "grid_template_columns": null,
      "grid_template_rows": null,
      "height": null,
      "justify_content": null,
      "justify_items": null,
      "left": null,
      "margin": null,
      "max_height": null,
      "max_width": null,
      "min_height": null,
      "min_width": null,
      "object_fit": null,
      "object_position": null,
      "order": null,
      "overflow": null,
      "overflow_x": null,
      "overflow_y": null,
      "padding": null,
      "right": null,
      "top": null,
      "visibility": null,
      "width": null
     }
    },
    "1c9e4b687b2e4a6a88209024f8074427": {
     "model_module": "@jupyter-widgets/base",
     "model_module_version": "1.2.0",
     "model_name": "LayoutModel",
     "state": {
      "_model_module": "@jupyter-widgets/base",
      "_model_module_version": "1.2.0",
      "_model_name": "LayoutModel",
      "_view_count": null,
      "_view_module": "@jupyter-widgets/base",
      "_view_module_version": "1.2.0",
      "_view_name": "LayoutView",
      "align_content": null,
      "align_items": null,
      "align_self": null,
      "border": null,
      "bottom": null,
      "display": null,
      "flex": null,
      "flex_flow": null,
      "grid_area": null,
      "grid_auto_columns": null,
      "grid_auto_flow": null,
      "grid_auto_rows": null,
      "grid_column": null,
      "grid_gap": null,
      "grid_row": null,
      "grid_template_areas": null,
      "grid_template_columns": null,
      "grid_template_rows": null,
      "height": null,
      "justify_content": null,
      "justify_items": null,
      "left": null,
      "margin": null,
      "max_height": null,
      "max_width": null,
      "min_height": null,
      "min_width": null,
      "object_fit": null,
      "object_position": null,
      "order": null,
      "overflow": null,
      "overflow_x": null,
      "overflow_y": null,
      "padding": null,
      "right": null,
      "top": null,
      "visibility": null,
      "width": null
     }
    },
    "1ca7939242344a37aa3d2faffe6df6af": {
     "model_module": "@jupyter-widgets/base",
     "model_module_version": "1.2.0",
     "model_name": "LayoutModel",
     "state": {
      "_model_module": "@jupyter-widgets/base",
      "_model_module_version": "1.2.0",
      "_model_name": "LayoutModel",
      "_view_count": null,
      "_view_module": "@jupyter-widgets/base",
      "_view_module_version": "1.2.0",
      "_view_name": "LayoutView",
      "align_content": null,
      "align_items": null,
      "align_self": null,
      "border": null,
      "bottom": null,
      "display": null,
      "flex": null,
      "flex_flow": null,
      "grid_area": null,
      "grid_auto_columns": null,
      "grid_auto_flow": null,
      "grid_auto_rows": null,
      "grid_column": null,
      "grid_gap": null,
      "grid_row": null,
      "grid_template_areas": null,
      "grid_template_columns": null,
      "grid_template_rows": null,
      "height": null,
      "justify_content": null,
      "justify_items": null,
      "left": null,
      "margin": null,
      "max_height": null,
      "max_width": null,
      "min_height": null,
      "min_width": null,
      "object_fit": null,
      "object_position": null,
      "order": null,
      "overflow": null,
      "overflow_x": null,
      "overflow_y": null,
      "padding": null,
      "right": null,
      "top": null,
      "visibility": null,
      "width": null
     }
    },
    "1e8e3e020cc44ea9aaf29f0d10c41e0b": {
     "model_module": "@jupyter-widgets/controls",
     "model_module_version": "1.5.0",
     "model_name": "HBoxModel",
     "state": {
      "_dom_classes": [],
      "_model_module": "@jupyter-widgets/controls",
      "_model_module_version": "1.5.0",
      "_model_name": "HBoxModel",
      "_view_count": null,
      "_view_module": "@jupyter-widgets/controls",
      "_view_module_version": "1.5.0",
      "_view_name": "HBoxView",
      "box_style": "",
      "children": [
       "IPY_MODEL_11dded7d05674e919abc3e5b2fe51140",
       "IPY_MODEL_c01de20eba4b4ef78b8a10e1d9593cf2",
       "IPY_MODEL_3f88ac3b2335438abf2ec719087b139c"
      ],
      "layout": "IPY_MODEL_9c88ce2cc42744a8a5ded8fec27776a2"
     }
    },
    "1fcf76261907419598652dc5473a8d89": {
     "model_module": "@jupyter-widgets/base",
     "model_module_version": "1.2.0",
     "model_name": "LayoutModel",
     "state": {
      "_model_module": "@jupyter-widgets/base",
      "_model_module_version": "1.2.0",
      "_model_name": "LayoutModel",
      "_view_count": null,
      "_view_module": "@jupyter-widgets/base",
      "_view_module_version": "1.2.0",
      "_view_name": "LayoutView",
      "align_content": null,
      "align_items": null,
      "align_self": null,
      "border": null,
      "bottom": null,
      "display": null,
      "flex": null,
      "flex_flow": null,
      "grid_area": null,
      "grid_auto_columns": null,
      "grid_auto_flow": null,
      "grid_auto_rows": null,
      "grid_column": null,
      "grid_gap": null,
      "grid_row": null,
      "grid_template_areas": null,
      "grid_template_columns": null,
      "grid_template_rows": null,
      "height": null,
      "justify_content": null,
      "justify_items": null,
      "left": null,
      "margin": null,
      "max_height": null,
      "max_width": null,
      "min_height": null,
      "min_width": null,
      "object_fit": null,
      "object_position": null,
      "order": null,
      "overflow": null,
      "overflow_x": null,
      "overflow_y": null,
      "padding": null,
      "right": null,
      "top": null,
      "visibility": null,
      "width": null
     }
    },
    "22ec0ba5d7124ee1a470074c760290b0": {
     "model_module": "@jupyter-widgets/base",
     "model_module_version": "1.2.0",
     "model_name": "LayoutModel",
     "state": {
      "_model_module": "@jupyter-widgets/base",
      "_model_module_version": "1.2.0",
      "_model_name": "LayoutModel",
      "_view_count": null,
      "_view_module": "@jupyter-widgets/base",
      "_view_module_version": "1.2.0",
      "_view_name": "LayoutView",
      "align_content": null,
      "align_items": null,
      "align_self": null,
      "border": null,
      "bottom": null,
      "display": null,
      "flex": null,
      "flex_flow": null,
      "grid_area": null,
      "grid_auto_columns": null,
      "grid_auto_flow": null,
      "grid_auto_rows": null,
      "grid_column": null,
      "grid_gap": null,
      "grid_row": null,
      "grid_template_areas": null,
      "grid_template_columns": null,
      "grid_template_rows": null,
      "height": null,
      "justify_content": null,
      "justify_items": null,
      "left": null,
      "margin": null,
      "max_height": null,
      "max_width": null,
      "min_height": null,
      "min_width": null,
      "object_fit": null,
      "object_position": null,
      "order": null,
      "overflow": null,
      "overflow_x": null,
      "overflow_y": null,
      "padding": null,
      "right": null,
      "top": null,
      "visibility": null,
      "width": null
     }
    },
    "276196895d254a72851ac72825e65b89": {
     "model_module": "@jupyter-widgets/controls",
     "model_module_version": "1.5.0",
     "model_name": "DescriptionStyleModel",
     "state": {
      "_model_module": "@jupyter-widgets/controls",
      "_model_module_version": "1.5.0",
      "_model_name": "DescriptionStyleModel",
      "_view_count": null,
      "_view_module": "@jupyter-widgets/base",
      "_view_module_version": "1.2.0",
      "_view_name": "StyleView",
      "description_width": ""
     }
    },
    "2790374448544666b382167ba6638428": {
     "model_module": "@jupyter-widgets/base",
     "model_module_version": "1.2.0",
     "model_name": "LayoutModel",
     "state": {
      "_model_module": "@jupyter-widgets/base",
      "_model_module_version": "1.2.0",
      "_model_name": "LayoutModel",
      "_view_count": null,
      "_view_module": "@jupyter-widgets/base",
      "_view_module_version": "1.2.0",
      "_view_name": "LayoutView",
      "align_content": null,
      "align_items": null,
      "align_self": null,
      "border": null,
      "bottom": null,
      "display": null,
      "flex": null,
      "flex_flow": null,
      "grid_area": null,
      "grid_auto_columns": null,
      "grid_auto_flow": null,
      "grid_auto_rows": null,
      "grid_column": null,
      "grid_gap": null,
      "grid_row": null,
      "grid_template_areas": null,
      "grid_template_columns": null,
      "grid_template_rows": null,
      "height": null,
      "justify_content": null,
      "justify_items": null,
      "left": null,
      "margin": null,
      "max_height": null,
      "max_width": null,
      "min_height": null,
      "min_width": null,
      "object_fit": null,
      "object_position": null,
      "order": null,
      "overflow": null,
      "overflow_x": null,
      "overflow_y": null,
      "padding": null,
      "right": null,
      "top": null,
      "visibility": null,
      "width": null
     }
    },
    "2ab2aac3168b405fb6f90ca4f22fb5fd": {
     "model_module": "@jupyter-widgets/base",
     "model_module_version": "1.2.0",
     "model_name": "LayoutModel",
     "state": {
      "_model_module": "@jupyter-widgets/base",
      "_model_module_version": "1.2.0",
      "_model_name": "LayoutModel",
      "_view_count": null,
      "_view_module": "@jupyter-widgets/base",
      "_view_module_version": "1.2.0",
      "_view_name": "LayoutView",
      "align_content": null,
      "align_items": null,
      "align_self": null,
      "border": null,
      "bottom": null,
      "display": null,
      "flex": null,
      "flex_flow": null,
      "grid_area": null,
      "grid_auto_columns": null,
      "grid_auto_flow": null,
      "grid_auto_rows": null,
      "grid_column": null,
      "grid_gap": null,
      "grid_row": null,
      "grid_template_areas": null,
      "grid_template_columns": null,
      "grid_template_rows": null,
      "height": null,
      "justify_content": null,
      "justify_items": null,
      "left": null,
      "margin": null,
      "max_height": null,
      "max_width": null,
      "min_height": null,
      "min_width": null,
      "object_fit": null,
      "object_position": null,
      "order": null,
      "overflow": null,
      "overflow_x": null,
      "overflow_y": null,
      "padding": null,
      "right": null,
      "top": null,
      "visibility": null,
      "width": null
     }
    },
    "2d19c0e3101e4eaa9b7448e30e902b81": {
     "model_module": "@jupyter-widgets/base",
     "model_module_version": "1.2.0",
     "model_name": "LayoutModel",
     "state": {
      "_model_module": "@jupyter-widgets/base",
      "_model_module_version": "1.2.0",
      "_model_name": "LayoutModel",
      "_view_count": null,
      "_view_module": "@jupyter-widgets/base",
      "_view_module_version": "1.2.0",
      "_view_name": "LayoutView",
      "align_content": null,
      "align_items": null,
      "align_self": null,
      "border": null,
      "bottom": null,
      "display": null,
      "flex": null,
      "flex_flow": null,
      "grid_area": null,
      "grid_auto_columns": null,
      "grid_auto_flow": null,
      "grid_auto_rows": null,
      "grid_column": null,
      "grid_gap": null,
      "grid_row": null,
      "grid_template_areas": null,
      "grid_template_columns": null,
      "grid_template_rows": null,
      "height": null,
      "justify_content": null,
      "justify_items": null,
      "left": null,
      "margin": null,
      "max_height": null,
      "max_width": null,
      "min_height": null,
      "min_width": null,
      "object_fit": null,
      "object_position": null,
      "order": null,
      "overflow": null,
      "overflow_x": null,
      "overflow_y": null,
      "padding": null,
      "right": null,
      "top": null,
      "visibility": null,
      "width": null
     }
    },
    "30f338b100ad4fce98ba66ca9bd00f00": {
     "model_module": "@jupyter-widgets/base",
     "model_module_version": "1.2.0",
     "model_name": "LayoutModel",
     "state": {
      "_model_module": "@jupyter-widgets/base",
      "_model_module_version": "1.2.0",
      "_model_name": "LayoutModel",
      "_view_count": null,
      "_view_module": "@jupyter-widgets/base",
      "_view_module_version": "1.2.0",
      "_view_name": "LayoutView",
      "align_content": null,
      "align_items": null,
      "align_self": null,
      "border": null,
      "bottom": null,
      "display": null,
      "flex": null,
      "flex_flow": null,
      "grid_area": null,
      "grid_auto_columns": null,
      "grid_auto_flow": null,
      "grid_auto_rows": null,
      "grid_column": null,
      "grid_gap": null,
      "grid_row": null,
      "grid_template_areas": null,
      "grid_template_columns": null,
      "grid_template_rows": null,
      "height": null,
      "justify_content": null,
      "justify_items": null,
      "left": null,
      "margin": null,
      "max_height": null,
      "max_width": null,
      "min_height": null,
      "min_width": null,
      "object_fit": null,
      "object_position": null,
      "order": null,
      "overflow": null,
      "overflow_x": null,
      "overflow_y": null,
      "padding": null,
      "right": null,
      "top": null,
      "visibility": null,
      "width": null
     }
    },
    "3123ea382e80478982c9d859981fb8ab": {
     "model_module": "@jupyter-widgets/controls",
     "model_module_version": "1.5.0",
     "model_name": "FloatProgressModel",
     "state": {
      "_dom_classes": [],
      "_model_module": "@jupyter-widgets/controls",
      "_model_module_version": "1.5.0",
      "_model_name": "FloatProgressModel",
      "_view_count": null,
      "_view_module": "@jupyter-widgets/controls",
      "_view_module_version": "1.5.0",
      "_view_name": "ProgressView",
      "bar_style": "success",
      "description": "",
      "description_tooltip": null,
      "layout": "IPY_MODEL_9114b49cd70a43d7ac7b7bfb9b61df4b",
      "max": 687,
      "min": 0,
      "orientation": "horizontal",
      "style": "IPY_MODEL_c9eb501b28424c389be56294c166925c",
      "value": 687
     }
    },
    "3538567619754dfcbc19afdf79aaeae6": {
     "model_module": "@jupyter-widgets/base",
     "model_module_version": "1.2.0",
     "model_name": "LayoutModel",
     "state": {
      "_model_module": "@jupyter-widgets/base",
      "_model_module_version": "1.2.0",
      "_model_name": "LayoutModel",
      "_view_count": null,
      "_view_module": "@jupyter-widgets/base",
      "_view_module_version": "1.2.0",
      "_view_name": "LayoutView",
      "align_content": null,
      "align_items": null,
      "align_self": null,
      "border": null,
      "bottom": null,
      "display": null,
      "flex": null,
      "flex_flow": null,
      "grid_area": null,
      "grid_auto_columns": null,
      "grid_auto_flow": null,
      "grid_auto_rows": null,
      "grid_column": null,
      "grid_gap": null,
      "grid_row": null,
      "grid_template_areas": null,
      "grid_template_columns": null,
      "grid_template_rows": null,
      "height": null,
      "justify_content": null,
      "justify_items": null,
      "left": null,
      "margin": null,
      "max_height": null,
      "max_width": null,
      "min_height": null,
      "min_width": null,
      "object_fit": null,
      "object_position": null,
      "order": null,
      "overflow": null,
      "overflow_x": null,
      "overflow_y": null,
      "padding": null,
      "right": null,
      "top": null,
      "visibility": null,
      "width": null
     }
    },
    "36708b09f0a54632872f10cc19f8643b": {
     "model_module": "@jupyter-widgets/controls",
     "model_module_version": "1.5.0",
     "model_name": "DescriptionStyleModel",
     "state": {
      "_model_module": "@jupyter-widgets/controls",
      "_model_module_version": "1.5.0",
      "_model_name": "DescriptionStyleModel",
      "_view_count": null,
      "_view_module": "@jupyter-widgets/base",
      "_view_module_version": "1.2.0",
      "_view_name": "StyleView",
      "description_width": ""
     }
    },
    "378119de648d4fc395b6f7bd5b1c9610": {
     "model_module": "@jupyter-widgets/base",
     "model_module_version": "1.2.0",
     "model_name": "LayoutModel",
     "state": {
      "_model_module": "@jupyter-widgets/base",
      "_model_module_version": "1.2.0",
      "_model_name": "LayoutModel",
      "_view_count": null,
      "_view_module": "@jupyter-widgets/base",
      "_view_module_version": "1.2.0",
      "_view_name": "LayoutView",
      "align_content": null,
      "align_items": null,
      "align_self": null,
      "border": null,
      "bottom": null,
      "display": null,
      "flex": null,
      "flex_flow": null,
      "grid_area": null,
      "grid_auto_columns": null,
      "grid_auto_flow": null,
      "grid_auto_rows": null,
      "grid_column": null,
      "grid_gap": null,
      "grid_row": null,
      "grid_template_areas": null,
      "grid_template_columns": null,
      "grid_template_rows": null,
      "height": null,
      "justify_content": null,
      "justify_items": null,
      "left": null,
      "margin": null,
      "max_height": null,
      "max_width": null,
      "min_height": null,
      "min_width": null,
      "object_fit": null,
      "object_position": null,
      "order": null,
      "overflow": null,
      "overflow_x": null,
      "overflow_y": null,
      "padding": null,
      "right": null,
      "top": null,
      "visibility": null,
      "width": null
     }
    },
    "3aaace3d628349d19f59324ada823521": {
     "model_module": "@jupyter-widgets/base",
     "model_module_version": "1.2.0",
     "model_name": "LayoutModel",
     "state": {
      "_model_module": "@jupyter-widgets/base",
      "_model_module_version": "1.2.0",
      "_model_name": "LayoutModel",
      "_view_count": null,
      "_view_module": "@jupyter-widgets/base",
      "_view_module_version": "1.2.0",
      "_view_name": "LayoutView",
      "align_content": null,
      "align_items": null,
      "align_self": null,
      "border": null,
      "bottom": null,
      "display": null,
      "flex": null,
      "flex_flow": null,
      "grid_area": null,
      "grid_auto_columns": null,
      "grid_auto_flow": null,
      "grid_auto_rows": null,
      "grid_column": null,
      "grid_gap": null,
      "grid_row": null,
      "grid_template_areas": null,
      "grid_template_columns": null,
      "grid_template_rows": null,
      "height": null,
      "justify_content": null,
      "justify_items": null,
      "left": null,
      "margin": null,
      "max_height": null,
      "max_width": null,
      "min_height": null,
      "min_width": null,
      "object_fit": null,
      "object_position": null,
      "order": null,
      "overflow": null,
      "overflow_x": null,
      "overflow_y": null,
      "padding": null,
      "right": null,
      "top": null,
      "visibility": null,
      "width": null
     }
    },
    "3f88ac3b2335438abf2ec719087b139c": {
     "model_module": "@jupyter-widgets/controls",
     "model_module_version": "1.5.0",
     "model_name": "HTMLModel",
     "state": {
      "_dom_classes": [],
      "_model_module": "@jupyter-widgets/controls",
      "_model_module_version": "1.5.0",
      "_model_name": "HTMLModel",
      "_view_count": null,
      "_view_module": "@jupyter-widgets/controls",
      "_view_module_version": "1.5.0",
      "_view_name": "HTMLView",
      "description": "",
      "description_tooltip": null,
      "layout": "IPY_MODEL_b634ded80412486bb0604b33e169f0a3",
      "placeholder": "​",
      "style": "IPY_MODEL_7de6b232e116487db5fe2523245f6826",
      "value": " 123/123 [00:00&lt;00:00, 12.6kB/s]"
     }
    },
    "40700f53a83247a8972c8c110e4e1d0d": {
     "model_module": "@jupyter-widgets/controls",
     "model_module_version": "1.5.0",
     "model_name": "FloatProgressModel",
     "state": {
      "_dom_classes": [],
      "_model_module": "@jupyter-widgets/controls",
      "_model_module_version": "1.5.0",
      "_model_name": "FloatProgressModel",
      "_view_count": null,
      "_view_module": "@jupyter-widgets/controls",
      "_view_module_version": "1.5.0",
      "_view_name": "ProgressView",
      "bar_style": "success",
      "description": "",
      "description_tooltip": null,
      "layout": "IPY_MODEL_8544fa6389fe4cf2a020b261c9ced6c9",
      "max": 17098108,
      "min": 0,
      "orientation": "horizontal",
      "style": "IPY_MODEL_9b524c213784446cbb1a45739bfa9430",
      "value": 17098108
     }
    },
    "426bc578c58a43a289a750179f263bcf": {
     "model_module": "@jupyter-widgets/base",
     "model_module_version": "1.2.0",
     "model_name": "LayoutModel",
     "state": {
      "_model_module": "@jupyter-widgets/base",
      "_model_module_version": "1.2.0",
      "_model_name": "LayoutModel",
      "_view_count": null,
      "_view_module": "@jupyter-widgets/base",
      "_view_module_version": "1.2.0",
      "_view_name": "LayoutView",
      "align_content": null,
      "align_items": null,
      "align_self": null,
      "border": null,
      "bottom": null,
      "display": null,
      "flex": null,
      "flex_flow": null,
      "grid_area": null,
      "grid_auto_columns": null,
      "grid_auto_flow": null,
      "grid_auto_rows": null,
      "grid_column": null,
      "grid_gap": null,
      "grid_row": null,
      "grid_template_areas": null,
      "grid_template_columns": null,
      "grid_template_rows": null,
      "height": null,
      "justify_content": null,
      "justify_items": null,
      "left": null,
      "margin": null,
      "max_height": null,
      "max_width": null,
      "min_height": null,
      "min_width": null,
      "object_fit": null,
      "object_position": null,
      "order": null,
      "overflow": null,
      "overflow_x": null,
      "overflow_y": null,
      "padding": null,
      "right": null,
      "top": null,
      "visibility": null,
      "width": null
     }
    },
    "465b914803d3402caed82366f946a95c": {
     "model_module": "@jupyter-widgets/controls",
     "model_module_version": "1.5.0",
     "model_name": "HTMLModel",
     "state": {
      "_dom_classes": [],
      "_model_module": "@jupyter-widgets/controls",
      "_model_module_version": "1.5.0",
      "_model_name": "HTMLModel",
      "_view_count": null,
      "_view_module": "@jupyter-widgets/controls",
      "_view_module_version": "1.5.0",
      "_view_name": "HTMLView",
      "description": "",
      "description_tooltip": null,
      "layout": "IPY_MODEL_919d0fc6880b44238e63b2b069f1934e",
      "placeholder": "​",
      "style": "IPY_MODEL_8c44ef02a2b540f3bee7e5d26e11cf2e",
      "value": "config.json: 100%"
     }
    },
    "474084080c4e40f1a916ade5b3bdd4ca": {
     "model_module": "@jupyter-widgets/controls",
     "model_module_version": "1.5.0",
     "model_name": "HTMLModel",
     "state": {
      "_dom_classes": [],
      "_model_module": "@jupyter-widgets/controls",
      "_model_module_version": "1.5.0",
      "_model_name": "HTMLModel",
      "_view_count": null,
      "_view_module": "@jupyter-widgets/controls",
      "_view_module_version": "1.5.0",
      "_view_name": "HTMLView",
      "description": "",
      "description_tooltip": null,
      "layout": "IPY_MODEL_2d19c0e3101e4eaa9b7448e30e902b81",
      "placeholder": "​",
      "style": "IPY_MODEL_4f627b3680364eb38b46d576d033b475",
      "value": " 687/687 [00:00&lt;00:00, 74.0kB/s]"
     }
    },
    "4be21b41412f459fa93161c4c4b4b660": {
     "model_module": "@jupyter-widgets/controls",
     "model_module_version": "1.5.0",
     "model_name": "DescriptionStyleModel",
     "state": {
      "_model_module": "@jupyter-widgets/controls",
      "_model_module_version": "1.5.0",
      "_model_name": "DescriptionStyleModel",
      "_view_count": null,
      "_view_module": "@jupyter-widgets/base",
      "_view_module_version": "1.2.0",
      "_view_name": "StyleView",
      "description_width": ""
     }
    },
    "4d563c54289041a594b7db962458e134": {
     "model_module": "@jupyter-widgets/base",
     "model_module_version": "1.2.0",
     "model_name": "LayoutModel",
     "state": {
      "_model_module": "@jupyter-widgets/base",
      "_model_module_version": "1.2.0",
      "_model_name": "LayoutModel",
      "_view_count": null,
      "_view_module": "@jupyter-widgets/base",
      "_view_module_version": "1.2.0",
      "_view_name": "LayoutView",
      "align_content": null,
      "align_items": null,
      "align_self": null,
      "border": null,
      "bottom": null,
      "display": null,
      "flex": null,
      "flex_flow": null,
      "grid_area": null,
      "grid_auto_columns": null,
      "grid_auto_flow": null,
      "grid_auto_rows": null,
      "grid_column": null,
      "grid_gap": null,
      "grid_row": null,
      "grid_template_areas": null,
      "grid_template_columns": null,
      "grid_template_rows": null,
      "height": null,
      "justify_content": null,
      "justify_items": null,
      "left": null,
      "margin": null,
      "max_height": null,
      "max_width": null,
      "min_height": null,
      "min_width": null,
      "object_fit": null,
      "object_position": null,
      "order": null,
      "overflow": null,
      "overflow_x": null,
      "overflow_y": null,
      "padding": null,
      "right": null,
      "top": null,
      "visibility": null,
      "width": null
     }
    },
    "4f627b3680364eb38b46d576d033b475": {
     "model_module": "@jupyter-widgets/controls",
     "model_module_version": "1.5.0",
     "model_name": "DescriptionStyleModel",
     "state": {
      "_model_module": "@jupyter-widgets/controls",
      "_model_module_version": "1.5.0",
      "_model_name": "DescriptionStyleModel",
      "_view_count": null,
      "_view_module": "@jupyter-widgets/base",
      "_view_module_version": "1.2.0",
      "_view_name": "StyleView",
      "description_width": ""
     }
    },
    "50dfceb2bc0b4862bea35b24e42118b4": {
     "model_module": "@jupyter-widgets/base",
     "model_module_version": "1.2.0",
     "model_name": "LayoutModel",
     "state": {
      "_model_module": "@jupyter-widgets/base",
      "_model_module_version": "1.2.0",
      "_model_name": "LayoutModel",
      "_view_count": null,
      "_view_module": "@jupyter-widgets/base",
      "_view_module_version": "1.2.0",
      "_view_name": "LayoutView",
      "align_content": null,
      "align_items": null,
      "align_self": null,
      "border": null,
      "bottom": null,
      "display": null,
      "flex": null,
      "flex_flow": null,
      "grid_area": null,
      "grid_auto_columns": null,
      "grid_auto_flow": null,
      "grid_auto_rows": null,
      "grid_column": null,
      "grid_gap": null,
      "grid_row": null,
      "grid_template_areas": null,
      "grid_template_columns": null,
      "grid_template_rows": null,
      "height": null,
      "justify_content": null,
      "justify_items": null,
      "left": null,
      "margin": null,
      "max_height": null,
      "max_width": null,
      "min_height": null,
      "min_width": null,
      "object_fit": null,
      "object_position": null,
      "order": null,
      "overflow": null,
      "overflow_x": null,
      "overflow_y": null,
      "padding": null,
      "right": null,
      "top": null,
      "visibility": null,
      "width": null
     }
    },
    "5112dbfb3805429ab7a6360e23db3ca0": {
     "model_module": "@jupyter-widgets/controls",
     "model_module_version": "1.5.0",
     "model_name": "FloatProgressModel",
     "state": {
      "_dom_classes": [],
      "_model_module": "@jupyter-widgets/controls",
      "_model_module_version": "1.5.0",
      "_model_name": "FloatProgressModel",
      "_view_count": null,
      "_view_module": "@jupyter-widgets/controls",
      "_view_module_version": "1.5.0",
      "_view_name": "ProgressView",
      "bar_style": "success",
      "description": "",
      "description_tooltip": null,
      "layout": "IPY_MODEL_19d4861b2a4745aab0e7dc1a113d2e3f",
      "max": 191,
      "min": 0,
      "orientation": "horizontal",
      "style": "IPY_MODEL_8cdaadb82505413c986de7d7e211126e",
      "value": 191
     }
    },
    "5879944dbab74c9395daf60677dce95f": {
     "model_module": "@jupyter-widgets/controls",
     "model_module_version": "1.5.0",
     "model_name": "DescriptionStyleModel",
     "state": {
      "_model_module": "@jupyter-widgets/controls",
      "_model_module_version": "1.5.0",
      "_model_name": "DescriptionStyleModel",
      "_view_count": null,
      "_view_module": "@jupyter-widgets/base",
      "_view_module_version": "1.2.0",
      "_view_name": "StyleView",
      "description_width": ""
     }
    },
    "5b378eb7cc43465fb38d550d579c03a4": {
     "model_module": "@jupyter-widgets/controls",
     "model_module_version": "1.5.0",
     "model_name": "DescriptionStyleModel",
     "state": {
      "_model_module": "@jupyter-widgets/controls",
      "_model_module_version": "1.5.0",
      "_model_name": "DescriptionStyleModel",
      "_view_count": null,
      "_view_module": "@jupyter-widgets/base",
      "_view_module_version": "1.2.0",
      "_view_name": "StyleView",
      "description_width": ""
     }
    },
    "5e9fb8822c5c437e8b832fcfebad3b9a": {
     "model_module": "@jupyter-widgets/base",
     "model_module_version": "1.2.0",
     "model_name": "LayoutModel",
     "state": {
      "_model_module": "@jupyter-widgets/base",
      "_model_module_version": "1.2.0",
      "_model_name": "LayoutModel",
      "_view_count": null,
      "_view_module": "@jupyter-widgets/base",
      "_view_module_version": "1.2.0",
      "_view_name": "LayoutView",
      "align_content": null,
      "align_items": null,
      "align_self": null,
      "border": null,
      "bottom": null,
      "display": null,
      "flex": null,
      "flex_flow": null,
      "grid_area": null,
      "grid_auto_columns": null,
      "grid_auto_flow": null,
      "grid_auto_rows": null,
      "grid_column": null,
      "grid_gap": null,
      "grid_row": null,
      "grid_template_areas": null,
      "grid_template_columns": null,
      "grid_template_rows": null,
      "height": null,
      "justify_content": null,
      "justify_items": null,
      "left": null,
      "margin": null,
      "max_height": null,
      "max_width": null,
      "min_height": null,
      "min_width": null,
      "object_fit": null,
      "object_position": null,
      "order": null,
      "overflow": null,
      "overflow_x": null,
      "overflow_y": null,
      "padding": null,
      "right": null,
      "top": null,
      "visibility": null,
      "width": null
     }
    },
    "6b23b5f13f21410a85725926e39f1225": {
     "model_module": "@jupyter-widgets/controls",
     "model_module_version": "1.5.0",
     "model_name": "HBoxModel",
     "state": {
      "_dom_classes": [],
      "_model_module": "@jupyter-widgets/controls",
      "_model_module_version": "1.5.0",
      "_model_name": "HBoxModel",
      "_view_count": null,
      "_view_module": "@jupyter-widgets/controls",
      "_view_module_version": "1.5.0",
      "_view_name": "HBoxView",
      "box_style": "",
      "children": [
       "IPY_MODEL_7cd11f6af28040a6bee3192ea9b88dfd",
       "IPY_MODEL_bf014915641c4b5e9a752684f60c2984",
       "IPY_MODEL_0b4a20f5f01c44dda7ebaaf1538d8b02"
      ],
      "layout": "IPY_MODEL_9deb48ba6c04452aade284c8ee6b6fdc"
     }
    },
    "6be7b5413a534b53ad6e81b6672f1b67": {
     "model_module": "@jupyter-widgets/controls",
     "model_module_version": "1.5.0",
     "model_name": "HTMLModel",
     "state": {
      "_dom_classes": [],
      "_model_module": "@jupyter-widgets/controls",
      "_model_module_version": "1.5.0",
      "_model_name": "HTMLModel",
      "_view_count": null,
      "_view_module": "@jupyter-widgets/controls",
      "_view_module_version": "1.5.0",
      "_view_name": "HTMLView",
      "description": "",
      "description_tooltip": null,
      "layout": "IPY_MODEL_2790374448544666b382167ba6638428",
      "placeholder": "​",
      "style": "IPY_MODEL_f35424240a6f45ea8b7975c14fe2c491",
      "value": "sentence_bert_config.json: 100%"
     }
    },
    "6e3af7e06b624c22977f251a4cf74466": {
     "model_module": "@jupyter-widgets/base",
     "model_module_version": "1.2.0",
     "model_name": "LayoutModel",
     "state": {
      "_model_module": "@jupyter-widgets/base",
      "_model_module_version": "1.2.0",
      "_model_name": "LayoutModel",
      "_view_count": null,
      "_view_module": "@jupyter-widgets/base",
      "_view_module_version": "1.2.0",
      "_view_name": "LayoutView",
      "align_content": null,
      "align_items": null,
      "align_self": null,
      "border": null,
      "bottom": null,
      "display": null,
      "flex": null,
      "flex_flow": null,
      "grid_area": null,
      "grid_auto_columns": null,
      "grid_auto_flow": null,
      "grid_auto_rows": null,
      "grid_column": null,
      "grid_gap": null,
      "grid_row": null,
      "grid_template_areas": null,
      "grid_template_columns": null,
      "grid_template_rows": null,
      "height": null,
      "justify_content": null,
      "justify_items": null,
      "left": null,
      "margin": null,
      "max_height": null,
      "max_width": null,
      "min_height": null,
      "min_width": null,
      "object_fit": null,
      "object_position": null,
      "order": null,
      "overflow": null,
      "overflow_x": null,
      "overflow_y": null,
      "padding": null,
      "right": null,
      "top": null,
      "visibility": null,
      "width": null
     }
    },
    "7296db32c7a942e5b1ca583a8ee2bb2f": {
     "model_module": "@jupyter-widgets/controls",
     "model_module_version": "1.5.0",
     "model_name": "DescriptionStyleModel",
     "state": {
      "_model_module": "@jupyter-widgets/controls",
      "_model_module_version": "1.5.0",
      "_model_name": "DescriptionStyleModel",
      "_view_count": null,
      "_view_module": "@jupyter-widgets/base",
      "_view_module_version": "1.2.0",
      "_view_name": "StyleView",
      "description_width": ""
     }
    },
    "751499adf8134b759c6b9936fe871b45": {
     "model_module": "@jupyter-widgets/controls",
     "model_module_version": "1.5.0",
     "model_name": "FloatProgressModel",
     "state": {
      "_dom_classes": [],
      "_model_module": "@jupyter-widgets/controls",
      "_model_module_version": "1.5.0",
      "_model_name": "FloatProgressModel",
      "_view_count": null,
      "_view_module": "@jupyter-widgets/controls",
      "_view_module_version": "1.5.0",
      "_view_name": "ProgressView",
      "bar_style": "success",
      "description": "",
      "description_tooltip": null,
      "layout": "IPY_MODEL_3538567619754dfcbc19afdf79aaeae6",
      "max": 5069051,
      "min": 0,
      "orientation": "horizontal",
      "style": "IPY_MODEL_084e3495142440fabc28efc22aaf6a84",
      "value": 5069051
     }
    },
    "77da692ff6d84f80a53bc906e2393c8b": {
     "model_module": "@jupyter-widgets/controls",
     "model_module_version": "1.5.0",
     "model_name": "HTMLModel",
     "state": {
      "_dom_classes": [],
      "_model_module": "@jupyter-widgets/controls",
      "_model_module_version": "1.5.0",
      "_model_name": "HTMLModel",
      "_view_count": null,
      "_view_module": "@jupyter-widgets/controls",
      "_view_module_version": "1.5.0",
      "_view_name": "HTMLView",
      "description": "",
      "description_tooltip": null,
      "layout": "IPY_MODEL_7be1df2763174b989df90bf68b25a80f",
      "placeholder": "​",
      "style": "IPY_MODEL_ba609464757942008da3a7e9acdb81b1",
      "value": " 54.0/54.0 [00:00&lt;00:00, 4.51kB/s]"
     }
    },
    "7bc45776fcd64d50a35afa3c0b5bcd90": {
     "model_module": "@jupyter-widgets/controls",
     "model_module_version": "1.5.0",
     "model_name": "HBoxModel",
     "state": {
      "_dom_classes": [],
      "_model_module": "@jupyter-widgets/controls",
      "_model_module_version": "1.5.0",
      "_model_name": "HBoxModel",
      "_view_count": null,
      "_view_module": "@jupyter-widgets/controls",
      "_view_module_version": "1.5.0",
      "_view_name": "HBoxView",
      "box_style": "",
      "children": [
       "IPY_MODEL_c175bff333df4d51984ada3b80251faa",
       "IPY_MODEL_40700f53a83247a8972c8c110e4e1d0d",
       "IPY_MODEL_ce10c14f5c54474c88f78ebbf9e67c56"
      ],
      "layout": "IPY_MODEL_905cb2f6e589476197cec9df91907ee8"
     }
    },
    "7be1df2763174b989df90bf68b25a80f": {
     "model_module": "@jupyter-widgets/base",
     "model_module_version": "1.2.0",
     "model_name": "LayoutModel",
     "state": {
      "_model_module": "@jupyter-widgets/base",
      "_model_module_version": "1.2.0",
      "_model_name": "LayoutModel",
      "_view_count": null,
      "_view_module": "@jupyter-widgets/base",
      "_view_module_version": "1.2.0",
      "_view_name": "LayoutView",
      "align_content": null,
      "align_items": null,
      "align_self": null,
      "border": null,
      "bottom": null,
      "display": null,
      "flex": null,
      "flex_flow": null,
      "grid_area": null,
      "grid_auto_columns": null,
      "grid_auto_flow": null,
      "grid_auto_rows": null,
      "grid_column": null,
      "grid_gap": null,
      "grid_row": null,
      "grid_template_areas": null,
      "grid_template_columns": null,
      "grid_template_rows": null,
      "height": null,
      "justify_content": null,
      "justify_items": null,
      "left": null,
      "margin": null,
      "max_height": null,
      "max_width": null,
      "min_height": null,
      "min_width": null,
      "object_fit": null,
      "object_position": null,
      "order": null,
      "overflow": null,
      "overflow_x": null,
      "overflow_y": null,
      "padding": null,
      "right": null,
      "top": null,
      "visibility": null,
      "width": null
     }
    },
    "7cd11f6af28040a6bee3192ea9b88dfd": {
     "model_module": "@jupyter-widgets/controls",
     "model_module_version": "1.5.0",
     "model_name": "HTMLModel",
     "state": {
      "_dom_classes": [],
      "_model_module": "@jupyter-widgets/controls",
      "_model_module_version": "1.5.0",
      "_model_name": "HTMLModel",
      "_view_count": null,
      "_view_module": "@jupyter-widgets/controls",
      "_view_module_version": "1.5.0",
      "_view_name": "HTMLView",
      "description": "",
      "description_tooltip": null,
      "layout": "IPY_MODEL_3aaace3d628349d19f59324ada823521",
      "placeholder": "​",
      "style": "IPY_MODEL_eed5359cef0c4b6583654e3b846f8ef8",
      "value": "modules.json: 100%"
     }
    },
    "7de6b232e116487db5fe2523245f6826": {
     "model_module": "@jupyter-widgets/controls",
     "model_module_version": "1.5.0",
     "model_name": "DescriptionStyleModel",
     "state": {
      "_model_module": "@jupyter-widgets/controls",
      "_model_module_version": "1.5.0",
      "_model_name": "DescriptionStyleModel",
      "_view_count": null,
      "_view_module": "@jupyter-widgets/base",
      "_view_module_version": "1.2.0",
      "_view_name": "StyleView",
      "description_width": ""
     }
    },
    "7f748aa9196040eb958314f7ae7e2d25": {
     "model_module": "@jupyter-widgets/controls",
     "model_module_version": "1.5.0",
     "model_name": "FloatProgressModel",
     "state": {
      "_dom_classes": [],
      "_model_module": "@jupyter-widgets/controls",
      "_model_module_version": "1.5.0",
      "_model_name": "FloatProgressModel",
      "_view_count": null,
      "_view_module": "@jupyter-widgets/controls",
      "_view_module_version": "1.5.0",
      "_view_name": "ProgressView",
      "bar_style": "success",
      "description": "",
      "description_tooltip": null,
      "layout": "IPY_MODEL_cccd3e9c22f24be29e54caec0c5aa73c",
      "max": 2271145830,
      "min": 0,
      "orientation": "horizontal",
      "style": "IPY_MODEL_e4cedcd7eac04aea9d78b0de68e7ab0a",
      "value": 2271145830
     }
    },
    "81f0955238524b708f4764748e63867a": {
     "model_module": "@jupyter-widgets/controls",
     "model_module_version": "1.5.0",
     "model_name": "DescriptionStyleModel",
     "state": {
      "_model_module": "@jupyter-widgets/controls",
      "_model_module_version": "1.5.0",
      "_model_name": "DescriptionStyleModel",
      "_view_count": null,
      "_view_module": "@jupyter-widgets/base",
      "_view_module_version": "1.2.0",
      "_view_name": "StyleView",
      "description_width": ""
     }
    },
    "8385a8a6c9bc457ca2a410b75a136b81": {
     "model_module": "@jupyter-widgets/controls",
     "model_module_version": "1.5.0",
     "model_name": "DescriptionStyleModel",
     "state": {
      "_model_module": "@jupyter-widgets/controls",
      "_model_module_version": "1.5.0",
      "_model_name": "DescriptionStyleModel",
      "_view_count": null,
      "_view_module": "@jupyter-widgets/base",
      "_view_module_version": "1.2.0",
      "_view_name": "StyleView",
      "description_width": ""
     }
    },
    "83d3086c65ef4f66957cc9a5c75a5aee": {
     "model_module": "@jupyter-widgets/controls",
     "model_module_version": "1.5.0",
     "model_name": "HTMLModel",
     "state": {
      "_dom_classes": [],
      "_model_module": "@jupyter-widgets/controls",
      "_model_module_version": "1.5.0",
      "_model_name": "HTMLModel",
      "_view_count": null,
      "_view_module": "@jupyter-widgets/controls",
      "_view_module_version": "1.5.0",
      "_view_name": "HTMLView",
      "description": "",
      "description_tooltip": null,
      "layout": "IPY_MODEL_30f338b100ad4fce98ba66ca9bd00f00",
      "placeholder": "​",
      "style": "IPY_MODEL_9f9a67bf648d4d1097eecab3def1c855",
      "value": " 15.8k/15.8k [00:00&lt;00:00, 1.46MB/s]"
     }
    },
    "8544fa6389fe4cf2a020b261c9ced6c9": {
     "model_module": "@jupyter-widgets/base",
     "model_module_version": "1.2.0",
     "model_name": "LayoutModel",
     "state": {
      "_model_module": "@jupyter-widgets/base",
      "_model_module_version": "1.2.0",
      "_model_name": "LayoutModel",
      "_view_count": null,
      "_view_module": "@jupyter-widgets/base",
      "_view_module_version": "1.2.0",
      "_view_name": "LayoutView",
      "align_content": null,
      "align_items": null,
      "align_self": null,
      "border": null,
      "bottom": null,
      "display": null,
      "flex": null,
      "flex_flow": null,
      "grid_area": null,
      "grid_auto_columns": null,
      "grid_auto_flow": null,
      "grid_auto_rows": null,
      "grid_column": null,
      "grid_gap": null,
      "grid_row": null,
      "grid_template_areas": null,
      "grid_template_columns": null,
      "grid_template_rows": null,
      "height": null,
      "justify_content": null,
      "justify_items": null,
      "left": null,
      "margin": null,
      "max_height": null,
      "max_width": null,
      "min_height": null,
      "min_width": null,
      "object_fit": null,
      "object_position": null,
      "order": null,
      "overflow": null,
      "overflow_x": null,
      "overflow_y": null,
      "padding": null,
      "right": null,
      "top": null,
      "visibility": null,
      "width": null
     }
    },
    "85505f88bfa14e8d814acfb96b02cc60": {
     "model_module": "@jupyter-widgets/base",
     "model_module_version": "1.2.0",
     "model_name": "LayoutModel",
     "state": {
      "_model_module": "@jupyter-widgets/base",
      "_model_module_version": "1.2.0",
      "_model_name": "LayoutModel",
      "_view_count": null,
      "_view_module": "@jupyter-widgets/base",
      "_view_module_version": "1.2.0",
      "_view_name": "LayoutView",
      "align_content": null,
      "align_items": null,
      "align_self": null,
      "border": null,
      "bottom": null,
      "display": null,
      "flex": null,
      "flex_flow": null,
      "grid_area": null,
      "grid_auto_columns": null,
      "grid_auto_flow": null,
      "grid_auto_rows": null,
      "grid_column": null,
      "grid_gap": null,
      "grid_row": null,
      "grid_template_areas": null,
      "grid_template_columns": null,
      "grid_template_rows": null,
      "height": null,
      "justify_content": null,
      "justify_items": null,
      "left": null,
      "margin": null,
      "max_height": null,
      "max_width": null,
      "min_height": null,
      "min_width": null,
      "object_fit": null,
      "object_position": null,
      "order": null,
      "overflow": null,
      "overflow_x": null,
      "overflow_y": null,
      "padding": null,
      "right": null,
      "top": null,
      "visibility": null,
      "width": null
     }
    },
    "8607c03d91d243eebbd368761c08c8b9": {
     "model_module": "@jupyter-widgets/controls",
     "model_module_version": "1.5.0",
     "model_name": "FloatProgressModel",
     "state": {
      "_dom_classes": [],
      "_model_module": "@jupyter-widgets/controls",
      "_model_module_version": "1.5.0",
      "_model_name": "FloatProgressModel",
      "_view_count": null,
      "_view_module": "@jupyter-widgets/controls",
      "_view_module_version": "1.5.0",
      "_view_name": "ProgressView",
      "bar_style": "success",
      "description": "",
      "description_tooltip": null,
      "layout": "IPY_MODEL_fd46d80fd3594a668eb163d02a40f6be",
      "max": 2271064456,
      "min": 0,
      "orientation": "horizontal",
      "style": "IPY_MODEL_97ba292450f34f17af7a9988c3accedd",
      "value": 2271064456
     }
    },
    "87bf46b9ce2b43dcb2ce0a618fd6946c": {
     "model_module": "@jupyter-widgets/controls",
     "model_module_version": "1.5.0",
     "model_name": "ProgressStyleModel",
     "state": {
      "_model_module": "@jupyter-widgets/controls",
      "_model_module_version": "1.5.0",
      "_model_name": "ProgressStyleModel",
      "_view_count": null,
      "_view_module": "@jupyter-widgets/base",
      "_view_module_version": "1.2.0",
      "_view_name": "StyleView",
      "bar_color": null,
      "description_width": ""
     }
    },
    "8abc4e9e3a4a46169b5dcf1777fe920b": {
     "model_module": "@jupyter-widgets/base",
     "model_module_version": "1.2.0",
     "model_name": "LayoutModel",
     "state": {
      "_model_module": "@jupyter-widgets/base",
      "_model_module_version": "1.2.0",
      "_model_name": "LayoutModel",
      "_view_count": null,
      "_view_module": "@jupyter-widgets/base",
      "_view_module_version": "1.2.0",
      "_view_name": "LayoutView",
      "align_content": null,
      "align_items": null,
      "align_self": null,
      "border": null,
      "bottom": null,
      "display": null,
      "flex": null,
      "flex_flow": null,
      "grid_area": null,
      "grid_auto_columns": null,
      "grid_auto_flow": null,
      "grid_auto_rows": null,
      "grid_column": null,
      "grid_gap": null,
      "grid_row": null,
      "grid_template_areas": null,
      "grid_template_columns": null,
      "grid_template_rows": null,
      "height": null,
      "justify_content": null,
      "justify_items": null,
      "left": null,
      "margin": null,
      "max_height": null,
      "max_width": null,
      "min_height": null,
      "min_width": null,
      "object_fit": null,
      "object_position": null,
      "order": null,
      "overflow": null,
      "overflow_x": null,
      "overflow_y": null,
      "padding": null,
      "right": null,
      "top": null,
      "visibility": null,
      "width": null
     }
    },
    "8c44ef02a2b540f3bee7e5d26e11cf2e": {
     "model_module": "@jupyter-widgets/controls",
     "model_module_version": "1.5.0",
     "model_name": "DescriptionStyleModel",
     "state": {
      "_model_module": "@jupyter-widgets/controls",
      "_model_module_version": "1.5.0",
      "_model_name": "DescriptionStyleModel",
      "_view_count": null,
      "_view_module": "@jupyter-widgets/base",
      "_view_module_version": "1.2.0",
      "_view_name": "StyleView",
      "description_width": ""
     }
    },
    "8c970c3083b5476bb1c3d0fe7bd392ca": {
     "model_module": "@jupyter-widgets/base",
     "model_module_version": "1.2.0",
     "model_name": "LayoutModel",
     "state": {
      "_model_module": "@jupyter-widgets/base",
      "_model_module_version": "1.2.0",
      "_model_name": "LayoutModel",
      "_view_count": null,
      "_view_module": "@jupyter-widgets/base",
      "_view_module_version": "1.2.0",
      "_view_name": "LayoutView",
      "align_content": null,
      "align_items": null,
      "align_self": null,
      "border": null,
      "bottom": null,
      "display": null,
      "flex": null,
      "flex_flow": null,
      "grid_area": null,
      "grid_auto_columns": null,
      "grid_auto_flow": null,
      "grid_auto_rows": null,
      "grid_column": null,
      "grid_gap": null,
      "grid_row": null,
      "grid_template_areas": null,
      "grid_template_columns": null,
      "grid_template_rows": null,
      "height": null,
      "justify_content": null,
      "justify_items": null,
      "left": null,
      "margin": null,
      "max_height": null,
      "max_width": null,
      "min_height": null,
      "min_width": null,
      "object_fit": null,
      "object_position": null,
      "order": null,
      "overflow": null,
      "overflow_x": null,
      "overflow_y": null,
      "padding": null,
      "right": null,
      "top": null,
      "visibility": null,
      "width": null
     }
    },
    "8cdaadb82505413c986de7d7e211126e": {
     "model_module": "@jupyter-widgets/controls",
     "model_module_version": "1.5.0",
     "model_name": "ProgressStyleModel",
     "state": {
      "_model_module": "@jupyter-widgets/controls",
      "_model_module_version": "1.5.0",
      "_model_name": "ProgressStyleModel",
      "_view_count": null,
      "_view_module": "@jupyter-widgets/base",
      "_view_module_version": "1.2.0",
      "_view_name": "StyleView",
      "bar_color": null,
      "description_width": ""
     }
    },
    "8d180cefec6b4f35b9f0e8fb38014d03": {
     "model_module": "@jupyter-widgets/controls",
     "model_module_version": "1.5.0",
     "model_name": "HBoxModel",
     "state": {
      "_dom_classes": [],
      "_model_module": "@jupyter-widgets/controls",
      "_model_module_version": "1.5.0",
      "_model_name": "HBoxModel",
      "_view_count": null,
      "_view_module": "@jupyter-widgets/controls",
      "_view_module_version": "1.5.0",
      "_view_name": "HBoxView",
      "box_style": "",
      "children": [
       "IPY_MODEL_a07846c626b641d480f6cecc0cb3372f",
       "IPY_MODEL_8607c03d91d243eebbd368761c08c8b9",
       "IPY_MODEL_bcb74da457424542a1d7fa50d9ac7244"
      ],
      "layout": "IPY_MODEL_e499eaa6acf6455dacde157a8aeff83b"
     }
    },
    "8d5fde05179d457db295c495ef1c965d": {
     "model_module": "@jupyter-widgets/controls",
     "model_module_version": "1.5.0",
     "model_name": "FloatProgressModel",
     "state": {
      "_dom_classes": [],
      "_model_module": "@jupyter-widgets/controls",
      "_model_module_version": "1.5.0",
      "_model_name": "FloatProgressModel",
      "_view_count": null,
      "_view_module": "@jupyter-widgets/controls",
      "_view_module_version": "1.5.0",
      "_view_name": "ProgressView",
      "bar_style": "success",
      "description": "",
      "description_tooltip": null,
      "layout": "IPY_MODEL_c66fa1dcbba44513934e1fd5676bf58a",
      "max": 15822,
      "min": 0,
      "orientation": "horizontal",
      "style": "IPY_MODEL_f02c5997ed334f8882c50d793f3add1d",
      "value": 15822
     }
    },
    "9004d5668a6a489bb1703302a01bc967": {
     "model_module": "@jupyter-widgets/controls",
     "model_module_version": "1.5.0",
     "model_name": "HTMLModel",
     "state": {
      "_dom_classes": [],
      "_model_module": "@jupyter-widgets/controls",
      "_model_module_version": "1.5.0",
      "_model_name": "HTMLModel",
      "_view_count": null,
      "_view_module": "@jupyter-widgets/controls",
      "_view_module_version": "1.5.0",
      "_view_name": "HTMLView",
      "description": "",
      "description_tooltip": null,
      "layout": "IPY_MODEL_d8fc1ff8c33e48f18f93dda98d9cf46f",
      "placeholder": "​",
      "style": "IPY_MODEL_5b378eb7cc43465fb38d550d579c03a4",
      "value": " 964/964 [00:00&lt;00:00, 41.0kB/s]"
     }
    },
    "905cb2f6e589476197cec9df91907ee8": {
     "model_module": "@jupyter-widgets/base",
     "model_module_version": "1.2.0",
     "model_name": "LayoutModel",
     "state": {
      "_model_module": "@jupyter-widgets/base",
      "_model_module_version": "1.2.0",
      "_model_name": "LayoutModel",
      "_view_count": null,
      "_view_module": "@jupyter-widgets/base",
      "_view_module_version": "1.2.0",
      "_view_name": "LayoutView",
      "align_content": null,
      "align_items": null,
      "align_self": null,
      "border": null,
      "bottom": null,
      "display": null,
      "flex": null,
      "flex_flow": null,
      "grid_area": null,
      "grid_auto_columns": null,
      "grid_auto_flow": null,
      "grid_auto_rows": null,
      "grid_column": null,
      "grid_gap": null,
      "grid_row": null,
      "grid_template_areas": null,
      "grid_template_columns": null,
      "grid_template_rows": null,
      "height": null,
      "justify_content": null,
      "justify_items": null,
      "left": null,
      "margin": null,
      "max_height": null,
      "max_width": null,
      "min_height": null,
      "min_width": null,
      "object_fit": null,
      "object_position": null,
      "order": null,
      "overflow": null,
      "overflow_x": null,
      "overflow_y": null,
      "padding": null,
      "right": null,
      "top": null,
      "visibility": null,
      "width": null
     }
    },
    "90bd48bd5c7d4aeea31de7d361ccc2da": {
     "model_module": "@jupyter-widgets/controls",
     "model_module_version": "1.5.0",
     "model_name": "HBoxModel",
     "state": {
      "_dom_classes": [],
      "_model_module": "@jupyter-widgets/controls",
      "_model_module_version": "1.5.0",
      "_model_name": "HBoxModel",
      "_view_count": null,
      "_view_module": "@jupyter-widgets/controls",
      "_view_module_version": "1.5.0",
      "_view_name": "HBoxView",
      "box_style": "",
      "children": [
       "IPY_MODEL_465b914803d3402caed82366f946a95c",
       "IPY_MODEL_3123ea382e80478982c9d859981fb8ab",
       "IPY_MODEL_474084080c4e40f1a916ade5b3bdd4ca"
      ],
      "layout": "IPY_MODEL_bdcd0aff668c4db1a5498e493378be8c"
     }
    },
    "9114b49cd70a43d7ac7b7bfb9b61df4b": {
     "model_module": "@jupyter-widgets/base",
     "model_module_version": "1.2.0",
     "model_name": "LayoutModel",
     "state": {
      "_model_module": "@jupyter-widgets/base",
      "_model_module_version": "1.2.0",
      "_model_name": "LayoutModel",
      "_view_count": null,
      "_view_module": "@jupyter-widgets/base",
      "_view_module_version": "1.2.0",
      "_view_name": "LayoutView",
      "align_content": null,
      "align_items": null,
      "align_self": null,
      "border": null,
      "bottom": null,
      "display": null,
      "flex": null,
      "flex_flow": null,
      "grid_area": null,
      "grid_auto_columns": null,
      "grid_auto_flow": null,
      "grid_auto_rows": null,
      "grid_column": null,
      "grid_gap": null,
      "grid_row": null,
      "grid_template_areas": null,
      "grid_template_columns": null,
      "grid_template_rows": null,
      "height": null,
      "justify_content": null,
      "justify_items": null,
      "left": null,
      "margin": null,
      "max_height": null,
      "max_width": null,
      "min_height": null,
      "min_width": null,
      "object_fit": null,
      "object_position": null,
      "order": null,
      "overflow": null,
      "overflow_x": null,
      "overflow_y": null,
      "padding": null,
      "right": null,
      "top": null,
      "visibility": null,
      "width": null
     }
    },
    "919d0fc6880b44238e63b2b069f1934e": {
     "model_module": "@jupyter-widgets/base",
     "model_module_version": "1.2.0",
     "model_name": "LayoutModel",
     "state": {
      "_model_module": "@jupyter-widgets/base",
      "_model_module_version": "1.2.0",
      "_model_name": "LayoutModel",
      "_view_count": null,
      "_view_module": "@jupyter-widgets/base",
      "_view_module_version": "1.2.0",
      "_view_name": "LayoutView",
      "align_content": null,
      "align_items": null,
      "align_self": null,
      "border": null,
      "bottom": null,
      "display": null,
      "flex": null,
      "flex_flow": null,
      "grid_area": null,
      "grid_auto_columns": null,
      "grid_auto_flow": null,
      "grid_auto_rows": null,
      "grid_column": null,
      "grid_gap": null,
      "grid_row": null,
      "grid_template_areas": null,
      "grid_template_columns": null,
      "grid_template_rows": null,
      "height": null,
      "justify_content": null,
      "justify_items": null,
      "left": null,
      "margin": null,
      "max_height": null,
      "max_width": null,
      "min_height": null,
      "min_width": null,
      "object_fit": null,
      "object_position": null,
      "order": null,
      "overflow": null,
      "overflow_x": null,
      "overflow_y": null,
      "padding": null,
      "right": null,
      "top": null,
      "visibility": null,
      "width": null
     }
    },
    "9263468eaecf451394b4ded2bc0f8130": {
     "model_module": "@jupyter-widgets/controls",
     "model_module_version": "1.5.0",
     "model_name": "HBoxModel",
     "state": {
      "_dom_classes": [],
      "_model_module": "@jupyter-widgets/controls",
      "_model_module_version": "1.5.0",
      "_model_name": "HBoxModel",
      "_view_count": null,
      "_view_module": "@jupyter-widgets/controls",
      "_view_module_version": "1.5.0",
      "_view_name": "HBoxView",
      "box_style": "",
      "children": [
       "IPY_MODEL_6be7b5413a534b53ad6e81b6672f1b67",
       "IPY_MODEL_ee7a97fed9a14258a459e4b547c7c197",
       "IPY_MODEL_77da692ff6d84f80a53bc906e2393c8b"
      ],
      "layout": "IPY_MODEL_378119de648d4fc395b6f7bd5b1c9610"
     }
    },
    "94f666b708e940699c6312d0c45fa6cd": {
     "model_module": "@jupyter-widgets/controls",
     "model_module_version": "1.5.0",
     "model_name": "HTMLModel",
     "state": {
      "_dom_classes": [],
      "_model_module": "@jupyter-widgets/controls",
      "_model_module_version": "1.5.0",
      "_model_name": "HTMLModel",
      "_view_count": null,
      "_view_module": "@jupyter-widgets/controls",
      "_view_module_version": "1.5.0",
      "_view_name": "HTMLView",
      "description": "",
      "description_tooltip": null,
      "layout": "IPY_MODEL_5e9fb8822c5c437e8b832fcfebad3b9a",
      "placeholder": "​",
      "style": "IPY_MODEL_962ac5e1a72c4289857a295bf6e6fcc2",
      "value": "special_tokens_map.json: 100%"
     }
    },
    "962ac5e1a72c4289857a295bf6e6fcc2": {
     "model_module": "@jupyter-widgets/controls",
     "model_module_version": "1.5.0",
     "model_name": "DescriptionStyleModel",
     "state": {
      "_model_module": "@jupyter-widgets/controls",
      "_model_module_version": "1.5.0",
      "_model_name": "DescriptionStyleModel",
      "_view_count": null,
      "_view_module": "@jupyter-widgets/base",
      "_view_module_version": "1.2.0",
      "_view_name": "StyleView",
      "description_width": ""
     }
    },
    "97ba292450f34f17af7a9988c3accedd": {
     "model_module": "@jupyter-widgets/controls",
     "model_module_version": "1.5.0",
     "model_name": "ProgressStyleModel",
     "state": {
      "_model_module": "@jupyter-widgets/controls",
      "_model_module_version": "1.5.0",
      "_model_name": "ProgressStyleModel",
      "_view_count": null,
      "_view_module": "@jupyter-widgets/base",
      "_view_module_version": "1.2.0",
      "_view_name": "StyleView",
      "bar_color": null,
      "description_width": ""
     }
    },
    "98a4ce6b1a814f9c93b8e78926645946": {
     "model_module": "@jupyter-widgets/base",
     "model_module_version": "1.2.0",
     "model_name": "LayoutModel",
     "state": {
      "_model_module": "@jupyter-widgets/base",
      "_model_module_version": "1.2.0",
      "_model_name": "LayoutModel",
      "_view_count": null,
      "_view_module": "@jupyter-widgets/base",
      "_view_module_version": "1.2.0",
      "_view_name": "LayoutView",
      "align_content": null,
      "align_items": null,
      "align_self": null,
      "border": null,
      "bottom": null,
      "display": null,
      "flex": null,
      "flex_flow": null,
      "grid_area": null,
      "grid_auto_columns": null,
      "grid_auto_flow": null,
      "grid_auto_rows": null,
      "grid_column": null,
      "grid_gap": null,
      "grid_row": null,
      "grid_template_areas": null,
      "grid_template_columns": null,
      "grid_template_rows": null,
      "height": null,
      "justify_content": null,
      "justify_items": null,
      "left": null,
      "margin": null,
      "max_height": null,
      "max_width": null,
      "min_height": null,
      "min_width": null,
      "object_fit": null,
      "object_position": null,
      "order": null,
      "overflow": null,
      "overflow_x": null,
      "overflow_y": null,
      "padding": null,
      "right": null,
      "top": null,
      "visibility": null,
      "width": null
     }
    },
    "9a68c2a2f24c4ce3ba7d9f319c4d3101": {
     "model_module": "@jupyter-widgets/base",
     "model_module_version": "1.2.0",
     "model_name": "LayoutModel",
     "state": {
      "_model_module": "@jupyter-widgets/base",
      "_model_module_version": "1.2.0",
      "_model_name": "LayoutModel",
      "_view_count": null,
      "_view_module": "@jupyter-widgets/base",
      "_view_module_version": "1.2.0",
      "_view_name": "LayoutView",
      "align_content": null,
      "align_items": null,
      "align_self": null,
      "border": null,
      "bottom": null,
      "display": null,
      "flex": null,
      "flex_flow": null,
      "grid_area": null,
      "grid_auto_columns": null,
      "grid_auto_flow": null,
      "grid_auto_rows": null,
      "grid_column": null,
      "grid_gap": null,
      "grid_row": null,
      "grid_template_areas": null,
      "grid_template_columns": null,
      "grid_template_rows": null,
      "height": null,
      "justify_content": null,
      "justify_items": null,
      "left": null,
      "margin": null,
      "max_height": null,
      "max_width": null,
      "min_height": null,
      "min_width": null,
      "object_fit": null,
      "object_position": null,
      "order": null,
      "overflow": null,
      "overflow_x": null,
      "overflow_y": null,
      "padding": null,
      "right": null,
      "top": null,
      "visibility": null,
      "width": null
     }
    },
    "9aad70258ba9400680c0a475cf41c42a": {
     "model_module": "@jupyter-widgets/controls",
     "model_module_version": "1.5.0",
     "model_name": "HTMLModel",
     "state": {
      "_dom_classes": [],
      "_model_module": "@jupyter-widgets/controls",
      "_model_module_version": "1.5.0",
      "_model_name": "HTMLModel",
      "_view_count": null,
      "_view_module": "@jupyter-widgets/controls",
      "_view_module_version": "1.5.0",
      "_view_name": "HTMLView",
      "description": "",
      "description_tooltip": null,
      "layout": "IPY_MODEL_2ab2aac3168b405fb6f90ca4f22fb5fd",
      "placeholder": "​",
      "style": "IPY_MODEL_4be21b41412f459fa93161c4c4b4b660",
      "value": " 2.27G/2.27G [00:10&lt;00:00, 229MB/s]"
     }
    },
    "9ad32321ca984ecb978fb032846a489e": {
     "model_module": "@jupyter-widgets/controls",
     "model_module_version": "1.5.0",
     "model_name": "HTMLModel",
     "state": {
      "_dom_classes": [],
      "_model_module": "@jupyter-widgets/controls",
      "_model_module_version": "1.5.0",
      "_model_name": "HTMLModel",
      "_view_count": null,
      "_view_module": "@jupyter-widgets/controls",
      "_view_module_version": "1.5.0",
      "_view_name": "HTMLView",
      "description": "",
      "description_tooltip": null,
      "layout": "IPY_MODEL_cbdb3800b59545f9acac5d996da78975",
      "placeholder": "​",
      "style": "IPY_MODEL_f9d7953935104507bc8382e167e9c684",
      "value": " 444/444 [00:00&lt;00:00, 40.8kB/s]"
     }
    },
    "9b524c213784446cbb1a45739bfa9430": {
     "model_module": "@jupyter-widgets/controls",
     "model_module_version": "1.5.0",
     "model_name": "ProgressStyleModel",
     "state": {
      "_model_module": "@jupyter-widgets/controls",
      "_model_module_version": "1.5.0",
      "_model_name": "ProgressStyleModel",
      "_view_count": null,
      "_view_module": "@jupyter-widgets/base",
      "_view_module_version": "1.2.0",
      "_view_name": "StyleView",
      "bar_color": null,
      "description_width": ""
     }
    },
    "9c88ce2cc42744a8a5ded8fec27776a2": {
     "model_module": "@jupyter-widgets/base",
     "model_module_version": "1.2.0",
     "model_name": "LayoutModel",
     "state": {
      "_model_module": "@jupyter-widgets/base",
      "_model_module_version": "1.2.0",
      "_model_name": "LayoutModel",
      "_view_count": null,
      "_view_module": "@jupyter-widgets/base",
      "_view_module_version": "1.2.0",
      "_view_name": "LayoutView",
      "align_content": null,
      "align_items": null,
      "align_self": null,
      "border": null,
      "bottom": null,
      "display": null,
      "flex": null,
      "flex_flow": null,
      "grid_area": null,
      "grid_auto_columns": null,
      "grid_auto_flow": null,
      "grid_auto_rows": null,
      "grid_column": null,
      "grid_gap": null,
      "grid_row": null,
      "grid_template_areas": null,
      "grid_template_columns": null,
      "grid_template_rows": null,
      "height": null,
      "justify_content": null,
      "justify_items": null,
      "left": null,
      "margin": null,
      "max_height": null,
      "max_width": null,
      "min_height": null,
      "min_width": null,
      "object_fit": null,
      "object_position": null,
      "order": null,
      "overflow": null,
      "overflow_x": null,
      "overflow_y": null,
      "padding": null,
      "right": null,
      "top": null,
      "visibility": null,
      "width": null
     }
    },
    "9deb48ba6c04452aade284c8ee6b6fdc": {
     "model_module": "@jupyter-widgets/base",
     "model_module_version": "1.2.0",
     "model_name": "LayoutModel",
     "state": {
      "_model_module": "@jupyter-widgets/base",
      "_model_module_version": "1.2.0",
      "_model_name": "LayoutModel",
      "_view_count": null,
      "_view_module": "@jupyter-widgets/base",
      "_view_module_version": "1.2.0",
      "_view_name": "LayoutView",
      "align_content": null,
      "align_items": null,
      "align_self": null,
      "border": null,
      "bottom": null,
      "display": null,
      "flex": null,
      "flex_flow": null,
      "grid_area": null,
      "grid_auto_columns": null,
      "grid_auto_flow": null,
      "grid_auto_rows": null,
      "grid_column": null,
      "grid_gap": null,
      "grid_row": null,
      "grid_template_areas": null,
      "grid_template_columns": null,
      "grid_template_rows": null,
      "height": null,
      "justify_content": null,
      "justify_items": null,
      "left": null,
      "margin": null,
      "max_height": null,
      "max_width": null,
      "min_height": null,
      "min_width": null,
      "object_fit": null,
      "object_position": null,
      "order": null,
      "overflow": null,
      "overflow_x": null,
      "overflow_y": null,
      "padding": null,
      "right": null,
      "top": null,
      "visibility": null,
      "width": null
     }
    },
    "9e500d10917f4887b05ca55c2a8c5384": {
     "model_module": "@jupyter-widgets/controls",
     "model_module_version": "1.5.0",
     "model_name": "FloatProgressModel",
     "state": {
      "_dom_classes": [],
      "_model_module": "@jupyter-widgets/controls",
      "_model_module_version": "1.5.0",
      "_model_name": "FloatProgressModel",
      "_view_count": null,
      "_view_module": "@jupyter-widgets/controls",
      "_view_module_version": "1.5.0",
      "_view_name": "ProgressView",
      "bar_style": "success",
      "description": "",
      "description_tooltip": null,
      "layout": "IPY_MODEL_22ec0ba5d7124ee1a470074c760290b0",
      "max": 964,
      "min": 0,
      "orientation": "horizontal",
      "style": "IPY_MODEL_e56dc895be074850a6a14e016b67659d",
      "value": 964
     }
    },
    "9e79d399d5894dd7ac876cb62edf9628": {
     "model_module": "@jupyter-widgets/controls",
     "model_module_version": "1.5.0",
     "model_name": "HBoxModel",
     "state": {
      "_dom_classes": [],
      "_model_module": "@jupyter-widgets/controls",
      "_model_module_version": "1.5.0",
      "_model_name": "HBoxModel",
      "_view_count": null,
      "_view_module": "@jupyter-widgets/controls",
      "_view_module_version": "1.5.0",
      "_view_name": "HBoxView",
      "box_style": "",
      "children": [
       "IPY_MODEL_e17ed82091da4408a8f1de81abbef193",
       "IPY_MODEL_e899b77fe24b4e6b93736e73861d6e4b",
       "IPY_MODEL_9ad32321ca984ecb978fb032846a489e"
      ],
      "layout": "IPY_MODEL_fee55f9cb8964da396e4f4dbea0ec954"
     }
    },
    "9f9a67bf648d4d1097eecab3def1c855": {
     "model_module": "@jupyter-widgets/controls",
     "model_module_version": "1.5.0",
     "model_name": "DescriptionStyleModel",
     "state": {
      "_model_module": "@jupyter-widgets/controls",
      "_model_module_version": "1.5.0",
      "_model_name": "DescriptionStyleModel",
      "_view_count": null,
      "_view_module": "@jupyter-widgets/base",
      "_view_module_version": "1.2.0",
      "_view_name": "StyleView",
      "description_width": ""
     }
    },
    "a07846c626b641d480f6cecc0cb3372f": {
     "model_module": "@jupyter-widgets/controls",
     "model_module_version": "1.5.0",
     "model_name": "HTMLModel",
     "state": {
      "_dom_classes": [],
      "_model_module": "@jupyter-widgets/controls",
      "_model_module_version": "1.5.0",
      "_model_name": "HTMLModel",
      "_view_count": null,
      "_view_module": "@jupyter-widgets/controls",
      "_view_module_version": "1.5.0",
      "_view_name": "HTMLView",
      "description": "",
      "description_tooltip": null,
      "layout": "IPY_MODEL_6e3af7e06b624c22977f251a4cf74466",
      "placeholder": "​",
      "style": "IPY_MODEL_8385a8a6c9bc457ca2a410b75a136b81",
      "value": "model.safetensors: 100%"
     }
    },
    "ad388f2a3f0d4903ba1cfdee00fab9c5": {
     "model_module": "@jupyter-widgets/controls",
     "model_module_version": "1.5.0",
     "model_name": "HTMLModel",
     "state": {
      "_dom_classes": [],
      "_model_module": "@jupyter-widgets/controls",
      "_model_module_version": "1.5.0",
      "_model_name": "HTMLModel",
      "_view_count": null,
      "_view_module": "@jupyter-widgets/controls",
      "_view_module_version": "1.5.0",
      "_view_name": "HTMLView",
      "description": "",
      "description_tooltip": null,
      "layout": "IPY_MODEL_f4295c6e880d48d39d96c1011246c414",
      "placeholder": "​",
      "style": "IPY_MODEL_cc96a47c00d741f2a6039c9366a7406a",
      "value": "pytorch_model.bin: 100%"
     }
    },
    "ad7f3448c32b4b9a9c940737e73e113e": {
     "model_module": "@jupyter-widgets/controls",
     "model_module_version": "1.5.0",
     "model_name": "HBoxModel",
     "state": {
      "_dom_classes": [],
      "_model_module": "@jupyter-widgets/controls",
      "_model_module_version": "1.5.0",
      "_model_name": "HBoxModel",
      "_view_count": null,
      "_view_module": "@jupyter-widgets/controls",
      "_view_module_version": "1.5.0",
      "_view_name": "HBoxView",
      "box_style": "",
      "children": [
       "IPY_MODEL_fa0aaa482d5242cdbe9bfc870e6bd426",
       "IPY_MODEL_5112dbfb3805429ab7a6360e23db3ca0",
       "IPY_MODEL_1b6b7727c95242d18bdaf5b99e79da96"
      ],
      "layout": "IPY_MODEL_8c970c3083b5476bb1c3d0fe7bd392ca"
     }
    },
    "b40540a7909f49e894c5966ee9a81725": {
     "model_module": "@jupyter-widgets/base",
     "model_module_version": "1.2.0",
     "model_name": "LayoutModel",
     "state": {
      "_model_module": "@jupyter-widgets/base",
      "_model_module_version": "1.2.0",
      "_model_name": "LayoutModel",
      "_view_count": null,
      "_view_module": "@jupyter-widgets/base",
      "_view_module_version": "1.2.0",
      "_view_name": "LayoutView",
      "align_content": null,
      "align_items": null,
      "align_self": null,
      "border": null,
      "bottom": null,
      "display": null,
      "flex": null,
      "flex_flow": null,
      "grid_area": null,
      "grid_auto_columns": null,
      "grid_auto_flow": null,
      "grid_auto_rows": null,
      "grid_column": null,
      "grid_gap": null,
      "grid_row": null,
      "grid_template_areas": null,
      "grid_template_columns": null,
      "grid_template_rows": null,
      "height": null,
      "justify_content": null,
      "justify_items": null,
      "left": null,
      "margin": null,
      "max_height": null,
      "max_width": null,
      "min_height": null,
      "min_width": null,
      "object_fit": null,
      "object_position": null,
      "order": null,
      "overflow": null,
      "overflow_x": null,
      "overflow_y": null,
      "padding": null,
      "right": null,
      "top": null,
      "visibility": null,
      "width": null
     }
    },
    "b609ada5152d46698c6b0c20fc57be5f": {
     "model_module": "@jupyter-widgets/base",
     "model_module_version": "1.2.0",
     "model_name": "LayoutModel",
     "state": {
      "_model_module": "@jupyter-widgets/base",
      "_model_module_version": "1.2.0",
      "_model_name": "LayoutModel",
      "_view_count": null,
      "_view_module": "@jupyter-widgets/base",
      "_view_module_version": "1.2.0",
      "_view_name": "LayoutView",
      "align_content": null,
      "align_items": null,
      "align_self": null,
      "border": null,
      "bottom": null,
      "display": null,
      "flex": null,
      "flex_flow": null,
      "grid_area": null,
      "grid_auto_columns": null,
      "grid_auto_flow": null,
      "grid_auto_rows": null,
      "grid_column": null,
      "grid_gap": null,
      "grid_row": null,
      "grid_template_areas": null,
      "grid_template_columns": null,
      "grid_template_rows": null,
      "height": null,
      "justify_content": null,
      "justify_items": null,
      "left": null,
      "margin": null,
      "max_height": null,
      "max_width": null,
      "min_height": null,
      "min_width": null,
      "object_fit": null,
      "object_position": null,
      "order": null,
      "overflow": null,
      "overflow_x": null,
      "overflow_y": null,
      "padding": null,
      "right": null,
      "top": null,
      "visibility": null,
      "width": null
     }
    },
    "b634ded80412486bb0604b33e169f0a3": {
     "model_module": "@jupyter-widgets/base",
     "model_module_version": "1.2.0",
     "model_name": "LayoutModel",
     "state": {
      "_model_module": "@jupyter-widgets/base",
      "_model_module_version": "1.2.0",
      "_model_name": "LayoutModel",
      "_view_count": null,
      "_view_module": "@jupyter-widgets/base",
      "_view_module_version": "1.2.0",
      "_view_name": "LayoutView",
      "align_content": null,
      "align_items": null,
      "align_self": null,
      "border": null,
      "bottom": null,
      "display": null,
      "flex": null,
      "flex_flow": null,
      "grid_area": null,
      "grid_auto_columns": null,
      "grid_auto_flow": null,
      "grid_auto_rows": null,
      "grid_column": null,
      "grid_gap": null,
      "grid_row": null,
      "grid_template_areas": null,
      "grid_template_columns": null,
      "grid_template_rows": null,
      "height": null,
      "justify_content": null,
      "justify_items": null,
      "left": null,
      "margin": null,
      "max_height": null,
      "max_width": null,
      "min_height": null,
      "min_width": null,
      "object_fit": null,
      "object_position": null,
      "order": null,
      "overflow": null,
      "overflow_x": null,
      "overflow_y": null,
      "padding": null,
      "right": null,
      "top": null,
      "visibility": null,
      "width": null
     }
    },
    "b715e8ff54c44a55b541380aa630f7b8": {
     "model_module": "@jupyter-widgets/controls",
     "model_module_version": "1.5.0",
     "model_name": "DescriptionStyleModel",
     "state": {
      "_model_module": "@jupyter-widgets/controls",
      "_model_module_version": "1.5.0",
      "_model_name": "DescriptionStyleModel",
      "_view_count": null,
      "_view_module": "@jupyter-widgets/base",
      "_view_module_version": "1.2.0",
      "_view_name": "StyleView",
      "description_width": ""
     }
    },
    "ba609464757942008da3a7e9acdb81b1": {
     "model_module": "@jupyter-widgets/controls",
     "model_module_version": "1.5.0",
     "model_name": "DescriptionStyleModel",
     "state": {
      "_model_module": "@jupyter-widgets/controls",
      "_model_module_version": "1.5.0",
      "_model_name": "DescriptionStyleModel",
      "_view_count": null,
      "_view_module": "@jupyter-widgets/base",
      "_view_module_version": "1.2.0",
      "_view_name": "StyleView",
      "description_width": ""
     }
    },
    "bcb74da457424542a1d7fa50d9ac7244": {
     "model_module": "@jupyter-widgets/controls",
     "model_module_version": "1.5.0",
     "model_name": "HTMLModel",
     "state": {
      "_dom_classes": [],
      "_model_module": "@jupyter-widgets/controls",
      "_model_module_version": "1.5.0",
      "_model_name": "HTMLModel",
      "_view_count": null,
      "_view_module": "@jupyter-widgets/controls",
      "_view_module_version": "1.5.0",
      "_view_name": "HTMLView",
      "description": "",
      "description_tooltip": null,
      "layout": "IPY_MODEL_9a68c2a2f24c4ce3ba7d9f319c4d3101",
      "placeholder": "​",
      "style": "IPY_MODEL_7296db32c7a942e5b1ca583a8ee2bb2f",
      "value": " 2.27G/2.27G [00:14&lt;00:00, 239MB/s]"
     }
    },
    "bdcd0aff668c4db1a5498e493378be8c": {
     "model_module": "@jupyter-widgets/base",
     "model_module_version": "1.2.0",
     "model_name": "LayoutModel",
     "state": {
      "_model_module": "@jupyter-widgets/base",
      "_model_module_version": "1.2.0",
      "_model_name": "LayoutModel",
      "_view_count": null,
      "_view_module": "@jupyter-widgets/base",
      "_view_module_version": "1.2.0",
      "_view_name": "LayoutView",
      "align_content": null,
      "align_items": null,
      "align_self": null,
      "border": null,
      "bottom": null,
      "display": null,
      "flex": null,
      "flex_flow": null,
      "grid_area": null,
      "grid_auto_columns": null,
      "grid_auto_flow": null,
      "grid_auto_rows": null,
      "grid_column": null,
      "grid_gap": null,
      "grid_row": null,
      "grid_template_areas": null,
      "grid_template_columns": null,
      "grid_template_rows": null,
      "height": null,
      "justify_content": null,
      "justify_items": null,
      "left": null,
      "margin": null,
      "max_height": null,
      "max_width": null,
      "min_height": null,
      "min_width": null,
      "object_fit": null,
      "object_position": null,
      "order": null,
      "overflow": null,
      "overflow_x": null,
      "overflow_y": null,
      "padding": null,
      "right": null,
      "top": null,
      "visibility": null,
      "width": null
     }
    },
    "bf014915641c4b5e9a752684f60c2984": {
     "model_module": "@jupyter-widgets/controls",
     "model_module_version": "1.5.0",
     "model_name": "FloatProgressModel",
     "state": {
      "_dom_classes": [],
      "_model_module": "@jupyter-widgets/controls",
      "_model_module_version": "1.5.0",
      "_model_name": "FloatProgressModel",
      "_view_count": null,
      "_view_module": "@jupyter-widgets/controls",
      "_view_module_version": "1.5.0",
      "_view_name": "ProgressView",
      "bar_style": "success",
      "description": "",
      "description_tooltip": null,
      "layout": "IPY_MODEL_1fcf76261907419598652dc5473a8d89",
      "max": 349,
      "min": 0,
      "orientation": "horizontal",
      "style": "IPY_MODEL_de19416552a14b17a82202e119ec890f",
      "value": 349
     }
    },
    "c01de20eba4b4ef78b8a10e1d9593cf2": {
     "model_module": "@jupyter-widgets/controls",
     "model_module_version": "1.5.0",
     "model_name": "FloatProgressModel",
     "state": {
      "_dom_classes": [],
      "_model_module": "@jupyter-widgets/controls",
      "_model_module_version": "1.5.0",
      "_model_name": "FloatProgressModel",
      "_view_count": null,
      "_view_module": "@jupyter-widgets/controls",
      "_view_module_version": "1.5.0",
      "_view_name": "ProgressView",
      "bar_style": "success",
      "description": "",
      "description_tooltip": null,
      "layout": "IPY_MODEL_1ca7939242344a37aa3d2faffe6df6af",
      "max": 123,
      "min": 0,
      "orientation": "horizontal",
      "style": "IPY_MODEL_1bb3e81fe0d54f269b8d4c33636152b7",
      "value": 123
     }
    },
    "c12608b2c23246fb91bfbae7904f1c97": {
     "model_module": "@jupyter-widgets/base",
     "model_module_version": "1.2.0",
     "model_name": "LayoutModel",
     "state": {
      "_model_module": "@jupyter-widgets/base",
      "_model_module_version": "1.2.0",
      "_model_name": "LayoutModel",
      "_view_count": null,
      "_view_module": "@jupyter-widgets/base",
      "_view_module_version": "1.2.0",
      "_view_name": "LayoutView",
      "align_content": null,
      "align_items": null,
      "align_self": null,
      "border": null,
      "bottom": null,
      "display": null,
      "flex": null,
      "flex_flow": null,
      "grid_area": null,
      "grid_auto_columns": null,
      "grid_auto_flow": null,
      "grid_auto_rows": null,
      "grid_column": null,
      "grid_gap": null,
      "grid_row": null,
      "grid_template_areas": null,
      "grid_template_columns": null,
      "grid_template_rows": null,
      "height": null,
      "justify_content": null,
      "justify_items": null,
      "left": null,
      "margin": null,
      "max_height": null,
      "max_width": null,
      "min_height": null,
      "min_width": null,
      "object_fit": null,
      "object_position": null,
      "order": null,
      "overflow": null,
      "overflow_x": null,
      "overflow_y": null,
      "padding": null,
      "right": null,
      "top": null,
      "visibility": null,
      "width": null
     }
    },
    "c175bff333df4d51984ada3b80251faa": {
     "model_module": "@jupyter-widgets/controls",
     "model_module_version": "1.5.0",
     "model_name": "HTMLModel",
     "state": {
      "_dom_classes": [],
      "_model_module": "@jupyter-widgets/controls",
      "_model_module_version": "1.5.0",
      "_model_name": "HTMLModel",
      "_view_count": null,
      "_view_module": "@jupyter-widgets/controls",
      "_view_module_version": "1.5.0",
      "_view_name": "HTMLView",
      "description": "",
      "description_tooltip": null,
      "layout": "IPY_MODEL_8abc4e9e3a4a46169b5dcf1777fe920b",
      "placeholder": "​",
      "style": "IPY_MODEL_81f0955238524b708f4764748e63867a",
      "value": "tokenizer.json: 100%"
     }
    },
    "c28770b74d4a42b78e494c9da4b43f49": {
     "model_module": "@jupyter-widgets/controls",
     "model_module_version": "1.5.0",
     "model_name": "HBoxModel",
     "state": {
      "_dom_classes": [],
      "_model_module": "@jupyter-widgets/controls",
      "_model_module_version": "1.5.0",
      "_model_name": "HBoxModel",
      "_view_count": null,
      "_view_module": "@jupyter-widgets/controls",
      "_view_module_version": "1.5.0",
      "_view_name": "HBoxView",
      "box_style": "",
      "children": [
       "IPY_MODEL_ad388f2a3f0d4903ba1cfdee00fab9c5",
       "IPY_MODEL_7f748aa9196040eb958314f7ae7e2d25",
       "IPY_MODEL_9aad70258ba9400680c0a475cf41c42a"
      ],
      "layout": "IPY_MODEL_b40540a7909f49e894c5966ee9a81725"
     }
    },
    "c37385156ae844618654aa541c878937": {
     "model_module": "@jupyter-widgets/controls",
     "model_module_version": "1.5.0",
     "model_name": "HTMLModel",
     "state": {
      "_dom_classes": [],
      "_model_module": "@jupyter-widgets/controls",
      "_model_module_version": "1.5.0",
      "_model_name": "HTMLModel",
      "_view_count": null,
      "_view_module": "@jupyter-widgets/controls",
      "_view_module_version": "1.5.0",
      "_view_name": "HTMLView",
      "description": "",
      "description_tooltip": null,
      "layout": "IPY_MODEL_98a4ce6b1a814f9c93b8e78926645946",
      "placeholder": "​",
      "style": "IPY_MODEL_276196895d254a72851ac72825e65b89",
      "value": "README.md: 100%"
     }
    },
    "c66fa1dcbba44513934e1fd5676bf58a": {
     "model_module": "@jupyter-widgets/base",
     "model_module_version": "1.2.0",
     "model_name": "LayoutModel",
     "state": {
      "_model_module": "@jupyter-widgets/base",
      "_model_module_version": "1.2.0",
      "_model_name": "LayoutModel",
      "_view_count": null,
      "_view_module": "@jupyter-widgets/base",
      "_view_module_version": "1.2.0",
      "_view_name": "LayoutView",
      "align_content": null,
      "align_items": null,
      "align_self": null,
      "border": null,
      "bottom": null,
      "display": null,
      "flex": null,
      "flex_flow": null,
      "grid_area": null,
      "grid_auto_columns": null,
      "grid_auto_flow": null,
      "grid_auto_rows": null,
      "grid_column": null,
      "grid_gap": null,
      "grid_row": null,
      "grid_template_areas": null,
      "grid_template_columns": null,
      "grid_template_rows": null,
      "height": null,
      "justify_content": null,
      "justify_items": null,
      "left": null,
      "margin": null,
      "max_height": null,
      "max_width": null,
      "min_height": null,
      "min_width": null,
      "object_fit": null,
      "object_position": null,
      "order": null,
      "overflow": null,
      "overflow_x": null,
      "overflow_y": null,
      "padding": null,
      "right": null,
      "top": null,
      "visibility": null,
      "width": null
     }
    },
    "c9a35a8bb32d41efb643628d23211ff1": {
     "model_module": "@jupyter-widgets/controls",
     "model_module_version": "1.5.0",
     "model_name": "DescriptionStyleModel",
     "state": {
      "_model_module": "@jupyter-widgets/controls",
      "_model_module_version": "1.5.0",
      "_model_name": "DescriptionStyleModel",
      "_view_count": null,
      "_view_module": "@jupyter-widgets/base",
      "_view_module_version": "1.2.0",
      "_view_name": "StyleView",
      "description_width": ""
     }
    },
    "c9addec2bdfa4a35bdbe8b69df2cb2e4": {
     "model_module": "@jupyter-widgets/controls",
     "model_module_version": "1.5.0",
     "model_name": "ProgressStyleModel",
     "state": {
      "_model_module": "@jupyter-widgets/controls",
      "_model_module_version": "1.5.0",
      "_model_name": "ProgressStyleModel",
      "_view_count": null,
      "_view_module": "@jupyter-widgets/base",
      "_view_module_version": "1.2.0",
      "_view_name": "StyleView",
      "bar_color": null,
      "description_width": ""
     }
    },
    "c9eb501b28424c389be56294c166925c": {
     "model_module": "@jupyter-widgets/controls",
     "model_module_version": "1.5.0",
     "model_name": "ProgressStyleModel",
     "state": {
      "_model_module": "@jupyter-widgets/controls",
      "_model_module_version": "1.5.0",
      "_model_name": "ProgressStyleModel",
      "_view_count": null,
      "_view_module": "@jupyter-widgets/base",
      "_view_module_version": "1.2.0",
      "_view_name": "StyleView",
      "bar_color": null,
      "description_width": ""
     }
    },
    "cbdb3800b59545f9acac5d996da78975": {
     "model_module": "@jupyter-widgets/base",
     "model_module_version": "1.2.0",
     "model_name": "LayoutModel",
     "state": {
      "_model_module": "@jupyter-widgets/base",
      "_model_module_version": "1.2.0",
      "_model_name": "LayoutModel",
      "_view_count": null,
      "_view_module": "@jupyter-widgets/base",
      "_view_module_version": "1.2.0",
      "_view_name": "LayoutView",
      "align_content": null,
      "align_items": null,
      "align_self": null,
      "border": null,
      "bottom": null,
      "display": null,
      "flex": null,
      "flex_flow": null,
      "grid_area": null,
      "grid_auto_columns": null,
      "grid_auto_flow": null,
      "grid_auto_rows": null,
      "grid_column": null,
      "grid_gap": null,
      "grid_row": null,
      "grid_template_areas": null,
      "grid_template_columns": null,
      "grid_template_rows": null,
      "height": null,
      "justify_content": null,
      "justify_items": null,
      "left": null,
      "margin": null,
      "max_height": null,
      "max_width": null,
      "min_height": null,
      "min_width": null,
      "object_fit": null,
      "object_position": null,
      "order": null,
      "overflow": null,
      "overflow_x": null,
      "overflow_y": null,
      "padding": null,
      "right": null,
      "top": null,
      "visibility": null,
      "width": null
     }
    },
    "cc96a47c00d741f2a6039c9366a7406a": {
     "model_module": "@jupyter-widgets/controls",
     "model_module_version": "1.5.0",
     "model_name": "DescriptionStyleModel",
     "state": {
      "_model_module": "@jupyter-widgets/controls",
      "_model_module_version": "1.5.0",
      "_model_name": "DescriptionStyleModel",
      "_view_count": null,
      "_view_module": "@jupyter-widgets/base",
      "_view_module_version": "1.2.0",
      "_view_name": "StyleView",
      "description_width": ""
     }
    },
    "cccd3e9c22f24be29e54caec0c5aa73c": {
     "model_module": "@jupyter-widgets/base",
     "model_module_version": "1.2.0",
     "model_name": "LayoutModel",
     "state": {
      "_model_module": "@jupyter-widgets/base",
      "_model_module_version": "1.2.0",
      "_model_name": "LayoutModel",
      "_view_count": null,
      "_view_module": "@jupyter-widgets/base",
      "_view_module_version": "1.2.0",
      "_view_name": "LayoutView",
      "align_content": null,
      "align_items": null,
      "align_self": null,
      "border": null,
      "bottom": null,
      "display": null,
      "flex": null,
      "flex_flow": null,
      "grid_area": null,
      "grid_auto_columns": null,
      "grid_auto_flow": null,
      "grid_auto_rows": null,
      "grid_column": null,
      "grid_gap": null,
      "grid_row": null,
      "grid_template_areas": null,
      "grid_template_columns": null,
      "grid_template_rows": null,
      "height": null,
      "justify_content": null,
      "justify_items": null,
      "left": null,
      "margin": null,
      "max_height": null,
      "max_width": null,
      "min_height": null,
      "min_width": null,
      "object_fit": null,
      "object_position": null,
      "order": null,
      "overflow": null,
      "overflow_x": null,
      "overflow_y": null,
      "padding": null,
      "right": null,
      "top": null,
      "visibility": null,
      "width": null
     }
    },
    "ce10c14f5c54474c88f78ebbf9e67c56": {
     "model_module": "@jupyter-widgets/controls",
     "model_module_version": "1.5.0",
     "model_name": "HTMLModel",
     "state": {
      "_dom_classes": [],
      "_model_module": "@jupyter-widgets/controls",
      "_model_module_version": "1.5.0",
      "_model_name": "HTMLModel",
      "_view_count": null,
      "_view_module": "@jupyter-widgets/controls",
      "_view_module_version": "1.5.0",
      "_view_name": "HTMLView",
      "description": "",
      "description_tooltip": null,
      "layout": "IPY_MODEL_426bc578c58a43a289a750179f263bcf",
      "placeholder": "​",
      "style": "IPY_MODEL_070a833cb6304311af61260e83e4304d",
      "value": " 17.1M/17.1M [00:00&lt;00:00, 130MB/s]"
     }
    },
    "d0f0dd092e8f49b0a6c69f73e446a5ff": {
     "model_module": "@jupyter-widgets/base",
     "model_module_version": "1.2.0",
     "model_name": "LayoutModel",
     "state": {
      "_model_module": "@jupyter-widgets/base",
      "_model_module_version": "1.2.0",
      "_model_name": "LayoutModel",
      "_view_count": null,
      "_view_module": "@jupyter-widgets/base",
      "_view_module_version": "1.2.0",
      "_view_name": "LayoutView",
      "align_content": null,
      "align_items": null,
      "align_self": null,
      "border": null,
      "bottom": null,
      "display": null,
      "flex": null,
      "flex_flow": null,
      "grid_area": null,
      "grid_auto_columns": null,
      "grid_auto_flow": null,
      "grid_auto_rows": null,
      "grid_column": null,
      "grid_gap": null,
      "grid_row": null,
      "grid_template_areas": null,
      "grid_template_columns": null,
      "grid_template_rows": null,
      "height": null,
      "justify_content": null,
      "justify_items": null,
      "left": null,
      "margin": null,
      "max_height": null,
      "max_width": null,
      "min_height": null,
      "min_width": null,
      "object_fit": null,
      "object_position": null,
      "order": null,
      "overflow": null,
      "overflow_x": null,
      "overflow_y": null,
      "padding": null,
      "right": null,
      "top": null,
      "visibility": null,
      "width": null
     }
    },
    "d8fc1ff8c33e48f18f93dda98d9cf46f": {
     "model_module": "@jupyter-widgets/base",
     "model_module_version": "1.2.0",
     "model_name": "LayoutModel",
     "state": {
      "_model_module": "@jupyter-widgets/base",
      "_model_module_version": "1.2.0",
      "_model_name": "LayoutModel",
      "_view_count": null,
      "_view_module": "@jupyter-widgets/base",
      "_view_module_version": "1.2.0",
      "_view_name": "LayoutView",
      "align_content": null,
      "align_items": null,
      "align_self": null,
      "border": null,
      "bottom": null,
      "display": null,
      "flex": null,
      "flex_flow": null,
      "grid_area": null,
      "grid_auto_columns": null,
      "grid_auto_flow": null,
      "grid_auto_rows": null,
      "grid_column": null,
      "grid_gap": null,
      "grid_row": null,
      "grid_template_areas": null,
      "grid_template_columns": null,
      "grid_template_rows": null,
      "height": null,
      "justify_content": null,
      "justify_items": null,
      "left": null,
      "margin": null,
      "max_height": null,
      "max_width": null,
      "min_height": null,
      "min_width": null,
      "object_fit": null,
      "object_position": null,
      "order": null,
      "overflow": null,
      "overflow_x": null,
      "overflow_y": null,
      "padding": null,
      "right": null,
      "top": null,
      "visibility": null,
      "width": null
     }
    },
    "d93bc33cf11a4a3f86a172653804c8d4": {
     "model_module": "@jupyter-widgets/controls",
     "model_module_version": "1.5.0",
     "model_name": "DescriptionStyleModel",
     "state": {
      "_model_module": "@jupyter-widgets/controls",
      "_model_module_version": "1.5.0",
      "_model_name": "DescriptionStyleModel",
      "_view_count": null,
      "_view_module": "@jupyter-widgets/base",
      "_view_module_version": "1.2.0",
      "_view_name": "StyleView",
      "description_width": ""
     }
    },
    "dd1feb1d65884e1b874e4d88ce179ace": {
     "model_module": "@jupyter-widgets/controls",
     "model_module_version": "1.5.0",
     "model_name": "HBoxModel",
     "state": {
      "_dom_classes": [],
      "_model_module": "@jupyter-widgets/controls",
      "_model_module_version": "1.5.0",
      "_model_name": "HBoxModel",
      "_view_count": null,
      "_view_module": "@jupyter-widgets/controls",
      "_view_module_version": "1.5.0",
      "_view_name": "HBoxView",
      "box_style": "",
      "children": [
       "IPY_MODEL_c37385156ae844618654aa541c878937",
       "IPY_MODEL_8d5fde05179d457db295c495ef1c965d",
       "IPY_MODEL_83d3086c65ef4f66957cc9a5c75a5aee"
      ],
      "layout": "IPY_MODEL_b609ada5152d46698c6b0c20fc57be5f"
     }
    },
    "de19416552a14b17a82202e119ec890f": {
     "model_module": "@jupyter-widgets/controls",
     "model_module_version": "1.5.0",
     "model_name": "ProgressStyleModel",
     "state": {
      "_model_module": "@jupyter-widgets/controls",
      "_model_module_version": "1.5.0",
      "_model_name": "ProgressStyleModel",
      "_view_count": null,
      "_view_module": "@jupyter-widgets/base",
      "_view_module_version": "1.2.0",
      "_view_name": "StyleView",
      "bar_color": null,
      "description_width": ""
     }
    },
    "e09c6e0d936e42f792967556ea9b7c2b": {
     "model_module": "@jupyter-widgets/base",
     "model_module_version": "1.2.0",
     "model_name": "LayoutModel",
     "state": {
      "_model_module": "@jupyter-widgets/base",
      "_model_module_version": "1.2.0",
      "_model_name": "LayoutModel",
      "_view_count": null,
      "_view_module": "@jupyter-widgets/base",
      "_view_module_version": "1.2.0",
      "_view_name": "LayoutView",
      "align_content": null,
      "align_items": null,
      "align_self": null,
      "border": null,
      "bottom": null,
      "display": null,
      "flex": null,
      "flex_flow": null,
      "grid_area": null,
      "grid_auto_columns": null,
      "grid_auto_flow": null,
      "grid_auto_rows": null,
      "grid_column": null,
      "grid_gap": null,
      "grid_row": null,
      "grid_template_areas": null,
      "grid_template_columns": null,
      "grid_template_rows": null,
      "height": null,
      "justify_content": null,
      "justify_items": null,
      "left": null,
      "margin": null,
      "max_height": null,
      "max_width": null,
      "min_height": null,
      "min_width": null,
      "object_fit": null,
      "object_position": null,
      "order": null,
      "overflow": null,
      "overflow_x": null,
      "overflow_y": null,
      "padding": null,
      "right": null,
      "top": null,
      "visibility": null,
      "width": null
     }
    },
    "e17ed82091da4408a8f1de81abbef193": {
     "model_module": "@jupyter-widgets/controls",
     "model_module_version": "1.5.0",
     "model_name": "HTMLModel",
     "state": {
      "_dom_classes": [],
      "_model_module": "@jupyter-widgets/controls",
      "_model_module_version": "1.5.0",
      "_model_name": "HTMLModel",
      "_view_count": null,
      "_view_module": "@jupyter-widgets/controls",
      "_view_module_version": "1.5.0",
      "_view_name": "HTMLView",
      "description": "",
      "description_tooltip": null,
      "layout": "IPY_MODEL_1c34e8d623064c0d883bea1620602097",
      "placeholder": "​",
      "style": "IPY_MODEL_5879944dbab74c9395daf60677dce95f",
      "value": "tokenizer_config.json: 100%"
     }
    },
    "e1c4316a719c4c4a845bce52377d4abe": {
     "model_module": "@jupyter-widgets/controls",
     "model_module_version": "1.5.0",
     "model_name": "DescriptionStyleModel",
     "state": {
      "_model_module": "@jupyter-widgets/controls",
      "_model_module_version": "1.5.0",
      "_model_name": "DescriptionStyleModel",
      "_view_count": null,
      "_view_module": "@jupyter-widgets/base",
      "_view_module_version": "1.2.0",
      "_view_name": "StyleView",
      "description_width": ""
     }
    },
    "e239756c44d24d62a7eb456b408b80b6": {
     "model_module": "@jupyter-widgets/base",
     "model_module_version": "1.2.0",
     "model_name": "LayoutModel",
     "state": {
      "_model_module": "@jupyter-widgets/base",
      "_model_module_version": "1.2.0",
      "_model_name": "LayoutModel",
      "_view_count": null,
      "_view_module": "@jupyter-widgets/base",
      "_view_module_version": "1.2.0",
      "_view_name": "LayoutView",
      "align_content": null,
      "align_items": null,
      "align_self": null,
      "border": null,
      "bottom": null,
      "display": null,
      "flex": null,
      "flex_flow": null,
      "grid_area": null,
      "grid_auto_columns": null,
      "grid_auto_flow": null,
      "grid_auto_rows": null,
      "grid_column": null,
      "grid_gap": null,
      "grid_row": null,
      "grid_template_areas": null,
      "grid_template_columns": null,
      "grid_template_rows": null,
      "height": null,
      "justify_content": null,
      "justify_items": null,
      "left": null,
      "margin": null,
      "max_height": null,
      "max_width": null,
      "min_height": null,
      "min_width": null,
      "object_fit": null,
      "object_position": null,
      "order": null,
      "overflow": null,
      "overflow_x": null,
      "overflow_y": null,
      "padding": null,
      "right": null,
      "top": null,
      "visibility": null,
      "width": null
     }
    },
    "e499eaa6acf6455dacde157a8aeff83b": {
     "model_module": "@jupyter-widgets/base",
     "model_module_version": "1.2.0",
     "model_name": "LayoutModel",
     "state": {
      "_model_module": "@jupyter-widgets/base",
      "_model_module_version": "1.2.0",
      "_model_name": "LayoutModel",
      "_view_count": null,
      "_view_module": "@jupyter-widgets/base",
      "_view_module_version": "1.2.0",
      "_view_name": "LayoutView",
      "align_content": null,
      "align_items": null,
      "align_self": null,
      "border": null,
      "bottom": null,
      "display": null,
      "flex": null,
      "flex_flow": null,
      "grid_area": null,
      "grid_auto_columns": null,
      "grid_auto_flow": null,
      "grid_auto_rows": null,
      "grid_column": null,
      "grid_gap": null,
      "grid_row": null,
      "grid_template_areas": null,
      "grid_template_columns": null,
      "grid_template_rows": null,
      "height": null,
      "justify_content": null,
      "justify_items": null,
      "left": null,
      "margin": null,
      "max_height": null,
      "max_width": null,
      "min_height": null,
      "min_width": null,
      "object_fit": null,
      "object_position": null,
      "order": null,
      "overflow": null,
      "overflow_x": null,
      "overflow_y": null,
      "padding": null,
      "right": null,
      "top": null,
      "visibility": null,
      "width": null
     }
    },
    "e4cedcd7eac04aea9d78b0de68e7ab0a": {
     "model_module": "@jupyter-widgets/controls",
     "model_module_version": "1.5.0",
     "model_name": "ProgressStyleModel",
     "state": {
      "_model_module": "@jupyter-widgets/controls",
      "_model_module_version": "1.5.0",
      "_model_name": "ProgressStyleModel",
      "_view_count": null,
      "_view_module": "@jupyter-widgets/base",
      "_view_module_version": "1.2.0",
      "_view_name": "StyleView",
      "bar_color": null,
      "description_width": ""
     }
    },
    "e56dc895be074850a6a14e016b67659d": {
     "model_module": "@jupyter-widgets/controls",
     "model_module_version": "1.5.0",
     "model_name": "ProgressStyleModel",
     "state": {
      "_model_module": "@jupyter-widgets/controls",
      "_model_module_version": "1.5.0",
      "_model_name": "ProgressStyleModel",
      "_view_count": null,
      "_view_module": "@jupyter-widgets/base",
      "_view_module_version": "1.2.0",
      "_view_name": "StyleView",
      "bar_color": null,
      "description_width": ""
     }
    },
    "e899b77fe24b4e6b93736e73861d6e4b": {
     "model_module": "@jupyter-widgets/controls",
     "model_module_version": "1.5.0",
     "model_name": "FloatProgressModel",
     "state": {
      "_dom_classes": [],
      "_model_module": "@jupyter-widgets/controls",
      "_model_module_version": "1.5.0",
      "_model_name": "FloatProgressModel",
      "_view_count": null,
      "_view_module": "@jupyter-widgets/controls",
      "_view_module_version": "1.5.0",
      "_view_name": "ProgressView",
      "bar_style": "success",
      "description": "",
      "description_tooltip": null,
      "layout": "IPY_MODEL_d0f0dd092e8f49b0a6c69f73e446a5ff",
      "max": 444,
      "min": 0,
      "orientation": "horizontal",
      "style": "IPY_MODEL_87bf46b9ce2b43dcb2ce0a618fd6946c",
      "value": 444
     }
    },
    "ec3a3d32ad71486a905418e9c414f481": {
     "model_module": "@jupyter-widgets/controls",
     "model_module_version": "1.5.0",
     "model_name": "HTMLModel",
     "state": {
      "_dom_classes": [],
      "_model_module": "@jupyter-widgets/controls",
      "_model_module_version": "1.5.0",
      "_model_name": "HTMLModel",
      "_view_count": null,
      "_view_module": "@jupyter-widgets/controls",
      "_view_module_version": "1.5.0",
      "_view_name": "HTMLView",
      "description": "",
      "description_tooltip": null,
      "layout": "IPY_MODEL_1c9e4b687b2e4a6a88209024f8074427",
      "placeholder": "​",
      "style": "IPY_MODEL_b715e8ff54c44a55b541380aa630f7b8",
      "value": " 5.07M/5.07M [00:00&lt;00:00, 113MB/s]"
     }
    },
    "ed0343210b034189b2ebe523f53e34d3": {
     "model_module": "@jupyter-widgets/controls",
     "model_module_version": "1.5.0",
     "model_name": "HBoxModel",
     "state": {
      "_dom_classes": [],
      "_model_module": "@jupyter-widgets/controls",
      "_model_module_version": "1.5.0",
      "_model_name": "HBoxModel",
      "_view_count": null,
      "_view_module": "@jupyter-widgets/controls",
      "_view_module_version": "1.5.0",
      "_view_name": "HBoxView",
      "box_style": "",
      "children": [
       "IPY_MODEL_f2dfc817a70843118954a233d71e8c1d",
       "IPY_MODEL_751499adf8134b759c6b9936fe871b45",
       "IPY_MODEL_ec3a3d32ad71486a905418e9c414f481"
      ],
      "layout": "IPY_MODEL_85505f88bfa14e8d814acfb96b02cc60"
     }
    },
    "ee7a97fed9a14258a459e4b547c7c197": {
     "model_module": "@jupyter-widgets/controls",
     "model_module_version": "1.5.0",
     "model_name": "FloatProgressModel",
     "state": {
      "_dom_classes": [],
      "_model_module": "@jupyter-widgets/controls",
      "_model_module_version": "1.5.0",
      "_model_name": "FloatProgressModel",
      "_view_count": null,
      "_view_module": "@jupyter-widgets/controls",
      "_view_module_version": "1.5.0",
      "_view_name": "ProgressView",
      "bar_style": "success",
      "description": "",
      "description_tooltip": null,
      "layout": "IPY_MODEL_0065df5850a6466dae9f5e558b89237f",
      "max": 54,
      "min": 0,
      "orientation": "horizontal",
      "style": "IPY_MODEL_c9addec2bdfa4a35bdbe8b69df2cb2e4",
      "value": 54
     }
    },
    "eed5359cef0c4b6583654e3b846f8ef8": {
     "model_module": "@jupyter-widgets/controls",
     "model_module_version": "1.5.0",
     "model_name": "DescriptionStyleModel",
     "state": {
      "_model_module": "@jupyter-widgets/controls",
      "_model_module_version": "1.5.0",
      "_model_name": "DescriptionStyleModel",
      "_view_count": null,
      "_view_module": "@jupyter-widgets/base",
      "_view_module_version": "1.2.0",
      "_view_name": "StyleView",
      "description_width": ""
     }
    },
    "f02c5997ed334f8882c50d793f3add1d": {
     "model_module": "@jupyter-widgets/controls",
     "model_module_version": "1.5.0",
     "model_name": "ProgressStyleModel",
     "state": {
      "_model_module": "@jupyter-widgets/controls",
      "_model_module_version": "1.5.0",
      "_model_name": "ProgressStyleModel",
      "_view_count": null,
      "_view_module": "@jupyter-widgets/base",
      "_view_module_version": "1.2.0",
      "_view_name": "StyleView",
      "bar_color": null,
      "description_width": ""
     }
    },
    "f2dfc817a70843118954a233d71e8c1d": {
     "model_module": "@jupyter-widgets/controls",
     "model_module_version": "1.5.0",
     "model_name": "HTMLModel",
     "state": {
      "_dom_classes": [],
      "_model_module": "@jupyter-widgets/controls",
      "_model_module_version": "1.5.0",
      "_model_name": "HTMLModel",
      "_view_count": null,
      "_view_module": "@jupyter-widgets/controls",
      "_view_module_version": "1.5.0",
      "_view_name": "HTMLView",
      "description": "",
      "description_tooltip": null,
      "layout": "IPY_MODEL_50dfceb2bc0b4862bea35b24e42118b4",
      "placeholder": "​",
      "style": "IPY_MODEL_c9a35a8bb32d41efb643628d23211ff1",
      "value": "sentencepiece.bpe.model: 100%"
     }
    },
    "f35424240a6f45ea8b7975c14fe2c491": {
     "model_module": "@jupyter-widgets/controls",
     "model_module_version": "1.5.0",
     "model_name": "DescriptionStyleModel",
     "state": {
      "_model_module": "@jupyter-widgets/controls",
      "_model_module_version": "1.5.0",
      "_model_name": "DescriptionStyleModel",
      "_view_count": null,
      "_view_module": "@jupyter-widgets/base",
      "_view_module_version": "1.2.0",
      "_view_name": "StyleView",
      "description_width": ""
     }
    },
    "f4295c6e880d48d39d96c1011246c414": {
     "model_module": "@jupyter-widgets/base",
     "model_module_version": "1.2.0",
     "model_name": "LayoutModel",
     "state": {
      "_model_module": "@jupyter-widgets/base",
      "_model_module_version": "1.2.0",
      "_model_name": "LayoutModel",
      "_view_count": null,
      "_view_module": "@jupyter-widgets/base",
      "_view_module_version": "1.2.0",
      "_view_name": "LayoutView",
      "align_content": null,
      "align_items": null,
      "align_self": null,
      "border": null,
      "bottom": null,
      "display": null,
      "flex": null,
      "flex_flow": null,
      "grid_area": null,
      "grid_auto_columns": null,
      "grid_auto_flow": null,
      "grid_auto_rows": null,
      "grid_column": null,
      "grid_gap": null,
      "grid_row": null,
      "grid_template_areas": null,
      "grid_template_columns": null,
      "grid_template_rows": null,
      "height": null,
      "justify_content": null,
      "justify_items": null,
      "left": null,
      "margin": null,
      "max_height": null,
      "max_width": null,
      "min_height": null,
      "min_width": null,
      "object_fit": null,
      "object_position": null,
      "order": null,
      "overflow": null,
      "overflow_x": null,
      "overflow_y": null,
      "padding": null,
      "right": null,
      "top": null,
      "visibility": null,
      "width": null
     }
    },
    "f9d7953935104507bc8382e167e9c684": {
     "model_module": "@jupyter-widgets/controls",
     "model_module_version": "1.5.0",
     "model_name": "DescriptionStyleModel",
     "state": {
      "_model_module": "@jupyter-widgets/controls",
      "_model_module_version": "1.5.0",
      "_model_name": "DescriptionStyleModel",
      "_view_count": null,
      "_view_module": "@jupyter-widgets/base",
      "_view_module_version": "1.2.0",
      "_view_name": "StyleView",
      "description_width": ""
     }
    },
    "fa0aaa482d5242cdbe9bfc870e6bd426": {
     "model_module": "@jupyter-widgets/controls",
     "model_module_version": "1.5.0",
     "model_name": "HTMLModel",
     "state": {
      "_dom_classes": [],
      "_model_module": "@jupyter-widgets/controls",
      "_model_module_version": "1.5.0",
      "_model_name": "HTMLModel",
      "_view_count": null,
      "_view_module": "@jupyter-widgets/controls",
      "_view_module_version": "1.5.0",
      "_view_name": "HTMLView",
      "description": "",
      "description_tooltip": null,
      "layout": "IPY_MODEL_e09c6e0d936e42f792967556ea9b7c2b",
      "placeholder": "​",
      "style": "IPY_MODEL_d93bc33cf11a4a3f86a172653804c8d4",
      "value": "1_Pooling%2Fconfig.json: 100%"
     }
    },
    "fd46d80fd3594a668eb163d02a40f6be": {
     "model_module": "@jupyter-widgets/base",
     "model_module_version": "1.2.0",
     "model_name": "LayoutModel",
     "state": {
      "_model_module": "@jupyter-widgets/base",
      "_model_module_version": "1.2.0",
      "_model_name": "LayoutModel",
      "_view_count": null,
      "_view_module": "@jupyter-widgets/base",
      "_view_module_version": "1.2.0",
      "_view_name": "LayoutView",
      "align_content": null,
      "align_items": null,
      "align_self": null,
      "border": null,
      "bottom": null,
      "display": null,
      "flex": null,
      "flex_flow": null,
      "grid_area": null,
      "grid_auto_columns": null,
      "grid_auto_flow": null,
      "grid_auto_rows": null,
      "grid_column": null,
      "grid_gap": null,
      "grid_row": null,
      "grid_template_areas": null,
      "grid_template_columns": null,
      "grid_template_rows": null,
      "height": null,
      "justify_content": null,
      "justify_items": null,
      "left": null,
      "margin": null,
      "max_height": null,
      "max_width": null,
      "min_height": null,
      "min_width": null,
      "object_fit": null,
      "object_position": null,
      "order": null,
      "overflow": null,
      "overflow_x": null,
      "overflow_y": null,
      "padding": null,
      "right": null,
      "top": null,
      "visibility": null,
      "width": null
     }
    },
    "fee55f9cb8964da396e4f4dbea0ec954": {
     "model_module": "@jupyter-widgets/base",
     "model_module_version": "1.2.0",
     "model_name": "LayoutModel",
     "state": {
      "_model_module": "@jupyter-widgets/base",
      "_model_module_version": "1.2.0",
      "_model_name": "LayoutModel",
      "_view_count": null,
      "_view_module": "@jupyter-widgets/base",
      "_view_module_version": "1.2.0",
      "_view_name": "LayoutView",
      "align_content": null,
      "align_items": null,
      "align_self": null,
      "border": null,
      "bottom": null,
      "display": null,
      "flex": null,
      "flex_flow": null,
      "grid_area": null,
      "grid_auto_columns": null,
      "grid_auto_flow": null,
      "grid_auto_rows": null,
      "grid_column": null,
      "grid_gap": null,
      "grid_row": null,
      "grid_template_areas": null,
      "grid_template_columns": null,
      "grid_template_rows": null,
      "height": null,
      "justify_content": null,
      "justify_items": null,
      "left": null,
      "margin": null,
      "max_height": null,
      "max_width": null,
      "min_height": null,
      "min_width": null,
      "object_fit": null,
      "object_position": null,
      "order": null,
      "overflow": null,
      "overflow_x": null,
      "overflow_y": null,
      "padding": null,
      "right": null,
      "top": null,
      "visibility": null,
      "width": null
     }
    }
   }
  }
 },
 "nbformat": 4,
 "nbformat_minor": 4
}
