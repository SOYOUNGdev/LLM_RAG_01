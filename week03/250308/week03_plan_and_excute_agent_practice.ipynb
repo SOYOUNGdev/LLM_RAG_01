{
 "cells": [
  {
   "cell_type": "markdown",
   "id": "590aa48f-fdad-4da8-a7fe-99953ff31b4f",
   "metadata": {},
   "source": [
    "### 멀티턴, 멀티쿼리, 도구가 적용된 법령 챗봇 구현\n",
    "- 건축사법, 소방기본법 두 가지의 pdf 파일을 이용"
   ]
  },
  {
   "cell_type": "code",
   "execution_count": 1,
   "id": "09879a1e-c092-4759-900d-fc8de4aefe9d",
   "metadata": {},
   "outputs": [],
   "source": [
    "# 필요한 라이브러리 임포트\n",
    "import os\n",
    "import json\n",
    "from typing import List, Dict, Any, Optional, Tuple\n",
    "from IPython.display import display, Markdown\n",
    "\n",
    "from langchain_community.document_loaders import PyPDFLoader\n",
    "from langchain_text_splitters import RecursiveCharacterTextSplitter\n",
    "from langchain_openai import OpenAIEmbeddings, ChatOpenAI\n",
    "from langchain_community.vectorstores import FAISS\n",
    "from langchain.docstore.document import Document\n",
    "from langchain.prompts import PromptTemplate"
   ]
  },
  {
   "cell_type": "code",
   "execution_count": 2,
   "id": "96ec6e00-f020-4815-aa7a-ab513d3a2da6",
   "metadata": {},
   "outputs": [],
   "source": [
    "# OpenAI API 키 설정\n",
    "os.environ[\"OPENAI_API_KEY\"] = \"\""
   ]
  },
  {
   "cell_type": "markdown",
   "id": "209ec333-2472-4316-a477-54361e488327",
   "metadata": {},
   "source": [
    "### 1. pdf 파일 로드 및 벡터 DB 생성"
   ]
  },
  {
   "cell_type": "code",
   "execution_count": 4,
   "id": "b412e6ee-6117-4d2d-9128-45df68bf4e3c",
   "metadata": {},
   "outputs": [],
   "source": [
    "# PDF 파일로부터 벡터 DB 생성 함수\n",
    "def create_vectorstore_from_pdf(pdf_path: str, db_name: str) -> FAISS:\n",
    "    print(f\"PDF 로딩 시작: {pdf_path}\")\n",
    "\n",
    "    # PDF 로드 및 분할\n",
    "    loader = PyPDFLoader(pdf_path)\n",
    "    doc_splitter = RecursiveCharacterTextSplitter(chunk_size=300, chunk_overlap=100)\n",
    "    docs = loader.load_and_split(doc_splitter)\n",
    "\n",
    "    print(f\"PDF 로딩 완료: {len(docs)}개 청크 생성됨\")\n",
    "\n",
    "    # 임베딩 및 벡터스토어 생성\n",
    "    embedding = OpenAIEmbeddings(model=\"text-embedding-3-large\")\n",
    "    vectorstore = FAISS.from_documents(docs, embedding)\n",
    "\n",
    "    # 벡터스토어 저장\n",
    "    persist_directory = f\"./DB/{db_name}\"\n",
    "    os.makedirs(persist_directory, exist_ok=True)\n",
    "    vectorstore.save_local(persist_directory)\n",
    "\n",
    "    print(f\"{db_name} 벡터스토어 생성 완료\")\n",
    "    return vectorstore"
   ]
  },
  {
   "cell_type": "code",
   "execution_count": 5,
   "id": "245ca2fb-5513-4f4a-8434-febe5eb3a0f9",
   "metadata": {},
   "outputs": [
    {
     "name": "stdout",
     "output_type": "stream",
     "text": [
      "PDF 로딩 시작: 건축사법(법률)(제13472호)(20160212).pdf\n",
      "PDF 로딩 완료: 119개 청크 생성됨\n",
      "building_law 벡터스토어 생성 완료\n",
      "PDF 로딩 시작: 소방기본법(법률)(제20156호)(20240731).pdf\n",
      "PDF 로딩 완료: 142개 청크 생성됨\n",
      "fire_law 벡터스토어 생성 완료\n"
     ]
    }
   ],
   "source": [
    "# 이제 다운로드된 PDF 파일을 사용하여 벡터스토어 생성\n",
    "building_law_db = create_vectorstore_from_pdf('건축사법(법률)(제13472호)(20160212).pdf', \"building_law\")\n",
    "fire_law_db = create_vectorstore_from_pdf('소방기본법(법률)(제20156호)(20240731).pdf', \"fire_law\")"
   ]
  },
  {
   "cell_type": "markdown",
   "id": "f4058dfb-3496-4794-9947-c1ddbc6add49",
   "metadata": {},
   "source": [
    "### 2. 도구 생성"
   ]
  },
  {
   "cell_type": "code",
   "execution_count": 6,
   "id": "8858c0d9-8d6d-463e-b472-cce18e1dd817",
   "metadata": {},
   "outputs": [],
   "source": [
    "# 도구 클래스 정의\n",
    "class Tool:\n",
    "    def __init__(self, name: str, description: str, vectorstore=None):\n",
    "        self.name = name\n",
    "        self.description = description\n",
    "        self.vectorstore = vectorstore\n",
    "\n",
    "    def __str__(self):\n",
    "        return f\"{self.name}: {self.description}\""
   ]
  },
  {
   "cell_type": "code",
   "execution_count": 7,
   "id": "e530037b-9e00-46f3-b03b-a8bc1cf8f058",
   "metadata": {},
   "outputs": [],
   "source": [
    "# 도구 설정\n",
    "tools = {\n",
    "    \"building_law\": Tool(\n",
    "        name=\"building_law\",\n",
    "        description=(\n",
    "            \"건축사법 및 관련 건축 법규에 대한 정보를 검색하고 제공합니다. \"\n",
    "            \"건축사의 자격, 업무 범위, 설계 및 감리 규정, 건축사사무소 운영 등의 내용을 포함합니다. \"\n",
    "            \"건축 관련 법적 절차나 규정을 확인하고 싶다면 이 도구를 사용하세요.\"\n",
    "        ),\n",
    "        vectorstore=building_law_db\n",
    "    ),\n",
    "    \"fire_law\": Tool(\n",
    "        name=\"fire_law\",\n",
    "        description=(\n",
    "            \"소방기본법 및 화재 예방 관련 법률 정보를 검색하고 제공합니다. \"\n",
    "            \"소방시설 기준, 화재 예방 규정, 소방 안전 관리, 소방 활동 및 긴급 구조 절차 등의 내용을 포함합니다. \"\n",
    "            \"화재 관련 법적 요건이나 소방 규정을 확인하려면 이 도구를 사용하세요.\"\n",
    "        ),\n",
    "        vectorstore=fire_law_db\n",
    "    ),\n",
    "    \"no_tool\": Tool(\n",
    "        name=\"no_tool\",\n",
    "        description=(\n",
    "            \"사용할 도구가 없을 경우에는 기본 LLM 답변을 작성할 것입니다. \"\n",
    "            \"사용자의 질문을 그대로 전달하여 일반적인 정보를 제공합니다.\"\n",
    "        )\n",
    "    )\n",
    "}"
   ]
  },
  {
   "cell_type": "code",
   "execution_count": 8,
   "id": "d3ec13ed-9e57-42fd-9692-22641b2662ef",
   "metadata": {},
   "outputs": [
    {
     "name": "stdout",
     "output_type": "stream",
     "text": [
      "building_law: 건축사법 및 관련 건축 법규에 대한 정보를 검색하고 제공합니다. 건축사의 자격, 업무 범위, 설계 및 감리 규정, 건축사사무소 운영 등의 내용을 포함합니다. 건축 관련 법적 절차나 규정을 확인하고 싶다면 이 도구를 사용하세요.\n",
      "fire_law: 소방기본법 및 화재 예방 관련 법률 정보를 검색하고 제공합니다. 소방시설 기준, 화재 예방 규정, 소방 안전 관리, 소방 활동 및 긴급 구조 절차 등의 내용을 포함합니다. 화재 관련 법적 요건이나 소방 규정을 확인하려면 이 도구를 사용하세요.\n",
      "no_tool: 사용할 도구가 없을 경우에는 기본 LLM 답변을 작성할 것입니다. 사용자의 질문을 그대로 전달하여 일반적인 정보를 제공합니다.\n"
     ]
    }
   ],
   "source": [
    "# 도구 목록 확인\n",
    "for name, tool in tools.items():\n",
    "    print(f\"{name}: {tool.description}\")"
   ]
  },
  {
   "cell_type": "markdown",
   "id": "855bf2f4-1196-40e3-a46d-d06b64134ebb",
   "metadata": {},
   "source": [
    "### 3. 계획 테스트"
   ]
  },
  {
   "cell_type": "code",
   "execution_count": 9,
   "id": "d0fb307b-3710-4247-85f4-1b436cb2700f",
   "metadata": {},
   "outputs": [],
   "source": [
    "# 도구 선택 계획 생성기\n",
    "class ToolPlanGenerator:\n",
    "    def __init__(self, tools: Dict[str, Tool], model_name=\"gpt-4o\", temperature=0):\n",
    "        self.tools = tools\n",
    "        self.llm = ChatOpenAI(temperature=temperature, model_name=model_name, max_tokens=1500)\n",
    "\n",
    "        # 도구 설명 구성\n",
    "        tool_descriptions = \"\\n\".join([f\"- {name}: {tool.description}\" for name, tool in self.tools.items()])\n",
    "\n",
    "        self.template = \"\"\"\n",
    "        당신은 사용자 질문을 분석하여 적절한 도구와 쿼리를 결정하는 전문가입니다.\n",
    "\n",
    "        # 사용 가능한 도구\n",
    "        {tool_descriptions}\n",
    "\n",
    "        # 이전 대화 맥락\n",
    "        이전 질문: {prev_query}\n",
    "        이전 답변: {prev_response}\n",
    "\n",
    "        # 현재 질문\n",
    "        사용자 질문: {current_query}\n",
    "\n",
    "        # 분석 지침\n",
    "        1. 사용자의 질문을 분석하고, 이전 대화 맥락도 고려하세요.\n",
    "        2. 질문에 여러 개의 요청이 포함되어 있다면, 각각에 대해 별도의 쿼리를 생성하세요.\n",
    "        3. 각 쿼리가 어떤 도구를 사용해야 하는지 결정하세요.\n",
    "        4. 질문이 어떤 도구와도 관련이 없다면 'no_tool'을 선택하세요.\n",
    "        5. 마크다운 형식으로 작성하지 마세요.\n",
    "\n",
    "        # 출력 형식\n",
    "        반드시 다음 JSON 형식으로 출력하세요:\n",
    "        {{\n",
    "          \"plan\": {{\n",
    "            \"도구이름1\": [\"쿼리1\", \"쿼리2\", ...],\n",
    "            \"도구이름2\": [\"쿼리3\", \"쿼리4\", ...],\n",
    "            ...\n",
    "          }}\n",
    "        }}\n",
    "        \"\"\"\n",
    "\n",
    "        self.prompt = PromptTemplate(\n",
    "            input_variables=[\"tool_descriptions\", \"prev_query\", \"prev_response\", \"current_query\"],\n",
    "            template=self.template\n",
    "        )\n",
    "\n",
    "    def generate_plan(self, prev_query: str, prev_response: str, current_query: str) -> Dict:\n",
    "        # 도구 설명 구성\n",
    "        tool_descriptions = \"\\n\".join([f\"- {name}: {tool.description}\" for name, tool in self.tools.items()])\n",
    "\n",
    "        try:\n",
    "            # 프롬프트 준비 및 실행\n",
    "            formatted_prompt = self.prompt.format(\n",
    "                tool_descriptions=tool_descriptions,\n",
    "                prev_query=prev_query,\n",
    "                prev_response=prev_response,\n",
    "                current_query=current_query\n",
    "            )\n",
    "\n",
    "            # LLM 호출\n",
    "            llm_response = self.llm.invoke(formatted_prompt)\n",
    "            llm_content = llm_response.content\n",
    "            print(f\"LLM 응답: {llm_content}\")\n",
    "\n",
    "            # JSON 파싱\n",
    "            try:\n",
    "                plan_json = json.loads(llm_content)\n",
    "                # plan_json 형식 검증\n",
    "                if \"plan\" not in plan_json:\n",
    "                    print(f\"응답에 'plan' 키가 없습니다: {plan_json}\")\n",
    "                    return {\"plan\": {\"no_tool\": [current_query]}}\n",
    "\n",
    "                return plan_json\n",
    "            except json.JSONDecodeError as json_err:\n",
    "                print(f\"JSON 파싱 오류: {str(json_err)}\")\n",
    "                print(f\"LLM 원본 응답: {llm_content}\")\n",
    "                return {\"plan\": {\"no_tool\": [current_query]}}\n",
    "        except Exception as e:\n",
    "            print(f\"계획 생성 중 오류 발생: {str(e)}\")\n",
    "            return {\"plan\": {\"no_tool\": [current_query]}}"
   ]
  },
  {
   "cell_type": "code",
   "execution_count": 10,
   "id": "a74b788f-3820-4b63-8c97-9f717205a400",
   "metadata": {},
   "outputs": [
    {
     "name": "stdout",
     "output_type": "stream",
     "text": [
      "LLM 응답: {\n",
      "  \"plan\": {\n",
      "    \"building_law\": [\"건축사의 자격에 대한 정보\"]\n",
      "  }\n",
      "}\n",
      "생성된 계획:\n",
      "{\n",
      "  \"plan\": {\n",
      "    \"building_law\": [\n",
      "      \"건축사의 자격에 대한 정보\"\n",
      "    ]\n",
      "  }\n",
      "}\n"
     ]
    }
   ],
   "source": [
    "# 계획 생성기 테스트\n",
    "planner = ToolPlanGenerator(tools)\n",
    "test_plan = planner.generate_plan(\"\", \"\", \"건축사의 자격이 궁금해\")\n",
    "print(\"생성된 계획:\")\n",
    "print(json.dumps(test_plan, indent=2, ensure_ascii=False))"
   ]
  },
  {
   "cell_type": "markdown",
   "id": "d6bd547f-39f0-493d-870b-dcbfdd668657",
   "metadata": {},
   "source": [
    "### 4. 도구 선택 능력 + 멀티턴 + 멀티 쿼리 시스템"
   ]
  },
  {
   "cell_type": "code",
   "execution_count": 11,
   "id": "498864b8-799d-4434-a5a4-a9183f1bddd7",
   "metadata": {},
   "outputs": [],
   "source": [
    "# 멀티 도구 RAG 시스템\n",
    "class MultiToolRAG:\n",
    "    def __init__(self, tools: Dict[str, Tool], model_name=\"gpt-4o\", temperature=0.2):\n",
    "        self.tools = tools\n",
    "        self.tool_planner = ToolPlanGenerator(tools, model_name)\n",
    "        self.llm = ChatOpenAI(temperature=temperature, model_name=model_name)\n",
    "\n",
    "        self.prev_query = \"\"\n",
    "        self.prev_response = \"\"\n",
    "\n",
    "        # 응답 생성 프롬프트\n",
    "        self.response_template = \"\"\"\n",
    "        당신은 건축사법 및 소방법에 대한 정보를 제공하는 AI 어시스턴트입니다.  \n",
    "        사용자가 건축 관련 법률 또는 소방 관련 법률에 대한 질문을 하면, 해당 법률 문서를 기반으로 적절한 답변을 제공하세요.  \n",
    "\n",
    "        사용자 질문: {query}\n",
    "\n",
    "        다음은 질문에 관련된 정보입니다:\n",
    "        {context}\n",
    "\n",
    "        # 지침\n",
    "        1. 제공된 정보를 바탕으로 사용자 질문에 답변하세요.\n",
    "        2. 사용자 질문에 여러 질의가 있다면 각각에 대해 답변하세요.\n",
    "        3. 제공된 정보가 충분하지 않으면 솔직히 모른다고 답변하세요.\n",
    "        4. 답변은 한국어로 작성하세요.\n",
    "        \"\"\"\n",
    "\n",
    "        self.response_prompt = PromptTemplate(\n",
    "            input_variables=[\"query\", \"context\"],\n",
    "            template=self.response_template\n",
    "        )\n",
    "\n",
    "    def update_conversation(self, query: str, response: str):\n",
    "        self.prev_query = query\n",
    "        self.prev_response = response\n",
    "\n",
    "    def search_with_tool(self, tool_name: str, queries: List[str], num_docs=3) -> List[Document]:\n",
    "        # 선택된 도구로 문서 검색\n",
    "        tool = self.tools.get(tool_name)\n",
    "        if not tool or tool_name == \"no_tool\" or not tool.vectorstore:\n",
    "            return []  # no_tool이거나 벡터스토어가 없는 경우 빈 리스트 반환\n",
    "\n",
    "        all_docs = []\n",
    "        seen_contents = set()\n",
    "\n",
    "        for query in queries:\n",
    "            try:\n",
    "                docs = tool.vectorstore.similarity_search(query, k=num_docs)\n",
    "                print(f\"{tool_name} 도구로 '{query}' 검색 완료: {len(docs)}개 문서 찾음\")\n",
    "\n",
    "                # 중복 제거\n",
    "                for doc in docs:\n",
    "                    if doc.page_content not in seen_contents:\n",
    "                        seen_contents.add(doc.page_content)\n",
    "                        # 메타데이터에 도구 및 쿼리 정보 추가\n",
    "                        if not hasattr(doc, 'metadata') or doc.metadata is None:\n",
    "                            doc.metadata = {}\n",
    "                        doc.metadata['tool'] = tool_name\n",
    "                        doc.metadata['query'] = query\n",
    "                        all_docs.append(doc)\n",
    "            except Exception as e:\n",
    "                print(f\"{tool_name} 도구로 '{query}' 검색 중 오류 발생: {str(e)}\")\n",
    "\n",
    "        return all_docs\n",
    "\n",
    "    def query(self, current_query: str) -> Dict:\n",
    "        # 도구 계획 생성\n",
    "        plan = self.tool_planner.generate_plan(self.prev_query, self.prev_response, current_query)\n",
    "        print(f\"생성된 계획: {json.dumps(plan, indent=2, ensure_ascii=False)}\")\n",
    "\n",
    "        # 모든 도구에서 검색 수행\n",
    "        all_docs = []\n",
    "        for tool_name, queries in plan.get(\"plan\", {}).items():\n",
    "            tool_docs = self.search_with_tool(tool_name, queries)\n",
    "            all_docs.extend(tool_docs)\n",
    "            print(f\"{tool_name} 도구에서 {len(tool_docs)}개 문서 검색됨\")\n",
    "\n",
    "        # 검색 결과가 없고 no_tool이 아닌 경우, no_tool 추가\n",
    "        if not all_docs and \"no_tool\" not in plan.get(\"plan\", {}):\n",
    "            print(\"검색 결과가 없어 no_tool 사용\")\n",
    "            plan[\"plan\"][\"no_tool\"] = [current_query]\n",
    "\n",
    "        # 컨텍스트 구성\n",
    "        if all_docs:\n",
    "            context = \"\\n\\n\".join([f\"[{doc.metadata.get('tool', 'unknown')}] 문서 {i+1}:\\n{doc.page_content}\"\n",
    "                                 for i, doc in enumerate(all_docs)])\n",
    "        else:\n",
    "            context = \"관련 문서가 검색되지 않았습니다.\"\n",
    "\n",
    "        # 응답 생성\n",
    "        formatted_prompt = self.response_prompt.format(\n",
    "            query=current_query,\n",
    "            context=context\n",
    "        )\n",
    "\n",
    "        result = self.llm.invoke(formatted_prompt)\n",
    "        response = result.content\n",
    "\n",
    "        # 대화 기록 업데이트\n",
    "        self.update_conversation(current_query, response)\n",
    "\n",
    "        # 결과 반환\n",
    "        return {\n",
    "            \"query\": current_query,\n",
    "            \"result\": response,\n",
    "            \"plan\": plan,\n",
    "            \"source_documents\": all_docs\n",
    "        }"
   ]
  },
  {
   "cell_type": "code",
   "execution_count": 12,
   "id": "99aa6922-ed83-4516-89e2-bbef7646ffce",
   "metadata": {},
   "outputs": [],
   "source": [
    "# RAG 시스템 초기화\n",
    "rag_system = MultiToolRAG(tools)"
   ]
  },
  {
   "cell_type": "code",
   "execution_count": 13,
   "id": "9a814981-90cf-434f-b70e-46499c634c52",
   "metadata": {},
   "outputs": [
    {
     "name": "stdout",
     "output_type": "stream",
     "text": [
      "LLM 응답: {\n",
      "  \"plan\": {\n",
      "    \"building_law\": [\"건축사의 자격에 대해 알고 싶어\"]\n",
      "  }\n",
      "}\n",
      "생성된 계획: {\n",
      "  \"plan\": {\n",
      "    \"building_law\": [\n",
      "      \"건축사의 자격에 대해 알고 싶어\"\n",
      "    ]\n",
      "  }\n",
      "}\n",
      "building_law 도구로 '건축사의 자격에 대해 알고 싶어' 검색 완료: 3개 문서 찾음\n",
      "building_law 도구에서 3개 문서 검색됨\n",
      "\n",
      "질문: 건축사의 자격에 대해 알고싶어\n",
      "답변:\n",
      "건축사의 자격에 대해 알고 싶으시군요. 건축사가 되기 위해서는 다음과 같은 조건을 충족해야 합니다:\n",
      "\n",
      "1. **학력 요건**: \n",
      "   - 대학에서 건축에 관한 소정의 과정을 이수하고 졸업한 자 및 졸업예정자 또는 「고등교육법」에 의하여 이와 동등 이상의 학력이 있다고 인정되는 자.\n",
      "   - 전문대학에서 건축에 관한 소정의 과정을 이수하고 졸업한 자로서 2년 이상의 건축에 관한 실무경력을 가진 자.\n",
      "   - 고등학교 또는 3년제 고등기술학교에서 건축에 관한 소정의 과정을 이수하고 졸업한 자로서 4년 이상의 건축에 관한 실무경력을 가진 자.\n",
      "\n",
      "2. **자격시험**: \n",
      "   - 건축사가 되려는 사람은 건축사 자격시험에 합격해야 합니다. 이 시험은 건축사업무 수행에 필요한 지식과 기술을 검증하기 위해 실시됩니다.\n",
      "\n",
      "이 외에도 실무수련을 받으려는 사람은 국토교통부장관에게 신고해야 하며, 실무수련의 과목과 절차, 평가기준 등은 대통령령으로 정해집니다.\n"
     ]
    }
   ],
   "source": [
    "# 대화 예시 1: 건축사법 관련 질문\n",
    "query1 = \"건축사의 자격에 대해 알고싶어\"\n",
    "result1 = rag_system.query(query1)\n",
    "\n",
    "print(f\"\\n질문: {query1}\")\n",
    "print(f\"답변:\\n{result1['result']}\")"
   ]
  },
  {
   "cell_type": "code",
   "execution_count": 14,
   "id": "f6d7495b-1c99-4c9d-abb3-91280d0de176",
   "metadata": {},
   "outputs": [
    {
     "name": "stdout",
     "output_type": "stream",
     "text": [
      "LLM 응답: {\n",
      "  \"plan\": {\n",
      "    \"building_law\": [\"건축사 자격시험의 결격사유가 있는지 확인\"],\n",
      "    \"fire_law\": [\"소방법에 결격사유가 있는지 확인\", \"소방법의 정의를 알고 싶다\"]\n",
      "  }\n",
      "}\n",
      "생성된 계획: {\n",
      "  \"plan\": {\n",
      "    \"building_law\": [\n",
      "      \"건축사 자격시험의 결격사유가 있는지 확인\"\n",
      "    ],\n",
      "    \"fire_law\": [\n",
      "      \"소방법에 결격사유가 있는지 확인\",\n",
      "      \"소방법의 정의를 알고 싶다\"\n",
      "    ]\n",
      "  }\n",
      "}\n",
      "building_law 도구로 '건축사 자격시험의 결격사유가 있는지 확인' 검색 완료: 3개 문서 찾음\n",
      "building_law 도구에서 3개 문서 검색됨\n",
      "fire_law 도구로 '소방법에 결격사유가 있는지 확인' 검색 완료: 3개 문서 찾음\n",
      "fire_law 도구로 '소방법의 정의를 알고 싶다' 검색 완료: 3개 문서 찾음\n",
      "fire_law 도구에서 6개 문서 검색됨\n",
      "\n",
      "질문: 음 그렇다면 그 시험에 결격사유가 있는지도 궁금하고, 소방법에는 그런 사유가 있는지도 알고싶어. 그리고 추가로 소방법의 정의도 알려줄 수 있어?\n",
      "답변:\n",
      "사용자의 질문에 대해 다음과 같이 답변드리겠습니다.\n",
      "\n",
      "1. **시험의 결격사유**:\n",
      "   - **건축사 자격시험**: 건축사법 제9조에 따르면, 피성년후견인 또는 피한정후견인, 그리고 이 법 또는 「건축법」에 따른 죄를 범하여 금고 이상의 형을 선고받고 그 집행이 끝나거나 집행을 받지 아니한 사람은 건축사 자격을 취득할 수 없습니다.\n",
      "   - **소방안전교육사 시험**: 소방법 문서에 따르면, 소방안전교육사 시험에서 부정행위를 한 사람은 해당 시험이 정지되거나 무효로 처리되며, 그 처분이 있은 날부터 2년간 시험에 응시할 수 없습니다.\n",
      "\n",
      "2. **소방법의 정의**:\n",
      "   - 소방기본법 제2조에 따르면, \"소방대상물\"은 건축물, 차량, 선박(「선박법」 제1조의2제1항에 따른 선박으로서 항구에 매어둔 선박만 해당) 등을 의미합니다. 소방기본법은 국민의 생명, 신체 및 재산을 보호하고 공공의 안녕 및 질서 유지와 복리증진에 이바지함을 목적으로 합니다.\n",
      "\n",
      "제공된 정보가 이와 같습니다. 추가적인 정보가 필요하시면 말씀해 주세요.\n"
     ]
    }
   ],
   "source": [
    "# 대화 예시 2: 멀티쿼리 및 멀티턴\n",
    "query2 = \"음 그렇다면 그 시험에 결격사유가 있는지도 궁금하고, 소방법에는 그런 사유가 있는지도 알고싶어. 그리고 추가로 소방법의 정의도 알려줄 수 있어?\"\n",
    "result2 = rag_system.query(query2)\n",
    "\n",
    "print(f\"\\n질문: {query2}\")\n",
    "print(f\"답변:\\n{result2['result']}\")"
   ]
  },
  {
   "cell_type": "code",
   "execution_count": 15,
   "id": "fb8138b2-72cd-476d-b546-b5b48fa582b9",
   "metadata": {},
   "outputs": [
    {
     "name": "stdout",
     "output_type": "stream",
     "text": [
      "LLM 응답: {\n",
      "  \"plan\": {\n",
      "    \"no_tool\": [\"너는 누구니?\"]\n",
      "  }\n",
      "}\n",
      "생성된 계획: {\n",
      "  \"plan\": {\n",
      "    \"no_tool\": [\n",
      "      \"너는 누구니?\"\n",
      "    ]\n",
      "  }\n",
      "}\n",
      "no_tool 도구에서 0개 문서 검색됨\n",
      "\n",
      "질문: 너는 누구니?\n",
      "답변:\n",
      "저는 건축사법 및 소방법에 대한 정보를 제공하는 AI 어시스턴트입니다. 건축 관련 법률이나 소방 관련 법률에 대한 질문이 있으시면 도와드리겠습니다. 다른 질문이 있으시면 말씀해 주세요.\n"
     ]
    }
   ],
   "source": [
    "# 대화 예시 3: 도구와 관련 없는 질문\n",
    "query3 = \"너는 누구니?\"\n",
    "result3 = rag_system.query(query3)\n",
    "\n",
    "print(f\"\\n질문: {query3}\")\n",
    "print(f\"답변:\\n{result3['result']}\")"
   ]
  },
  {
   "cell_type": "markdown",
   "id": "70d2c827-331b-4d54-a088-3e73465ff307",
   "metadata": {},
   "source": [
    "### 5. 챗봇 UI"
   ]
  },
  {
   "cell_type": "code",
   "execution_count": 16,
   "id": "d19ae39d-f918-42b8-a584-fddd326220a9",
   "metadata": {},
   "outputs": [
    {
     "name": "stderr",
     "output_type": "stream",
     "text": [
      "\n",
      "[notice] A new release of pip is available: 24.0 -> 25.0.1\n",
      "[notice] To update, run: python.exe -m pip install --upgrade pip\n"
     ]
    }
   ],
   "source": [
    "!pip install gradio --quiet"
   ]
  },
  {
   "cell_type": "code",
   "execution_count": 18,
   "id": "b120ff84-baf5-4840-8f85-8de986a3a61c",
   "metadata": {},
   "outputs": [
    {
     "name": "stderr",
     "output_type": "stream",
     "text": [
      "C:\\ProgramData\\anaconda3\\Lib\\site-packages\\gradio\\components\\chatbot.py:285: UserWarning: You have not specified a value for the `type` parameter. Defaulting to the 'tuples' format for chatbot messages, but this is deprecated and will be removed in a future version of Gradio. Please set type='messages' instead, which uses openai-style dictionaries with 'role' and 'content' keys.\n",
      "  warnings.warn(\n"
     ]
    },
    {
     "name": "stdout",
     "output_type": "stream",
     "text": [
      "* Running on local URL:  http://127.0.0.1:7860\n",
      "\n",
      "To create a public link, set `share=True` in `launch()`.\n"
     ]
    },
    {
     "data": {
      "text/html": [
       "<div><iframe src=\"http://127.0.0.1:7860/\" width=\"100%\" height=\"500\" allow=\"autoplay; camera; microphone; clipboard-read; clipboard-write;\" frameborder=\"0\" allowfullscreen></iframe></div>"
      ],
      "text/plain": [
       "<IPython.core.display.HTML object>"
      ]
     },
     "metadata": {},
     "output_type": "display_data"
    },
    {
     "name": "stdout",
     "output_type": "stream",
     "text": [
      "LLM 응답: {\n",
      "  \"plan\": {\n",
      "    \"building_law\": [\"건축사의 자격에 대해 알고 싶어\"]\n",
      "  }\n",
      "}\n",
      "생성된 계획: {\n",
      "  \"plan\": {\n",
      "    \"building_law\": [\n",
      "      \"건축사의 자격에 대해 알고 싶어\"\n",
      "    ]\n",
      "  }\n",
      "}\n",
      "building_law 도구로 '건축사의 자격에 대해 알고 싶어' 검색 완료: 3개 문서 찾음\n",
      "building_law 도구에서 3개 문서 검색됨\n",
      "LLM 응답: {\n",
      "  \"plan\": {\n",
      "    \"building_law\": [\"건축사 자격시험의 결격사유가 있는지 확인\"],\n",
      "    \"fire_law\": [\"소방법에 결격사유가 있는지 확인\", \"소방법의 정의에 대해 알고 싶어\"]\n",
      "  }\n",
      "}\n",
      "생성된 계획: {\n",
      "  \"plan\": {\n",
      "    \"building_law\": [\n",
      "      \"건축사 자격시험의 결격사유가 있는지 확인\"\n",
      "    ],\n",
      "    \"fire_law\": [\n",
      "      \"소방법에 결격사유가 있는지 확인\",\n",
      "      \"소방법의 정의에 대해 알고 싶어\"\n",
      "    ]\n",
      "  }\n",
      "}\n",
      "building_law 도구로 '건축사 자격시험의 결격사유가 있는지 확인' 검색 완료: 3개 문서 찾음\n",
      "building_law 도구에서 3개 문서 검색됨\n",
      "fire_law 도구로 '소방법에 결격사유가 있는지 확인' 검색 완료: 3개 문서 찾음\n",
      "fire_law 도구로 '소방법의 정의에 대해 알고 싶어' 검색 완료: 3개 문서 찾음\n",
      "fire_law 도구에서 6개 문서 검색됨\n",
      "LLM 응답: {\n",
      "  \"plan\": {\n",
      "    \"no_tool\": [\"너는 누구니?\"]\n",
      "  }\n",
      "}\n",
      "생성된 계획: {\n",
      "  \"plan\": {\n",
      "    \"no_tool\": [\n",
      "      \"너는 누구니?\"\n",
      "    ]\n",
      "  }\n",
      "}\n",
      "no_tool 도구에서 0개 문서 검색됨\n",
      "Keyboard interruption in main thread... closing server.\n"
     ]
    },
    {
     "data": {
      "text/plain": []
     },
     "execution_count": 18,
     "metadata": {},
     "output_type": "execute_result"
    }
   ],
   "source": [
    "import gradio as gr\n",
    "\n",
    "# 챗봇의 응답을 처리하는 함수 (qa_chain 함수는 미리 정의되어 있어야 합니다)\n",
    "def respond(message, chat_history):\n",
    "    # 메시지 처리: qa_chain 또는 rag_system.query 함수 호출\n",
    "    result = rag_system.query(message)\n",
    "    bot_message = result['result']\n",
    "\n",
    "    # 채팅 기록 업데이트: (사용자 메시지, 챗봇 응답) 튜플 추가\n",
    "    chat_history.append((message, bot_message))\n",
    "    return \"\", chat_history\n",
    "\n",
    "# Gradio Blocks 인터페이스 생성\n",
    "with gr.Blocks() as demo:\n",
    "    # 챗봇 채팅 기록 표시 (좌측 상단 레이블 지정)\n",
    "    chatbot = gr.Chatbot(label=\"법률 챗봇\")\n",
    "    # 사용자 입력 텍스트박스 (하단 레이블 지정)\n",
    "    msg = gr.Textbox(label=\"질문해주세요!\")\n",
    "    # 입력창과 채팅 기록 모두 초기화할 수 있는 ClearButton\n",
    "    clear = gr.ClearButton([msg, chatbot])\n",
    "\n",
    "    # 사용자가 텍스트박스에 입력 후 제출하면 respond 함수 호출\n",
    "    msg.submit(respond, inputs=[msg, chatbot], outputs=[msg, chatbot])\n",
    "\n",
    "# 인터페이스 실행 (debug=True로 실행하면 디버깅 정보를 확인할 수 있습니다)\n",
    "demo.launch(debug=True)"
   ]
  }
 ],
 "metadata": {
  "kernelspec": {
   "display_name": "Python 3 (ipykernel)",
   "language": "python",
   "name": "python3"
  },
  "language_info": {
   "codemirror_mode": {
    "name": "ipython",
    "version": 3
   },
   "file_extension": ".py",
   "mimetype": "text/x-python",
   "name": "python",
   "nbconvert_exporter": "python",
   "pygments_lexer": "ipython3",
   "version": "3.11.8"
  }
 },
 "nbformat": 4,
 "nbformat_minor": 5
}
