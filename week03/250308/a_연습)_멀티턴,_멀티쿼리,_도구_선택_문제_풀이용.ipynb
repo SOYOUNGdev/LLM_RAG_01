{
 "cells": [
  {
   "cell_type": "markdown",
   "metadata": {
    "id": "sImE_b_MaN84"
   },
   "source": [
    "## 1. 멀티턴을 반영한 쿼리 생성기"
   ]
  },
  {
   "cell_type": "markdown",
   "metadata": {
    "id": "htpjWPZnaRJ7"
   },
   "source": [
    "이전 질문, 이전 답변, 현재 질문을 바탕으로 멀티턴 대화를 생성하는 쿼리 생성기를 작성하세요.  \n",
    "\n",
    "답변으로 검색어만 반환하면 됩니다."
   ]
  },
  {
   "cell_type": "code",
   "execution_count": 1,
   "metadata": {
    "id": "c0TvKv5abS6C"
   },
   "outputs": [],
   "source": [
    "from openai import OpenAI\n",
    "\n",
    "# OpenAI API 키 (전역 변수로 관리)\n",
    "OPENAI_API_KEY = \"\""
   ]
  },
  {
   "cell_type": "code",
   "execution_count": 2,
   "metadata": {
    "id": "LxJdhH5gbo83"
   },
   "outputs": [],
   "source": [
    "client = OpenAI(api_key=OPENAI_API_KEY)"
   ]
  },
  {
   "cell_type": "code",
   "execution_count": 3,
   "metadata": {
    "id": "hVTl9BFSathe"
   },
   "outputs": [],
   "source": [
    "def generate_search_query(previous_question: str, previous_answer: str, current_question: str) -> list:\n",
    "    \"\"\"\n",
    "    GPT-4를 이용해 멀티턴 대화 기반 검색어를 재구성하는 함수\n",
    "    :param previous_question: 이전 질문\n",
    "    :param previous_answer: 이전 답변\n",
    "    :param current_question: 현재 질문\n",
    "    :return: 검색어 리스트\n",
    "    \"\"\"\n",
    "    prompt = f\"\"\"\n",
    "    이전 질문: {previous_question}\n",
    "    이전 답변: {previous_answer}\n",
    "    현재 질문: {current_question}\n",
    "\n",
    "    여기에 어떤 설명을 할까요? 여러분들이 채워보세요.\n",
    "    \"\"\"\n",
    "\n",
    "    response = client.chat.completions.create(\n",
    "        model=\"gpt-4o\",\n",
    "        messages=[\n",
    "            {\"role\": \"system\", \"content\": \"여기에 어떤 설명을 할까요? 여러분들이 채워보세요.\"},\n",
    "            {\"role\": \"user\", \"content\": prompt}\n",
    "        ],\n",
    "    )\n",
    "\n",
    "    return response.choices[0].message.content.strip()"
   ]
  },
  {
   "cell_type": "code",
   "execution_count": 4,
   "metadata": {
    "colab": {
     "base_uri": "https://localhost:8080/"
    },
    "id": "LGOvX2Tbd3jU",
    "outputId": "16f694bf-c5c4-47dd-b132-f1aad15a7451"
   },
   "outputs": [
    {
     "name": "stdout",
     "output_type": "stream",
     "text": [
      "전주를 여행하고 싶으신가요? 전주는 한국의 전통과 현대가 어우러진 매력적인 도시입니다. 맛있는 음식과 아름다운 한옥 마을, 역사적인 명소들이 가득하죠. 몇 가지 추천해드릴게요:\n",
      "\n",
      "1. **전주 한옥 마을**: 한국 전통 가옥이 잘 보존된 지역으로, 한복 체험과 전통 음식을 즐길 수 있습니다.\n",
      "2. **경기전**: 조선 태조의 어진(초상화)을 모신 곳으로, 역사적인 가치를 지닌 문화재입니다.\n",
      "3. **전주 전동성당**: 서양식 건축물과 한국 전통 건축양식이 조화를 이루고 있는 아름다운 성당입니다.\n",
      "4. **전주한지박물관**: 한국의 전통 종이인 한지를 체험하고 그 역사를 배울 수 있습니다.\n",
      "5. **전주 국제영화제**: 매년 4월 말경에 열리는 영화제로, 다양한 독립 영화와 국제 영화 작품을 감상할 수 있습니다.\n",
      "\n",
      "전주의 다양한 매력을 만끽하시고 즐거운 여행되세요! 추가적으로 궁금한 사항이 있으면 언제든지 물어보세요.\n"
     ]
    }
   ],
   "source": [
    "# 사용 예시\n",
    "previous_question = \"서울 여행지 추천좀\"\n",
    "previous_answer = \"네 추천해드릴게요\"\n",
    "current_question = \"전주는?\"\n",
    "\n",
    "search_query = generate_search_query(previous_question, previous_answer, current_question)\n",
    "print(search_query)"
   ]
  },
  {
   "cell_type": "code",
   "execution_count": 5,
   "metadata": {
    "colab": {
     "base_uri": "https://localhost:8080/"
    },
    "id": "j1KK4aFseaFZ",
    "outputId": "1020fb4d-300f-4f6c-bb1c-8eaa25848101",
    "scrolled": true
   },
   "outputs": [
    {
     "name": "stdout",
     "output_type": "stream",
     "text": [
      "테스트 1: 현재 사용자는 전주를 여행지로 고려하고 있으며, 이에 대한 추천을 요청하고 있는 상황입니다. 사용자는 이전에 서울에 대한 여행지 추천을 받았고, 이번에는 전주에 대한 정보를 알고 싶어합니다. 따라서 전주에서 방문할 만한 장소나 특별한 경험을 소개하는 답변이 적절할 것입니다.\n",
      "테스트 2: 현재 질문에서 사용자는 이곳 저곳의 맛집에 대한 정보를 얻고자 하는 것으로 보입니다. 이전 질문에서는 부산의 맛집을 물었고, 현재 질문에서는 제주도 맛집에 대한 정보를 요청하고 있습니다. 사용자는 여행지에 맞는 각 지역의 유명한 맛집 정보를 알고 싶어 하는 것 같습니다. 이 질문에 대한 답변에서는 제주도의 맛집들을 소개하며, 특별한 요리나 추천 메뉴를 제공하는 레스토랑 및 카페 등을 설명할 수 있습니다.\n",
      "테스트 3: 서울에도 여러 한옥마을이 있습니다. 대표적으로 북촌한옥마을과 남산한옥마을이 있습니다. 북촌한옥마을은 전통적인 한옥과 함께 현대 생활이 어우러진 지역으로 여러 문화유산과 카페, 전통 체험 공간이 있어 많은 관광객들이 찾는 곳입니다. 남산한옥마을은 남산에 위치해 있어 서울 시내의 전경을 함께 감상할 수 있으며, 여러 가지 전통 문화 행사가 열리기도 합니다. 이처럼 서울에서도 한옥의 멋스러움을 경험할 수 있는 곳들이 많이 있습니다.\n",
      "테스트 4: 강원도는 아름다운 해변이 많은 지역으로, 바다를 즐기기에 좋은 곳들이 많이 있습니다. 강릉의 경포대 해변, 동해의 망상 해변, 삼척의 삼척해수욕장 등이 추천할 만한 바다 여행지입니다. 각 해변은 깨끗한 모래사장과 푸른 바다를 자랑하며, 주변에는 다양한 먹거리와 즐길 거리가 있어 여행의 즐거움을 더해줍니다.\n",
      "테스트 5: 사용자는 제주도에 있는 한라산 근처의 추천 카페를 찾고 있습니다. 이전 질문에서는 제주도 전반의 카페를 추천받았으며, 현재는 특정 지역인 한라산 근처의 카페 정보를 원하고 있습니다. 사용자가 제공받길 원하는 정보는 한라산 근방의 도보 혹은 차량 접근이 쉬운 카페 추천입니다.\n",
      "테스트 6: 현재 질문은 따뜻한 겨울 여행지를 찾고 싶다는 의미입니다. 이전에 추천된 평창은 겨울 스포츠와 설경으로 유명하지만 추운 지역입니다. 따라서 이번에는 기온이 온화하고 따뜻한 날씨를 즐길 수 있는 여행지를 추천해달라는 요청으로 보입니다.\n",
      "테스트 7: 동해는 아름다운 해변과 맑은 바다로 유명한 지역입니다. 강원도 지역에 위치하고 있으며, 특히 강릉, 속초, 삼척 등의 도시들이 인기 있는 여행지로 꼽히고 있습니다. 동해의 해변들은 여름철 피서지로 인기가 많고, 해양 스포츠를 즐기기에 좋은 환경을 제공합니다. 또한, 내륙에는 설악산과 같은 명산이 자리 잡고 있어 산을 오르며 자연을 만끽할 수 있는 기회도 주어집니다. 동해 지역은 해안가의 아름다운 경관뿐만 아니라, 신선한 해산물 요리와 함께 현지 문화를 체험할 수 있는 매력적인 여행지입니다.\n",
      "테스트 8: 서울에는 아름다운 야경을 감상할 수 있는 장소들이 많이 있습니다. 몇 가지 추천드리면, 63빌딩 전망대, 한강의 반포대교 무지개 분수와 한강공원, 남산타워에서 바라보는 서울 전경, 그리고 북악스카이웨이 팔각정에서의 서울 야경이 정말 멋집니다. 모두 서울의 화려하고 아름다운 야경을 만끽할 수 있는 곳들입니다.\n",
      "테스트 9: 현재 대화에서 사용자는 가족과 함께 방문할 수 있는 자연을 느낄 수 있는 여행지를 찾고 있습니다. 이전에 추천해 드린 에버랜드는 주로 놀이공원으로 잘 알려져 있지만, 이번에는 놀이기구가 아닌 자연을 즐길 수 있는 다른 휴양지를 추천해드릴 필요가 있습니다. 사용자가 자연을 느낄 수 있는 장소에 대해 더 많은 정보를 제공받고자 하는 의도를 가지고 있으므로 이에 맞춘 답변을 준비해보세요.\n",
      "테스트 10: 제주도의 드라이브 코스로 추천할 만한 곳은 다음과 같습니다:\n",
      "\n",
      "1. **해안도로 드라이브**: 제주도는 아름다운 해안도로가 많아 바다를 옆에 두고 달리는 드라이브가 매력적입니다. 특히, 동부의 성산 일출봉부터 시작해 서귀포까지 이어지는 해안도로는 멋진 뷰와 다양한 명소들이 있어 인기가 많습니다.\n",
      "\n",
      "2. **한라산 순환도로**: 한라산을 중심으로 순환하는 도로는 아름다운 산림과 함께 맑은 공기를 마시며 드라이브를 할 수 있는 코스입니다. 특히 자연과 가까워 힐링의 시간을 가질 수 있습니다.\n",
      "\n",
      "3. **비자림로**: 비자림로는 아름다운 비자나무 숲으로 둘러싸여 있어 신비로운 분위기를 자아냅니다. 이 길은 조용하고 고요한 드라이브를 즐기기에 좋습니다.\n",
      "\n",
      "이 외에도 제주도에는 다양한 드라이브 코스가 많으니 방문하신다면 여유롭게 제주도의 풍경을 즐기는 드라이브를 계획해보세요.\n"
     ]
    }
   ],
   "source": [
    "# 테스트용 샘플 데이터 (튜플 형태)\n",
    "sample_data = [\n",
    "    (\"서울 여행지 추천좀\", \"네 추천해드릴게요\", \"전주는?\"),\n",
    "    (\"부산 맛집 알려줘\", \"부산에서 유명한 맛집은~\", \"그럼 제주도는?\"),\n",
    "    (\"한옥마을 추천\", \"전주 한옥마을이 유명합니다\", \"서울에도 있어?\"),\n",
    "    (\"강원도 여행 어디가 좋아?\", \"설악산과 속초가 좋습니다\", \"그럼 바다도 추천해줘\"),\n",
    "    (\"제주 카페 추천해줘\", \"오설록 티하우스가 인기 많아요\", \"한라산 근처는?\"),\n",
    "    (\"겨울 여행지 추천\", \"강원도의 평창이 좋아요\", \"그럼 따뜻한 곳은?\"),\n",
    "    (\"여름 휴가 어디가 좋아?\", \"제주도가 좋아요\", \"동해는 어때?\"),\n",
    "    (\"서울 명소 알려줘\", \"경복궁과 남산타워가 있습니다\", \"야경 좋은 곳은?\"),\n",
    "    (\"가족 여행지 추천\", \"에버랜드가 괜찮아요\", \"놀이공원 말고 자연도 있나?\"),\n",
    "    (\"국내 드라이브 코스 추천\", \"춘천 가는 길이 좋습니다\", \"제주에서도 알려줘\")\n",
    "]\n",
    "\n",
    "# 샘플 데이터 반복 호출\n",
    "for idx, (prev_q, prev_a, curr_q) in enumerate(sample_data, 1):\n",
    "    result = generate_search_query(prev_q, prev_a, curr_q)\n",
    "    print(f\"테스트 {idx}: {result}\")"
   ]
  },
  {
   "cell_type": "markdown",
   "metadata": {
    "id": "bcSjjisub5PW"
   },
   "source": [
    "## 2. 멀티 쿼리 생성기"
   ]
  },
  {
   "cell_type": "markdown",
   "metadata": {
    "id": "9TdO4dCHPxCk"
   },
   "source": [
    "주어진 입력으로부터 다수의 질문으로 분리되도록 해보세요.  \n",
    "\n",
    "['검색어1', '검색어2', '검색어3']으로 분리되어야 합니다."
   ]
  },
  {
   "cell_type": "code",
   "execution_count": 11,
   "metadata": {
    "id": "btlJNlHQb0qa"
   },
   "outputs": [],
   "source": [
    "def generate_multi_queries(current_query: str) -> list:\n",
    "    \"\"\"\n",
    "    GPT-4를 이용해 멀티 쿼리를 생성하는 함수\n",
    "    :param current_query: 현재 입력된 하나의 쿼리\n",
    "    :return: 검색어 리스트\n",
    "    \"\"\"\n",
    "    prompt = f\"\"\"\n",
    "    사용자의 입력을 다수의 질문으로 분리하여 리스트 형태로 변환하세요.\n",
    "\n",
    "    **반드시 아래의 출력 형식을 따르세요.**\n",
    "    \n",
    "    - 리스트는 대괄호 `[]` 안에 포함되어야 합니다.\n",
    "    - 각 검색어는 작은따옴표(`'`)로 감싸야 합니다.\n",
    "    - 리스트 안에서 검색어는 쉼표(`, `)로 구분해야 합니다.\n",
    "    - 추가적인 설명 없이 **오직 리스트만 출력**해야 합니다.\n",
    "\n",
    "    **예제**\n",
    "    입력: 서울 여행지랑 전주 여행지랑 제주 여행지 알려줘.\n",
    "    출력: ['서울 여행지', '전주 여행지', '제주 여행지']\n",
    "\n",
    "    입력: {current_query}\n",
    "    출력:\n",
    "    \"\"\"\n",
    "\n",
    "    response = client.chat.completions.create(\n",
    "        model=\"gpt-4o\",\n",
    "        messages=[\n",
    "            {\"role\": \"system\", \"content\": \"당신은 사용자 입력을 리스트로 변환하는 멀티쿼리 생성기 입니다.\"},\n",
    "            {\"role\": \"user\", \"content\": prompt}\n",
    "        ],\n",
    "        temperature=0  \n",
    "    )\n",
    "\n",
    "    search_queries = response.choices[0].message.content.strip()\n",
    "    return eval(search_queries)  # JSON 배열로 반환\n",
    "\n",
    "# 사용 예시\n",
    "current_query = \"서울 여행지랑 전주 여행지랑 제주 여행지 알려줘\"\n",
    "search_queries = generate_multi_queries(current_query)"
   ]
  },
  {
   "cell_type": "code",
   "execution_count": 12,
   "metadata": {
    "id": "1jvN74b1cbll"
   },
   "outputs": [],
   "source": [
    "current_query = \"서울 여행지랑 전주 여행지랑 제주 여행지 알려줘\"\n",
    "search_queries = generate_multi_queries(current_query)"
   ]
  },
  {
   "cell_type": "code",
   "execution_count": 13,
   "metadata": {
    "colab": {
     "base_uri": "https://localhost:8080/"
    },
    "id": "M3_6BUIacdm4",
    "outputId": "4459f2b6-c596-41b2-ef9a-f9d798e3bd79"
   },
   "outputs": [
    {
     "data": {
      "text/plain": [
       "['서울 여행지', '전주 여행지', '제주 여행지']"
      ]
     },
     "execution_count": 13,
     "metadata": {},
     "output_type": "execute_result"
    }
   ],
   "source": [
    "search_queries"
   ]
  },
  {
   "cell_type": "code",
   "execution_count": 14,
   "metadata": {
    "colab": {
     "base_uri": "https://localhost:8080/"
    },
    "id": "7WkK0wSvfAWc",
    "outputId": "ee17b5a2-3170-4923-e2a7-6efd9929b33d"
   },
   "outputs": [
    {
     "name": "stdout",
     "output_type": "stream",
     "text": [
      "멀티 쿼리 테스트 1: ['서울 여행지', '전주 여행지', '제주 여행지']\n",
      "멀티 쿼리 테스트 2: ['부산 해수욕장', '강원도 계곡']\n",
      "멀티 쿼리 테스트 3: ['봄에 가기 좋은 여행지', '가을 단풍 명소']\n",
      "멀티 쿼리 테스트 4: ['유럽 여행지', '미국 관광 명소']\n",
      "멀티 쿼리 테스트 5: ['서울 맛집', '부산 맛집', '대구 맛집']\n",
      "멀티 쿼리 테스트 6: ['겨울 캠핑 장소', '여름 캠핑 장소']\n",
      "멀티 쿼리 테스트 7: ['아이랑 가기 좋은 곳', '부모님 모시고 가기 좋은 곳']\n",
      "멀티 쿼리 테스트 8: ['국내 힐링 여행지', '해외 힐링 여행지']\n",
      "멀티 쿼리 테스트 9: ['혼자 여행하기 좋은 곳', '친구랑 가기 좋은 곳']\n",
      "멀티 쿼리 테스트 10: ['제주도 드라이브 코스', '부산 드라이브 코스']\n"
     ]
    }
   ],
   "source": [
    "# 멀티 쿼리 테스트 데이터\n",
    "multi_query_samples = [\n",
    "    \"서울 여행지랑 전주 여행지랑 제주 여행지 알려줘\",\n",
    "    \"부산 해수욕장이랑 강원도 계곡 추천해줘\",\n",
    "    \"봄에 가기 좋은 여행지랑 가을 단풍 명소 알려줘\",\n",
    "    \"유럽 여행지랑 미국 관광 명소 알려줘\",\n",
    "    \"서울 맛집이랑 부산 맛집이랑 대구 맛집 추천해줘\",\n",
    "    \"겨울 캠핑 장소랑 여름 캠핑 장소 알려줘\",\n",
    "    \"아이랑 가기 좋은 곳이랑 부모님 모시고 가기 좋은 곳 알려줘\",\n",
    "    \"국내 힐링 여행지랑 해외 힐링 여행지 알려줘\",\n",
    "    \"혼자 여행하기 좋은 곳이랑 친구랑 가기 좋은 곳 추천해줘\",\n",
    "    \"제주도 드라이브 코스랑 부산 드라이브 코스 알려줘\"\n",
    "]\n",
    "\n",
    "# 멀티 쿼리 샘플 반복 호출\n",
    "for idx, query in enumerate(multi_query_samples, 1):\n",
    "    queries = generate_multi_queries(query)\n",
    "    print(f\"멀티 쿼리 테스트 {idx}: {queries}\")"
   ]
  },
  {
   "cell_type": "markdown",
   "metadata": {
    "id": "4nfx7bcHdVUT"
   },
   "source": [
    "## 3. 멀티턴과 멀티쿼리 대응"
   ]
  },
  {
   "cell_type": "markdown",
   "metadata": {
    "id": "2gxEI3_3PoZ-"
   },
   "source": [
    "여러분들은 멀티턴과 멀티 쿼리를 모두 처리 가능한 질문 생성기를 만들 겁니다.  \n",
    "\n",
    "검색어(번호): 완성된 검색어\n",
    "\n",
    "형태로 검색어가 나오도록 프롬프트를 만드세요."
   ]
  },
  {
   "cell_type": "code",
   "execution_count": 15,
   "metadata": {
    "colab": {
     "base_uri": "https://localhost:8080/"
    },
    "id": "XXTn0SsZdU2e",
    "outputId": "df0bf2f3-b70d-4029-8b6b-17d8eb09699f"
   },
   "outputs": [
    {
     "name": "stdout",
     "output_type": "stream",
     "text": [
      "검색어1: 전주 여행지\n",
      "검색어2: 제주 관광 상품\n",
      "검색어3: 서울 맛집\n"
     ]
    }
   ],
   "source": [
    "def generate_multi_turn_multi_queries(previous_query: str, previous_answer: str, current_query: str) -> list:\n",
    "    \"\"\"\n",
    "    GPT-4를 이용해 멀티턴 & 멀티 쿼리를 생성하는 함수\n",
    "    :param previous_query: 이전 입력\n",
    "    :param previous_answer: 이전 응답\n",
    "    :param current_query: 현재 입력\n",
    "    :return: 검색어 리스트\n",
    "    \"\"\"\n",
    "    prompt = f\"\"\"\n",
    "    사용자의 검색 요청을 분석하여 다수의 검색어 리스트로 변환하세요.\n",
    "    \n",
    "    - 이전 입력과 이전 답변을 참고하여 사용자의 의도를 반영해야 합니다.\n",
    "    - 현재 입력을 적절한 개별 검색어로 분리하세요.\n",
    "    - 검색어는 작은따옴표(`'`)로 감싼 리스트(`[]`) 형태로 출력해야 합니다.\n",
    "    - 리스트 안에서는 검색어를 쉼표(`, `)로 구분해야 합니다.\n",
    "    - 추가적인 설명 없이 **오직 리스트만 출력**하세요.\n",
    "\n",
    "    **예제**\n",
    "    이전 입력: 서울 여행지 추천\n",
    "    이전 답변: 서울에서 인기 있는 여행지는 N서울타워, 경복궁, 롯데타워 등이 있습니다.\n",
    "    현재 입력: 전주도 알려주고 제주 관광 상품도 알려주고 서울 맛집도 알려줘.\n",
    "    출력: ['전주 여행지', '제주 관광 상품', '서울 맛집']\n",
    "\n",
    "    **사용자의 요청**\n",
    "    이전 입력: {previous_query}\n",
    "    이전 답변: {previous_answer}\n",
    "    현재 입력: {current_query}\n",
    "    출력:\n",
    "    \"\"\"\n",
    "\n",
    "    response = client.chat.completions.create(\n",
    "        model=\"gpt-4o\",\n",
    "        messages=[\n",
    "            {\"role\": \"system\", \"content\": \"당신은 사용자 입력을 분석하여 검색어 리스트를 생성하는 생성기입니다.\"},\n",
    "            {\"role\": \"user\", \"content\": prompt}\n",
    "        ]\n",
    "    )\n",
    "\n",
    "    search_queries = response.choices[0].message.content.strip()\n",
    "    return eval(search_queries)  # JSON 배열로 반환\n",
    "\n",
    "# 사용 예시\n",
    "previous_query = \"서울 여행지 추천\"\n",
    "previous_answer = \"~~~\"\n",
    "current_query = \"전주도 알려주고 제주 관광 상품도 알려주고 서울 맛집도 알려줘\"\n",
    "\n",
    "search_queries = generate_multi_turn_multi_queries(previous_query, previous_answer, current_query)\n",
    "\n",
    "for idx, query in enumerate(search_queries, 1):\n",
    "    print(f\"검색어{idx}: {query}\")"
   ]
  },
  {
   "cell_type": "code",
   "execution_count": 16,
   "metadata": {
    "colab": {
     "base_uri": "https://localhost:8080/"
    },
    "id": "KVxMVCZNgKzz",
    "outputId": "4196027f-7994-448b-f1d4-3fc48741134b"
   },
   "outputs": [
    {
     "name": "stdout",
     "output_type": "stream",
     "text": [
      "멀티턴 & 멀티쿼리 테스트 1: ['서울 야경 추천', '전주 가볼 만한 곳', '제주 가볼 만한 곳']\n",
      "멀티턴 & 멀티쿼리 테스트 2: ['부산 분위기 좋은 카페', '광안리 근처 맛집']\n",
      "멀티턴 & 멀티쿼리 테스트 3: ['양양 캠핑장', '속초 캠핑장', '아이들이 놀기 좋은 곳']\n",
      "멀티턴 & 멀티쿼리 테스트 4: ['평창 온천', '강릉 온천', '남쪽 지방 따뜻한 여행지']\n",
      "멀티턴 & 멀티쿼리 테스트 5: ['양평 맛집', '남양주 맛집', '제주 드라이브 코스', '부산 드라이브 코스']\n",
      "멀티턴 & 멀티쿼리 테스트 6: ['제주 성산일출봉 근처 가족 여행지', '제주 오설록 근처 가족 여행지', '제주 동쪽 지역 명소']\n",
      "멀티턴 & 멀티쿼리 테스트 7: ['에버랜드 근처 자연 속 숙소', '롯데월드 근처 자연 속 숙소', '강원도 숙소', '충청도 숙소']\n",
      "멀티턴 & 멀티쿼리 테스트 8: ['경주 봄꽃 사진 명소', '진해 봄꽃 사진 명소', '가을 단풍 명소']\n",
      "멀티턴 & 멀티쿼리 테스트 9: ['부여 아이와 갈만한 곳', '경주 아이와 갈만한 곳', '서울 근처 역사 명소']\n",
      "멀티턴 & 멀티쿼리 테스트 10: ['홍대 분위기 좋은 식당', '홍대 디저트 맛있는 카페']\n"
     ]
    }
   ],
   "source": [
    "multi_turn_multi_query_samples = [\n",
    "    (\"서울 여행지 추천해줘\", \"경복궁과 남산이 좋습니다.\",\n",
    "     \"그럼 거기서 야경 보기 좋은 곳은 어디고, 거기 아니면 전주나 제주에서 가볼 만한 곳은?\"),\n",
    "\n",
    "    (\"부산 맛집 알려줘\", \"해운대와 서면 쪽이 유명합니다.\",\n",
    "     \"그럼 거기서 분위기 좋은 카페는 어디고, 거기 아니더라도 광안리 근처 맛집 추천해줘.\"),\n",
    "\n",
    "    (\"강원도 해수욕장 추천\", \"양양과 속초 쪽이 좋습니다.\",\n",
    "     \"그럼 거기 근처에서 캠핑 가능한 곳은 어디고, 거기 아니더라도 아이들이 놀기 좋은 곳은?\"),\n",
    "\n",
    "    (\"국내 겨울 여행지 추천\", \"평창과 강릉이 좋습니다.\",\n",
    "     \"그럼 거기서 온천 가능한 곳은 어디고, 거기 아니면 남쪽 지방의 따뜻한 여행지는?\"),\n",
    "\n",
    "    (\"서울 근교 드라이브 코스\", \"양평과 남양주가 좋습니다.\",\n",
    "     \"그럼 거기 근처 맛집은 어디고, 아니면 제주나 부산에서 드라이브하기 좋은 곳은?\"),\n",
    "\n",
    "    (\"제주 관광 명소 추천\", \"성산일출봉과 오설록이 좋습니다.\",\n",
    "     \"그럼 거기 근처에서 가족이 가기 좋은 곳은 어디고, 아니면 동쪽 지역 명소는?\"),\n",
    "\n",
    "    (\"가족 여행지 추천\", \"에버랜드와 롯데월드가 좋습니다.\",\n",
    "     \"그럼 거기서 가까운 자연 속 숙소는 어디고, 아니면 강원도나 충청도 지역 추천해줘.\"),\n",
    "\n",
    "    (\"봄꽃 명소 추천\", \"경주와 진해가 좋습니다.\",\n",
    "     \"그럼 거기서 사진 찍기 좋은 곳은 어디고, 거기 아니더라도 가을 단풍 명소는 어디가 좋을까?\"),\n",
    "\n",
    "    (\"역사 여행지 추천\", \"부여와 경주가 좋습니다.\",\n",
    "     \"그럼 거기서 아이와 같이 갈만한 곳은 어디고, 거기 아니더라도 서울 근처 역사 명소는?\"),\n",
    "\n",
    "    (\"나 서울 놀러갈거야. 그러니까 서울 맛집 추천해줘\", \"홍대가 좋습니다.\",\n",
    "     \"오 젊음의 거리지. 거기서 분위기 좋은 식당은 어디고, 아니면 거기 아니라도 되니까 디저트가 맛있는 카페는?\")\n",
    "]\n",
    "\n",
    "# 반복 호출 예시\n",
    "for idx, (prev_q, prev_a, curr_q) in enumerate(multi_turn_multi_query_samples, 1):\n",
    "    queries = generate_multi_turn_multi_queries(prev_q, prev_a, curr_q)\n",
    "    print(f\"멀티턴 & 멀티쿼리 테스트 {idx}: {queries}\")"
   ]
  },
  {
   "cell_type": "markdown",
   "metadata": {
    "id": "I6VuH3XXMqxG"
   },
   "source": [
    "## 4. 도구 매칭"
   ]
  },
  {
   "cell_type": "markdown",
   "metadata": {
    "id": "9mRSQK4XPbZn"
   },
   "source": [
    "여러분들은 이전 질문, 이전 답변, 현재 질문으로부터 도구를 매칭할 겁니다.  \n",
    "\n",
    "도구 결과는 \"[도구 이름]: [완성된 검색어]\" 형태로 나와야 합니다."
   ]
  },
  {
   "cell_type": "code",
   "execution_count": 44,
   "metadata": {
    "id": "F3jEzQyoMsvK"
   },
   "outputs": [],
   "source": [
    "def match_queries_to_tools(tools, previous_query, previous_answer, current_query):\n",
    "    \"\"\"\n",
    "    GPT-4를 이용해 쿼리를 분석하고, 도구들과 매칭하여 검색어를 생성하는 함수\n",
    "    :param tools: 도구 목록 [{\"name\": str, \"description\": str}, ...]\n",
    "    :param previous_query: 이전 질문\n",
    "    :param previous_answer: 이전 답변\n",
    "    :param current_query: 현재 질문\n",
    "    :return: {도구명: 검색어} 형태의 리스트\n",
    "    \"\"\"\n",
    "    tool_info = \"\\n\".join(\n",
    "        [f\"- {tool['name']}: {tool['description']}\" for tool in tools]\n",
    "    )\n",
    "\n",
    "    tool_names = \", \".join([tool[\"name\"] for tool in tools])  # 사용 가능한 도구명만 추출\n",
    "\n",
    "    prompt = f\"\"\"\n",
    "    사용자의 검색 요청을 분석하여 적절한 도구와 연결된 검색어를 생성하세요.\n",
    "\n",
    "    **도구 사용 규칙**\n",
    "    - 아래 제공된 도구 중 **반드시 하나를 선택해야 합니다.**\n",
    "    - 검색어는 해당 도구의 기능에 맞게 변환해야 합니다.\n",
    "    - **NoTool은 정말 연관이 없는 경우에만 사용하세요.**\n",
    "    - 복합적인 질문은 개별적인 검색어로 분리 후, 각각 적절한 도구에 매칭해야 합니다.\n",
    "    - 도구명을 임의로 생성하지 말고, 아래 제공된 도구명 중에서만 선택하세요.\n",
    "\n",
    "    **사용 가능한 도구 목록**\n",
    "    {tool_info}\n",
    "\n",
    "    **도구명 목록 (반드시 이 중에서 선택)**\n",
    "    {tool_names}\n",
    "\n",
    "    **출력 형식 (반드시 따를 것)**\n",
    "    TourSpotFinder: 홍대 근처 산책하기 좋은 곳\n",
    "    FoodieFinder: 홍대 근처 분위기 좋은 식당\n",
    "    FoodieFinder: 홍대 근처 디저트가 맛있는 카페\n",
    "\n",
    "    **출력 예시**\n",
    "    ---\n",
    "    이전 질문: \"서울 관광지 추천해줘\"\n",
    "    이전 답변: \"서울에서 인기 있는 관광지는 경복궁, 남산타워, 홍대 거리 등이 있습니다.\"\n",
    "    현재 질문: \"그럼 근처에 산책하기 좋은 곳이랑 분위기 좋은 식당은 어디고, 거기 아니더라도 디저트가 맛있는 카페는?\"\n",
    "    TourSpotFinder: 홍대 근처 산책하기 좋은 곳\n",
    "    FoodieFinder: 홍대 근처 분위기 좋은 식당\n",
    "    FoodieFinder: 홍대 근처 디저트가 맛있는 카페\n",
    "    ---\n",
    "\n",
    "    **사용자의 요청**\n",
    "    이전 질문: \"{previous_query}\"\n",
    "    이전 답변: \"{previous_answer}\"\n",
    "    현재 질문: \"{current_query}\"\n",
    "    출력:\n",
    "    \"\"\"\n",
    "\n",
    "    response = client.chat.completions.create(\n",
    "        model=\"gpt-4o\",\n",
    "        messages=[\n",
    "            {\"role\": \"system\", \n",
    "             \"content\": \n",
    "             \"\"\"\n",
    "             당신은 사용자 입력을 분석하여 적절한 도구와 검색어를 매칭하는 AI입니다.\n",
    "             **출력을 JSON이나 Markdown이 아닌 일반 텍스트 형식으로 하세요.**\n",
    "             **도구명은 반드시 제공된 도구 목록에서 선택하세요.**\n",
    "             **NoTool은 정말 연관이 없는 경우에만 사용하세요.**\n",
    "             **복합 질문은 개별 검색어로 변환한 후, 각각 적절한 도구에 매칭하세요.**\n",
    "             \"\"\"},\n",
    "            {\"role\": \"user\", \"content\": prompt}\n",
    "        ],\n",
    "        temperature=0  # 일관된 출력을 위해 temperature 값을 0으로 설정\n",
    "    )\n",
    "\n",
    "    matched_results = response.choices[0].message.content.strip().split(\"\\n\")\n",
    "    return [line.strip() for line in matched_results if line.strip()]"
   ]
  },
  {
   "cell_type": "code",
   "execution_count": 45,
   "metadata": {
    "colab": {
     "base_uri": "https://localhost:8080/"
    },
    "id": "uKXQ2qR6MuIs",
    "outputId": "7f45c86f-8b8b-4ab9-ead1-bae4a5bc8909"
   },
   "outputs": [
    {
     "name": "stdout",
     "output_type": "stream",
     "text": [
      "TourSpotFinder: 홍대 근처 산책하기 좋은 곳\n",
      "FoodieFinder: 홍대 근처 분위기 좋은 식당\n",
      "FoodieFinder: 홍대 근처 디저트가 맛있는 카페\n"
     ]
    }
   ],
   "source": [
    "# 도구 정의\n",
    "tools = [\n",
    "    {\"name\": \"TourSpotFinder\", \"description\": \"관광지나 산책로 등 여행 및 휴식 장소를 추천합니다.\"},\n",
    "    {\"name\": \"FoodieFinder\", \"description\": \"맛집이나 카페 등 음식과 관련된 장소를 추천합니다.\"},\n",
    "    {\"name\": \"NoTool\", \"description\": \"매칭될 도구가 없다면 여기에다가 매칭하세요.\"},\n",
    "]\n",
    "\n",
    "# 예시 입력\n",
    "previous_query = \"서울 관광지 추천해줘\"\n",
    "previous_answer = \"홍대 어때요?\"\n",
    "current_query = \"그럼 근처에 산책하기 좋은 곳이랑 분위기 좋은 식당은 어디고, 거기 아니더라도 디저트가 맛있는 카페는?\"\n",
    "\n",
    "# 함수 호출\n",
    "result = match_queries_to_tools(tools, previous_query, previous_answer, current_query)\n",
    "\n",
    "# 결과 출력\n",
    "for item in result:\n",
    "    print(item)"
   ]
  },
  {
   "cell_type": "code",
   "execution_count": 46,
   "metadata": {
    "id": "MJk9t4WSNIa8"
   },
   "outputs": [],
   "source": [
    "# 도구 정의 (각 도메인에 맞게 예시마다 다름)\n",
    "tool_examples = [\n",
    "    # 1. 여행\n",
    "    [\n",
    "        {\"name\": \"TourSpotFinder\", \"description\": \"관광지에 대한 정보를 조회하거나, 관광지나 산책로 등 여행지를 추천합니다.\"},\n",
    "        {\"name\": \"FoodieFinder\", \"description\": \"맛집이나 카페를 추천합니다.\"},\n",
    "        {\"name\": \"NoTool\", \"description\": \"매칭될 도구가 없다면 여기에다가 매칭하세요. 정말 연관이 없는 질문일 경우에만 매칭해야 합니다.\"},\n",
    "    ],\n",
    "    # 2. 영화 및 문화\n",
    "    [\n",
    "        {\"name\": \"MovieRecommender\", \"description\": \"영화나 드라마를 추천합니다.\"},\n",
    "        {\"name\": \"CultureEventFinder\", \"description\": \"문화 행사 및 전시회를 추천합니다.\"},\n",
    "        {\"name\": \"NoTool\", \"description\": \"매칭될 도구가 없다면 여기에다가 매칭하세요. 정말 연관이 없는 질문일 경우에만 매칭해야 합니다.\"},\n",
    "    ],\n",
    "    # 3. 쇼핑\n",
    "    [\n",
    "        {\"name\": \"FashionShopFinder\", \"description\": \"옷과 액세서리 매장을 추천합니다.\"},\n",
    "        {\"name\": \"ElectronicsFinder\", \"description\": \"전자제품 쇼핑몰을 추천합니다.\"},\n",
    "        {\"name\": \"NoTool\", \"description\": \"매칭될 도구가 없다면 여기에다가 매칭하세요. 정말 연관이 없는 질문일 경우에만 매칭해야 합니다.\"},\n",
    "    ],\n",
    "    # 4. 스포츠\n",
    "    [\n",
    "        {\"name\": \"SportEventFinder\", \"description\": \"스포츠 경기 일정을 추천합니다.\"},\n",
    "        {\"name\": \"FitnessCenterFinder\", \"description\": \"운동 시설을 추천합니다.\"},\n",
    "        {\"name\": \"NoTool\", \"description\": \"매칭될 도구가 없다면 여기에다가 매칭하세요. 정말 연관이 없는 질문일 경우에만 매칭해야 합니다.\"},\n",
    "    ],\n",
    "    # 5. 교육 및 강좌\n",
    "    [\n",
    "        {\"name\": \"OnlineCourseFinder\", \"description\": \"온라인 강좌 및 강의를 추천합니다.\"},\n",
    "        {\"name\": \"LocalWorkshopFinder\", \"description\": \"지역 워크숍과 세미나를 추천합니다.\"},\n",
    "        {\"name\": \"NoTool\", \"description\": \"매칭될 도구가 없다면 여기에다가 매칭하세요. 정말 연관이 없는 질문일 경우에만 매칭해야 합니다.\"},\n",
    "    ],\n",
    "    # 6. 부동산\n",
    "    [\n",
    "        {\"name\": \"HouseFinder\", \"description\": \"부동산 매물 및 집을 추천합니다.\"},\n",
    "        {\"name\": \"InteriorDesignFinder\", \"description\": \"인테리어 관련 업체를 추천합니다.\"},\n",
    "        {\"name\": \"NoTool\", \"description\": \"매칭될 도구가 없다면 여기에다가 매칭하세요. 정말 연관이 없는 질문일 경우에만 매칭해야 합니다.\"},\n",
    "    ],\n",
    "    # 7. 금융\n",
    "    [\n",
    "        {\"name\": \"InvestmentAdvisor\", \"description\": \"투자 상품과 관련 정보를 제공합니다.\"},\n",
    "        {\"name\": \"BankFinder\", \"description\": \"은행 및 금융기관 정보를 추천합니다.\"},\n",
    "        {\"name\": \"NoTool\", \"description\": \"매칭될 도구가 없다면 여기에다가 매칭하세요. 정말 연관이 없는 질문일 경우에만 매칭해야 합니다.\"},\n",
    "    ],\n",
    "    # 8. 의료 및 건강\n",
    "    [\n",
    "        {\"name\": \"HospitalFinder\", \"description\": \"병원 및 진료 시설을 추천합니다.\"},\n",
    "        {\"name\": \"PharmacyFinder\", \"description\": \"약국을 추천합니다.\"},\n",
    "        {\"name\": \"NoTool\", \"description\": \"매칭될 도구가 없다면 여기에다가 매칭하세요. 정말 연관이 없는 질문일 경우에만 매칭해야 합니다.\"},\n",
    "    ],\n",
    "    # 9. IT 및 기술\n",
    "    [\n",
    "        {\"name\": \"TechSupportFinder\", \"description\": \"기술 지원 및 수리 업체를 추천합니다.\"},\n",
    "        {\"name\": \"SoftwareFinder\", \"description\": \"소프트웨어 제품을 추천합니다.\"},\n",
    "        {\"name\": \"NoTool\", \"description\": \"매칭될 도구가 없다면 여기에다가 매칭하세요. 정말 연관이 없는 질문일 경우에만 매칭해야 합니다.\"},\n",
    "    ],\n",
    "    # 10. 취미 및 여가\n",
    "    [\n",
    "        {\"name\": \"HobbyClassFinder\", \"description\": \"취미 클래스와 강좌를 추천합니다.\"},\n",
    "        {\"name\": \"LeisureActivityFinder\", \"description\": \"여가 활동 및 체험을 추천합니다.\"},\n",
    "        {\"name\": \"NoTool\", \"description\": \"매칭될 도구가 없다면 여기에다가 매칭하세요. 정말 연관이 없는 질문일 경우에만 매칭해야 합니다.\"},\n",
    "    ]\n",
    "]"
   ]
  },
  {
   "cell_type": "code",
   "execution_count": 49,
   "metadata": {
    "colab": {
     "base_uri": "https://localhost:8080/"
    },
    "id": "2susm8H-OGPU",
    "outputId": "1476f376-5e21-4d8d-c775-35506a633d94"
   },
   "outputs": [
    {
     "name": "stdout",
     "output_type": "stream",
     "text": [
      "\n",
      "--- 테스트 1 ---\n",
      "TourSpotFinder: 북촌 한옥마을 근처 산책로\n",
      "FoodieFinder: 북촌 한옥마을 근처 카페\n",
      "TourSpotFinder: 전주 한옥마을 근처 산책로\n",
      "FoodieFinder: 전주 한옥마을 근처 카페\n",
      "NoTool: 너 누구야?\n",
      "\n",
      "--- 테스트 2 ---\n",
      "MovieRecommender: 크리스토퍼 놀란 감독의 다른 영화\n",
      "CultureEventFinder: 근처 문화 행사\n",
      "NoTool: 크리스토퍼 놀란에 대한 논란\n",
      "\n",
      "--- 테스트 3 ---\n",
      "FashionShopFinder: 강남 근처 옷가게\n",
      "ElectronicsFinder: 강남 근처 전자제품 매장\n",
      "ElectronicsFinder: 홍대 근처 전자제품 매장\n",
      "NoTool: 갤럭시 S25 최신 기능\n",
      "\n",
      "--- 테스트 4 ---\n",
      "SportEventFinder: 이번 주 야구 일정\n",
      "FitnessCenterFinder: 축구 K리그 경기 근처 피트니스 센터\n",
      "NoTool: 야구 선수 중에 누가 야구 경기 제일 잘하냐?\n",
      "\n",
      "--- 테스트 5 ---\n",
      "LocalWorkshopFinder: 지역에서 참여 가능한 세미나\n",
      "OnlineCourseFinder: 영어 강좌\n",
      "NoTool: 영어 1타 강사\n",
      "\n",
      "--- 테스트 6 ---\n",
      "InteriorDesignFinder: 인테리어 업체 추천\n",
      "HouseFinder: 집 가격 시세 확인\n",
      "HouseFinder: 요즘 집값 동향\n",
      "\n",
      "--- 테스트 7 ---\n",
      "InvestmentAdvisor: 요즘 금리 정보\n",
      "BankFinder: ETF나 채권 상담 가능한 은행\n",
      "NoTool: 엔비디아 창업자 정보\n",
      "\n",
      "--- 테스트 8 ---\n",
      "HospitalFinder: 서울대병원 근처 건강검진 가능한 병원\n",
      "PharmacyFinder: 서울대병원 근처 약국\n",
      "NoTool: 강남에서 가장 유명한 카페\n",
      "\n",
      "--- 테스트 9 ---\n",
      "TechSupportFinder: 인터넷 문제 해결을 위한 기술 지원 업체\n",
      "SoftwareFinder: 추천할 만한 소프트웨어\n",
      "\n",
      "--- 테스트 10 ---\n",
      "LeisureActivityFinder: 홍대에서 체험 가능한 여가 활동\n",
      "LeisureActivityFinder: 다른 지역에서 체험 가능한 여가 활동\n",
      "HobbyClassFinder: 동호회 추천\n"
     ]
    }
   ],
   "source": [
    "# 예시 데이터 (멀티턴 & 멀티쿼리)\n",
    "test_samples = [\n",
    "    (\"서울 여행 추천해줘\", \"북촌 한옥마을이 좋습니다.\",\n",
    "     \"거기서 근처 카페랑 산책로 추천해줘, 아니면 전주 한옥마을은? 그리고 너 누구야?\"),\n",
    "\n",
    "    (\"최근 재밌는 영화 추천\", \"오펜하이머가 흥행했습니다.\",\n",
    "     \"거기 감독 다른 영화랑 근처 문화 행사도 알려줘 그리고 크리스토퍼 놀란에 대한 논란도 궁금하네\"),\n",
    "\n",
    "    (\"쇼핑할 옷가게 추천해줘\", \"강남에 편집샵이 많아요.\",\n",
    "     \"거기서 가까운 전자제품 매장도 알려줘, 아니면 홍대 쪽도? 그리고 갤럭시 S25 최신 기능은?\"),\n",
    "\n",
    "    (\"이번 주 스포츠 경기 추천해줘\", \"축구 K리그 경기가 많습니다.\",\n",
    "     \"거기 근처 피트니스 센터는 어디고, 야구 일정도 알려줘. 야구 선수 중에 누가 야구 경기 제일 잘하냐?\"),\n",
    "\n",
    "    (\"온라인에서 배울 만한 강좌 추천\", \"코세라와 인프런이 좋습니다.\",\n",
    "     \"지역에서 참여 가능한 세미나는 뭐가 있고, 영어 강좌는 어디서 들을 수 있어? 그리고 영어 1타 강사 누구냐?\"),\n",
    "\n",
    "    (\"서울에서 살기 좋은 아파트 추천해줘\", \"강남구와 마포구가 인기입니다.\",\n",
    "     \"인테리어 업체는 어디가 좋고, 집 가격 시세는 어디서 확인할까? 그리고 요즘 집값 어떠냐?\"),\n",
    "\n",
    "    (\"투자할 만한 금융상품 추천\", \"ETF나 채권이 안전합니다.\",\n",
    "     \"좋아. 그럼 그런거 은행 상담 가능한 곳은 어디고, 요즘 금리 정보는 어디서 볼까? 그리고 엔비디아 창업자 누구냐?\"),\n",
    "\n",
    "    (\"가까운 병원 추천해줘\", \"서울대병원이 가깝습니다.\",\n",
    "     \"거기 근처 약국은 어디고, 건강검진 가능한 병원은? 그리고 강남에서 가장 유명한 카페 어디냐?\"),\n",
    "\n",
    "    (\"컴퓨터가 고장났는데 어디 갈까?\", \"용산에 수리 업체가 많습니다.\",\n",
    "     \"거기서 추천할 만한 소프트웨어는 뭐가 있고, 인터넷 문제는 어디서 해결하지? 인터넷 기사 추천 해줄래?\"),\n",
    "\n",
    "    (\"서울에 취미 활동할 곳 추천해줘\", \"홍대에 클래스가 많습니다.\",\n",
    "     \"거기서 체험 가능한 여가 활동은 뭐가 있고, 다른 지역은? 그리고 동호회 추천해볼래?\")\n",
    "]\n",
    "\n",
    "# 반복 호출로 테스트\n",
    "for idx, ((prev_q, prev_a, curr_q), tools) in enumerate(zip(test_samples, tool_examples), 1):\n",
    "    print(f\"\\n--- 테스트 {idx} ---\")\n",
    "    matched_queries = match_queries_to_tools(tools, prev_q, prev_a, curr_q)\n",
    "    for mq in matched_queries:\n",
    "        print(mq)"
   ]
  }
 ],
 "metadata": {
  "colab": {
   "provenance": []
  },
  "kernelspec": {
   "display_name": "Python 3 (ipykernel)",
   "language": "python",
   "name": "python3"
  },
  "language_info": {
   "codemirror_mode": {
    "name": "ipython",
    "version": 3
   },
   "file_extension": ".py",
   "mimetype": "text/x-python",
   "name": "python",
   "nbconvert_exporter": "python",
   "pygments_lexer": "ipython3",
   "version": "3.11.8"
  }
 },
 "nbformat": 4,
 "nbformat_minor": 4
}
