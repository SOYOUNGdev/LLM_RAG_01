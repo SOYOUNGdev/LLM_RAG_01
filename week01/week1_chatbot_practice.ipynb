{
 "cells": [
  {
   "cell_type": "code",
   "execution_count": 1,
   "id": "638cf411-6a7f-48d3-b3de-acb0d3376807",
   "metadata": {
    "id": "638cf411-6a7f-48d3-b3de-acb0d3376807",
    "outputId": "70c7dec9-7e7d-4a11-e051-8749e8d3b268",
    "scrolled": true
   },
   "outputs": [
    {
     "name": "stdout",
     "output_type": "stream",
     "text": [
      "Requirement already satisfied: gradio in c:\\programdata\\anaconda3\\lib\\site-packages (5.17.1)\n",
      "Requirement already satisfied: openai in c:\\programdata\\anaconda3\\lib\\site-packages (1.63.2)\n",
      "Requirement already satisfied: pillow in c:\\programdata\\anaconda3\\lib\\site-packages (10.2.0)\n",
      "Requirement already satisfied: aiofiles<24.0,>=22.0 in c:\\users\\user\\appdata\\roaming\\python\\python311\\site-packages (from gradio) (23.2.1)\n",
      "Requirement already satisfied: anyio<5.0,>=3.0 in c:\\programdata\\anaconda3\\lib\\site-packages (from gradio) (4.2.0)\n",
      "Requirement already satisfied: fastapi<1.0,>=0.115.2 in c:\\programdata\\anaconda3\\lib\\site-packages (from gradio) (0.115.8)\n",
      "Requirement already satisfied: ffmpy in c:\\programdata\\anaconda3\\lib\\site-packages (from gradio) (0.5.0)\n",
      "Requirement already satisfied: gradio-client==1.7.1 in c:\\programdata\\anaconda3\\lib\\site-packages (from gradio) (1.7.1)\n",
      "Requirement already satisfied: httpx>=0.24.1 in c:\\programdata\\anaconda3\\lib\\site-packages (from gradio) (0.27.2)\n",
      "Requirement already satisfied: huggingface-hub>=0.28.1 in c:\\programdata\\anaconda3\\lib\\site-packages (from gradio) (0.29.1)\n",
      "Requirement already satisfied: jinja2<4.0 in c:\\programdata\\anaconda3\\lib\\site-packages (from gradio) (3.1.3)\n",
      "Requirement already satisfied: markupsafe~=2.0 in c:\\programdata\\anaconda3\\lib\\site-packages (from gradio) (2.1.3)\n",
      "Requirement already satisfied: numpy<3.0,>=1.0 in c:\\programdata\\anaconda3\\lib\\site-packages (from gradio) (1.26.4)\n",
      "Requirement already satisfied: orjson~=3.0 in c:\\programdata\\anaconda3\\lib\\site-packages (from gradio) (3.10.15)\n",
      "Requirement already satisfied: packaging in c:\\programdata\\anaconda3\\lib\\site-packages (from gradio) (23.2)\n",
      "Requirement already satisfied: pandas<3.0,>=1.0 in c:\\programdata\\anaconda3\\lib\\site-packages (from gradio) (2.1.4)\n",
      "Requirement already satisfied: pydantic>=2.0 in c:\\programdata\\anaconda3\\lib\\site-packages (from gradio) (2.10.6)\n",
      "Requirement already satisfied: pydub in c:\\programdata\\anaconda3\\lib\\site-packages (from gradio) (0.25.1)\n",
      "Requirement already satisfied: python-multipart>=0.0.18 in c:\\programdata\\anaconda3\\lib\\site-packages (from gradio) (0.0.20)\n",
      "Requirement already satisfied: pyyaml<7.0,>=5.0 in c:\\programdata\\anaconda3\\lib\\site-packages (from gradio) (6.0.1)\n",
      "Requirement already satisfied: ruff>=0.9.3 in c:\\programdata\\anaconda3\\lib\\site-packages (from gradio) (0.9.7)\n",
      "Requirement already satisfied: safehttpx<0.2.0,>=0.1.6 in c:\\programdata\\anaconda3\\lib\\site-packages (from gradio) (0.1.6)\n",
      "Requirement already satisfied: semantic-version~=2.0 in c:\\programdata\\anaconda3\\lib\\site-packages (from gradio) (2.10.0)\n",
      "Requirement already satisfied: starlette<1.0,>=0.40.0 in c:\\programdata\\anaconda3\\lib\\site-packages (from gradio) (0.45.3)\n",
      "Requirement already satisfied: tomlkit<0.14.0,>=0.12.0 in c:\\programdata\\anaconda3\\lib\\site-packages (from gradio) (0.13.2)\n",
      "Requirement already satisfied: typer<1.0,>=0.12 in c:\\programdata\\anaconda3\\lib\\site-packages (from gradio) (0.15.1)\n",
      "Requirement already satisfied: typing-extensions~=4.0 in c:\\programdata\\anaconda3\\lib\\site-packages (from gradio) (4.12.2)\n",
      "Requirement already satisfied: uvicorn>=0.14.0 in c:\\users\\user\\appdata\\roaming\\python\\python311\\site-packages (from gradio) (0.29.0)\n",
      "Requirement already satisfied: fsspec in c:\\programdata\\anaconda3\\lib\\site-packages (from gradio-client==1.7.1->gradio) (2023.10.0)\n",
      "Requirement already satisfied: websockets<15.0,>=10.0 in c:\\programdata\\anaconda3\\lib\\site-packages (from gradio-client==1.7.1->gradio) (14.2)\n",
      "Requirement already satisfied: distro<2,>=1.7.0 in c:\\programdata\\anaconda3\\lib\\site-packages (from openai) (1.8.0)\n",
      "Requirement already satisfied: jiter<1,>=0.4.0 in c:\\programdata\\anaconda3\\lib\\site-packages (from openai) (0.8.2)\n",
      "Requirement already satisfied: sniffio in c:\\programdata\\anaconda3\\lib\\site-packages (from openai) (1.3.0)\n",
      "Requirement already satisfied: tqdm>4 in c:\\programdata\\anaconda3\\lib\\site-packages (from openai) (4.65.0)\n",
      "Requirement already satisfied: idna>=2.8 in c:\\programdata\\anaconda3\\lib\\site-packages (from anyio<5.0,>=3.0->gradio) (3.6)\n",
      "Requirement already satisfied: certifi in c:\\programdata\\anaconda3\\lib\\site-packages (from httpx>=0.24.1->gradio) (2024.6.2)\n",
      "Requirement already satisfied: httpcore==1.* in c:\\programdata\\anaconda3\\lib\\site-packages (from httpx>=0.24.1->gradio) (1.0.7)\n",
      "Requirement already satisfied: h11<0.15,>=0.13 in c:\\users\\user\\appdata\\roaming\\python\\python311\\site-packages (from httpcore==1.*->httpx>=0.24.1->gradio) (0.14.0)\n",
      "Requirement already satisfied: filelock in c:\\programdata\\anaconda3\\lib\\site-packages (from huggingface-hub>=0.28.1->gradio) (3.13.1)\n",
      "Requirement already satisfied: requests in c:\\programdata\\anaconda3\\lib\\site-packages (from huggingface-hub>=0.28.1->gradio) (2.31.0)\n",
      "Requirement already satisfied: python-dateutil>=2.8.2 in c:\\programdata\\anaconda3\\lib\\site-packages (from pandas<3.0,>=1.0->gradio) (2.8.2)\n",
      "Requirement already satisfied: pytz>=2020.1 in c:\\programdata\\anaconda3\\lib\\site-packages (from pandas<3.0,>=1.0->gradio) (2023.3.post1)\n",
      "Requirement already satisfied: tzdata>=2022.1 in c:\\programdata\\anaconda3\\lib\\site-packages (from pandas<3.0,>=1.0->gradio) (2024.1)\n",
      "Requirement already satisfied: annotated-types>=0.6.0 in c:\\programdata\\anaconda3\\lib\\site-packages (from pydantic>=2.0->gradio) (0.6.0)\n",
      "Requirement already satisfied: pydantic-core==2.27.2 in c:\\programdata\\anaconda3\\lib\\site-packages (from pydantic>=2.0->gradio) (2.27.2)\n",
      "Requirement already satisfied: colorama in c:\\programdata\\anaconda3\\lib\\site-packages (from tqdm>4->openai) (0.4.6)\n",
      "Requirement already satisfied: click>=8.0.0 in c:\\programdata\\anaconda3\\lib\\site-packages (from typer<1.0,>=0.12->gradio) (8.1.7)\n",
      "Requirement already satisfied: shellingham>=1.3.0 in c:\\programdata\\anaconda3\\lib\\site-packages (from typer<1.0,>=0.12->gradio) (1.5.4)\n",
      "Requirement already satisfied: rich>=10.11.0 in c:\\programdata\\anaconda3\\lib\\site-packages (from typer<1.0,>=0.12->gradio) (13.3.5)\n",
      "Requirement already satisfied: six>=1.5 in c:\\programdata\\anaconda3\\lib\\site-packages (from python-dateutil>=2.8.2->pandas<3.0,>=1.0->gradio) (1.16.0)\n",
      "Requirement already satisfied: markdown-it-py<3.0.0,>=2.2.0 in c:\\programdata\\anaconda3\\lib\\site-packages (from rich>=10.11.0->typer<1.0,>=0.12->gradio) (2.2.0)\n",
      "Requirement already satisfied: pygments<3.0.0,>=2.13.0 in c:\\programdata\\anaconda3\\lib\\site-packages (from rich>=10.11.0->typer<1.0,>=0.12->gradio) (2.15.1)\n",
      "Requirement already satisfied: charset-normalizer<4,>=2 in c:\\programdata\\anaconda3\\lib\\site-packages (from requests->huggingface-hub>=0.28.1->gradio) (3.3.2)\n",
      "Requirement already satisfied: urllib3<3,>=1.21.1 in c:\\programdata\\anaconda3\\lib\\site-packages (from requests->huggingface-hub>=0.28.1->gradio) (2.2.1)\n",
      "Requirement already satisfied: mdurl~=0.1 in c:\\programdata\\anaconda3\\lib\\site-packages (from markdown-it-py<3.0.0,>=2.2.0->rich>=10.11.0->typer<1.0,>=0.12->gradio) (0.1.0)\n"
     ]
    },
    {
     "name": "stderr",
     "output_type": "stream",
     "text": [
      "\n",
      "[notice] A new release of pip is available: 24.0 -> 25.0.1\n",
      "[notice] To update, run: python.exe -m pip install --upgrade pip\n"
     ]
    }
   ],
   "source": [
    "!pip install gradio openai pillow"
   ]
  },
  {
   "cell_type": "markdown",
   "id": "d3e9488e-70b5-4c46-821c-f525b0fac0ff",
   "metadata": {
    "id": "d3e9488e-70b5-4c46-821c-f525b0fac0ff"
   },
   "source": [
    "#### 1. open ai 키 호출"
   ]
  },
  {
   "cell_type": "code",
   "execution_count": 2,
   "id": "3d022f79-bdda-4ef1-982d-466279a29f2b",
   "metadata": {
    "id": "3d022f79-bdda-4ef1-982d-466279a29f2b"
   },
   "outputs": [],
   "source": [
    "import gradio as gr\n",
    "from openai import OpenAI\n",
    "from PIL import Image\n",
    "import io\n",
    "import os\n",
    "import base64\n",
    "\n",
    "# OpenAI API 클라이언트 초기화\n",
    "client = OpenAI(\n",
    "    api_key = ''\n",
    ")"
   ]
  },
  {
   "cell_type": "markdown",
   "id": "01982d66-de75-48e5-b03f-eed159b58861",
   "metadata": {
    "id": "01982d66-de75-48e5-b03f-eed159b58861"
   },
   "source": [
    "### 2. 텍스트 요약\n",
    "- 업로드된 텍스트 파일을 요약해주는 함수 선언"
   ]
  },
  {
   "cell_type": "code",
   "execution_count": 3,
   "id": "f0d34c03-80f8-4c8b-b165-46323e241602",
   "metadata": {
    "id": "f0d34c03-80f8-4c8b-b165-46323e241602"
   },
   "outputs": [],
   "source": [
    "def summarize_text(file):\n",
    "    with open(file.name, \"r\", encoding=\"utf-8\") as f:\n",
    "        text = f.read()\n",
    "\n",
    "    prompt = f'''\n",
    "    **Instructions** :\n",
    "    - Summarize the given text into 3 bullet points in Korean.\n",
    "    - Focus on key arguments and avoid redundant information.\n",
    "    - Use concise but informative language.\n",
    "    -text : {text}\n",
    "    '''\n",
    "\n",
    "    response = client.chat.completions.create(\n",
    "        model=\"gpt-4o\",\n",
    "        messages=[\n",
    "            {\"role\": \"system\", \"content\": \"You are a helpful assistant that summarizes text in Korean.\"},\n",
    "            {\"role\": \"user\", \"content\": prompt}\n",
    "        ],\n",
    "        max_tokens=300,\n",
    "        temperature=0.1,\n",
    "        top_p=0.9,\n",
    "    )\n",
    "\n",
    "    return response.choices[0].message.content"
   ]
  },
  {
   "cell_type": "markdown",
   "id": "4bc47d0a-0b13-4833-997b-7c0c73cc5780",
   "metadata": {
    "id": "4bc47d0a-0b13-4833-997b-7c0c73cc5780"
   },
   "source": [
    "### 3. 요약된 텍스트 번역\n",
    "- 번역해주는 함수 선언"
   ]
  },
  {
   "cell_type": "code",
   "execution_count": 12,
   "id": "e764817a-59ca-4ef0-9848-f0556a3e20f6",
   "metadata": {
    "id": "e764817a-59ca-4ef0-9848-f0556a3e20f6"
   },
   "outputs": [],
   "source": [
    "# 번역 함수\n",
    "def translate(text, target_language):\n",
    "    if not text:\n",
    "        return \"\"\n",
    "\n",
    "    prompt = f\"You are a helpful translator. Please do not write any sentences other than the translation result. Translate the text sent by the user into {target_language}\"\n",
    "    response = client.chat.completions.create(\n",
    "        model=\"gpt-4o\",\n",
    "        messages=[\n",
    "            {\"role\": \"system\", \"content\": prompt},\n",
    "            {\"role\": \"user\", \"content\": text}\n",
    "        ],\n",
    "        max_tokens=1000,\n",
    "        temperature=0.1,\n",
    "        top_p=0.9,\n",
    "    )\n",
    "\n",
    "    return response.choices[0].message.content"
   ]
  },
  {
   "cell_type": "markdown",
   "id": "fdc03010-a40e-4079-a014-c9e7f83ec340",
   "metadata": {
    "id": "fdc03010-a40e-4079-a014-c9e7f83ec340"
   },
   "source": [
    "### 4. 요약된 텍스트를 기반으로 하나의 이미지로 표현\n",
    "- 이미지를 생성하는 모델(DALLE) 이용\n",
    "- 이미지 생성 함수 선언"
   ]
  },
  {
   "cell_type": "code",
   "execution_count": 13,
   "id": "7e948cf2-64fa-4af7-8422-a13a6a740b25",
   "metadata": {
    "id": "7e948cf2-64fa-4af7-8422-a13a6a740b25"
   },
   "outputs": [],
   "source": [
    "def generate_image(text):\n",
    "    response = client.images.generate(\n",
    "        model=\"dall-e-3\",\n",
    "        prompt=text,\n",
    "        size=\"1024x1024\"\n",
    "    )\n",
    "    image_url = response.data[0].url\n",
    "\n",
    "    return image_url"
   ]
  },
  {
   "cell_type": "markdown",
   "id": "ae9ad53b-3b66-4b46-9dd0-0d05c233f99c",
   "metadata": {
    "id": "ae9ad53b-3b66-4b46-9dd0-0d05c233f99c"
   },
   "source": [
    "### 5. 이미지를 묘사\n",
    "- 이미지를 이해하는 모델(GPT4V)이용\n",
    "- describe 함수 선언"
   ]
  },
  {
   "cell_type": "code",
   "execution_count": 14,
   "id": "a4d70445-b180-4562-8dc7-5791323067ff",
   "metadata": {
    "id": "a4d70445-b180-4562-8dc7-5791323067ff"
   },
   "outputs": [],
   "source": [
    "# OpenAI GPT4V\n",
    "# 이미지 이해 API\n",
    "def describe_image(text):\n",
    "    response = client.chat.completions.create(\n",
    "    model=\"gpt-4o\",\n",
    "    messages=[\n",
    "        {\n",
    "        \"role\": \"user\",\n",
    "        \"content\": [\n",
    "            {\"type\": \"text\", \"text\": \"이 이미지에 대해서 아주 자세히 묘사해줘\"},\n",
    "            {\n",
    "            \"type\": \"image_url\",\n",
    "            \"image_url\": {\n",
    "                \"url\": text,\n",
    "            },\n",
    "            },\n",
    "        ],\n",
    "        }\n",
    "    ],\n",
    "    max_tokens=1024,\n",
    "    )\n",
    "    return response.choices[0].message.content"
   ]
  },
  {
   "cell_type": "markdown",
   "id": "2608e32e-4e6e-4066-b62a-74c31cfad929",
   "metadata": {
    "id": "2608e32e-4e6e-4066-b62a-74c31cfad929"
   },
   "source": [
    "### 6. 묘사된 텍스트를 음성으로\n",
    "- tts함수 선언"
   ]
  },
  {
   "cell_type": "code",
   "execution_count": 15,
   "id": "2440aeee-ea1b-4015-807f-8497b41c0d6d",
   "metadata": {
    "id": "2440aeee-ea1b-4015-807f-8497b41c0d6d"
   },
   "outputs": [],
   "source": [
    "# OpenAI TTS API\n",
    "# 텍스트 -> 음성\n",
    "def TTS(response):\n",
    "    response = client.audio.speech.create(\n",
    "        model=\"tts-1\",\n",
    "        voice=\"onyx\",\n",
    "        input=response\n",
    "    )\n",
    "    filename = \"output.mp3\"\n",
    "    response.stream_to_file(filename)\n",
    "    return filename"
   ]
  },
  {
   "cell_type": "markdown",
   "id": "a236d0d8-b03b-4bda-a308-115840cad865",
   "metadata": {
    "id": "a236d0d8-b03b-4bda-a308-115840cad865"
   },
   "source": [
    "### 7. 기능별로 묶기\n",
    "- 요약과 번역\n",
    "- 이미지 생성과 묘사"
   ]
  },
  {
   "cell_type": "code",
   "execution_count": 16,
   "id": "59f68904-47bd-41b5-9a47-0dd1bffeaba9",
   "metadata": {
    "id": "59f68904-47bd-41b5-9a47-0dd1bffeaba9"
   },
   "outputs": [],
   "source": [
    "def summarize_and_translate(file, target_language):\n",
    "    summary = summarize_text(file)\n",
    "    translated_text = translate(summary, target_language)\n",
    "    return summary, translated_text\n",
    "\n",
    "def generate_image_and_description(translated_text):\n",
    "    image_url = generate_image(translated_text)\n",
    "    image_description = describe_image(image_url)\n",
    "    return image_url, image_description"
   ]
  },
  {
   "cell_type": "markdown",
   "id": "05e82658-6c86-4612-a999-1099e722a1c2",
   "metadata": {
    "id": "05e82658-6c86-4612-a999-1099e722a1c2"
   },
   "source": [
    "### 8. 그라디오 인터페이스 구성"
   ]
  },
  {
   "cell_type": "code",
   "execution_count": 17,
   "id": "48a94520-07b8-412e-b025-e0352b515d31",
   "metadata": {
    "id": "48a94520-07b8-412e-b025-e0352b515d31",
    "outputId": "e9e90d9a-826a-4795-cbcd-015cbc460266"
   },
   "outputs": [
    {
     "name": "stdout",
     "output_type": "stream",
     "text": [
      "* Running on local URL:  http://127.0.0.1:7860\n",
      "* Running on public URL: https://5e02c01b8786762907.gradio.live\n",
      "\n",
      "This share link expires in 72 hours. For free permanent hosting and GPU upgrades, run `gradio deploy` from the terminal in the working directory to deploy to Hugging Face Spaces (https://huggingface.co/spaces)\n"
     ]
    },
    {
     "data": {
      "text/html": [
       "<div><iframe src=\"https://5e02c01b8786762907.gradio.live\" width=\"100%\" height=\"500\" allow=\"autoplay; camera; microphone; clipboard-read; clipboard-write;\" frameborder=\"0\" allowfullscreen></iframe></div>"
      ],
      "text/plain": [
       "<IPython.core.display.HTML object>"
      ]
     },
     "metadata": {},
     "output_type": "display_data"
    },
    {
     "name": "stderr",
     "output_type": "stream",
     "text": [
      "C:\\Users\\user\\AppData\\Local\\Temp\\ipykernel_18772\\2130974533.py:10: DeprecationWarning: Due to a bug, this method doesn't actually stream the response content, `.with_streaming_response.method()` should be used instead\n",
      "  response.stream_to_file(filename)\n"
     ]
    },
    {
     "name": "stdout",
     "output_type": "stream",
     "text": [
      "Keyboard interruption in main thread... closing server.\n",
      "Killing tunnel 127.0.0.1:7860 <> https://5e02c01b8786762907.gradio.live\n"
     ]
    }
   ],
   "source": [
    "with gr.Blocks(css=\".gradio_container {background-color: #f9f9f9;}\") as demo:\n",
    "    gr.Markdown(\n",
    "        \"\"\"\n",
    "        # 🗒️ 텍스트 파일만 업로드 해봐요!\n",
    "        **요약** 과 **번역**\n",
    "        **이미지 생성** 및 **음성변환**까지 해드려요.\n",
    "        \"\"\"\n",
    "    )\n",
    "\n",
    "    # 파일 업로드 & 언어 선택\n",
    "    with gr.Row():\n",
    "        file_input = gr.File(label=\"📂 텍스트 파일 업로드\")\n",
    "        lang_input = gr.Dropdown(choices=[\"한국어\", \"영어\", \"일본어\"], label=\"🌎 번역 언어 선택\", value=\"한국어\")\n",
    "\n",
    "    # 요약 & 번역 출력\n",
    "    with gr.Row():\n",
    "        summarize_output = gr.Textbox(label=\"📜 3줄 요약\", interactive=False)\n",
    "        translate_output = gr.Textbox(label=\"🌍 번역된 텍스트\", interactive=False)\n",
    "\n",
    "    # 이미지 생성 & 설명 출력\n",
    "    with gr.Row():\n",
    "        image_output = gr.Image(label=\"🖼️ 생성된 이미지\")\n",
    "        description_output = gr.Textbox(label=\"📝 이미지 설명\", interactive=False)\n",
    "\n",
    "    # 음성 변환 출력\n",
    "    with gr.Row():\n",
    "        audio_output = gr.Audio(label=\"🔊 음성 변환 결과\")\n",
    "\n",
    "    # 실행 버튼\n",
    "    summarize_translate_button = gr.Button(\"📜 요약 및 번역 실행\")\n",
    "    image_generate_button = gr.Button(\"🎨 이미지 생성 및 묘사 실행\")\n",
    "    tts_button = gr.Button(\"🔊 음성 변환 실행\")\n",
    "\n",
    "    # 각 버튼 클릭 시 동작 이벤트\n",
    "    summarize_translate_button.click(summarize_and_translate, inputs=[file_input, lang_input], outputs=[summarize_output, translate_output])\n",
    "    image_generate_button.click(generate_image_and_description, inputs=[translate_output], outputs=[image_output, description_output])\n",
    "    tts_button.click(TTS, inputs=[description_output], outputs=[audio_output])\n",
    "\n",
    "# 디버그 모드로 실행\n",
    "if __name__ == \"__main__\":\n",
    "    demo.launch(debug=True, share=True)"
   ]
  },
  {
   "cell_type": "code",
   "execution_count": null,
   "id": "4dbe7f14-0f7a-43bc-a28b-23ec0abf6765",
   "metadata": {},
   "outputs": [],
   "source": []
  }
 ],
 "metadata": {
  "colab": {
   "provenance": []
  },
  "kernelspec": {
   "display_name": "Python 3 (ipykernel)",
   "language": "python",
   "name": "python3"
  },
  "language_info": {
   "codemirror_mode": {
    "name": "ipython",
    "version": 3
   },
   "file_extension": ".py",
   "mimetype": "text/x-python",
   "name": "python",
   "nbconvert_exporter": "python",
   "pygments_lexer": "ipython3",
   "version": "3.11.8"
  }
 },
 "nbformat": 4,
 "nbformat_minor": 5
}
